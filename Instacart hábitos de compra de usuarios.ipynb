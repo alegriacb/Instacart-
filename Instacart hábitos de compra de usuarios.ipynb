{
 "cells": [
  {
   "cell_type": "markdown",
   "id": "3Xg_RQfnafXz",
   "metadata": {
    "id": "3Xg_RQfnafXz"
   },
   "source": [
    "# ¡Llena ese carrito!"
   ]
  },
  {
   "cell_type": "markdown",
   "id": "mhIvmmkW414q",
   "metadata": {
    "id": "mhIvmmkW414q"
   },
   "source": [
    "# Introducción\n",
    "\n",
    "Instacart es una plataforma de entregas de comestibles donde la clientela puede registrar un pedido y hacer que se lo entreguen, similar a Uber Eats y Door Dash.\n",
    "El conjunto de datos que te hemos proporcionado tiene modificaciones del original. Redujimos el tamaño del conjunto para que tus cálculos se hicieran más rápido e introdujimos valores ausentes y duplicados. Tuvimos cuidado de conservar las distribuciones de los datos originales cuando hicimos los cambios.\n",
    "\n",
    "Debes completar tres pasos. Para cada uno de ellos, escribe una breve introducción que refleje con claridad cómo pretendes resolver cada paso, y escribe párrafos explicatorios que justifiquen tus decisiones al tiempo que avanzas en tu solución.  También escribe una conclusión que resuma tus hallazgos y elecciones.\n"
   ]
  },
  {
   "cell_type": "markdown",
   "id": "3MbyzpOQZ5Or",
   "metadata": {
    "id": "3MbyzpOQZ5Or"
   },
   "source": [
    "## Diccionario de datos\n",
    "\n",
    "Hay cinco tablas en el conjunto de datos, y tendrás que usarlas todas para hacer el preprocesamiento de datos y el análisis exploratorio de datos. A continuación se muestra un diccionario de datos que enumera las columnas de cada tabla y describe los datos que contienen.\n",
    "\n",
    "- `instacart_orders.csv`: cada fila corresponde a un pedido en la aplicación Instacart.\n",
    "    - `'order_id'`: número de ID que identifica de manera única cada pedido.\n",
    "    - `'user_id'`: número de ID que identifica de manera única la cuenta de cada cliente.\n",
    "    - `'order_number'`: el número de veces que este cliente ha hecho un pedido.\n",
    "    - `'order_dow'`: día de la semana en que se hizo el pedido (0 si es domingo).\n",
    "    - `'order_hour_of_day'`: hora del día en que se hizo el pedido.\n",
    "    - `'days_since_prior_order'`: número de días transcurridos desde que este cliente hizo su pedido anterior.\n",
    "- `products.csv`: cada fila corresponde a un producto único que pueden comprar los clientes.\n",
    "    - `'product_id'`: número ID que identifica de manera única cada producto.\n",
    "    - `'product_name'`: nombre del producto.\n",
    "    - `'aisle_id'`: número ID que identifica de manera única cada categoría de pasillo de víveres.\n",
    "    - `'department_id'`: número ID que identifica de manera única cada departamento de víveres.\n",
    "- `order_products.csv`: cada fila corresponde a un artículo pedido en un pedido.\n",
    "    - `'order_id'`: número de ID que identifica de manera única cada pedido.\n",
    "    - `'product_id'`: número ID que identifica de manera única cada producto.\n",
    "    - `'add_to_cart_order'`: el orden secuencial en el que se añadió cada artículo en el carrito.\n",
    "    - `'reordered'`: 0 si el cliente nunca ha pedido este producto antes, 1 si lo ha pedido.\n",
    "- `aisles.csv`\n",
    "    - `'aisle_id'`: número ID que identifica de manera única cada categoría de pasillo de víveres.\n",
    "    - `'aisle'`: nombre del pasillo.\n",
    "- `departments.csv`\n",
    "    - `'department_id'`: número ID que identifica de manera única cada departamento de víveres.\n",
    "    - `'department'`: nombre del departamento."
   ]
  },
  {
   "cell_type": "markdown",
   "id": "n3Ha_cNSZ8lK",
   "metadata": {
    "id": "n3Ha_cNSZ8lK"
   },
   "source": [
    "# Paso 1. Descripción de los datos\n",
    "\n",
    "Lee los archivos de datos (`/datasets/instacart_orders.csv`, `/datasets/products.csv`, `/datasets/aisles.csv`, `/datasets/departments.csv` y `/datasets/order_products.csv`) con `pd.read_csv()` usando los parámetros adecuados para leer los datos correctamente. Verifica la información para cada DataFrame creado.\n"
   ]
  },
  {
   "cell_type": "markdown",
   "id": "OmlQPLlyaAfR",
   "metadata": {
    "id": "OmlQPLlyaAfR"
   },
   "source": [
    "## Plan de solución\n",
    "\n",
    "Escribe aquí tu plan de solución para el Paso 1. Descripción de los datos.\n",
    "- se imprtan todas las librerías a utilizar y se leen todos los datasets en una variable correspondiente a cada uno, estableciendo ; como serparador para que se lea correctamente.\n",
    "- se hace un análisis exploratorio de los datasets usando head, tail, describe e info"
   ]
  },
  {
   "cell_type": "code",
   "execution_count": 1,
   "id": "fbf1adab",
   "metadata": {
    "id": "fbf1adab"
   },
   "outputs": [],
   "source": [
    "import pandas as pd # importar librerías\n",
    "import numpy as np\n",
    "from matplotlib import pyplot as plt "
   ]
  },
  {
   "cell_type": "code",
   "execution_count": 2,
   "id": "ad36396d",
   "metadata": {
    "id": "ad36396d"
   },
   "outputs": [],
   "source": [
    "instacart = pd.read_csv ('/datasets/instacart_orders.csv', sep = ';')# leer conjuntos de datos en los DataFrames\n",
    "products = pd.read_csv ('/datasets/products.csv', sep = ';')\n",
    "orders = pd.read_csv ('/datasets/order_products.csv', sep = ';')\n",
    "aisles = pd.read_csv ('/datasets/aisles.csv', sep = ';')\n",
    "departments = pd.read_csv ('/datasets/departments.csv', sep = ';')"
   ]
  },
  {
   "cell_type": "code",
   "execution_count": 3,
   "id": "ad6a1efa",
   "metadata": {
    "id": "ad6a1efa",
    "scrolled": true
   },
   "outputs": [
    {
     "data": {
      "text/html": [
       "<div>\n",
       "<style scoped>\n",
       "    .dataframe tbody tr th:only-of-type {\n",
       "        vertical-align: middle;\n",
       "    }\n",
       "\n",
       "    .dataframe tbody tr th {\n",
       "        vertical-align: top;\n",
       "    }\n",
       "\n",
       "    .dataframe thead th {\n",
       "        text-align: right;\n",
       "    }\n",
       "</style>\n",
       "<table border=\"1\" class=\"dataframe\">\n",
       "  <thead>\n",
       "    <tr style=\"text-align: right;\">\n",
       "      <th></th>\n",
       "      <th>order_id</th>\n",
       "      <th>user_id</th>\n",
       "      <th>order_number</th>\n",
       "      <th>order_dow</th>\n",
       "      <th>order_hour_of_day</th>\n",
       "      <th>days_since_prior_order</th>\n",
       "    </tr>\n",
       "  </thead>\n",
       "  <tbody>\n",
       "    <tr>\n",
       "      <th>0</th>\n",
       "      <td>1515936</td>\n",
       "      <td>183418</td>\n",
       "      <td>11</td>\n",
       "      <td>6</td>\n",
       "      <td>13</td>\n",
       "      <td>30.0</td>\n",
       "    </tr>\n",
       "    <tr>\n",
       "      <th>1</th>\n",
       "      <td>1690866</td>\n",
       "      <td>163593</td>\n",
       "      <td>5</td>\n",
       "      <td>5</td>\n",
       "      <td>12</td>\n",
       "      <td>9.0</td>\n",
       "    </tr>\n",
       "    <tr>\n",
       "      <th>2</th>\n",
       "      <td>1454967</td>\n",
       "      <td>39980</td>\n",
       "      <td>4</td>\n",
       "      <td>5</td>\n",
       "      <td>19</td>\n",
       "      <td>2.0</td>\n",
       "    </tr>\n",
       "    <tr>\n",
       "      <th>3</th>\n",
       "      <td>1768857</td>\n",
       "      <td>82516</td>\n",
       "      <td>56</td>\n",
       "      <td>0</td>\n",
       "      <td>20</td>\n",
       "      <td>10.0</td>\n",
       "    </tr>\n",
       "    <tr>\n",
       "      <th>4</th>\n",
       "      <td>3007858</td>\n",
       "      <td>196724</td>\n",
       "      <td>2</td>\n",
       "      <td>4</td>\n",
       "      <td>12</td>\n",
       "      <td>17.0</td>\n",
       "    </tr>\n",
       "  </tbody>\n",
       "</table>\n",
       "</div>"
      ],
      "text/plain": [
       "   order_id  user_id  order_number  order_dow  order_hour_of_day  \\\n",
       "0   1515936   183418            11          6                 13   \n",
       "1   1690866   163593             5          5                 12   \n",
       "2   1454967    39980             4          5                 19   \n",
       "3   1768857    82516            56          0                 20   \n",
       "4   3007858   196724             2          4                 12   \n",
       "\n",
       "   days_since_prior_order  \n",
       "0                    30.0  \n",
       "1                     9.0  \n",
       "2                     2.0  \n",
       "3                    10.0  \n",
       "4                    17.0  "
      ]
     },
     "execution_count": 3,
     "metadata": {},
     "output_type": "execute_result"
    }
   ],
   "source": [
    "instacart.head()# mostrar información del DataFrame instacart"
   ]
  },
  {
   "cell_type": "code",
   "execution_count": 4,
   "id": "db96f573",
   "metadata": {},
   "outputs": [
    {
     "data": {
      "text/html": [
       "<div>\n",
       "<style scoped>\n",
       "    .dataframe tbody tr th:only-of-type {\n",
       "        vertical-align: middle;\n",
       "    }\n",
       "\n",
       "    .dataframe tbody tr th {\n",
       "        vertical-align: top;\n",
       "    }\n",
       "\n",
       "    .dataframe thead th {\n",
       "        text-align: right;\n",
       "    }\n",
       "</style>\n",
       "<table border=\"1\" class=\"dataframe\">\n",
       "  <thead>\n",
       "    <tr style=\"text-align: right;\">\n",
       "      <th></th>\n",
       "      <th>order_id</th>\n",
       "      <th>user_id</th>\n",
       "      <th>order_number</th>\n",
       "      <th>order_dow</th>\n",
       "      <th>order_hour_of_day</th>\n",
       "      <th>days_since_prior_order</th>\n",
       "    </tr>\n",
       "  </thead>\n",
       "  <tbody>\n",
       "    <tr>\n",
       "      <th>478962</th>\n",
       "      <td>3210681</td>\n",
       "      <td>5617</td>\n",
       "      <td>5</td>\n",
       "      <td>1</td>\n",
       "      <td>14</td>\n",
       "      <td>7.0</td>\n",
       "    </tr>\n",
       "    <tr>\n",
       "      <th>478963</th>\n",
       "      <td>3270802</td>\n",
       "      <td>112087</td>\n",
       "      <td>2</td>\n",
       "      <td>3</td>\n",
       "      <td>13</td>\n",
       "      <td>6.0</td>\n",
       "    </tr>\n",
       "    <tr>\n",
       "      <th>478964</th>\n",
       "      <td>885349</td>\n",
       "      <td>82944</td>\n",
       "      <td>16</td>\n",
       "      <td>2</td>\n",
       "      <td>11</td>\n",
       "      <td>6.0</td>\n",
       "    </tr>\n",
       "    <tr>\n",
       "      <th>478965</th>\n",
       "      <td>216274</td>\n",
       "      <td>4391</td>\n",
       "      <td>3</td>\n",
       "      <td>3</td>\n",
       "      <td>8</td>\n",
       "      <td>8.0</td>\n",
       "    </tr>\n",
       "    <tr>\n",
       "      <th>478966</th>\n",
       "      <td>2071924</td>\n",
       "      <td>1730</td>\n",
       "      <td>18</td>\n",
       "      <td>1</td>\n",
       "      <td>14</td>\n",
       "      <td>15.0</td>\n",
       "    </tr>\n",
       "  </tbody>\n",
       "</table>\n",
       "</div>"
      ],
      "text/plain": [
       "        order_id  user_id  order_number  order_dow  order_hour_of_day  \\\n",
       "478962   3210681     5617             5          1                 14   \n",
       "478963   3270802   112087             2          3                 13   \n",
       "478964    885349    82944            16          2                 11   \n",
       "478965    216274     4391             3          3                  8   \n",
       "478966   2071924     1730            18          1                 14   \n",
       "\n",
       "        days_since_prior_order  \n",
       "478962                     7.0  \n",
       "478963                     6.0  \n",
       "478964                     6.0  \n",
       "478965                     8.0  \n",
       "478966                    15.0  "
      ]
     },
     "execution_count": 4,
     "metadata": {},
     "output_type": "execute_result"
    }
   ],
   "source": [
    "instacart.tail()"
   ]
  },
  {
   "cell_type": "code",
   "execution_count": 5,
   "id": "d66cbbab",
   "metadata": {},
   "outputs": [
    {
     "data": {
      "text/html": [
       "<div>\n",
       "<style scoped>\n",
       "    .dataframe tbody tr th:only-of-type {\n",
       "        vertical-align: middle;\n",
       "    }\n",
       "\n",
       "    .dataframe tbody tr th {\n",
       "        vertical-align: top;\n",
       "    }\n",
       "\n",
       "    .dataframe thead th {\n",
       "        text-align: right;\n",
       "    }\n",
       "</style>\n",
       "<table border=\"1\" class=\"dataframe\">\n",
       "  <thead>\n",
       "    <tr style=\"text-align: right;\">\n",
       "      <th></th>\n",
       "      <th>order_id</th>\n",
       "      <th>user_id</th>\n",
       "      <th>order_number</th>\n",
       "      <th>order_dow</th>\n",
       "      <th>order_hour_of_day</th>\n",
       "      <th>days_since_prior_order</th>\n",
       "    </tr>\n",
       "  </thead>\n",
       "  <tbody>\n",
       "    <tr>\n",
       "      <th>count</th>\n",
       "      <td>4.789670e+05</td>\n",
       "      <td>478967.000000</td>\n",
       "      <td>478967.000000</td>\n",
       "      <td>478967.000000</td>\n",
       "      <td>478967.000000</td>\n",
       "      <td>450148.000000</td>\n",
       "    </tr>\n",
       "    <tr>\n",
       "      <th>mean</th>\n",
       "      <td>1.709947e+06</td>\n",
       "      <td>102966.537475</td>\n",
       "      <td>17.157808</td>\n",
       "      <td>2.775058</td>\n",
       "      <td>13.446676</td>\n",
       "      <td>11.101751</td>\n",
       "    </tr>\n",
       "    <tr>\n",
       "      <th>std</th>\n",
       "      <td>9.869480e+05</td>\n",
       "      <td>59525.328991</td>\n",
       "      <td>17.704688</td>\n",
       "      <td>2.045869</td>\n",
       "      <td>4.224986</td>\n",
       "      <td>9.189975</td>\n",
       "    </tr>\n",
       "    <tr>\n",
       "      <th>min</th>\n",
       "      <td>4.000000e+00</td>\n",
       "      <td>2.000000</td>\n",
       "      <td>1.000000</td>\n",
       "      <td>0.000000</td>\n",
       "      <td>0.000000</td>\n",
       "      <td>0.000000</td>\n",
       "    </tr>\n",
       "    <tr>\n",
       "      <th>25%</th>\n",
       "      <td>8.564685e+05</td>\n",
       "      <td>51414.000000</td>\n",
       "      <td>5.000000</td>\n",
       "      <td>1.000000</td>\n",
       "      <td>10.000000</td>\n",
       "      <td>4.000000</td>\n",
       "    </tr>\n",
       "    <tr>\n",
       "      <th>50%</th>\n",
       "      <td>1.709522e+06</td>\n",
       "      <td>102633.000000</td>\n",
       "      <td>11.000000</td>\n",
       "      <td>3.000000</td>\n",
       "      <td>13.000000</td>\n",
       "      <td>7.000000</td>\n",
       "    </tr>\n",
       "    <tr>\n",
       "      <th>75%</th>\n",
       "      <td>2.562990e+06</td>\n",
       "      <td>154419.000000</td>\n",
       "      <td>23.000000</td>\n",
       "      <td>5.000000</td>\n",
       "      <td>16.000000</td>\n",
       "      <td>15.000000</td>\n",
       "    </tr>\n",
       "    <tr>\n",
       "      <th>max</th>\n",
       "      <td>3.421079e+06</td>\n",
       "      <td>206209.000000</td>\n",
       "      <td>100.000000</td>\n",
       "      <td>6.000000</td>\n",
       "      <td>23.000000</td>\n",
       "      <td>30.000000</td>\n",
       "    </tr>\n",
       "  </tbody>\n",
       "</table>\n",
       "</div>"
      ],
      "text/plain": [
       "           order_id        user_id   order_number      order_dow  \\\n",
       "count  4.789670e+05  478967.000000  478967.000000  478967.000000   \n",
       "mean   1.709947e+06  102966.537475      17.157808       2.775058   \n",
       "std    9.869480e+05   59525.328991      17.704688       2.045869   \n",
       "min    4.000000e+00       2.000000       1.000000       0.000000   \n",
       "25%    8.564685e+05   51414.000000       5.000000       1.000000   \n",
       "50%    1.709522e+06  102633.000000      11.000000       3.000000   \n",
       "75%    2.562990e+06  154419.000000      23.000000       5.000000   \n",
       "max    3.421079e+06  206209.000000     100.000000       6.000000   \n",
       "\n",
       "       order_hour_of_day  days_since_prior_order  \n",
       "count      478967.000000           450148.000000  \n",
       "mean           13.446676               11.101751  \n",
       "std             4.224986                9.189975  \n",
       "min             0.000000                0.000000  \n",
       "25%            10.000000                4.000000  \n",
       "50%            13.000000                7.000000  \n",
       "75%            16.000000               15.000000  \n",
       "max            23.000000               30.000000  "
      ]
     },
     "execution_count": 5,
     "metadata": {},
     "output_type": "execute_result"
    }
   ],
   "source": [
    "instacart.describe ()"
   ]
  },
  {
   "cell_type": "code",
   "execution_count": 6,
   "id": "941a1159",
   "metadata": {},
   "outputs": [
    {
     "name": "stdout",
     "output_type": "stream",
     "text": [
      "<class 'pandas.core.frame.DataFrame'>\n",
      "RangeIndex: 478967 entries, 0 to 478966\n",
      "Data columns (total 6 columns):\n",
      " #   Column                  Non-Null Count   Dtype  \n",
      "---  ------                  --------------   -----  \n",
      " 0   order_id                478967 non-null  int64  \n",
      " 1   user_id                 478967 non-null  int64  \n",
      " 2   order_number            478967 non-null  int64  \n",
      " 3   order_dow               478967 non-null  int64  \n",
      " 4   order_hour_of_day       478967 non-null  int64  \n",
      " 5   days_since_prior_order  450148 non-null  float64\n",
      "dtypes: float64(1), int64(5)\n",
      "memory usage: 21.9 MB\n"
     ]
    }
   ],
   "source": [
    "instacart.info()"
   ]
  },
  {
   "cell_type": "code",
   "execution_count": 7,
   "id": "5130e05e",
   "metadata": {
    "id": "5130e05e"
   },
   "outputs": [
    {
     "data": {
      "text/html": [
       "<div>\n",
       "<style scoped>\n",
       "    .dataframe tbody tr th:only-of-type {\n",
       "        vertical-align: middle;\n",
       "    }\n",
       "\n",
       "    .dataframe tbody tr th {\n",
       "        vertical-align: top;\n",
       "    }\n",
       "\n",
       "    .dataframe thead th {\n",
       "        text-align: right;\n",
       "    }\n",
       "</style>\n",
       "<table border=\"1\" class=\"dataframe\">\n",
       "  <thead>\n",
       "    <tr style=\"text-align: right;\">\n",
       "      <th></th>\n",
       "      <th>product_id</th>\n",
       "      <th>product_name</th>\n",
       "      <th>aisle_id</th>\n",
       "      <th>department_id</th>\n",
       "    </tr>\n",
       "  </thead>\n",
       "  <tbody>\n",
       "    <tr>\n",
       "      <th>0</th>\n",
       "      <td>1</td>\n",
       "      <td>Chocolate Sandwich Cookies</td>\n",
       "      <td>61</td>\n",
       "      <td>19</td>\n",
       "    </tr>\n",
       "    <tr>\n",
       "      <th>1</th>\n",
       "      <td>2</td>\n",
       "      <td>All-Seasons Salt</td>\n",
       "      <td>104</td>\n",
       "      <td>13</td>\n",
       "    </tr>\n",
       "    <tr>\n",
       "      <th>2</th>\n",
       "      <td>3</td>\n",
       "      <td>Robust Golden Unsweetened Oolong Tea</td>\n",
       "      <td>94</td>\n",
       "      <td>7</td>\n",
       "    </tr>\n",
       "    <tr>\n",
       "      <th>3</th>\n",
       "      <td>4</td>\n",
       "      <td>Smart Ones Classic Favorites Mini Rigatoni Wit...</td>\n",
       "      <td>38</td>\n",
       "      <td>1</td>\n",
       "    </tr>\n",
       "    <tr>\n",
       "      <th>4</th>\n",
       "      <td>5</td>\n",
       "      <td>Green Chile Anytime Sauce</td>\n",
       "      <td>5</td>\n",
       "      <td>13</td>\n",
       "    </tr>\n",
       "  </tbody>\n",
       "</table>\n",
       "</div>"
      ],
      "text/plain": [
       "   product_id                                       product_name  aisle_id  \\\n",
       "0           1                         Chocolate Sandwich Cookies        61   \n",
       "1           2                                   All-Seasons Salt       104   \n",
       "2           3               Robust Golden Unsweetened Oolong Tea        94   \n",
       "3           4  Smart Ones Classic Favorites Mini Rigatoni Wit...        38   \n",
       "4           5                          Green Chile Anytime Sauce         5   \n",
       "\n",
       "   department_id  \n",
       "0             19  \n",
       "1             13  \n",
       "2              7  \n",
       "3              1  \n",
       "4             13  "
      ]
     },
     "execution_count": 7,
     "metadata": {},
     "output_type": "execute_result"
    }
   ],
   "source": [
    "products.head()# mostrar información del DataFrame products "
   ]
  },
  {
   "cell_type": "code",
   "execution_count": 8,
   "id": "aaadc184",
   "metadata": {},
   "outputs": [
    {
     "data": {
      "text/html": [
       "<div>\n",
       "<style scoped>\n",
       "    .dataframe tbody tr th:only-of-type {\n",
       "        vertical-align: middle;\n",
       "    }\n",
       "\n",
       "    .dataframe tbody tr th {\n",
       "        vertical-align: top;\n",
       "    }\n",
       "\n",
       "    .dataframe thead th {\n",
       "        text-align: right;\n",
       "    }\n",
       "</style>\n",
       "<table border=\"1\" class=\"dataframe\">\n",
       "  <thead>\n",
       "    <tr style=\"text-align: right;\">\n",
       "      <th></th>\n",
       "      <th>product_id</th>\n",
       "      <th>product_name</th>\n",
       "      <th>aisle_id</th>\n",
       "      <th>department_id</th>\n",
       "    </tr>\n",
       "  </thead>\n",
       "  <tbody>\n",
       "    <tr>\n",
       "      <th>49689</th>\n",
       "      <td>49690</td>\n",
       "      <td>HIGH PERFORMANCE ENERGY DRINK</td>\n",
       "      <td>64</td>\n",
       "      <td>7</td>\n",
       "    </tr>\n",
       "    <tr>\n",
       "      <th>49690</th>\n",
       "      <td>49691</td>\n",
       "      <td>ORIGINAL PANCAKE &amp; WAFFLE MIX</td>\n",
       "      <td>130</td>\n",
       "      <td>14</td>\n",
       "    </tr>\n",
       "    <tr>\n",
       "      <th>49691</th>\n",
       "      <td>49692</td>\n",
       "      <td>ORGANIC INSTANT OATMEAL LIGHT MAPLE BROWN SUGAR</td>\n",
       "      <td>130</td>\n",
       "      <td>14</td>\n",
       "    </tr>\n",
       "    <tr>\n",
       "      <th>49692</th>\n",
       "      <td>49693</td>\n",
       "      <td>SPRING WATER BODY WASH</td>\n",
       "      <td>127</td>\n",
       "      <td>11</td>\n",
       "    </tr>\n",
       "    <tr>\n",
       "      <th>49693</th>\n",
       "      <td>49694</td>\n",
       "      <td>BURRITO- STEAK &amp; CHEESE</td>\n",
       "      <td>38</td>\n",
       "      <td>1</td>\n",
       "    </tr>\n",
       "  </tbody>\n",
       "</table>\n",
       "</div>"
      ],
      "text/plain": [
       "       product_id                                     product_name  aisle_id  \\\n",
       "49689       49690                    HIGH PERFORMANCE ENERGY DRINK        64   \n",
       "49690       49691                    ORIGINAL PANCAKE & WAFFLE MIX       130   \n",
       "49691       49692  ORGANIC INSTANT OATMEAL LIGHT MAPLE BROWN SUGAR       130   \n",
       "49692       49693                           SPRING WATER BODY WASH       127   \n",
       "49693       49694                          BURRITO- STEAK & CHEESE        38   \n",
       "\n",
       "       department_id  \n",
       "49689              7  \n",
       "49690             14  \n",
       "49691             14  \n",
       "49692             11  \n",
       "49693              1  "
      ]
     },
     "execution_count": 8,
     "metadata": {},
     "output_type": "execute_result"
    }
   ],
   "source": [
    "products.tail ()"
   ]
  },
  {
   "cell_type": "code",
   "execution_count": 9,
   "id": "ed550f3c",
   "metadata": {},
   "outputs": [
    {
     "data": {
      "text/html": [
       "<div>\n",
       "<style scoped>\n",
       "    .dataframe tbody tr th:only-of-type {\n",
       "        vertical-align: middle;\n",
       "    }\n",
       "\n",
       "    .dataframe tbody tr th {\n",
       "        vertical-align: top;\n",
       "    }\n",
       "\n",
       "    .dataframe thead th {\n",
       "        text-align: right;\n",
       "    }\n",
       "</style>\n",
       "<table border=\"1\" class=\"dataframe\">\n",
       "  <thead>\n",
       "    <tr style=\"text-align: right;\">\n",
       "      <th></th>\n",
       "      <th>product_id</th>\n",
       "      <th>aisle_id</th>\n",
       "      <th>department_id</th>\n",
       "    </tr>\n",
       "  </thead>\n",
       "  <tbody>\n",
       "    <tr>\n",
       "      <th>count</th>\n",
       "      <td>49694.000000</td>\n",
       "      <td>49694.000000</td>\n",
       "      <td>49694.000000</td>\n",
       "    </tr>\n",
       "    <tr>\n",
       "      <th>mean</th>\n",
       "      <td>24847.500000</td>\n",
       "      <td>67.773192</td>\n",
       "      <td>11.728478</td>\n",
       "    </tr>\n",
       "    <tr>\n",
       "      <th>std</th>\n",
       "      <td>14345.566475</td>\n",
       "      <td>38.317265</td>\n",
       "      <td>5.850314</td>\n",
       "    </tr>\n",
       "    <tr>\n",
       "      <th>min</th>\n",
       "      <td>1.000000</td>\n",
       "      <td>1.000000</td>\n",
       "      <td>1.000000</td>\n",
       "    </tr>\n",
       "    <tr>\n",
       "      <th>25%</th>\n",
       "      <td>12424.250000</td>\n",
       "      <td>35.000000</td>\n",
       "      <td>7.000000</td>\n",
       "    </tr>\n",
       "    <tr>\n",
       "      <th>50%</th>\n",
       "      <td>24847.500000</td>\n",
       "      <td>69.000000</td>\n",
       "      <td>13.000000</td>\n",
       "    </tr>\n",
       "    <tr>\n",
       "      <th>75%</th>\n",
       "      <td>37270.750000</td>\n",
       "      <td>100.000000</td>\n",
       "      <td>17.000000</td>\n",
       "    </tr>\n",
       "    <tr>\n",
       "      <th>max</th>\n",
       "      <td>49694.000000</td>\n",
       "      <td>134.000000</td>\n",
       "      <td>21.000000</td>\n",
       "    </tr>\n",
       "  </tbody>\n",
       "</table>\n",
       "</div>"
      ],
      "text/plain": [
       "         product_id      aisle_id  department_id\n",
       "count  49694.000000  49694.000000   49694.000000\n",
       "mean   24847.500000     67.773192      11.728478\n",
       "std    14345.566475     38.317265       5.850314\n",
       "min        1.000000      1.000000       1.000000\n",
       "25%    12424.250000     35.000000       7.000000\n",
       "50%    24847.500000     69.000000      13.000000\n",
       "75%    37270.750000    100.000000      17.000000\n",
       "max    49694.000000    134.000000      21.000000"
      ]
     },
     "execution_count": 9,
     "metadata": {},
     "output_type": "execute_result"
    }
   ],
   "source": [
    "products.describe()"
   ]
  },
  {
   "cell_type": "code",
   "execution_count": 10,
   "id": "55602c61",
   "metadata": {},
   "outputs": [
    {
     "name": "stdout",
     "output_type": "stream",
     "text": [
      "<class 'pandas.core.frame.DataFrame'>\n",
      "RangeIndex: 49694 entries, 0 to 49693\n",
      "Data columns (total 4 columns):\n",
      " #   Column         Non-Null Count  Dtype \n",
      "---  ------         --------------  ----- \n",
      " 0   product_id     49694 non-null  int64 \n",
      " 1   product_name   48436 non-null  object\n",
      " 2   aisle_id       49694 non-null  int64 \n",
      " 3   department_id  49694 non-null  int64 \n",
      "dtypes: int64(3), object(1)\n",
      "memory usage: 1.5+ MB\n"
     ]
    }
   ],
   "source": [
    "products.info()"
   ]
  },
  {
   "cell_type": "code",
   "execution_count": 11,
   "id": "b22fda42",
   "metadata": {},
   "outputs": [
    {
     "data": {
      "text/html": [
       "<div>\n",
       "<style scoped>\n",
       "    .dataframe tbody tr th:only-of-type {\n",
       "        vertical-align: middle;\n",
       "    }\n",
       "\n",
       "    .dataframe tbody tr th {\n",
       "        vertical-align: top;\n",
       "    }\n",
       "\n",
       "    .dataframe thead th {\n",
       "        text-align: right;\n",
       "    }\n",
       "</style>\n",
       "<table border=\"1\" class=\"dataframe\">\n",
       "  <thead>\n",
       "    <tr style=\"text-align: right;\">\n",
       "      <th></th>\n",
       "      <th>order_id</th>\n",
       "      <th>product_id</th>\n",
       "      <th>add_to_cart_order</th>\n",
       "      <th>reordered</th>\n",
       "    </tr>\n",
       "  </thead>\n",
       "  <tbody>\n",
       "    <tr>\n",
       "      <th>0</th>\n",
       "      <td>2141543</td>\n",
       "      <td>11440</td>\n",
       "      <td>17.0</td>\n",
       "      <td>0</td>\n",
       "    </tr>\n",
       "    <tr>\n",
       "      <th>1</th>\n",
       "      <td>567889</td>\n",
       "      <td>1560</td>\n",
       "      <td>1.0</td>\n",
       "      <td>1</td>\n",
       "    </tr>\n",
       "    <tr>\n",
       "      <th>2</th>\n",
       "      <td>2261212</td>\n",
       "      <td>26683</td>\n",
       "      <td>1.0</td>\n",
       "      <td>1</td>\n",
       "    </tr>\n",
       "    <tr>\n",
       "      <th>3</th>\n",
       "      <td>491251</td>\n",
       "      <td>8670</td>\n",
       "      <td>35.0</td>\n",
       "      <td>1</td>\n",
       "    </tr>\n",
       "    <tr>\n",
       "      <th>4</th>\n",
       "      <td>2571142</td>\n",
       "      <td>1940</td>\n",
       "      <td>5.0</td>\n",
       "      <td>1</td>\n",
       "    </tr>\n",
       "  </tbody>\n",
       "</table>\n",
       "</div>"
      ],
      "text/plain": [
       "   order_id  product_id  add_to_cart_order  reordered\n",
       "0   2141543       11440               17.0          0\n",
       "1    567889        1560                1.0          1\n",
       "2   2261212       26683                1.0          1\n",
       "3    491251        8670               35.0          1\n",
       "4   2571142        1940                5.0          1"
      ]
     },
     "execution_count": 11,
     "metadata": {},
     "output_type": "execute_result"
    }
   ],
   "source": [
    "orders.head()# mostrar información del DataFrame orders\n"
   ]
  },
  {
   "cell_type": "code",
   "execution_count": 12,
   "id": "d8370c05",
   "metadata": {
    "id": "d8370c05"
   },
   "outputs": [
    {
     "data": {
      "text/html": [
       "<div>\n",
       "<style scoped>\n",
       "    .dataframe tbody tr th:only-of-type {\n",
       "        vertical-align: middle;\n",
       "    }\n",
       "\n",
       "    .dataframe tbody tr th {\n",
       "        vertical-align: top;\n",
       "    }\n",
       "\n",
       "    .dataframe thead th {\n",
       "        text-align: right;\n",
       "    }\n",
       "</style>\n",
       "<table border=\"1\" class=\"dataframe\">\n",
       "  <thead>\n",
       "    <tr style=\"text-align: right;\">\n",
       "      <th></th>\n",
       "      <th>order_id</th>\n",
       "      <th>product_id</th>\n",
       "      <th>add_to_cart_order</th>\n",
       "      <th>reordered</th>\n",
       "    </tr>\n",
       "  </thead>\n",
       "  <tbody>\n",
       "    <tr>\n",
       "      <th>4545002</th>\n",
       "      <td>577211</td>\n",
       "      <td>15290</td>\n",
       "      <td>12.0</td>\n",
       "      <td>1</td>\n",
       "    </tr>\n",
       "    <tr>\n",
       "      <th>4545003</th>\n",
       "      <td>1219554</td>\n",
       "      <td>21914</td>\n",
       "      <td>9.0</td>\n",
       "      <td>0</td>\n",
       "    </tr>\n",
       "    <tr>\n",
       "      <th>4545004</th>\n",
       "      <td>692640</td>\n",
       "      <td>47766</td>\n",
       "      <td>4.0</td>\n",
       "      <td>1</td>\n",
       "    </tr>\n",
       "    <tr>\n",
       "      <th>4545005</th>\n",
       "      <td>319435</td>\n",
       "      <td>691</td>\n",
       "      <td>8.0</td>\n",
       "      <td>1</td>\n",
       "    </tr>\n",
       "    <tr>\n",
       "      <th>4545006</th>\n",
       "      <td>1398151</td>\n",
       "      <td>28733</td>\n",
       "      <td>9.0</td>\n",
       "      <td>0</td>\n",
       "    </tr>\n",
       "  </tbody>\n",
       "</table>\n",
       "</div>"
      ],
      "text/plain": [
       "         order_id  product_id  add_to_cart_order  reordered\n",
       "4545002    577211       15290               12.0          1\n",
       "4545003   1219554       21914                9.0          0\n",
       "4545004    692640       47766                4.0          1\n",
       "4545005    319435         691                8.0          1\n",
       "4545006   1398151       28733                9.0          0"
      ]
     },
     "execution_count": 12,
     "metadata": {},
     "output_type": "execute_result"
    }
   ],
   "source": [
    "orders.tail()"
   ]
  },
  {
   "cell_type": "code",
   "execution_count": 13,
   "id": "8001604b",
   "metadata": {},
   "outputs": [
    {
     "data": {
      "text/html": [
       "<div>\n",
       "<style scoped>\n",
       "    .dataframe tbody tr th:only-of-type {\n",
       "        vertical-align: middle;\n",
       "    }\n",
       "\n",
       "    .dataframe tbody tr th {\n",
       "        vertical-align: top;\n",
       "    }\n",
       "\n",
       "    .dataframe thead th {\n",
       "        text-align: right;\n",
       "    }\n",
       "</style>\n",
       "<table border=\"1\" class=\"dataframe\">\n",
       "  <thead>\n",
       "    <tr style=\"text-align: right;\">\n",
       "      <th></th>\n",
       "      <th>order_id</th>\n",
       "      <th>product_id</th>\n",
       "      <th>add_to_cart_order</th>\n",
       "      <th>reordered</th>\n",
       "    </tr>\n",
       "  </thead>\n",
       "  <tbody>\n",
       "    <tr>\n",
       "      <th>count</th>\n",
       "      <td>4.545007e+06</td>\n",
       "      <td>4.545007e+06</td>\n",
       "      <td>4.544171e+06</td>\n",
       "      <td>4.545007e+06</td>\n",
       "    </tr>\n",
       "    <tr>\n",
       "      <th>mean</th>\n",
       "      <td>1.711166e+06</td>\n",
       "      <td>2.558084e+04</td>\n",
       "      <td>8.351669e+00</td>\n",
       "      <td>5.905025e-01</td>\n",
       "    </tr>\n",
       "    <tr>\n",
       "      <th>std</th>\n",
       "      <td>9.850955e+05</td>\n",
       "      <td>1.409552e+04</td>\n",
       "      <td>7.080368e+00</td>\n",
       "      <td>4.917411e-01</td>\n",
       "    </tr>\n",
       "    <tr>\n",
       "      <th>min</th>\n",
       "      <td>4.000000e+00</td>\n",
       "      <td>1.000000e+00</td>\n",
       "      <td>1.000000e+00</td>\n",
       "      <td>0.000000e+00</td>\n",
       "    </tr>\n",
       "    <tr>\n",
       "      <th>25%</th>\n",
       "      <td>8.608170e+05</td>\n",
       "      <td>1.353500e+04</td>\n",
       "      <td>3.000000e+00</td>\n",
       "      <td>0.000000e+00</td>\n",
       "    </tr>\n",
       "    <tr>\n",
       "      <th>50%</th>\n",
       "      <td>1.711530e+06</td>\n",
       "      <td>2.527200e+04</td>\n",
       "      <td>6.000000e+00</td>\n",
       "      <td>1.000000e+00</td>\n",
       "    </tr>\n",
       "    <tr>\n",
       "      <th>75%</th>\n",
       "      <td>2.561311e+06</td>\n",
       "      <td>3.793500e+04</td>\n",
       "      <td>1.100000e+01</td>\n",
       "      <td>1.000000e+00</td>\n",
       "    </tr>\n",
       "    <tr>\n",
       "      <th>max</th>\n",
       "      <td>3.421079e+06</td>\n",
       "      <td>4.969400e+04</td>\n",
       "      <td>6.400000e+01</td>\n",
       "      <td>1.000000e+00</td>\n",
       "    </tr>\n",
       "  </tbody>\n",
       "</table>\n",
       "</div>"
      ],
      "text/plain": [
       "           order_id    product_id  add_to_cart_order     reordered\n",
       "count  4.545007e+06  4.545007e+06       4.544171e+06  4.545007e+06\n",
       "mean   1.711166e+06  2.558084e+04       8.351669e+00  5.905025e-01\n",
       "std    9.850955e+05  1.409552e+04       7.080368e+00  4.917411e-01\n",
       "min    4.000000e+00  1.000000e+00       1.000000e+00  0.000000e+00\n",
       "25%    8.608170e+05  1.353500e+04       3.000000e+00  0.000000e+00\n",
       "50%    1.711530e+06  2.527200e+04       6.000000e+00  1.000000e+00\n",
       "75%    2.561311e+06  3.793500e+04       1.100000e+01  1.000000e+00\n",
       "max    3.421079e+06  4.969400e+04       6.400000e+01  1.000000e+00"
      ]
     },
     "execution_count": 13,
     "metadata": {},
     "output_type": "execute_result"
    }
   ],
   "source": [
    "orders.describe()"
   ]
  },
  {
   "cell_type": "code",
   "execution_count": 14,
   "id": "0bf2f5fc",
   "metadata": {},
   "outputs": [
    {
     "name": "stdout",
     "output_type": "stream",
     "text": [
      "<class 'pandas.core.frame.DataFrame'>\n",
      "RangeIndex: 4545007 entries, 0 to 4545006\n",
      "Data columns (total 4 columns):\n",
      " #   Column             Non-Null Count    Dtype  \n",
      "---  ------             --------------    -----  \n",
      " 0   order_id           4545007 non-null  int64  \n",
      " 1   product_id         4545007 non-null  int64  \n",
      " 2   add_to_cart_order  4544171 non-null  float64\n",
      " 3   reordered          4545007 non-null  int64  \n",
      "dtypes: float64(1), int64(3)\n",
      "memory usage: 138.7 MB\n"
     ]
    }
   ],
   "source": [
    "orders.info(show_counts = True)"
   ]
  },
  {
   "cell_type": "code",
   "execution_count": 15,
   "id": "59e2090f",
   "metadata": {
    "id": "59e2090f"
   },
   "outputs": [
    {
     "data": {
      "text/html": [
       "<div>\n",
       "<style scoped>\n",
       "    .dataframe tbody tr th:only-of-type {\n",
       "        vertical-align: middle;\n",
       "    }\n",
       "\n",
       "    .dataframe tbody tr th {\n",
       "        vertical-align: top;\n",
       "    }\n",
       "\n",
       "    .dataframe thead th {\n",
       "        text-align: right;\n",
       "    }\n",
       "</style>\n",
       "<table border=\"1\" class=\"dataframe\">\n",
       "  <thead>\n",
       "    <tr style=\"text-align: right;\">\n",
       "      <th></th>\n",
       "      <th>aisle_id</th>\n",
       "      <th>aisle</th>\n",
       "    </tr>\n",
       "  </thead>\n",
       "  <tbody>\n",
       "    <tr>\n",
       "      <th>0</th>\n",
       "      <td>1</td>\n",
       "      <td>prepared soups salads</td>\n",
       "    </tr>\n",
       "    <tr>\n",
       "      <th>1</th>\n",
       "      <td>2</td>\n",
       "      <td>specialty cheeses</td>\n",
       "    </tr>\n",
       "    <tr>\n",
       "      <th>2</th>\n",
       "      <td>3</td>\n",
       "      <td>energy granola bars</td>\n",
       "    </tr>\n",
       "    <tr>\n",
       "      <th>3</th>\n",
       "      <td>4</td>\n",
       "      <td>instant foods</td>\n",
       "    </tr>\n",
       "    <tr>\n",
       "      <th>4</th>\n",
       "      <td>5</td>\n",
       "      <td>marinades meat preparation</td>\n",
       "    </tr>\n",
       "  </tbody>\n",
       "</table>\n",
       "</div>"
      ],
      "text/plain": [
       "   aisle_id                       aisle\n",
       "0         1       prepared soups salads\n",
       "1         2           specialty cheeses\n",
       "2         3         energy granola bars\n",
       "3         4               instant foods\n",
       "4         5  marinades meat preparation"
      ]
     },
     "execution_count": 15,
     "metadata": {},
     "output_type": "execute_result"
    }
   ],
   "source": [
    "aisles.head()# mostrar información del DataFrame aisles"
   ]
  },
  {
   "cell_type": "code",
   "execution_count": 16,
   "id": "6e28f9c2",
   "metadata": {},
   "outputs": [
    {
     "data": {
      "text/html": [
       "<div>\n",
       "<style scoped>\n",
       "    .dataframe tbody tr th:only-of-type {\n",
       "        vertical-align: middle;\n",
       "    }\n",
       "\n",
       "    .dataframe tbody tr th {\n",
       "        vertical-align: top;\n",
       "    }\n",
       "\n",
       "    .dataframe thead th {\n",
       "        text-align: right;\n",
       "    }\n",
       "</style>\n",
       "<table border=\"1\" class=\"dataframe\">\n",
       "  <thead>\n",
       "    <tr style=\"text-align: right;\">\n",
       "      <th></th>\n",
       "      <th>aisle_id</th>\n",
       "      <th>aisle</th>\n",
       "    </tr>\n",
       "  </thead>\n",
       "  <tbody>\n",
       "    <tr>\n",
       "      <th>129</th>\n",
       "      <td>130</td>\n",
       "      <td>hot cereal pancake mixes</td>\n",
       "    </tr>\n",
       "    <tr>\n",
       "      <th>130</th>\n",
       "      <td>131</td>\n",
       "      <td>dry pasta</td>\n",
       "    </tr>\n",
       "    <tr>\n",
       "      <th>131</th>\n",
       "      <td>132</td>\n",
       "      <td>beauty</td>\n",
       "    </tr>\n",
       "    <tr>\n",
       "      <th>132</th>\n",
       "      <td>133</td>\n",
       "      <td>muscles joints pain relief</td>\n",
       "    </tr>\n",
       "    <tr>\n",
       "      <th>133</th>\n",
       "      <td>134</td>\n",
       "      <td>specialty wines champagnes</td>\n",
       "    </tr>\n",
       "  </tbody>\n",
       "</table>\n",
       "</div>"
      ],
      "text/plain": [
       "     aisle_id                       aisle\n",
       "129       130    hot cereal pancake mixes\n",
       "130       131                   dry pasta\n",
       "131       132                      beauty\n",
       "132       133  muscles joints pain relief\n",
       "133       134  specialty wines champagnes"
      ]
     },
     "execution_count": 16,
     "metadata": {},
     "output_type": "execute_result"
    }
   ],
   "source": [
    "aisles.tail()"
   ]
  },
  {
   "cell_type": "code",
   "execution_count": 17,
   "id": "90a46eda",
   "metadata": {},
   "outputs": [
    {
     "name": "stdout",
     "output_type": "stream",
     "text": [
      "<class 'pandas.core.frame.DataFrame'>\n",
      "RangeIndex: 134 entries, 0 to 133\n",
      "Data columns (total 2 columns):\n",
      " #   Column    Non-Null Count  Dtype \n",
      "---  ------    --------------  ----- \n",
      " 0   aisle_id  134 non-null    int64 \n",
      " 1   aisle     134 non-null    object\n",
      "dtypes: int64(1), object(1)\n",
      "memory usage: 2.2+ KB\n"
     ]
    }
   ],
   "source": [
    "aisles.info()"
   ]
  },
  {
   "cell_type": "code",
   "execution_count": 18,
   "id": "c6af54ad",
   "metadata": {},
   "outputs": [
    {
     "data": {
      "text/html": [
       "<div>\n",
       "<style scoped>\n",
       "    .dataframe tbody tr th:only-of-type {\n",
       "        vertical-align: middle;\n",
       "    }\n",
       "\n",
       "    .dataframe tbody tr th {\n",
       "        vertical-align: top;\n",
       "    }\n",
       "\n",
       "    .dataframe thead th {\n",
       "        text-align: right;\n",
       "    }\n",
       "</style>\n",
       "<table border=\"1\" class=\"dataframe\">\n",
       "  <thead>\n",
       "    <tr style=\"text-align: right;\">\n",
       "      <th></th>\n",
       "      <th>department_id</th>\n",
       "      <th>department</th>\n",
       "    </tr>\n",
       "  </thead>\n",
       "  <tbody>\n",
       "    <tr>\n",
       "      <th>0</th>\n",
       "      <td>1</td>\n",
       "      <td>frozen</td>\n",
       "    </tr>\n",
       "    <tr>\n",
       "      <th>1</th>\n",
       "      <td>2</td>\n",
       "      <td>other</td>\n",
       "    </tr>\n",
       "    <tr>\n",
       "      <th>2</th>\n",
       "      <td>3</td>\n",
       "      <td>bakery</td>\n",
       "    </tr>\n",
       "    <tr>\n",
       "      <th>3</th>\n",
       "      <td>4</td>\n",
       "      <td>produce</td>\n",
       "    </tr>\n",
       "    <tr>\n",
       "      <th>4</th>\n",
       "      <td>5</td>\n",
       "      <td>alcohol</td>\n",
       "    </tr>\n",
       "  </tbody>\n",
       "</table>\n",
       "</div>"
      ],
      "text/plain": [
       "   department_id department\n",
       "0              1     frozen\n",
       "1              2      other\n",
       "2              3     bakery\n",
       "3              4    produce\n",
       "4              5    alcohol"
      ]
     },
     "execution_count": 18,
     "metadata": {},
     "output_type": "execute_result"
    }
   ],
   "source": [
    "departments.head()# mostrar información del DataFrame departments"
   ]
  },
  {
   "cell_type": "code",
   "execution_count": 19,
   "id": "6fc81694",
   "metadata": {
    "id": "6fc81694"
   },
   "outputs": [
    {
     "data": {
      "text/html": [
       "<div>\n",
       "<style scoped>\n",
       "    .dataframe tbody tr th:only-of-type {\n",
       "        vertical-align: middle;\n",
       "    }\n",
       "\n",
       "    .dataframe tbody tr th {\n",
       "        vertical-align: top;\n",
       "    }\n",
       "\n",
       "    .dataframe thead th {\n",
       "        text-align: right;\n",
       "    }\n",
       "</style>\n",
       "<table border=\"1\" class=\"dataframe\">\n",
       "  <thead>\n",
       "    <tr style=\"text-align: right;\">\n",
       "      <th></th>\n",
       "      <th>department_id</th>\n",
       "      <th>department</th>\n",
       "    </tr>\n",
       "  </thead>\n",
       "  <tbody>\n",
       "    <tr>\n",
       "      <th>16</th>\n",
       "      <td>17</td>\n",
       "      <td>household</td>\n",
       "    </tr>\n",
       "    <tr>\n",
       "      <th>17</th>\n",
       "      <td>18</td>\n",
       "      <td>babies</td>\n",
       "    </tr>\n",
       "    <tr>\n",
       "      <th>18</th>\n",
       "      <td>19</td>\n",
       "      <td>snacks</td>\n",
       "    </tr>\n",
       "    <tr>\n",
       "      <th>19</th>\n",
       "      <td>20</td>\n",
       "      <td>deli</td>\n",
       "    </tr>\n",
       "    <tr>\n",
       "      <th>20</th>\n",
       "      <td>21</td>\n",
       "      <td>missing</td>\n",
       "    </tr>\n",
       "  </tbody>\n",
       "</table>\n",
       "</div>"
      ],
      "text/plain": [
       "    department_id department\n",
       "16             17  household\n",
       "17             18     babies\n",
       "18             19     snacks\n",
       "19             20       deli\n",
       "20             21    missing"
      ]
     },
     "execution_count": 19,
     "metadata": {},
     "output_type": "execute_result"
    }
   ],
   "source": [
    "departments.tail()"
   ]
  },
  {
   "cell_type": "code",
   "execution_count": 20,
   "id": "142451c0",
   "metadata": {},
   "outputs": [
    {
     "name": "stdout",
     "output_type": "stream",
     "text": [
      "<class 'pandas.core.frame.DataFrame'>\n",
      "RangeIndex: 21 entries, 0 to 20\n",
      "Data columns (total 2 columns):\n",
      " #   Column         Non-Null Count  Dtype \n",
      "---  ------         --------------  ----- \n",
      " 0   department_id  21 non-null     int64 \n",
      " 1   department     21 non-null     object\n",
      "dtypes: int64(1), object(1)\n",
      "memory usage: 464.0+ bytes\n"
     ]
    }
   ],
   "source": [
    "departments.info()"
   ]
  },
  {
   "cell_type": "markdown",
   "id": "t75BD19oaR5f",
   "metadata": {
    "id": "t75BD19oaR5f"
   },
   "source": [
    "## Conclusiones\n",
    "\n",
    "Escribe aquí tus conclusiones intermedias sobre el Paso 1. Descripción de los datos.\n",
    "- podemos observar que tenemos datos nulos en los datasets:\n",
    "    - dataset instacart: columna days_since_prior_order\n",
    "    - dataset products: columna product_name  \n",
    "    - dataset orders: columna add_to_cart_order\n",
    "- los tipos de datos para todos los valores de todos los datasets parecen ser correctos. "
   ]
  },
  {
   "cell_type": "markdown",
   "id": "8RJHqxVmaVsF",
   "metadata": {
    "id": "8RJHqxVmaVsF"
   },
   "source": [
    "# Paso 2. Preprocesamiento de los datos\n",
    "\n",
    "Preprocesa los datos de la siguiente manera:\n",
    "\n",
    "- Verifica y corrige los tipos de datos (por ejemplo, asegúrate de que las columnas de ID sean números enteros).\n",
    "- Identifica y completa los valores ausentes.\n",
    "- Identifica y elimina los valores duplicados.\n",
    "\n",
    "Asegúrate de explicar qué tipos de valores ausentes y duplicados encontraste, cómo los completaste o eliminaste y por qué usaste esos métodos. ¿Por qué crees que estos valores ausentes y duplicados pueden haber estado presentes en el conjunto de datos?"
   ]
  },
  {
   "cell_type": "markdown",
   "id": "p6poABZQaZYb",
   "metadata": {
    "id": "p6poABZQaZYb"
   },
   "source": [
    "## Plan de solución\n",
    "\n",
    "Escribe aquí tu plan para el Paso 2. Preprocesamiento de los datos.\n",
    "- en el paso anerior se ha verificado mediante info() que todos los tipos de datos son correctos para todos los valores de los datasets. \n",
    "- primero se determian todos los valores duplicados y si se idetifica que se los puede eliminar se los eliminarán para que no ensucien el dataset. Si no se los puede eliminar se determina si nos está contando los ausentes como duplicados. \n",
    "- para los ausentes se identifican primero cuales son los valores ausentes, se analiza porqué pueden estar ausentes y se los completa con la información segun corresponda."
   ]
  },
  {
   "cell_type": "markdown",
   "id": "07357848-dc64-4156-9cc3-01ff4365226d",
   "metadata": {
    "id": "07357848-dc64-4156-9cc3-01ff4365226d"
   },
   "source": [
    "## Encuentra y elimina los valores duplicados (y describe cómo tomaste tus decisiones)."
   ]
  },
  {
   "cell_type": "markdown",
   "id": "f179f0a9",
   "metadata": {
    "id": "f179f0a9"
   },
   "source": [
    "### `instacart_orders` data frame"
   ]
  },
  {
   "cell_type": "code",
   "execution_count": 21,
   "id": "b99297a5-405a-463d-8535-9adc3da4ad74",
   "metadata": {
    "id": "b99297a5-405a-463d-8535-9adc3da4ad74"
   },
   "outputs": [
    {
     "data": {
      "text/plain": [
       "15"
      ]
     },
     "execution_count": 21,
     "metadata": {},
     "output_type": "execute_result"
    }
   ],
   "source": [
    "# Revisa si hay pedidos duplicados\n",
    "instacart.duplicated ().sum()"
   ]
  },
  {
   "cell_type": "code",
   "execution_count": 22,
   "id": "55d9d216",
   "metadata": {},
   "outputs": [
    {
     "data": {
      "text/html": [
       "<div>\n",
       "<style scoped>\n",
       "    .dataframe tbody tr th:only-of-type {\n",
       "        vertical-align: middle;\n",
       "    }\n",
       "\n",
       "    .dataframe tbody tr th {\n",
       "        vertical-align: top;\n",
       "    }\n",
       "\n",
       "    .dataframe thead th {\n",
       "        text-align: right;\n",
       "    }\n",
       "</style>\n",
       "<table border=\"1\" class=\"dataframe\">\n",
       "  <thead>\n",
       "    <tr style=\"text-align: right;\">\n",
       "      <th></th>\n",
       "      <th>order_id</th>\n",
       "      <th>user_id</th>\n",
       "      <th>order_number</th>\n",
       "      <th>order_dow</th>\n",
       "      <th>order_hour_of_day</th>\n",
       "      <th>days_since_prior_order</th>\n",
       "    </tr>\n",
       "  </thead>\n",
       "  <tbody>\n",
       "    <tr>\n",
       "      <th>145574</th>\n",
       "      <td>794638</td>\n",
       "      <td>50898</td>\n",
       "      <td>24</td>\n",
       "      <td>3</td>\n",
       "      <td>2</td>\n",
       "      <td>2.0</td>\n",
       "    </tr>\n",
       "    <tr>\n",
       "      <th>223105</th>\n",
       "      <td>2160484</td>\n",
       "      <td>107525</td>\n",
       "      <td>16</td>\n",
       "      <td>3</td>\n",
       "      <td>2</td>\n",
       "      <td>30.0</td>\n",
       "    </tr>\n",
       "    <tr>\n",
       "      <th>230807</th>\n",
       "      <td>1918001</td>\n",
       "      <td>188546</td>\n",
       "      <td>14</td>\n",
       "      <td>3</td>\n",
       "      <td>2</td>\n",
       "      <td>16.0</td>\n",
       "    </tr>\n",
       "    <tr>\n",
       "      <th>266232</th>\n",
       "      <td>1782114</td>\n",
       "      <td>106752</td>\n",
       "      <td>1</td>\n",
       "      <td>3</td>\n",
       "      <td>2</td>\n",
       "      <td>NaN</td>\n",
       "    </tr>\n",
       "    <tr>\n",
       "      <th>273805</th>\n",
       "      <td>1112182</td>\n",
       "      <td>202304</td>\n",
       "      <td>84</td>\n",
       "      <td>3</td>\n",
       "      <td>2</td>\n",
       "      <td>6.0</td>\n",
       "    </tr>\n",
       "    <tr>\n",
       "      <th>284038</th>\n",
       "      <td>2845099</td>\n",
       "      <td>31189</td>\n",
       "      <td>11</td>\n",
       "      <td>3</td>\n",
       "      <td>2</td>\n",
       "      <td>7.0</td>\n",
       "    </tr>\n",
       "    <tr>\n",
       "      <th>311713</th>\n",
       "      <td>1021560</td>\n",
       "      <td>53767</td>\n",
       "      <td>3</td>\n",
       "      <td>3</td>\n",
       "      <td>2</td>\n",
       "      <td>9.0</td>\n",
       "    </tr>\n",
       "    <tr>\n",
       "      <th>321100</th>\n",
       "      <td>408114</td>\n",
       "      <td>68324</td>\n",
       "      <td>4</td>\n",
       "      <td>3</td>\n",
       "      <td>2</td>\n",
       "      <td>18.0</td>\n",
       "    </tr>\n",
       "    <tr>\n",
       "      <th>323900</th>\n",
       "      <td>1919531</td>\n",
       "      <td>191501</td>\n",
       "      <td>32</td>\n",
       "      <td>3</td>\n",
       "      <td>2</td>\n",
       "      <td>7.0</td>\n",
       "    </tr>\n",
       "    <tr>\n",
       "      <th>345917</th>\n",
       "      <td>2232988</td>\n",
       "      <td>82565</td>\n",
       "      <td>1</td>\n",
       "      <td>3</td>\n",
       "      <td>2</td>\n",
       "      <td>NaN</td>\n",
       "    </tr>\n",
       "    <tr>\n",
       "      <th>371905</th>\n",
       "      <td>391768</td>\n",
       "      <td>57671</td>\n",
       "      <td>19</td>\n",
       "      <td>3</td>\n",
       "      <td>2</td>\n",
       "      <td>10.0</td>\n",
       "    </tr>\n",
       "    <tr>\n",
       "      <th>394347</th>\n",
       "      <td>467134</td>\n",
       "      <td>63189</td>\n",
       "      <td>21</td>\n",
       "      <td>3</td>\n",
       "      <td>2</td>\n",
       "      <td>2.0</td>\n",
       "    </tr>\n",
       "    <tr>\n",
       "      <th>411408</th>\n",
       "      <td>1286742</td>\n",
       "      <td>183220</td>\n",
       "      <td>48</td>\n",
       "      <td>3</td>\n",
       "      <td>2</td>\n",
       "      <td>4.0</td>\n",
       "    </tr>\n",
       "    <tr>\n",
       "      <th>415163</th>\n",
       "      <td>2282673</td>\n",
       "      <td>86751</td>\n",
       "      <td>49</td>\n",
       "      <td>3</td>\n",
       "      <td>2</td>\n",
       "      <td>2.0</td>\n",
       "    </tr>\n",
       "    <tr>\n",
       "      <th>441599</th>\n",
       "      <td>2125197</td>\n",
       "      <td>14050</td>\n",
       "      <td>48</td>\n",
       "      <td>3</td>\n",
       "      <td>2</td>\n",
       "      <td>3.0</td>\n",
       "    </tr>\n",
       "  </tbody>\n",
       "</table>\n",
       "</div>"
      ],
      "text/plain": [
       "        order_id  user_id  order_number  order_dow  order_hour_of_day  \\\n",
       "145574    794638    50898            24          3                  2   \n",
       "223105   2160484   107525            16          3                  2   \n",
       "230807   1918001   188546            14          3                  2   \n",
       "266232   1782114   106752             1          3                  2   \n",
       "273805   1112182   202304            84          3                  2   \n",
       "284038   2845099    31189            11          3                  2   \n",
       "311713   1021560    53767             3          3                  2   \n",
       "321100    408114    68324             4          3                  2   \n",
       "323900   1919531   191501            32          3                  2   \n",
       "345917   2232988    82565             1          3                  2   \n",
       "371905    391768    57671            19          3                  2   \n",
       "394347    467134    63189            21          3                  2   \n",
       "411408   1286742   183220            48          3                  2   \n",
       "415163   2282673    86751            49          3                  2   \n",
       "441599   2125197    14050            48          3                  2   \n",
       "\n",
       "        days_since_prior_order  \n",
       "145574                     2.0  \n",
       "223105                    30.0  \n",
       "230807                    16.0  \n",
       "266232                     NaN  \n",
       "273805                     6.0  \n",
       "284038                     7.0  \n",
       "311713                     9.0  \n",
       "321100                    18.0  \n",
       "323900                     7.0  \n",
       "345917                     NaN  \n",
       "371905                    10.0  \n",
       "394347                     2.0  \n",
       "411408                     4.0  \n",
       "415163                     2.0  \n",
       "441599                     3.0  "
      ]
     },
     "execution_count": 22,
     "metadata": {},
     "output_type": "execute_result"
    }
   ],
   "source": [
    "instacart[instacart.duplicated()]"
   ]
  },
  {
   "cell_type": "markdown",
   "id": "PEkwUX_gvt5A",
   "metadata": {
    "id": "PEkwUX_gvt5A"
   },
   "source": [
    "¿Tienes líneas duplicadas? Si sí, ¿qué tienen en común?\n",
    "- Se tienen 15 duplicados, se estos se puede decir que todos fueron realizados el día miércoles a las 2am. "
   ]
  },
  {
   "cell_type": "code",
   "execution_count": 23,
   "id": "0d44de5d",
   "metadata": {
    "id": "0d44de5d"
   },
   "outputs": [
    {
     "data": {
      "text/html": [
       "<div>\n",
       "<style scoped>\n",
       "    .dataframe tbody tr th:only-of-type {\n",
       "        vertical-align: middle;\n",
       "    }\n",
       "\n",
       "    .dataframe tbody tr th {\n",
       "        vertical-align: top;\n",
       "    }\n",
       "\n",
       "    .dataframe thead th {\n",
       "        text-align: right;\n",
       "    }\n",
       "</style>\n",
       "<table border=\"1\" class=\"dataframe\">\n",
       "  <thead>\n",
       "    <tr style=\"text-align: right;\">\n",
       "      <th></th>\n",
       "      <th>order_id</th>\n",
       "      <th>user_id</th>\n",
       "      <th>order_number</th>\n",
       "      <th>order_dow</th>\n",
       "      <th>order_hour_of_day</th>\n",
       "      <th>days_since_prior_order</th>\n",
       "    </tr>\n",
       "  </thead>\n",
       "  <tbody>\n",
       "    <tr>\n",
       "      <th>4838</th>\n",
       "      <td>2766110</td>\n",
       "      <td>162084</td>\n",
       "      <td>41</td>\n",
       "      <td>3</td>\n",
       "      <td>2</td>\n",
       "      <td>16.0</td>\n",
       "    </tr>\n",
       "    <tr>\n",
       "      <th>5156</th>\n",
       "      <td>2190225</td>\n",
       "      <td>138285</td>\n",
       "      <td>18</td>\n",
       "      <td>3</td>\n",
       "      <td>2</td>\n",
       "      <td>11.0</td>\n",
       "    </tr>\n",
       "    <tr>\n",
       "      <th>15506</th>\n",
       "      <td>553049</td>\n",
       "      <td>58599</td>\n",
       "      <td>13</td>\n",
       "      <td>3</td>\n",
       "      <td>2</td>\n",
       "      <td>7.0</td>\n",
       "    </tr>\n",
       "    <tr>\n",
       "      <th>18420</th>\n",
       "      <td>382357</td>\n",
       "      <td>120200</td>\n",
       "      <td>19</td>\n",
       "      <td>3</td>\n",
       "      <td>2</td>\n",
       "      <td>11.0</td>\n",
       "    </tr>\n",
       "    <tr>\n",
       "      <th>24691</th>\n",
       "      <td>690242</td>\n",
       "      <td>77357</td>\n",
       "      <td>2</td>\n",
       "      <td>3</td>\n",
       "      <td>2</td>\n",
       "      <td>9.0</td>\n",
       "    </tr>\n",
       "    <tr>\n",
       "      <th>...</th>\n",
       "      <td>...</td>\n",
       "      <td>...</td>\n",
       "      <td>...</td>\n",
       "      <td>...</td>\n",
       "      <td>...</td>\n",
       "      <td>...</td>\n",
       "    </tr>\n",
       "    <tr>\n",
       "      <th>457013</th>\n",
       "      <td>3384021</td>\n",
       "      <td>14881</td>\n",
       "      <td>6</td>\n",
       "      <td>3</td>\n",
       "      <td>2</td>\n",
       "      <td>30.0</td>\n",
       "    </tr>\n",
       "    <tr>\n",
       "      <th>458816</th>\n",
       "      <td>910166</td>\n",
       "      <td>164782</td>\n",
       "      <td>18</td>\n",
       "      <td>3</td>\n",
       "      <td>2</td>\n",
       "      <td>4.0</td>\n",
       "    </tr>\n",
       "    <tr>\n",
       "      <th>459635</th>\n",
       "      <td>1680532</td>\n",
       "      <td>106435</td>\n",
       "      <td>6</td>\n",
       "      <td>3</td>\n",
       "      <td>2</td>\n",
       "      <td>21.0</td>\n",
       "    </tr>\n",
       "    <tr>\n",
       "      <th>468324</th>\n",
       "      <td>222962</td>\n",
       "      <td>54979</td>\n",
       "      <td>59</td>\n",
       "      <td>3</td>\n",
       "      <td>2</td>\n",
       "      <td>3.0</td>\n",
       "    </tr>\n",
       "    <tr>\n",
       "      <th>477526</th>\n",
       "      <td>2592344</td>\n",
       "      <td>46860</td>\n",
       "      <td>38</td>\n",
       "      <td>3</td>\n",
       "      <td>2</td>\n",
       "      <td>3.0</td>\n",
       "    </tr>\n",
       "  </tbody>\n",
       "</table>\n",
       "<p>121 rows × 6 columns</p>\n",
       "</div>"
      ],
      "text/plain": [
       "        order_id  user_id  order_number  order_dow  order_hour_of_day  \\\n",
       "4838     2766110   162084            41          3                  2   \n",
       "5156     2190225   138285            18          3                  2   \n",
       "15506     553049    58599            13          3                  2   \n",
       "18420     382357   120200            19          3                  2   \n",
       "24691     690242    77357             2          3                  2   \n",
       "...          ...      ...           ...        ...                ...   \n",
       "457013   3384021    14881             6          3                  2   \n",
       "458816    910166   164782            18          3                  2   \n",
       "459635   1680532   106435             6          3                  2   \n",
       "468324    222962    54979            59          3                  2   \n",
       "477526   2592344    46860            38          3                  2   \n",
       "\n",
       "        days_since_prior_order  \n",
       "4838                      16.0  \n",
       "5156                      11.0  \n",
       "15506                      7.0  \n",
       "18420                     11.0  \n",
       "24691                      9.0  \n",
       "...                        ...  \n",
       "457013                    30.0  \n",
       "458816                     4.0  \n",
       "459635                    21.0  \n",
       "468324                     3.0  \n",
       "477526                     3.0  \n",
       "\n",
       "[121 rows x 6 columns]"
      ]
     },
     "execution_count": 23,
     "metadata": {},
     "output_type": "execute_result"
    }
   ],
   "source": [
    "# Basándote en tus hallazgos,\n",
    "# Verifica todos los pedidos que se hicieron el miércoles a las 2:00 a.m.\n",
    "instacart [(instacart['order_dow'] == 3) & (instacart ['order_hour_of_day'] == 2)]"
   ]
  },
  {
   "cell_type": "markdown",
   "id": "vu2OWyoqwOx5",
   "metadata": {
    "id": "vu2OWyoqwOx5"
   },
   "source": [
    "¿Qué sugiere este resultado?\n",
    "- hay 121 pedidos el miércoles a las 3am por lo que se puede decir que los duplicados se puede haber dado por un error en el sistema justo en ese momento. Es seguro eliminar estas filas duplicadas."
   ]
  },
  {
   "cell_type": "code",
   "execution_count": 24,
   "id": "480563c7",
   "metadata": {
    "id": "480563c7"
   },
   "outputs": [],
   "source": [
    "# Elimina los pedidos duplicados\n",
    "instacart.drop_duplicates (inplace = True)"
   ]
  },
  {
   "cell_type": "code",
   "execution_count": 25,
   "id": "0b2396a2",
   "metadata": {
    "id": "0b2396a2"
   },
   "outputs": [
    {
     "data": {
      "text/plain": [
       "0"
      ]
     },
     "execution_count": 25,
     "metadata": {},
     "output_type": "execute_result"
    }
   ],
   "source": [
    "# Vuelve a verificar si hay filas duplicadas\n",
    "instacart.duplicated().sum()"
   ]
  },
  {
   "cell_type": "code",
   "execution_count": 26,
   "id": "aa9fb0ac",
   "metadata": {},
   "outputs": [],
   "source": [
    "#se resetea el index para que sea contínuo después de haber eliminado algunas filas. \n",
    "instacart.reset_index(inplace = True, drop = True)"
   ]
  },
  {
   "cell_type": "code",
   "execution_count": 27,
   "id": "94698547",
   "metadata": {},
   "outputs": [
    {
     "name": "stdout",
     "output_type": "stream",
     "text": [
      "<class 'pandas.core.frame.DataFrame'>\n",
      "RangeIndex: 478952 entries, 0 to 478951\n",
      "Data columns (total 6 columns):\n",
      " #   Column                  Non-Null Count   Dtype  \n",
      "---  ------                  --------------   -----  \n",
      " 0   order_id                478952 non-null  int64  \n",
      " 1   user_id                 478952 non-null  int64  \n",
      " 2   order_number            478952 non-null  int64  \n",
      " 3   order_dow               478952 non-null  int64  \n",
      " 4   order_hour_of_day       478952 non-null  int64  \n",
      " 5   days_since_prior_order  450135 non-null  float64\n",
      "dtypes: float64(1), int64(5)\n",
      "memory usage: 21.9 MB\n"
     ]
    }
   ],
   "source": [
    "instacart.info()"
   ]
  },
  {
   "cell_type": "code",
   "execution_count": 28,
   "id": "f6113ef1",
   "metadata": {
    "id": "f6113ef1"
   },
   "outputs": [
    {
     "data": {
      "text/plain": [
       "0"
      ]
     },
     "execution_count": 28,
     "metadata": {},
     "output_type": "execute_result"
    }
   ],
   "source": [
    "# Vuelve a verificar si hay IDs duplicados de pedidos\n",
    "instacart['order_id'].duplicated().sum()"
   ]
  },
  {
   "cell_type": "markdown",
   "id": "5e8905ae",
   "metadata": {
    "id": "5e8905ae"
   },
   "source": [
    "Describe brevemente tus hallazgos y lo que hiciste con ellos\n",
    "- ya no se tienen valores duplicados, se eliminaron las 15 filas duplicadas para limpiar el dataset debido a que se puede asumir que fue un error del sistema que duplicó esos pedidos en específico. "
   ]
  },
  {
   "cell_type": "markdown",
   "id": "45e6bc46",
   "metadata": {
    "id": "45e6bc46"
   },
   "source": [
    "### `products` data frame"
   ]
  },
  {
   "cell_type": "code",
   "execution_count": 29,
   "id": "5f526b5b-8175-46fa-a0fd-441767d50e64",
   "metadata": {
    "id": "5f526b5b-8175-46fa-a0fd-441767d50e64"
   },
   "outputs": [
    {
     "data": {
      "text/plain": [
       "0"
      ]
     },
     "execution_count": 29,
     "metadata": {},
     "output_type": "execute_result"
    }
   ],
   "source": [
    "# Verifica si hay filas totalmente duplicadas\n",
    "products.duplicated().sum()"
   ]
  },
  {
   "cell_type": "code",
   "execution_count": 30,
   "id": "88daa4f4",
   "metadata": {
    "id": "88daa4f4"
   },
   "outputs": [
    {
     "data": {
      "text/plain": [
       "0"
      ]
     },
     "execution_count": 30,
     "metadata": {},
     "output_type": "execute_result"
    }
   ],
   "source": [
    "# Verifica si hay IDs duplicadas de productos\n",
    "products['product_id'].duplicated().sum ()"
   ]
  },
  {
   "cell_type": "code",
   "execution_count": 31,
   "id": "c773f0bf",
   "metadata": {
    "id": "c773f0bf"
   },
   "outputs": [],
   "source": [
    "# Revisa si hay nombres duplicados de productos (convierte los nombres a letras mayúsculas para compararlos mejor)\n",
    "products ['product_name_lower'] = products['product_name'].str.lower()"
   ]
  },
  {
   "cell_type": "code",
   "execution_count": 32,
   "id": "c6d01d5e",
   "metadata": {},
   "outputs": [
    {
     "data": {
      "text/plain": [
       "1361"
      ]
     },
     "execution_count": 32,
     "metadata": {},
     "output_type": "execute_result"
    }
   ],
   "source": [
    "products['product_name_lower'].duplicated().sum()"
   ]
  },
  {
   "cell_type": "code",
   "execution_count": 33,
   "id": "4f1d20b7",
   "metadata": {},
   "outputs": [
    {
     "data": {
      "text/plain": [
       "0"
      ]
     },
     "execution_count": 33,
     "metadata": {},
     "output_type": "execute_result"
    }
   ],
   "source": [
    "products.duplicated (subset = ['product_id', 'product_name_lower']).sum()"
   ]
  },
  {
   "cell_type": "code",
   "execution_count": 34,
   "id": "01efd02e",
   "metadata": {
    "id": "01efd02e"
   },
   "outputs": [
    {
     "data": {
      "text/html": [
       "<div>\n",
       "<style scoped>\n",
       "    .dataframe tbody tr th:only-of-type {\n",
       "        vertical-align: middle;\n",
       "    }\n",
       "\n",
       "    .dataframe tbody tr th {\n",
       "        vertical-align: top;\n",
       "    }\n",
       "\n",
       "    .dataframe thead th {\n",
       "        text-align: right;\n",
       "    }\n",
       "</style>\n",
       "<table border=\"1\" class=\"dataframe\">\n",
       "  <thead>\n",
       "    <tr style=\"text-align: right;\">\n",
       "      <th></th>\n",
       "      <th>product_id</th>\n",
       "      <th>product_name</th>\n",
       "      <th>aisle_id</th>\n",
       "      <th>department_id</th>\n",
       "      <th>product_name_lower</th>\n",
       "    </tr>\n",
       "  </thead>\n",
       "  <tbody>\n",
       "    <tr>\n",
       "      <th>2058</th>\n",
       "      <td>2059</td>\n",
       "      <td>Biotin 1000 Mcg</td>\n",
       "      <td>47</td>\n",
       "      <td>11</td>\n",
       "      <td>biotin 1000 mcg</td>\n",
       "    </tr>\n",
       "    <tr>\n",
       "      <th>5455</th>\n",
       "      <td>5456</td>\n",
       "      <td>Green Tea With Ginseng and Honey</td>\n",
       "      <td>96</td>\n",
       "      <td>20</td>\n",
       "      <td>green tea with ginseng and honey</td>\n",
       "    </tr>\n",
       "    <tr>\n",
       "      <th>5558</th>\n",
       "      <td>5559</td>\n",
       "      <td>Cream Of Mushroom Soup</td>\n",
       "      <td>69</td>\n",
       "      <td>15</td>\n",
       "      <td>cream of mushroom soup</td>\n",
       "    </tr>\n",
       "    <tr>\n",
       "      <th>7558</th>\n",
       "      <td>7559</td>\n",
       "      <td>Cinnamon Rolls with Icing</td>\n",
       "      <td>105</td>\n",
       "      <td>13</td>\n",
       "      <td>cinnamon rolls with icing</td>\n",
       "    </tr>\n",
       "    <tr>\n",
       "      <th>9037</th>\n",
       "      <td>9038</td>\n",
       "      <td>American Cheese slices</td>\n",
       "      <td>21</td>\n",
       "      <td>16</td>\n",
       "      <td>american cheese slices</td>\n",
       "    </tr>\n",
       "    <tr>\n",
       "      <th>...</th>\n",
       "      <td>...</td>\n",
       "      <td>...</td>\n",
       "      <td>...</td>\n",
       "      <td>...</td>\n",
       "      <td>...</td>\n",
       "    </tr>\n",
       "    <tr>\n",
       "      <th>49689</th>\n",
       "      <td>49690</td>\n",
       "      <td>HIGH PERFORMANCE ENERGY DRINK</td>\n",
       "      <td>64</td>\n",
       "      <td>7</td>\n",
       "      <td>high performance energy drink</td>\n",
       "    </tr>\n",
       "    <tr>\n",
       "      <th>49690</th>\n",
       "      <td>49691</td>\n",
       "      <td>ORIGINAL PANCAKE &amp; WAFFLE MIX</td>\n",
       "      <td>130</td>\n",
       "      <td>14</td>\n",
       "      <td>original pancake &amp; waffle mix</td>\n",
       "    </tr>\n",
       "    <tr>\n",
       "      <th>49691</th>\n",
       "      <td>49692</td>\n",
       "      <td>ORGANIC INSTANT OATMEAL LIGHT MAPLE BROWN SUGAR</td>\n",
       "      <td>130</td>\n",
       "      <td>14</td>\n",
       "      <td>organic instant oatmeal light maple brown sugar</td>\n",
       "    </tr>\n",
       "    <tr>\n",
       "      <th>49692</th>\n",
       "      <td>49693</td>\n",
       "      <td>SPRING WATER BODY WASH</td>\n",
       "      <td>127</td>\n",
       "      <td>11</td>\n",
       "      <td>spring water body wash</td>\n",
       "    </tr>\n",
       "    <tr>\n",
       "      <th>49693</th>\n",
       "      <td>49694</td>\n",
       "      <td>BURRITO- STEAK &amp; CHEESE</td>\n",
       "      <td>38</td>\n",
       "      <td>1</td>\n",
       "      <td>burrito- steak &amp; cheese</td>\n",
       "    </tr>\n",
       "  </tbody>\n",
       "</table>\n",
       "<p>104 rows × 5 columns</p>\n",
       "</div>"
      ],
      "text/plain": [
       "       product_id                                     product_name  aisle_id  \\\n",
       "2058         2059                                  Biotin 1000 Mcg        47   \n",
       "5455         5456                 Green Tea With Ginseng and Honey        96   \n",
       "5558         5559                           Cream Of Mushroom Soup        69   \n",
       "7558         7559                        Cinnamon Rolls with Icing       105   \n",
       "9037         9038                           American Cheese slices        21   \n",
       "...           ...                                              ...       ...   \n",
       "49689       49690                    HIGH PERFORMANCE ENERGY DRINK        64   \n",
       "49690       49691                    ORIGINAL PANCAKE & WAFFLE MIX       130   \n",
       "49691       49692  ORGANIC INSTANT OATMEAL LIGHT MAPLE BROWN SUGAR       130   \n",
       "49692       49693                           SPRING WATER BODY WASH       127   \n",
       "49693       49694                          BURRITO- STEAK & CHEESE        38   \n",
       "\n",
       "       department_id                               product_name_lower  \n",
       "2058              11                                  biotin 1000 mcg  \n",
       "5455              20                 green tea with ginseng and honey  \n",
       "5558              15                           cream of mushroom soup  \n",
       "7558              13                        cinnamon rolls with icing  \n",
       "9037              16                           american cheese slices  \n",
       "...              ...                                              ...  \n",
       "49689              7                    high performance energy drink  \n",
       "49690             14                    original pancake & waffle mix  \n",
       "49691             14  organic instant oatmeal light maple brown sugar  \n",
       "49692             11                           spring water body wash  \n",
       "49693              1                          burrito- steak & cheese  \n",
       "\n",
       "[104 rows x 5 columns]"
      ]
     },
     "execution_count": 34,
     "metadata": {},
     "output_type": "execute_result"
    }
   ],
   "source": [
    "# Revisa si hay nombres duplicados de productos no faltantes\n",
    "products [(products ['product_name_lower'].duplicated()) & ~(products ['product_name_lower'].isna())]"
   ]
  },
  {
   "cell_type": "markdown",
   "id": "9da8d293",
   "metadata": {
    "id": "9da8d293"
   },
   "source": [
    "Describe brevemente tus hallazgos y lo que hiciste con ellos.\n",
    "- inicialmente se verifica que no se tiene filas completamete duplicadas.\n",
    "- se identifica que hay 1361 numbres duplicados, pero se puede observar que todos estos nombre tienen un product_id distinto, lo que significa que es un producto diferente pero con el mismo nombre, por lo que no hay colo eliminarlos. \n",
    "- son 104 filas con nombres duplicados que hacen referencia a lo mencionado anteriormente. "
   ]
  },
  {
   "cell_type": "markdown",
   "id": "60f30db1",
   "metadata": {
    "id": "60f30db1"
   },
   "source": [
    "### `departments` data frame"
   ]
  },
  {
   "cell_type": "code",
   "execution_count": 35,
   "id": "fb410ad4-0fbf-4b80-bb09-23fdea79afe3",
   "metadata": {
    "id": "fb410ad4-0fbf-4b80-bb09-23fdea79afe3"
   },
   "outputs": [
    {
     "data": {
      "text/plain": [
       "0"
      ]
     },
     "execution_count": 35,
     "metadata": {},
     "output_type": "execute_result"
    }
   ],
   "source": [
    "# Revisa si hay filas totalmente duplicadas\n",
    "departments.duplicated().sum()"
   ]
  },
  {
   "cell_type": "code",
   "execution_count": 36,
   "id": "332b12bb",
   "metadata": {
    "id": "332b12bb"
   },
   "outputs": [
    {
     "data": {
      "text/plain": [
       "0"
      ]
     },
     "execution_count": 36,
     "metadata": {},
     "output_type": "execute_result"
    }
   ],
   "source": [
    "# Revisa si hay IDs duplicadas de departamentos\n",
    "departments ['department_id'].duplicated().sum()"
   ]
  },
  {
   "cell_type": "markdown",
   "id": "bd30d78e",
   "metadata": {
    "id": "bd30d78e"
   },
   "source": [
    "Describe brevemente tus hallazgos y lo que hiciste con ellos.\n",
    "- no se encontraron filas totalmente duplicadas, ni department_id duplicados por lo que no se hacen modificaciones en el dataset."
   ]
  },
  {
   "cell_type": "markdown",
   "id": "889349c1",
   "metadata": {
    "id": "889349c1"
   },
   "source": [
    "### `aisles` data frame"
   ]
  },
  {
   "cell_type": "code",
   "execution_count": 37,
   "id": "9da89fb9-4679-40f5-ad0d-c34df753a3f8",
   "metadata": {
    "id": "9da89fb9-4679-40f5-ad0d-c34df753a3f8"
   },
   "outputs": [
    {
     "data": {
      "text/plain": [
       "0"
      ]
     },
     "execution_count": 37,
     "metadata": {},
     "output_type": "execute_result"
    }
   ],
   "source": [
    "# Revisa si hay filas totalmente duplicadas\n",
    "aisles.duplicated().sum()"
   ]
  },
  {
   "cell_type": "code",
   "execution_count": 38,
   "id": "da7c2822",
   "metadata": {
    "id": "da7c2822"
   },
   "outputs": [
    {
     "data": {
      "text/plain": [
       "0"
      ]
     },
     "execution_count": 38,
     "metadata": {},
     "output_type": "execute_result"
    }
   ],
   "source": [
    "# Revisa si hay IDs duplicadas de productos\n",
    "aisles.duplicated(subset = 'aisle_id').sum()"
   ]
  },
  {
   "cell_type": "markdown",
   "id": "ac63826f",
   "metadata": {
    "id": "ac63826f"
   },
   "source": [
    "Describe brevemente tus hallazgos y lo que hiciste con ellos.\n",
    "- no se encontraron filas totalmente duplicadas, ni aisle_id duplicados por lo que no se hacen modificaciones en el dataset."
   ]
  },
  {
   "cell_type": "markdown",
   "id": "274cd06a",
   "metadata": {
    "id": "274cd06a"
   },
   "source": [
    "### `order_products` data frame"
   ]
  },
  {
   "cell_type": "code",
   "execution_count": 39,
   "id": "52326689-84a8-4b8f-a881-7c68780f62c9",
   "metadata": {
    "id": "52326689-84a8-4b8f-a881-7c68780f62c9"
   },
   "outputs": [
    {
     "data": {
      "text/plain": [
       "0"
      ]
     },
     "execution_count": 39,
     "metadata": {},
     "output_type": "execute_result"
    }
   ],
   "source": [
    "# Revisa si hay filas totalmente duplicadas\n",
    "orders.duplicated().sum()"
   ]
  },
  {
   "cell_type": "code",
   "execution_count": 40,
   "id": "7b861391",
   "metadata": {
    "id": "7b861391"
   },
   "outputs": [
    {
     "data": {
      "text/plain": [
       "0"
      ]
     },
     "execution_count": 40,
     "metadata": {},
     "output_type": "execute_result"
    }
   ],
   "source": [
    "# Vuelve a verificar si hay cualquier otro duplicado engañoso\n",
    "orders.duplicated(subset = ['order_id','product_id']).sum()"
   ]
  },
  {
   "cell_type": "markdown",
   "id": "0b890492",
   "metadata": {
    "id": "0b890492"
   },
   "source": [
    "Describe brevemente tus hallazgos y lo que hiciste con ellos.\n",
    "- no se encontraron filas totalmente duplicadas, ni order_id con product_id duplicados por lo que no se hacen modificaciones en el dataset."
   ]
  },
  {
   "cell_type": "markdown",
   "id": "1e46de76",
   "metadata": {
    "id": "1e46de76"
   },
   "source": [
    "## Encuentra y elimina los valores ausentes\n",
    "\n",
    "Al trabajar con valores duplicados, pudimos observar que también nos falta investigar valores ausentes:\n",
    "\n",
    "* La columna `'product_name'` de la tabla products.\n",
    "* La columna `'days_since_prior_order'` de la tabla orders.\n",
    "* La columna `'add_to_cart_order'` de la tabla order_productos."
   ]
  },
  {
   "cell_type": "markdown",
   "id": "c0aebd78",
   "metadata": {
    "id": "c0aebd78"
   },
   "source": [
    "### `products` data frame"
   ]
  },
  {
   "cell_type": "code",
   "execution_count": 41,
   "id": "fe4a8b0f",
   "metadata": {
    "id": "fe4a8b0f"
   },
   "outputs": [
    {
     "data": {
      "text/plain": [
       "product_id               0\n",
       "product_name          1258\n",
       "aisle_id                 0\n",
       "department_id            0\n",
       "product_name_lower    1258\n",
       "dtype: int64"
      ]
     },
     "execution_count": 41,
     "metadata": {},
     "output_type": "execute_result"
    }
   ],
   "source": [
    "# Encuentra los valores ausentes en la columna 'product_name'\n",
    "products.isna().sum()"
   ]
  },
  {
   "cell_type": "code",
   "execution_count": 42,
   "id": "b8f8140d",
   "metadata": {},
   "outputs": [
    {
     "data": {
      "text/html": [
       "<div>\n",
       "<style scoped>\n",
       "    .dataframe tbody tr th:only-of-type {\n",
       "        vertical-align: middle;\n",
       "    }\n",
       "\n",
       "    .dataframe tbody tr th {\n",
       "        vertical-align: top;\n",
       "    }\n",
       "\n",
       "    .dataframe thead th {\n",
       "        text-align: right;\n",
       "    }\n",
       "</style>\n",
       "<table border=\"1\" class=\"dataframe\">\n",
       "  <thead>\n",
       "    <tr style=\"text-align: right;\">\n",
       "      <th></th>\n",
       "      <th>product_id</th>\n",
       "      <th>product_name</th>\n",
       "      <th>aisle_id</th>\n",
       "      <th>department_id</th>\n",
       "      <th>product_name_lower</th>\n",
       "    </tr>\n",
       "  </thead>\n",
       "  <tbody>\n",
       "    <tr>\n",
       "      <th>37</th>\n",
       "      <td>38</td>\n",
       "      <td>NaN</td>\n",
       "      <td>100</td>\n",
       "      <td>21</td>\n",
       "      <td>NaN</td>\n",
       "    </tr>\n",
       "    <tr>\n",
       "      <th>71</th>\n",
       "      <td>72</td>\n",
       "      <td>NaN</td>\n",
       "      <td>100</td>\n",
       "      <td>21</td>\n",
       "      <td>NaN</td>\n",
       "    </tr>\n",
       "    <tr>\n",
       "      <th>109</th>\n",
       "      <td>110</td>\n",
       "      <td>NaN</td>\n",
       "      <td>100</td>\n",
       "      <td>21</td>\n",
       "      <td>NaN</td>\n",
       "    </tr>\n",
       "    <tr>\n",
       "      <th>296</th>\n",
       "      <td>297</td>\n",
       "      <td>NaN</td>\n",
       "      <td>100</td>\n",
       "      <td>21</td>\n",
       "      <td>NaN</td>\n",
       "    </tr>\n",
       "    <tr>\n",
       "      <th>416</th>\n",
       "      <td>417</td>\n",
       "      <td>NaN</td>\n",
       "      <td>100</td>\n",
       "      <td>21</td>\n",
       "      <td>NaN</td>\n",
       "    </tr>\n",
       "    <tr>\n",
       "      <th>...</th>\n",
       "      <td>...</td>\n",
       "      <td>...</td>\n",
       "      <td>...</td>\n",
       "      <td>...</td>\n",
       "      <td>...</td>\n",
       "    </tr>\n",
       "    <tr>\n",
       "      <th>49552</th>\n",
       "      <td>49553</td>\n",
       "      <td>NaN</td>\n",
       "      <td>100</td>\n",
       "      <td>21</td>\n",
       "      <td>NaN</td>\n",
       "    </tr>\n",
       "    <tr>\n",
       "      <th>49574</th>\n",
       "      <td>49575</td>\n",
       "      <td>NaN</td>\n",
       "      <td>100</td>\n",
       "      <td>21</td>\n",
       "      <td>NaN</td>\n",
       "    </tr>\n",
       "    <tr>\n",
       "      <th>49640</th>\n",
       "      <td>49641</td>\n",
       "      <td>NaN</td>\n",
       "      <td>100</td>\n",
       "      <td>21</td>\n",
       "      <td>NaN</td>\n",
       "    </tr>\n",
       "    <tr>\n",
       "      <th>49663</th>\n",
       "      <td>49664</td>\n",
       "      <td>NaN</td>\n",
       "      <td>100</td>\n",
       "      <td>21</td>\n",
       "      <td>NaN</td>\n",
       "    </tr>\n",
       "    <tr>\n",
       "      <th>49668</th>\n",
       "      <td>49669</td>\n",
       "      <td>NaN</td>\n",
       "      <td>100</td>\n",
       "      <td>21</td>\n",
       "      <td>NaN</td>\n",
       "    </tr>\n",
       "  </tbody>\n",
       "</table>\n",
       "<p>1258 rows × 5 columns</p>\n",
       "</div>"
      ],
      "text/plain": [
       "       product_id product_name  aisle_id  department_id product_name_lower\n",
       "37             38          NaN       100             21                NaN\n",
       "71             72          NaN       100             21                NaN\n",
       "109           110          NaN       100             21                NaN\n",
       "296           297          NaN       100             21                NaN\n",
       "416           417          NaN       100             21                NaN\n",
       "...           ...          ...       ...            ...                ...\n",
       "49552       49553          NaN       100             21                NaN\n",
       "49574       49575          NaN       100             21                NaN\n",
       "49640       49641          NaN       100             21                NaN\n",
       "49663       49664          NaN       100             21                NaN\n",
       "49668       49669          NaN       100             21                NaN\n",
       "\n",
       "[1258 rows x 5 columns]"
      ]
     },
     "execution_count": 42,
     "metadata": {},
     "output_type": "execute_result"
    }
   ],
   "source": [
    "products [products['product_name'].isna()]"
   ]
  },
  {
   "cell_type": "markdown",
   "id": "-A6x1AbJhjkp",
   "metadata": {
    "id": "-A6x1AbJhjkp"
   },
   "source": [
    "Describe brevemente cuáles son tus hallazgos.\n",
    "- se encontraron 1258 valores ausentes, y por lo que se puede ver todos vienen del aisle 100 y department 21. Se debe corroborar esos valores. Puede ser que la persona encargada de ese pasillo se olvido de poner los nombres."
   ]
  },
  {
   "cell_type": "code",
   "execution_count": 43,
   "id": "e96167bc",
   "metadata": {
    "id": "e96167bc"
   },
   "outputs": [
    {
     "data": {
      "text/plain": [
       "array([100])"
      ]
     },
     "execution_count": 43,
     "metadata": {},
     "output_type": "execute_result"
    }
   ],
   "source": [
    "#  ¿Todos los nombres de productos ausentes están relacionados con el pasillo con ID 100?\n",
    "products[products ['product_name'].isna()]['aisle_id'].unique()"
   ]
  },
  {
   "cell_type": "markdown",
   "id": "WRpIfXRphpSL",
   "metadata": {
    "id": "WRpIfXRphpSL"
   },
   "source": [
    "Describe brevemente cuáles son tus hallazgos.\n",
    "- de determina que todos los ausentes estan relacionados con el pasillo 100."
   ]
  },
  {
   "cell_type": "code",
   "execution_count": 44,
   "id": "8fd0a541",
   "metadata": {
    "id": "8fd0a541"
   },
   "outputs": [
    {
     "data": {
      "text/plain": [
       "array([21])"
      ]
     },
     "execution_count": 44,
     "metadata": {},
     "output_type": "execute_result"
    }
   ],
   "source": [
    "# ¿Todos los nombres de productos ausentes están relacionados con el departamento con ID 21?\n",
    "products[products ['product_name'].isna()]['department_id'].unique()"
   ]
  },
  {
   "cell_type": "markdown",
   "id": "qDpdYn1Fht_I",
   "metadata": {
    "id": "qDpdYn1Fht_I"
   },
   "source": [
    "Describe brevemente cuáles son tus hallazgos.\n",
    "- todos los valores ausentes se relacionan con el departamento 21"
   ]
  },
  {
   "cell_type": "code",
   "execution_count": 45,
   "id": "325c3464",
   "metadata": {
    "id": "325c3464"
   },
   "outputs": [
    {
     "data": {
      "text/html": [
       "<div>\n",
       "<style scoped>\n",
       "    .dataframe tbody tr th:only-of-type {\n",
       "        vertical-align: middle;\n",
       "    }\n",
       "\n",
       "    .dataframe tbody tr th {\n",
       "        vertical-align: top;\n",
       "    }\n",
       "\n",
       "    .dataframe thead th {\n",
       "        text-align: right;\n",
       "    }\n",
       "</style>\n",
       "<table border=\"1\" class=\"dataframe\">\n",
       "  <thead>\n",
       "    <tr style=\"text-align: right;\">\n",
       "      <th></th>\n",
       "      <th>aisle_id</th>\n",
       "      <th>aisle</th>\n",
       "    </tr>\n",
       "  </thead>\n",
       "  <tbody>\n",
       "    <tr>\n",
       "      <th>99</th>\n",
       "      <td>100</td>\n",
       "      <td>missing</td>\n",
       "    </tr>\n",
       "  </tbody>\n",
       "</table>\n",
       "</div>"
      ],
      "text/plain": [
       "    aisle_id    aisle\n",
       "99       100  missing"
      ]
     },
     "execution_count": 45,
     "metadata": {},
     "output_type": "execute_result"
    }
   ],
   "source": [
    "# Usa las tablas department y aisle para revisar los datos del pasillo con ID 100 y el departamento con ID 21.\n",
    "aisles [aisles['aisle_id'] == 100 ]"
   ]
  },
  {
   "cell_type": "code",
   "execution_count": 46,
   "id": "b0adaeed",
   "metadata": {},
   "outputs": [
    {
     "data": {
      "text/html": [
       "<div>\n",
       "<style scoped>\n",
       "    .dataframe tbody tr th:only-of-type {\n",
       "        vertical-align: middle;\n",
       "    }\n",
       "\n",
       "    .dataframe tbody tr th {\n",
       "        vertical-align: top;\n",
       "    }\n",
       "\n",
       "    .dataframe thead th {\n",
       "        text-align: right;\n",
       "    }\n",
       "</style>\n",
       "<table border=\"1\" class=\"dataframe\">\n",
       "  <thead>\n",
       "    <tr style=\"text-align: right;\">\n",
       "      <th></th>\n",
       "      <th>department_id</th>\n",
       "      <th>department</th>\n",
       "    </tr>\n",
       "  </thead>\n",
       "  <tbody>\n",
       "    <tr>\n",
       "      <th>20</th>\n",
       "      <td>21</td>\n",
       "      <td>missing</td>\n",
       "    </tr>\n",
       "  </tbody>\n",
       "</table>\n",
       "</div>"
      ],
      "text/plain": [
       "    department_id department\n",
       "20             21    missing"
      ]
     },
     "execution_count": 46,
     "metadata": {},
     "output_type": "execute_result"
    }
   ],
   "source": [
    "departments [departments['department_id'] == 21]"
   ]
  },
  {
   "cell_type": "code",
   "execution_count": 47,
   "id": "b3972aca",
   "metadata": {},
   "outputs": [
    {
     "data": {
      "text/html": [
       "<div>\n",
       "<style scoped>\n",
       "    .dataframe tbody tr th:only-of-type {\n",
       "        vertical-align: middle;\n",
       "    }\n",
       "\n",
       "    .dataframe tbody tr th {\n",
       "        vertical-align: top;\n",
       "    }\n",
       "\n",
       "    .dataframe thead th {\n",
       "        text-align: right;\n",
       "    }\n",
       "</style>\n",
       "<table border=\"1\" class=\"dataframe\">\n",
       "  <thead>\n",
       "    <tr style=\"text-align: right;\">\n",
       "      <th></th>\n",
       "      <th>product_id</th>\n",
       "      <th>product_name</th>\n",
       "      <th>aisle_id</th>\n",
       "      <th>department_id</th>\n",
       "      <th>product_name_lower</th>\n",
       "    </tr>\n",
       "  </thead>\n",
       "  <tbody>\n",
       "    <tr>\n",
       "      <th>37</th>\n",
       "      <td>38</td>\n",
       "      <td>NaN</td>\n",
       "      <td>100</td>\n",
       "      <td>21</td>\n",
       "      <td>NaN</td>\n",
       "    </tr>\n",
       "    <tr>\n",
       "      <th>71</th>\n",
       "      <td>72</td>\n",
       "      <td>NaN</td>\n",
       "      <td>100</td>\n",
       "      <td>21</td>\n",
       "      <td>NaN</td>\n",
       "    </tr>\n",
       "    <tr>\n",
       "      <th>109</th>\n",
       "      <td>110</td>\n",
       "      <td>NaN</td>\n",
       "      <td>100</td>\n",
       "      <td>21</td>\n",
       "      <td>NaN</td>\n",
       "    </tr>\n",
       "    <tr>\n",
       "      <th>296</th>\n",
       "      <td>297</td>\n",
       "      <td>NaN</td>\n",
       "      <td>100</td>\n",
       "      <td>21</td>\n",
       "      <td>NaN</td>\n",
       "    </tr>\n",
       "    <tr>\n",
       "      <th>416</th>\n",
       "      <td>417</td>\n",
       "      <td>NaN</td>\n",
       "      <td>100</td>\n",
       "      <td>21</td>\n",
       "      <td>NaN</td>\n",
       "    </tr>\n",
       "    <tr>\n",
       "      <th>...</th>\n",
       "      <td>...</td>\n",
       "      <td>...</td>\n",
       "      <td>...</td>\n",
       "      <td>...</td>\n",
       "      <td>...</td>\n",
       "    </tr>\n",
       "    <tr>\n",
       "      <th>49552</th>\n",
       "      <td>49553</td>\n",
       "      <td>NaN</td>\n",
       "      <td>100</td>\n",
       "      <td>21</td>\n",
       "      <td>NaN</td>\n",
       "    </tr>\n",
       "    <tr>\n",
       "      <th>49574</th>\n",
       "      <td>49575</td>\n",
       "      <td>NaN</td>\n",
       "      <td>100</td>\n",
       "      <td>21</td>\n",
       "      <td>NaN</td>\n",
       "    </tr>\n",
       "    <tr>\n",
       "      <th>49640</th>\n",
       "      <td>49641</td>\n",
       "      <td>NaN</td>\n",
       "      <td>100</td>\n",
       "      <td>21</td>\n",
       "      <td>NaN</td>\n",
       "    </tr>\n",
       "    <tr>\n",
       "      <th>49663</th>\n",
       "      <td>49664</td>\n",
       "      <td>NaN</td>\n",
       "      <td>100</td>\n",
       "      <td>21</td>\n",
       "      <td>NaN</td>\n",
       "    </tr>\n",
       "    <tr>\n",
       "      <th>49668</th>\n",
       "      <td>49669</td>\n",
       "      <td>NaN</td>\n",
       "      <td>100</td>\n",
       "      <td>21</td>\n",
       "      <td>NaN</td>\n",
       "    </tr>\n",
       "  </tbody>\n",
       "</table>\n",
       "<p>1258 rows × 5 columns</p>\n",
       "</div>"
      ],
      "text/plain": [
       "       product_id product_name  aisle_id  department_id product_name_lower\n",
       "37             38          NaN       100             21                NaN\n",
       "71             72          NaN       100             21                NaN\n",
       "109           110          NaN       100             21                NaN\n",
       "296           297          NaN       100             21                NaN\n",
       "416           417          NaN       100             21                NaN\n",
       "...           ...          ...       ...            ...                ...\n",
       "49552       49553          NaN       100             21                NaN\n",
       "49574       49575          NaN       100             21                NaN\n",
       "49640       49641          NaN       100             21                NaN\n",
       "49663       49664          NaN       100             21                NaN\n",
       "49668       49669          NaN       100             21                NaN\n",
       "\n",
       "[1258 rows x 5 columns]"
      ]
     },
     "execution_count": 47,
     "metadata": {},
     "output_type": "execute_result"
    }
   ],
   "source": [
    "products [(products ['aisle_id'] == 100) & (products ['department_id'] == 21)]"
   ]
  },
  {
   "cell_type": "markdown",
   "id": "nqhSTUPhhvEJ",
   "metadata": {
    "id": "nqhSTUPhhvEJ"
   },
   "source": [
    "Describe brevemente cuáles son tus hallazgos.\n",
    "- se puede identificar que tanto para el pasillo 100 como para el departamento 21 tampoco se tienen los nombres corresponientes para cada dato. Se podría pensar que toda información respecto a ese pasillo, departamento, y productos que contienen no ha sido levantada todavía. "
   ]
  },
  {
   "cell_type": "code",
   "execution_count": 48,
   "id": "6b295120",
   "metadata": {
    "id": "6b295120"
   },
   "outputs": [],
   "source": [
    "# Completa los nombres de productos ausentes con 'Unknown'\n",
    "products ['product_name'] = products ['product_name'].fillna('Unknown')"
   ]
  },
  {
   "cell_type": "code",
   "execution_count": 49,
   "id": "5d1d9868",
   "metadata": {},
   "outputs": [],
   "source": [
    "products ['product_name_lower'] = products ['product_name_lower'].fillna('Unknown')"
   ]
  },
  {
   "cell_type": "code",
   "execution_count": 50,
   "id": "3aaedf11",
   "metadata": {},
   "outputs": [
    {
     "name": "stdout",
     "output_type": "stream",
     "text": [
      "<class 'pandas.core.frame.DataFrame'>\n",
      "RangeIndex: 49694 entries, 0 to 49693\n",
      "Data columns (total 5 columns):\n",
      " #   Column              Non-Null Count  Dtype \n",
      "---  ------              --------------  ----- \n",
      " 0   product_id          49694 non-null  int64 \n",
      " 1   product_name        49694 non-null  object\n",
      " 2   aisle_id            49694 non-null  int64 \n",
      " 3   department_id       49694 non-null  int64 \n",
      " 4   product_name_lower  49694 non-null  object\n",
      "dtypes: int64(3), object(2)\n",
      "memory usage: 1.9+ MB\n"
     ]
    }
   ],
   "source": [
    "products.info()"
   ]
  },
  {
   "cell_type": "markdown",
   "id": "fc70e5ad",
   "metadata": {
    "id": "fc70e5ad"
   },
   "source": [
    "Describe brevemente tus hallazgos y lo que hiciste con ellos.\n",
    "- Al identificar que tanto el nombre del departamento y pasillo también están faltando para todos los productos sin nombre, se procede a completar con desconocido ya que no se tiene más información que nos diga algún detalle sobre estos productos."
   ]
  },
  {
   "cell_type": "markdown",
   "id": "7eb45c86",
   "metadata": {
    "id": "7eb45c86"
   },
   "source": [
    "### `orders` data frame"
   ]
  },
  {
   "cell_type": "code",
   "execution_count": 51,
   "id": "93e41d96",
   "metadata": {
    "id": "93e41d96"
   },
   "outputs": [
    {
     "data": {
      "text/plain": [
       "order_id                      0\n",
       "user_id                       0\n",
       "order_number                  0\n",
       "order_dow                     0\n",
       "order_hour_of_day             0\n",
       "days_since_prior_order    28817\n",
       "dtype: int64"
      ]
     },
     "execution_count": 51,
     "metadata": {},
     "output_type": "execute_result"
    }
   ],
   "source": [
    "# Encuentra los valores ausentes\n",
    "instacart.isna().sum()"
   ]
  },
  {
   "cell_type": "code",
   "execution_count": 52,
   "id": "166e5a86",
   "metadata": {
    "id": "166e5a86"
   },
   "outputs": [
    {
     "data": {
      "text/html": [
       "<div>\n",
       "<style scoped>\n",
       "    .dataframe tbody tr th:only-of-type {\n",
       "        vertical-align: middle;\n",
       "    }\n",
       "\n",
       "    .dataframe tbody tr th {\n",
       "        vertical-align: top;\n",
       "    }\n",
       "\n",
       "    .dataframe thead th {\n",
       "        text-align: right;\n",
       "    }\n",
       "</style>\n",
       "<table border=\"1\" class=\"dataframe\">\n",
       "  <thead>\n",
       "    <tr style=\"text-align: right;\">\n",
       "      <th></th>\n",
       "      <th>order_id</th>\n",
       "      <th>user_id</th>\n",
       "      <th>order_number</th>\n",
       "      <th>order_dow</th>\n",
       "      <th>order_hour_of_day</th>\n",
       "      <th>days_since_prior_order</th>\n",
       "    </tr>\n",
       "  </thead>\n",
       "  <tbody>\n",
       "    <tr>\n",
       "      <th>28</th>\n",
       "      <td>133707</td>\n",
       "      <td>182261</td>\n",
       "      <td>1</td>\n",
       "      <td>3</td>\n",
       "      <td>10</td>\n",
       "      <td>NaN</td>\n",
       "    </tr>\n",
       "    <tr>\n",
       "      <th>96</th>\n",
       "      <td>787445</td>\n",
       "      <td>25685</td>\n",
       "      <td>1</td>\n",
       "      <td>6</td>\n",
       "      <td>18</td>\n",
       "      <td>NaN</td>\n",
       "    </tr>\n",
       "    <tr>\n",
       "      <th>100</th>\n",
       "      <td>294410</td>\n",
       "      <td>111449</td>\n",
       "      <td>1</td>\n",
       "      <td>0</td>\n",
       "      <td>19</td>\n",
       "      <td>NaN</td>\n",
       "    </tr>\n",
       "    <tr>\n",
       "      <th>103</th>\n",
       "      <td>2869915</td>\n",
       "      <td>123958</td>\n",
       "      <td>1</td>\n",
       "      <td>4</td>\n",
       "      <td>16</td>\n",
       "      <td>NaN</td>\n",
       "    </tr>\n",
       "    <tr>\n",
       "      <th>104</th>\n",
       "      <td>2521921</td>\n",
       "      <td>42286</td>\n",
       "      <td>1</td>\n",
       "      <td>3</td>\n",
       "      <td>18</td>\n",
       "      <td>NaN</td>\n",
       "    </tr>\n",
       "    <tr>\n",
       "      <th>...</th>\n",
       "      <td>...</td>\n",
       "      <td>...</td>\n",
       "      <td>...</td>\n",
       "      <td>...</td>\n",
       "      <td>...</td>\n",
       "      <td>...</td>\n",
       "    </tr>\n",
       "    <tr>\n",
       "      <th>478880</th>\n",
       "      <td>2589657</td>\n",
       "      <td>205028</td>\n",
       "      <td>1</td>\n",
       "      <td>0</td>\n",
       "      <td>16</td>\n",
       "      <td>NaN</td>\n",
       "    </tr>\n",
       "    <tr>\n",
       "      <th>478881</th>\n",
       "      <td>2222353</td>\n",
       "      <td>141211</td>\n",
       "      <td>1</td>\n",
       "      <td>2</td>\n",
       "      <td>13</td>\n",
       "      <td>NaN</td>\n",
       "    </tr>\n",
       "    <tr>\n",
       "      <th>478907</th>\n",
       "      <td>2272807</td>\n",
       "      <td>204154</td>\n",
       "      <td>1</td>\n",
       "      <td>1</td>\n",
       "      <td>15</td>\n",
       "      <td>NaN</td>\n",
       "    </tr>\n",
       "    <tr>\n",
       "      <th>478911</th>\n",
       "      <td>2499542</td>\n",
       "      <td>68810</td>\n",
       "      <td>1</td>\n",
       "      <td>4</td>\n",
       "      <td>19</td>\n",
       "      <td>NaN</td>\n",
       "    </tr>\n",
       "    <tr>\n",
       "      <th>478930</th>\n",
       "      <td>1387033</td>\n",
       "      <td>22496</td>\n",
       "      <td>1</td>\n",
       "      <td>5</td>\n",
       "      <td>14</td>\n",
       "      <td>NaN</td>\n",
       "    </tr>\n",
       "  </tbody>\n",
       "</table>\n",
       "<p>28817 rows × 6 columns</p>\n",
       "</div>"
      ],
      "text/plain": [
       "        order_id  user_id  order_number  order_dow  order_hour_of_day  \\\n",
       "28        133707   182261             1          3                 10   \n",
       "96        787445    25685             1          6                 18   \n",
       "100       294410   111449             1          0                 19   \n",
       "103      2869915   123958             1          4                 16   \n",
       "104      2521921    42286             1          3                 18   \n",
       "...          ...      ...           ...        ...                ...   \n",
       "478880   2589657   205028             1          0                 16   \n",
       "478881   2222353   141211             1          2                 13   \n",
       "478907   2272807   204154             1          1                 15   \n",
       "478911   2499542    68810             1          4                 19   \n",
       "478930   1387033    22496             1          5                 14   \n",
       "\n",
       "        days_since_prior_order  \n",
       "28                         NaN  \n",
       "96                         NaN  \n",
       "100                        NaN  \n",
       "103                        NaN  \n",
       "104                        NaN  \n",
       "...                        ...  \n",
       "478880                     NaN  \n",
       "478881                     NaN  \n",
       "478907                     NaN  \n",
       "478911                     NaN  \n",
       "478930                     NaN  \n",
       "\n",
       "[28817 rows x 6 columns]"
      ]
     },
     "execution_count": 52,
     "metadata": {},
     "output_type": "execute_result"
    }
   ],
   "source": [
    "# ¿Hay algún valor ausente que no sea el primer pedido del cliente?\n",
    "instacart[instacart ['days_since_prior_order'].isna()]"
   ]
  },
  {
   "cell_type": "code",
   "execution_count": 53,
   "id": "6080a018",
   "metadata": {},
   "outputs": [
    {
     "data": {
      "text/plain": [
       "array([1])"
      ]
     },
     "execution_count": 53,
     "metadata": {},
     "output_type": "execute_result"
    }
   ],
   "source": [
    "#se llena los vacios con 0 \n",
    "instacart [instacart ['days_since_prior_order'].isna()] ['order_number'].unique()"
   ]
  },
  {
   "cell_type": "code",
   "execution_count": 54,
   "id": "e0516a06",
   "metadata": {},
   "outputs": [],
   "source": [
    "instacart.fillna(0, inplace = True)"
   ]
  },
  {
   "cell_type": "code",
   "execution_count": 55,
   "id": "7ef33715",
   "metadata": {},
   "outputs": [
    {
     "data": {
      "text/plain": [
       "order_id                  0\n",
       "user_id                   0\n",
       "order_number              0\n",
       "order_dow                 0\n",
       "order_hour_of_day         0\n",
       "days_since_prior_order    0\n",
       "dtype: int64"
      ]
     },
     "execution_count": 55,
     "metadata": {},
     "output_type": "execute_result"
    }
   ],
   "source": [
    "instacart.isna().sum()"
   ]
  },
  {
   "cell_type": "markdown",
   "id": "4e23d089",
   "metadata": {
    "id": "4e23d089"
   },
   "source": [
    "Describe brevemente tus hallazgos y lo que hiciste con ellos.\n",
    "- todos los valores usentes en days_since_prior_order se pueden decir que son validos ya que todos han sido el primer pedido de ese cliente, por lo que no han transcurrido días desde un pedido anterior. Se los llena con 0 para no quedarse con valores ausentes. "
   ]
  },
  {
   "cell_type": "markdown",
   "id": "69dc9ca4",
   "metadata": {
    "id": "69dc9ca4"
   },
   "source": [
    "### `order_products` data frame"
   ]
  },
  {
   "cell_type": "code",
   "execution_count": 56,
   "id": "b8240253",
   "metadata": {
    "id": "b8240253"
   },
   "outputs": [
    {
     "data": {
      "text/plain": [
       "order_id               0\n",
       "product_id             0\n",
       "add_to_cart_order    836\n",
       "reordered              0\n",
       "dtype: int64"
      ]
     },
     "execution_count": 56,
     "metadata": {},
     "output_type": "execute_result"
    }
   ],
   "source": [
    "# Encuentra los valores ausentes\n",
    "orders.isna().sum()"
   ]
  },
  {
   "cell_type": "code",
   "execution_count": 57,
   "id": "7673f53a",
   "metadata": {},
   "outputs": [
    {
     "data": {
      "text/html": [
       "<div>\n",
       "<style scoped>\n",
       "    .dataframe tbody tr th:only-of-type {\n",
       "        vertical-align: middle;\n",
       "    }\n",
       "\n",
       "    .dataframe tbody tr th {\n",
       "        vertical-align: top;\n",
       "    }\n",
       "\n",
       "    .dataframe thead th {\n",
       "        text-align: right;\n",
       "    }\n",
       "</style>\n",
       "<table border=\"1\" class=\"dataframe\">\n",
       "  <thead>\n",
       "    <tr style=\"text-align: right;\">\n",
       "      <th></th>\n",
       "      <th>order_id</th>\n",
       "      <th>product_id</th>\n",
       "      <th>add_to_cart_order</th>\n",
       "      <th>reordered</th>\n",
       "    </tr>\n",
       "  </thead>\n",
       "  <tbody>\n",
       "    <tr>\n",
       "      <th>737</th>\n",
       "      <td>2449164</td>\n",
       "      <td>5068</td>\n",
       "      <td>NaN</td>\n",
       "      <td>0</td>\n",
       "    </tr>\n",
       "    <tr>\n",
       "      <th>9926</th>\n",
       "      <td>1968313</td>\n",
       "      <td>43867</td>\n",
       "      <td>NaN</td>\n",
       "      <td>0</td>\n",
       "    </tr>\n",
       "    <tr>\n",
       "      <th>14394</th>\n",
       "      <td>2926893</td>\n",
       "      <td>11688</td>\n",
       "      <td>NaN</td>\n",
       "      <td>0</td>\n",
       "    </tr>\n",
       "    <tr>\n",
       "      <th>16418</th>\n",
       "      <td>1717990</td>\n",
       "      <td>4142</td>\n",
       "      <td>NaN</td>\n",
       "      <td>0</td>\n",
       "    </tr>\n",
       "    <tr>\n",
       "      <th>30114</th>\n",
       "      <td>1959075</td>\n",
       "      <td>42828</td>\n",
       "      <td>NaN</td>\n",
       "      <td>1</td>\n",
       "    </tr>\n",
       "    <tr>\n",
       "      <th>...</th>\n",
       "      <td>...</td>\n",
       "      <td>...</td>\n",
       "      <td>...</td>\n",
       "      <td>...</td>\n",
       "    </tr>\n",
       "    <tr>\n",
       "      <th>4505662</th>\n",
       "      <td>1800005</td>\n",
       "      <td>7411</td>\n",
       "      <td>NaN</td>\n",
       "      <td>0</td>\n",
       "    </tr>\n",
       "    <tr>\n",
       "      <th>4511400</th>\n",
       "      <td>1633337</td>\n",
       "      <td>260</td>\n",
       "      <td>NaN</td>\n",
       "      <td>0</td>\n",
       "    </tr>\n",
       "    <tr>\n",
       "      <th>4517562</th>\n",
       "      <td>404157</td>\n",
       "      <td>9517</td>\n",
       "      <td>NaN</td>\n",
       "      <td>0</td>\n",
       "    </tr>\n",
       "    <tr>\n",
       "      <th>4534112</th>\n",
       "      <td>1673227</td>\n",
       "      <td>17835</td>\n",
       "      <td>NaN</td>\n",
       "      <td>0</td>\n",
       "    </tr>\n",
       "    <tr>\n",
       "      <th>4535739</th>\n",
       "      <td>1832957</td>\n",
       "      <td>17949</td>\n",
       "      <td>NaN</td>\n",
       "      <td>1</td>\n",
       "    </tr>\n",
       "  </tbody>\n",
       "</table>\n",
       "<p>836 rows × 4 columns</p>\n",
       "</div>"
      ],
      "text/plain": [
       "         order_id  product_id  add_to_cart_order  reordered\n",
       "737       2449164        5068                NaN          0\n",
       "9926      1968313       43867                NaN          0\n",
       "14394     2926893       11688                NaN          0\n",
       "16418     1717990        4142                NaN          0\n",
       "30114     1959075       42828                NaN          1\n",
       "...           ...         ...                ...        ...\n",
       "4505662   1800005        7411                NaN          0\n",
       "4511400   1633337         260                NaN          0\n",
       "4517562    404157        9517                NaN          0\n",
       "4534112   1673227       17835                NaN          0\n",
       "4535739   1832957       17949                NaN          1\n",
       "\n",
       "[836 rows x 4 columns]"
      ]
     },
     "execution_count": 57,
     "metadata": {},
     "output_type": "execute_result"
    }
   ],
   "source": [
    "orders [orders ['add_to_cart_order'].isna()]"
   ]
  },
  {
   "cell_type": "code",
   "execution_count": 58,
   "id": "9a78e5ee",
   "metadata": {
    "id": "9a78e5ee"
   },
   "outputs": [
    {
     "data": {
      "text/plain": [
       "1.0"
      ]
     },
     "execution_count": 58,
     "metadata": {},
     "output_type": "execute_result"
    }
   ],
   "source": [
    "# ¿Cuáles son los valores mínimos y máximos en esta columna?\n",
    "orders ['add_to_cart_order'].min()"
   ]
  },
  {
   "cell_type": "code",
   "execution_count": 59,
   "id": "d63bde22",
   "metadata": {},
   "outputs": [
    {
     "data": {
      "text/plain": [
       "64.0"
      ]
     },
     "execution_count": 59,
     "metadata": {},
     "output_type": "execute_result"
    }
   ],
   "source": [
    "orders ['add_to_cart_order'].max()"
   ]
  },
  {
   "cell_type": "code",
   "execution_count": 60,
   "id": "aa39fcca",
   "metadata": {},
   "outputs": [
    {
     "data": {
      "text/html": [
       "<div>\n",
       "<style scoped>\n",
       "    .dataframe tbody tr th:only-of-type {\n",
       "        vertical-align: middle;\n",
       "    }\n",
       "\n",
       "    .dataframe tbody tr th {\n",
       "        vertical-align: top;\n",
       "    }\n",
       "\n",
       "    .dataframe thead th {\n",
       "        text-align: right;\n",
       "    }\n",
       "</style>\n",
       "<table border=\"1\" class=\"dataframe\">\n",
       "  <thead>\n",
       "    <tr style=\"text-align: right;\">\n",
       "      <th></th>\n",
       "      <th>order_id</th>\n",
       "      <th>product_id</th>\n",
       "      <th>add_to_cart_order</th>\n",
       "      <th>reordered</th>\n",
       "    </tr>\n",
       "  </thead>\n",
       "  <tbody>\n",
       "    <tr>\n",
       "      <th>2215295</th>\n",
       "      <td>2926893</td>\n",
       "      <td>17874</td>\n",
       "      <td>43.0</td>\n",
       "      <td>1</td>\n",
       "    </tr>\n",
       "    <tr>\n",
       "      <th>1118260</th>\n",
       "      <td>2926893</td>\n",
       "      <td>20383</td>\n",
       "      <td>44.0</td>\n",
       "      <td>1</td>\n",
       "    </tr>\n",
       "    <tr>\n",
       "      <th>2383862</th>\n",
       "      <td>2926893</td>\n",
       "      <td>38674</td>\n",
       "      <td>45.0</td>\n",
       "      <td>1</td>\n",
       "    </tr>\n",
       "    <tr>\n",
       "      <th>2343425</th>\n",
       "      <td>2926893</td>\n",
       "      <td>14959</td>\n",
       "      <td>46.0</td>\n",
       "      <td>1</td>\n",
       "    </tr>\n",
       "    <tr>\n",
       "      <th>728163</th>\n",
       "      <td>2926893</td>\n",
       "      <td>2622</td>\n",
       "      <td>47.0</td>\n",
       "      <td>1</td>\n",
       "    </tr>\n",
       "    <tr>\n",
       "      <th>123077</th>\n",
       "      <td>2926893</td>\n",
       "      <td>29565</td>\n",
       "      <td>48.0</td>\n",
       "      <td>1</td>\n",
       "    </tr>\n",
       "    <tr>\n",
       "      <th>3411364</th>\n",
       "      <td>2926893</td>\n",
       "      <td>47626</td>\n",
       "      <td>49.0</td>\n",
       "      <td>1</td>\n",
       "    </tr>\n",
       "    <tr>\n",
       "      <th>2029729</th>\n",
       "      <td>2926893</td>\n",
       "      <td>41621</td>\n",
       "      <td>50.0</td>\n",
       "      <td>1</td>\n",
       "    </tr>\n",
       "    <tr>\n",
       "      <th>2019345</th>\n",
       "      <td>2926893</td>\n",
       "      <td>23049</td>\n",
       "      <td>51.0</td>\n",
       "      <td>1</td>\n",
       "    </tr>\n",
       "    <tr>\n",
       "      <th>3368251</th>\n",
       "      <td>2926893</td>\n",
       "      <td>248</td>\n",
       "      <td>52.0</td>\n",
       "      <td>1</td>\n",
       "    </tr>\n",
       "    <tr>\n",
       "      <th>1623432</th>\n",
       "      <td>2926893</td>\n",
       "      <td>26294</td>\n",
       "      <td>53.0</td>\n",
       "      <td>1</td>\n",
       "    </tr>\n",
       "    <tr>\n",
       "      <th>3169703</th>\n",
       "      <td>2926893</td>\n",
       "      <td>42557</td>\n",
       "      <td>54.0</td>\n",
       "      <td>1</td>\n",
       "    </tr>\n",
       "    <tr>\n",
       "      <th>1822842</th>\n",
       "      <td>2926893</td>\n",
       "      <td>19548</td>\n",
       "      <td>55.0</td>\n",
       "      <td>1</td>\n",
       "    </tr>\n",
       "    <tr>\n",
       "      <th>3708072</th>\n",
       "      <td>2926893</td>\n",
       "      <td>13598</td>\n",
       "      <td>56.0</td>\n",
       "      <td>1</td>\n",
       "    </tr>\n",
       "    <tr>\n",
       "      <th>1936762</th>\n",
       "      <td>2926893</td>\n",
       "      <td>36869</td>\n",
       "      <td>57.0</td>\n",
       "      <td>1</td>\n",
       "    </tr>\n",
       "    <tr>\n",
       "      <th>2606145</th>\n",
       "      <td>2926893</td>\n",
       "      <td>22416</td>\n",
       "      <td>58.0</td>\n",
       "      <td>1</td>\n",
       "    </tr>\n",
       "    <tr>\n",
       "      <th>2375000</th>\n",
       "      <td>2926893</td>\n",
       "      <td>27966</td>\n",
       "      <td>59.0</td>\n",
       "      <td>1</td>\n",
       "    </tr>\n",
       "    <tr>\n",
       "      <th>2020946</th>\n",
       "      <td>2926893</td>\n",
       "      <td>40078</td>\n",
       "      <td>60.0</td>\n",
       "      <td>0</td>\n",
       "    </tr>\n",
       "    <tr>\n",
       "      <th>686427</th>\n",
       "      <td>2926893</td>\n",
       "      <td>10199</td>\n",
       "      <td>61.0</td>\n",
       "      <td>0</td>\n",
       "    </tr>\n",
       "    <tr>\n",
       "      <th>2828865</th>\n",
       "      <td>2926893</td>\n",
       "      <td>2238</td>\n",
       "      <td>62.0</td>\n",
       "      <td>1</td>\n",
       "    </tr>\n",
       "    <tr>\n",
       "      <th>615810</th>\n",
       "      <td>2926893</td>\n",
       "      <td>29780</td>\n",
       "      <td>63.0</td>\n",
       "      <td>1</td>\n",
       "    </tr>\n",
       "    <tr>\n",
       "      <th>3988198</th>\n",
       "      <td>2926893</td>\n",
       "      <td>29419</td>\n",
       "      <td>64.0</td>\n",
       "      <td>0</td>\n",
       "    </tr>\n",
       "    <tr>\n",
       "      <th>14394</th>\n",
       "      <td>2926893</td>\n",
       "      <td>11688</td>\n",
       "      <td>NaN</td>\n",
       "      <td>0</td>\n",
       "    </tr>\n",
       "    <tr>\n",
       "      <th>235998</th>\n",
       "      <td>2926893</td>\n",
       "      <td>4792</td>\n",
       "      <td>NaN</td>\n",
       "      <td>0</td>\n",
       "    </tr>\n",
       "    <tr>\n",
       "      <th>261824</th>\n",
       "      <td>2926893</td>\n",
       "      <td>26629</td>\n",
       "      <td>NaN</td>\n",
       "      <td>0</td>\n",
       "    </tr>\n",
       "    <tr>\n",
       "      <th>491585</th>\n",
       "      <td>2926893</td>\n",
       "      <td>21405</td>\n",
       "      <td>NaN</td>\n",
       "      <td>1</td>\n",
       "    </tr>\n",
       "    <tr>\n",
       "      <th>757127</th>\n",
       "      <td>2926893</td>\n",
       "      <td>34</td>\n",
       "      <td>NaN</td>\n",
       "      <td>0</td>\n",
       "    </tr>\n",
       "    <tr>\n",
       "      <th>814253</th>\n",
       "      <td>2926893</td>\n",
       "      <td>1208</td>\n",
       "      <td>NaN</td>\n",
       "      <td>0</td>\n",
       "    </tr>\n",
       "    <tr>\n",
       "      <th>1091784</th>\n",
       "      <td>2926893</td>\n",
       "      <td>35749</td>\n",
       "      <td>NaN</td>\n",
       "      <td>0</td>\n",
       "    </tr>\n",
       "    <tr>\n",
       "      <th>1133456</th>\n",
       "      <td>2926893</td>\n",
       "      <td>25587</td>\n",
       "      <td>NaN</td>\n",
       "      <td>0</td>\n",
       "    </tr>\n",
       "    <tr>\n",
       "      <th>1356591</th>\n",
       "      <td>2926893</td>\n",
       "      <td>27663</td>\n",
       "      <td>NaN</td>\n",
       "      <td>0</td>\n",
       "    </tr>\n",
       "    <tr>\n",
       "      <th>1513850</th>\n",
       "      <td>2926893</td>\n",
       "      <td>29627</td>\n",
       "      <td>NaN</td>\n",
       "      <td>0</td>\n",
       "    </tr>\n",
       "    <tr>\n",
       "      <th>1930438</th>\n",
       "      <td>2926893</td>\n",
       "      <td>6187</td>\n",
       "      <td>NaN</td>\n",
       "      <td>0</td>\n",
       "    </tr>\n",
       "    <tr>\n",
       "      <th>1938823</th>\n",
       "      <td>2926893</td>\n",
       "      <td>691</td>\n",
       "      <td>NaN</td>\n",
       "      <td>0</td>\n",
       "    </tr>\n",
       "    <tr>\n",
       "      <th>2127506</th>\n",
       "      <td>2926893</td>\n",
       "      <td>34220</td>\n",
       "      <td>NaN</td>\n",
       "      <td>0</td>\n",
       "    </tr>\n",
       "    <tr>\n",
       "      <th>2219826</th>\n",
       "      <td>2926893</td>\n",
       "      <td>19894</td>\n",
       "      <td>NaN</td>\n",
       "      <td>1</td>\n",
       "    </tr>\n",
       "    <tr>\n",
       "      <th>2237273</th>\n",
       "      <td>2926893</td>\n",
       "      <td>2078</td>\n",
       "      <td>NaN</td>\n",
       "      <td>0</td>\n",
       "    </tr>\n",
       "    <tr>\n",
       "      <th>2262201</th>\n",
       "      <td>2926893</td>\n",
       "      <td>8033</td>\n",
       "      <td>NaN</td>\n",
       "      <td>0</td>\n",
       "    </tr>\n",
       "    <tr>\n",
       "      <th>2288299</th>\n",
       "      <td>2926893</td>\n",
       "      <td>45603</td>\n",
       "      <td>NaN</td>\n",
       "      <td>1</td>\n",
       "    </tr>\n",
       "    <tr>\n",
       "      <th>2498644</th>\n",
       "      <td>2926893</td>\n",
       "      <td>5250</td>\n",
       "      <td>NaN</td>\n",
       "      <td>0</td>\n",
       "    </tr>\n",
       "    <tr>\n",
       "      <th>2532565</th>\n",
       "      <td>2926893</td>\n",
       "      <td>21953</td>\n",
       "      <td>NaN</td>\n",
       "      <td>0</td>\n",
       "    </tr>\n",
       "    <tr>\n",
       "      <th>2611006</th>\n",
       "      <td>2926893</td>\n",
       "      <td>8736</td>\n",
       "      <td>NaN</td>\n",
       "      <td>0</td>\n",
       "    </tr>\n",
       "    <tr>\n",
       "      <th>2612611</th>\n",
       "      <td>2926893</td>\n",
       "      <td>42611</td>\n",
       "      <td>NaN</td>\n",
       "      <td>0</td>\n",
       "    </tr>\n",
       "    <tr>\n",
       "      <th>3139038</th>\n",
       "      <td>2926893</td>\n",
       "      <td>20794</td>\n",
       "      <td>NaN</td>\n",
       "      <td>1</td>\n",
       "    </tr>\n",
       "    <tr>\n",
       "      <th>3140858</th>\n",
       "      <td>2926893</td>\n",
       "      <td>34221</td>\n",
       "      <td>NaN</td>\n",
       "      <td>0</td>\n",
       "    </tr>\n",
       "    <tr>\n",
       "      <th>3197335</th>\n",
       "      <td>2926893</td>\n",
       "      <td>22227</td>\n",
       "      <td>NaN</td>\n",
       "      <td>0</td>\n",
       "    </tr>\n",
       "    <tr>\n",
       "      <th>3423291</th>\n",
       "      <td>2926893</td>\n",
       "      <td>44740</td>\n",
       "      <td>NaN</td>\n",
       "      <td>0</td>\n",
       "    </tr>\n",
       "    <tr>\n",
       "      <th>3647758</th>\n",
       "      <td>2926893</td>\n",
       "      <td>33716</td>\n",
       "      <td>NaN</td>\n",
       "      <td>0</td>\n",
       "    </tr>\n",
       "    <tr>\n",
       "      <th>3768802</th>\n",
       "      <td>2926893</td>\n",
       "      <td>33000</td>\n",
       "      <td>NaN</td>\n",
       "      <td>0</td>\n",
       "    </tr>\n",
       "    <tr>\n",
       "      <th>3931006</th>\n",
       "      <td>2926893</td>\n",
       "      <td>6287</td>\n",
       "      <td>NaN</td>\n",
       "      <td>1</td>\n",
       "    </tr>\n",
       "  </tbody>\n",
       "</table>\n",
       "</div>"
      ],
      "text/plain": [
       "         order_id  product_id  add_to_cart_order  reordered\n",
       "2215295   2926893       17874               43.0          1\n",
       "1118260   2926893       20383               44.0          1\n",
       "2383862   2926893       38674               45.0          1\n",
       "2343425   2926893       14959               46.0          1\n",
       "728163    2926893        2622               47.0          1\n",
       "123077    2926893       29565               48.0          1\n",
       "3411364   2926893       47626               49.0          1\n",
       "2029729   2926893       41621               50.0          1\n",
       "2019345   2926893       23049               51.0          1\n",
       "3368251   2926893         248               52.0          1\n",
       "1623432   2926893       26294               53.0          1\n",
       "3169703   2926893       42557               54.0          1\n",
       "1822842   2926893       19548               55.0          1\n",
       "3708072   2926893       13598               56.0          1\n",
       "1936762   2926893       36869               57.0          1\n",
       "2606145   2926893       22416               58.0          1\n",
       "2375000   2926893       27966               59.0          1\n",
       "2020946   2926893       40078               60.0          0\n",
       "686427    2926893       10199               61.0          0\n",
       "2828865   2926893        2238               62.0          1\n",
       "615810    2926893       29780               63.0          1\n",
       "3988198   2926893       29419               64.0          0\n",
       "14394     2926893       11688                NaN          0\n",
       "235998    2926893        4792                NaN          0\n",
       "261824    2926893       26629                NaN          0\n",
       "491585    2926893       21405                NaN          1\n",
       "757127    2926893          34                NaN          0\n",
       "814253    2926893        1208                NaN          0\n",
       "1091784   2926893       35749                NaN          0\n",
       "1133456   2926893       25587                NaN          0\n",
       "1356591   2926893       27663                NaN          0\n",
       "1513850   2926893       29627                NaN          0\n",
       "1930438   2926893        6187                NaN          0\n",
       "1938823   2926893         691                NaN          0\n",
       "2127506   2926893       34220                NaN          0\n",
       "2219826   2926893       19894                NaN          1\n",
       "2237273   2926893        2078                NaN          0\n",
       "2262201   2926893        8033                NaN          0\n",
       "2288299   2926893       45603                NaN          1\n",
       "2498644   2926893        5250                NaN          0\n",
       "2532565   2926893       21953                NaN          0\n",
       "2611006   2926893        8736                NaN          0\n",
       "2612611   2926893       42611                NaN          0\n",
       "3139038   2926893       20794                NaN          1\n",
       "3140858   2926893       34221                NaN          0\n",
       "3197335   2926893       22227                NaN          0\n",
       "3423291   2926893       44740                NaN          0\n",
       "3647758   2926893       33716                NaN          0\n",
       "3768802   2926893       33000                NaN          0\n",
       "3931006   2926893        6287                NaN          1"
      ]
     },
     "execution_count": 60,
     "metadata": {},
     "output_type": "execute_result"
    }
   ],
   "source": [
    "# se comprueba para la orden 2926893 cuales son todos sus valores en add to cart order, se ordena los valores y se muestra el tail (50)\n",
    "orders [orders ['order_id'] == 2926893].sort_values (by = 'add_to_cart_order').tail (50)"
   ]
  },
  {
   "cell_type": "markdown",
   "id": "-Z2Ja215jW78",
   "metadata": {
    "id": "-Z2Ja215jW78"
   },
   "source": [
    "Describe brevemente cuáles son tus hallazgos.\n",
    "- se identifica para esta orden en específico que los valores van de 1 a 64 en la columna add to cart orden y que a partir del 65 ya no se registra el orden de ingreso de los productos. \n",
    "- se debe identificar si eso pasa con todos los NaN"
   ]
  },
  {
   "cell_type": "code",
   "execution_count": 61,
   "id": "ab9d0c2b",
   "metadata": {
    "id": "ab9d0c2b"
   },
   "outputs": [],
   "source": [
    "# Guarda todas las IDs de pedidos que tengan un valor ausente en 'add_to_cart_order', los hago una lista y los ordeno para verlos correctamente.\n",
    "valor_ausente = sorted(list (orders [orders ['add_to_cart_order'].isna()] ['order_id'].unique()))"
   ]
  },
  {
   "cell_type": "code",
   "execution_count": 62,
   "id": "17911858",
   "metadata": {},
   "outputs": [
    {
     "name": "stdout",
     "output_type": "stream",
     "text": [
      "[9310, 61355, 102236, 129627, 165801, 171934, 180546, 264710, 293169, 388234, 404157, 678116, 733526, 747668, 813364, 844733, 854647, 871281, 888470, 903110, 936852, 1021563, 1038146, 1169835, 1183255, 1220886, 1302315, 1308785, 1386261, 1477139, 1529171, 1564093, 1598369, 1625713, 1633337, 1648217, 1673227, 1677118, 1713430, 1717990, 1730767, 1800005, 1832957, 1888628, 1916118, 1959075, 1961723, 1968313, 2094761, 2136777, 2170451, 2256933, 2409109, 2449164, 2470674, 2479011, 2621907, 2625444, 2652650, 2721963, 2729254, 2849370, 2926893, 2979697, 2997021, 2999801, 3125735, 3308010, 3347453, 3383594]\n"
     ]
    }
   ],
   "source": [
    "print (valor_ausente)"
   ]
  },
  {
   "cell_type": "code",
   "execution_count": 63,
   "id": "54c31695",
   "metadata": {
    "id": "54c31695"
   },
   "outputs": [
    {
     "data": {
      "text/plain": [
       "order_id\n",
       "9310        65\n",
       "747668      65\n",
       "1598369     65\n",
       "1677118     65\n",
       "2170451     65\n",
       "          ... \n",
       "1959075     98\n",
       "171934     104\n",
       "2136777    108\n",
       "3308010    115\n",
       "61355      127\n",
       "Name: product_id, Length: 70, dtype: int64"
      ]
     },
     "execution_count": 63,
     "metadata": {},
     "output_type": "execute_result"
    }
   ],
   "source": [
    "# ¿Todos los pedidos con valores ausentes tienen más de 64 productos?\n",
    "# Agrupa todos los pedidos con datos ausentes por su ID de pedido.\n",
    "# Cuenta el número de 'product_id' en cada pedido y revisa el valor mínimo del conteo.\n",
    "orders [orders ['order_id'].isin (valor_ausente)].groupby ('order_id') ['product_id'].count().sort_values()"
   ]
  },
  {
   "cell_type": "markdown",
   "id": "p9V6pddtjglj",
   "metadata": {
    "id": "p9V6pddtjglj"
   },
   "source": [
    "Describe brevemente cuáles son tus hallazgos.\n",
    "- se verifica que el valor mínimo es 65 por lo que se comprueba que todos los productos que fueron ingresados al carrito a partir de la posición 65 presentaron un error y no se registraton correctamente. "
   ]
  },
  {
   "cell_type": "code",
   "execution_count": 64,
   "id": "7a987d08",
   "metadata": {
    "id": "7a987d08"
   },
   "outputs": [],
   "source": [
    "# Remplaza los valores ausentes en la columna 'add_to_cart? con 999 y convierte la columna al tipo entero.\n",
    "orders ['add_to_cart_order'].fillna(999, inplace = True)"
   ]
  },
  {
   "cell_type": "code",
   "execution_count": 65,
   "id": "ef0fb865",
   "metadata": {},
   "outputs": [
    {
     "data": {
      "text/plain": [
       "order_id             0\n",
       "product_id           0\n",
       "add_to_cart_order    0\n",
       "reordered            0\n",
       "dtype: int64"
      ]
     },
     "execution_count": 65,
     "metadata": {},
     "output_type": "execute_result"
    }
   ],
   "source": [
    "orders.isna().sum()"
   ]
  },
  {
   "cell_type": "code",
   "execution_count": 66,
   "id": "3c158778",
   "metadata": {},
   "outputs": [
    {
     "data": {
      "text/plain": [
       "order_id               int64\n",
       "product_id             int64\n",
       "add_to_cart_order    float64\n",
       "reordered              int64\n",
       "dtype: object"
      ]
     },
     "execution_count": 66,
     "metadata": {},
     "output_type": "execute_result"
    }
   ],
   "source": [
    "orders.dtypes"
   ]
  },
  {
   "cell_type": "code",
   "execution_count": 67,
   "id": "d5063a63",
   "metadata": {},
   "outputs": [],
   "source": [
    "orders ['add_to_cart_order'] = orders ['add_to_cart_order'].astype ('int')"
   ]
  },
  {
   "cell_type": "code",
   "execution_count": 68,
   "id": "44542350",
   "metadata": {},
   "outputs": [
    {
     "data": {
      "text/plain": [
       "order_id             int64\n",
       "product_id           int64\n",
       "add_to_cart_order    int64\n",
       "reordered            int64\n",
       "dtype: object"
      ]
     },
     "execution_count": 68,
     "metadata": {},
     "output_type": "execute_result"
    }
   ],
   "source": [
    "orders.dtypes"
   ]
  },
  {
   "cell_type": "markdown",
   "id": "fea4bcc7",
   "metadata": {
    "id": "fea4bcc7"
   },
   "source": [
    "Describe brevemente tus hallazgos y lo que hiciste con ellos.\n",
    "- una vez identificada la razón de los valores ausentes en la columna add to cart order en la que se comprueba que a partir del pedido que ingreso al carrito en la posición 65 se presentó un erros en el sistema y estos no fueron registrados. Al no tener una hora como para saber el orden de los pedidos ingresados y remplazar por sus valores correspondientes, se los reemplaza con 999 para que no causen problema y así completar los valores ausentes para los siguientes análisis. \n",
    "-Ademas se transforma la columna a entero."
   ]
  },
  {
   "cell_type": "markdown",
   "id": "RnplPFY1gSrb",
   "metadata": {
    "id": "RnplPFY1gSrb"
   },
   "source": [
    "## Conclusiones\n",
    "\n",
    "Escribe aquí tus conclusiones intermedias sobre el Paso 2. Preprocesamiento de los datos\n",
    "- es importante siempre que se empieza a trabajar con dataset, limpiarlos de la manera correcta, empezando por veer la información de cada uno, pasar a valores duplicados, aquí se debe identificar la razón de los duplicados y si es conveniente eliminarlos o no. Después de analiza valos ausentes y se debe entender o tratar de encontrar la razón de por qué quedaron ausentes. Una vez que se tenga este análisis se debe rellenar los valores ausentes con valores que no afecten a los cálculos posteriores a realizar.\n"
   ]
  },
  {
   "cell_type": "markdown",
   "id": "UjrOIwTcz3ri",
   "metadata": {
    "id": "UjrOIwTcz3ri"
   },
   "source": [
    "# Paso 3. Análisis de los datos\n",
    "\n",
    "Una vez los datos estén procesados y listos, haz el siguiente análisis:"
   ]
  },
  {
   "cell_type": "markdown",
   "id": "turkish-kidney",
   "metadata": {
    "id": "turkish-kidney"
   },
   "source": [
    "# [A] Fácil (deben completarse todos para aprobar)\n",
    "\n",
    "1. Verifica que los valores en las columnas `'order_hour_of_day'` y `'order_dow'` en la tabla orders sean razonables (es decir, `'order_hour_of_day'` oscile entre 0 y 23 y `'order_dow'` oscile entre 0 y 6).\n",
    "2. Crea un gráfico que muestre el número de personas que hacen pedidos dependiendo de la hora del día.\n",
    "3. Crea un gráfico que muestre qué día de la semana la gente hace sus compras.\n",
    "4. Crea un gráfico que muestre el tiempo que la gente espera hasta hacer su siguiente pedido, y comenta sobre los valores mínimos y máximos."
   ]
  },
  {
   "cell_type": "markdown",
   "id": "short-capability",
   "metadata": {
    "id": "short-capability"
   },
   "source": [
    "### [A1] Verifica que los valores sean sensibles"
   ]
  },
  {
   "cell_type": "code",
   "execution_count": 69,
   "id": "growing-fruit",
   "metadata": {
    "id": "growing-fruit"
   },
   "outputs": [
    {
     "name": "stdout",
     "output_type": "stream",
     "text": [
      "0\n",
      "23\n"
     ]
    }
   ],
   "source": [
    "print (instacart ['order_hour_of_day'].min())\n",
    "print (instacart ['order_hour_of_day'].max())"
   ]
  },
  {
   "cell_type": "code",
   "execution_count": 70,
   "id": "accessory-malaysia",
   "metadata": {
    "id": "accessory-malaysia"
   },
   "outputs": [
    {
     "name": "stdout",
     "output_type": "stream",
     "text": [
      "0\n",
      "6\n"
     ]
    }
   ],
   "source": [
    "print (instacart ['order_dow'].min())\n",
    "print (instacart ['order_dow'].max())"
   ]
  },
  {
   "cell_type": "markdown",
   "id": "hmR2GNQ6lCsX",
   "metadata": {
    "id": "hmR2GNQ6lCsX"
   },
   "source": [
    "Escribe aquí tus conclusiones\n",
    "- se verifica que las horas del día van de 0h a 23h contemplando las 24 horas del día.\n",
    "- se verifica que los días de la semana van de 0 a 6, donde 0 es domingo y 6 sábado, contemplando los 7 días de la semana."
   ]
  },
  {
   "cell_type": "markdown",
   "id": "a6743a70",
   "metadata": {
    "id": "a6743a70"
   },
   "source": [
    "### [A2] Para cada hora del día, ¿cuántas personas hacen órdenes?"
   ]
  },
  {
   "cell_type": "code",
   "execution_count": 71,
   "id": "a36cca27",
   "metadata": {
    "id": "a36cca27"
   },
   "outputs": [],
   "source": [
    "#se agrupa por hora de día y se cuenta la cantidad de personas que han realizado una compra.\n",
    "hora_del_dia = instacart.groupby('order_hour_of_day')['user_id'].count().sort_index()"
   ]
  },
  {
   "cell_type": "code",
   "execution_count": 72,
   "id": "918dc307",
   "metadata": {
    "scrolled": true
   },
   "outputs": [
    {
     "data": {
      "image/png": "[encoded data removed]",
      "text/plain": [
       "<Figure size 640x480 with 1 Axes>"
      ]
     },
     "metadata": {},
     "output_type": "display_data"
    }
   ],
   "source": [
    "hora_del_dia.plot(kind = 'bar', title = 'Cantidad de compras por hora del día', xlabel = 'Hora del día', ylabel = 'Cantidad de ordenes')\n",
    "plt.show()"
   ]
  },
  {
   "cell_type": "markdown",
   "id": "11270eed",
   "metadata": {
    "id": "11270eed"
   },
   "source": [
    "Escribe aquí tus conclusiones\n",
    "- Mediante este grafico se puede decir que entre las 10 am y 4pm es cuando mas personas realizan compras. Se podria decir que esto es durante horario labora, sin embargo no se puede generaizar que para todos los dias de la semana los pedidos se comportan así. \n",
    "- Ademas se puede decir que en la hora del almuerzo se reduce un poco la cantidad de pedidos "
   ]
  },
  {
   "cell_type": "markdown",
   "id": "documented-command",
   "metadata": {
    "id": "documented-command"
   },
   "source": [
    "### [A3] ¿Qué día de la semana compran víveres las personas?"
   ]
  },
  {
   "cell_type": "code",
   "execution_count": 73,
   "id": "chief-digit",
   "metadata": {
    "id": "chief-digit"
   },
   "outputs": [],
   "source": [
    "#se cuentan los valores para saber que día es el que más en repite en las compras\n",
    "dia_de_la_semana = instacart ['order_dow'].value_counts().sort_index()"
   ]
  },
  {
   "cell_type": "code",
   "execution_count": 74,
   "id": "fb4b2ceb",
   "metadata": {},
   "outputs": [
    {
     "data": {
      "image/png": "[encoded data removed]",
      "text/plain": [
       "<Figure size 640x480 with 1 Axes>"
      ]
     },
     "metadata": {},
     "output_type": "display_data"
    }
   ],
   "source": [
    "dia_de_la_semana.plot(kind = 'bar', title = 'Compras por día de la semana', xlabel = \"Días de la semana\", ylabel = \"Cantidad de compras\")\n",
    "plt.show()"
   ]
  },
  {
   "cell_type": "markdown",
   "id": "dominant-lightning",
   "metadata": {
    "id": "dominant-lightning"
   },
   "source": [
    "Escribe aquí tus conclusiones\n",
    "- Según lo que el gráfico \"Compras por día se la semana\" nos dice, el día domingo es el que más compras hace la gente, seguido del día lunes."
   ]
  },
  {
   "cell_type": "markdown",
   "id": "cutting-concert",
   "metadata": {
    "id": "cutting-concert"
   },
   "source": [
    "### [A4] ¿Cuánto tiempo esperan las personas hasta hacer otro pedido? Comenta sobre los valores mínimos y máximos."
   ]
  },
  {
   "cell_type": "code",
   "execution_count": 75,
   "id": "c231f523",
   "metadata": {
    "id": "c231f523"
   },
   "outputs": [],
   "source": [
    "#se cuenta las repeticiones de la cantidad de días que espera una persona para volver a hacer un pedido\n",
    "espera = instacart ['days_since_prior_order'].value_counts()"
   ]
  },
  {
   "cell_type": "code",
   "execution_count": 76,
   "id": "783479fd",
   "metadata": {},
   "outputs": [
    {
     "data": {
      "image/png": "[encoded data removed]",
      "text/plain": [
       "<Figure size 640x480 with 1 Axes>"
      ]
     },
     "metadata": {},
     "output_type": "display_data"
    }
   ],
   "source": [
    "espera.plot(kind = 'bar', title = 'Días esperados hasta realizar nuevo pedido', xlabel  = 'Días esperados', ylabel = 'Cantidad de pedidos')\n",
    "plt.show()"
   ]
  },
  {
   "cell_type": "markdown",
   "id": "discrete-vertex",
   "metadata": {
    "id": "discrete-vertex"
   },
   "source": [
    "Escribe aquí tus conclusiones\n",
    "- El gráfico \"Días esperados hasta realizar nuevo pedido\", nos dice que la mayor cantidad de personas esperan hasta 30 días para volver a hacer un pedido. Esto nos dice que las personas realizan las compras necesarias para abastecerse durante 1 mes entero. \n",
    "- Muy pocos pedidos se realizan después de 26 días, el cual se puede que es el día con menor ocurrencia, podría ser que las compras no le alcanzaron para 1 mes. \n",
    "- Se puede ver también que el 0 es el día con mayor ocurrencia, sin embargo, es importante aclarar que el 0 representa a los clientes que han hecho por primera vez una compra, así como también a los que hicieron una compra el día que se extrajo el dataset, por lo que no es un dato real. "
   ]
  },
  {
   "cell_type": "markdown",
   "id": "tight-staff",
   "metadata": {
    "id": "tight-staff"
   },
   "source": [
    "# [B] Intermedio (deben completarse todos para aprobar)\n",
    "\n",
    "1. ¿Existe alguna diferencia entre las distribuciones `'order_hour_of_day'` de los miércoles y los sábados? Traza gráficos de barra de `'order_hour_of_day'` para ambos días en la misma figura y describe las diferencias que observes.\n",
    "2. Grafica la distribución para el número de órdenes que hacen los clientes (es decir, cuántos clientes hicieron solo 1 pedido, cuántos hicieron 2, cuántos 3, y así sucesivamente...).\n",
    "3. ¿Cuáles son los 20 principales productos que se piden con más frecuencia (muestra su identificación y nombre)?"
   ]
  },
  {
   "cell_type": "markdown",
   "id": "packed-classic",
   "metadata": {
    "id": "packed-classic"
   },
   "source": [
    "### [B1] Diferencia entre miércoles y sábados para  `'order_hour_of_day'`. Traza gráficos de barra para los dos días y describe las diferencias que veas."
   ]
  },
  {
   "cell_type": "code",
   "execution_count": 77,
   "id": "d89b8403",
   "metadata": {
    "id": "d89b8403"
   },
   "outputs": [],
   "source": [
    "#filtrar para el día miércoles y contar las repeticiones de las horas del día en que se hacen pedidos. \n",
    "miercoles = instacart [instacart ['order_dow'] == 3]['order_hour_of_day'].value_counts ().sort_index()"
   ]
  },
  {
   "cell_type": "code",
   "execution_count": 78,
   "id": "94e54e8a",
   "metadata": {
    "id": "94e54e8a"
   },
   "outputs": [],
   "source": [
    "#filtrar para el día sabado y contar las repeticiones de las horas del día en que se hacen pedidos.\n",
    "sabado = instacart [instacart ['order_dow'] == 6]['order_hour_of_day'].value_counts ().sort_index()"
   ]
  },
  {
   "cell_type": "code",
   "execution_count": 79,
   "id": "797c90a8",
   "metadata": {
    "id": "797c90a8"
   },
   "outputs": [],
   "source": [
    "#concatenar las 2 tablas creadas para después hacer un gráfico de esta\n",
    "comparacion = pd.concat ([miercoles, sabado], axis = 1)"
   ]
  },
  {
   "cell_type": "code",
   "execution_count": 80,
   "id": "35bcea30",
   "metadata": {
    "id": "35bcea30"
   },
   "outputs": [
    {
     "data": {
      "text/html": [
       "<div>\n",
       "<style scoped>\n",
       "    .dataframe tbody tr th:only-of-type {\n",
       "        vertical-align: middle;\n",
       "    }\n",
       "\n",
       "    .dataframe tbody tr th {\n",
       "        vertical-align: top;\n",
       "    }\n",
       "\n",
       "    .dataframe thead th {\n",
       "        text-align: right;\n",
       "    }\n",
       "</style>\n",
       "<table border=\"1\" class=\"dataframe\">\n",
       "  <thead>\n",
       "    <tr style=\"text-align: right;\">\n",
       "      <th></th>\n",
       "      <th>Miercoles</th>\n",
       "      <th>Sabado</th>\n",
       "    </tr>\n",
       "  </thead>\n",
       "  <tbody>\n",
       "    <tr>\n",
       "      <th>0</th>\n",
       "      <td>373</td>\n",
       "      <td>464</td>\n",
       "    </tr>\n",
       "    <tr>\n",
       "      <th>1</th>\n",
       "      <td>215</td>\n",
       "      <td>254</td>\n",
       "    </tr>\n",
       "    <tr>\n",
       "      <th>2</th>\n",
       "      <td>106</td>\n",
       "      <td>177</td>\n",
       "    </tr>\n",
       "    <tr>\n",
       "      <th>3</th>\n",
       "      <td>101</td>\n",
       "      <td>125</td>\n",
       "    </tr>\n",
       "    <tr>\n",
       "      <th>4</th>\n",
       "      <td>108</td>\n",
       "      <td>118</td>\n",
       "    </tr>\n",
       "    <tr>\n",
       "      <th>5</th>\n",
       "      <td>170</td>\n",
       "      <td>161</td>\n",
       "    </tr>\n",
       "    <tr>\n",
       "      <th>6</th>\n",
       "      <td>643</td>\n",
       "      <td>451</td>\n",
       "    </tr>\n",
       "    <tr>\n",
       "      <th>7</th>\n",
       "      <td>1732</td>\n",
       "      <td>1619</td>\n",
       "    </tr>\n",
       "    <tr>\n",
       "      <th>8</th>\n",
       "      <td>3125</td>\n",
       "      <td>3246</td>\n",
       "    </tr>\n",
       "    <tr>\n",
       "      <th>9</th>\n",
       "      <td>4490</td>\n",
       "      <td>4311</td>\n",
       "    </tr>\n",
       "    <tr>\n",
       "      <th>10</th>\n",
       "      <td>5026</td>\n",
       "      <td>4919</td>\n",
       "    </tr>\n",
       "    <tr>\n",
       "      <th>11</th>\n",
       "      <td>5004</td>\n",
       "      <td>5116</td>\n",
       "    </tr>\n",
       "    <tr>\n",
       "      <th>12</th>\n",
       "      <td>4688</td>\n",
       "      <td>5132</td>\n",
       "    </tr>\n",
       "    <tr>\n",
       "      <th>13</th>\n",
       "      <td>4674</td>\n",
       "      <td>5323</td>\n",
       "    </tr>\n",
       "    <tr>\n",
       "      <th>14</th>\n",
       "      <td>4774</td>\n",
       "      <td>5375</td>\n",
       "    </tr>\n",
       "    <tr>\n",
       "      <th>15</th>\n",
       "      <td>5163</td>\n",
       "      <td>5188</td>\n",
       "    </tr>\n",
       "    <tr>\n",
       "      <th>16</th>\n",
       "      <td>4976</td>\n",
       "      <td>5029</td>\n",
       "    </tr>\n",
       "    <tr>\n",
       "      <th>17</th>\n",
       "      <td>4175</td>\n",
       "      <td>4295</td>\n",
       "    </tr>\n",
       "    <tr>\n",
       "      <th>18</th>\n",
       "      <td>3463</td>\n",
       "      <td>3338</td>\n",
       "    </tr>\n",
       "    <tr>\n",
       "      <th>19</th>\n",
       "      <td>2652</td>\n",
       "      <td>2610</td>\n",
       "    </tr>\n",
       "    <tr>\n",
       "      <th>20</th>\n",
       "      <td>1917</td>\n",
       "      <td>1847</td>\n",
       "    </tr>\n",
       "    <tr>\n",
       "      <th>21</th>\n",
       "      <td>1450</td>\n",
       "      <td>1473</td>\n",
       "    </tr>\n",
       "    <tr>\n",
       "      <th>22</th>\n",
       "      <td>1154</td>\n",
       "      <td>1185</td>\n",
       "    </tr>\n",
       "    <tr>\n",
       "      <th>23</th>\n",
       "      <td>718</td>\n",
       "      <td>893</td>\n",
       "    </tr>\n",
       "  </tbody>\n",
       "</table>\n",
       "</div>"
      ],
      "text/plain": [
       "    Miercoles  Sabado\n",
       "0         373     464\n",
       "1         215     254\n",
       "2         106     177\n",
       "3         101     125\n",
       "4         108     118\n",
       "5         170     161\n",
       "6         643     451\n",
       "7        1732    1619\n",
       "8        3125    3246\n",
       "9        4490    4311\n",
       "10       5026    4919\n",
       "11       5004    5116\n",
       "12       4688    5132\n",
       "13       4674    5323\n",
       "14       4774    5375\n",
       "15       5163    5188\n",
       "16       4976    5029\n",
       "17       4175    4295\n",
       "18       3463    3338\n",
       "19       2652    2610\n",
       "20       1917    1847\n",
       "21       1450    1473\n",
       "22       1154    1185\n",
       "23        718     893"
      ]
     },
     "execution_count": 80,
     "metadata": {},
     "output_type": "execute_result"
    }
   ],
   "source": [
    "#renombrar las columnas\n",
    "comparacion.columns = ['Miercoles', 'Sabado']\n",
    "comparacion"
   ]
  },
  {
   "cell_type": "code",
   "execution_count": 81,
   "id": "87a25590",
   "metadata": {},
   "outputs": [
    {
     "data": {
      "image/png": "[encoded data removed]",
      "text/plain": [
       "<Figure size 640x480 with 1 Axes>"
      ]
     },
     "metadata": {},
     "output_type": "display_data"
    }
   ],
   "source": [
    "comparacion.plot(kind = 'bar', title = 'Comparación de compras entre miércoles y sabados', xlabel = 'Días de la semana', ylabel = 'Cantidad de ordenes')\n",
    "plt.show()"
   ]
  },
  {
   "cell_type": "markdown",
   "id": "charitable-congo",
   "metadata": {
    "id": "charitable-congo"
   },
   "source": [
    "Escribe aquí tus conclusiones\n",
    "- Al comprar la cantidad de compras entre los días miércoles y sabados, se puede ver que la tendencia general no se mantiene. Para el día sabado, la cantidad de compras va aumentando hasta las 2 de la tarde , a comparación del día miércoles que en el periodo de almuerzo laboral se reduce la cantidad de compras. \n",
    "- Se puede decir que el día sabado se realizan más compras en general."
   ]
  },
  {
   "cell_type": "markdown",
   "id": "e3891143",
   "metadata": {
    "id": "e3891143"
   },
   "source": [
    "### [B2] ¿Cuál es la distribución para el número de pedidos por cliente?"
   ]
  },
  {
   "cell_type": "code",
   "execution_count": 82,
   "id": "d8c26c23",
   "metadata": {
    "id": "d8c26c23"
   },
   "outputs": [
    {
     "data": {
      "text/plain": [
       "1      28817\n",
       "2      28633\n",
       "3      28685\n",
       "4      28703\n",
       "5      25661\n",
       "       ...  \n",
       "96       220\n",
       "97       221\n",
       "98       191\n",
       "99       169\n",
       "100      194\n",
       "Name: order_number, Length: 100, dtype: int64"
      ]
     },
     "execution_count": 82,
     "metadata": {},
     "output_type": "execute_result"
    }
   ],
   "source": [
    "#se cuenta las repeticiones del numero de orden de los clientes.\n",
    "#instacart.groupby('order_number') ['user_id'].count().sort_index() tambien se puede hacer asi\n",
    "pedidos_total = instacart['order_number'].value_counts().sort_index()\n",
    "pedidos_total"
   ]
  },
  {
   "cell_type": "code",
   "execution_count": 83,
   "id": "00e69a66",
   "metadata": {
    "id": "00e69a66"
   },
   "outputs": [
    {
     "data": {
      "image/png": "[encoded data removed]",
      "text/plain": [
       "<Figure size 2000x600 with 1 Axes>"
      ]
     },
     "metadata": {},
     "output_type": "display_data"
    }
   ],
   "source": [
    "pedidos_total.plot(kind = 'bar', \n",
    "                   xlabel = 'Total de pedidos', \n",
    "                   ylabel = 'Numero de clientes', \n",
    "                   title = 'Cantidad de pedidos que han realizado los clientes', \n",
    "                   rot = 50, \n",
    "                   figsize = [20,6])\n",
    "plt.show()"
   ]
  },
  {
   "cell_type": "markdown",
   "id": "d2eff7d5",
   "metadata": {
    "id": "d2eff7d5"
   },
   "source": [
    "Escribe aquí tus conclusiones\n",
    "- A partir de la gráfica se puede ver que la mayor cantidad de personas han realizado entre 1 y 4 pedidos en total, mientras que muy pocas personas han llegado a realizar 100 pedidos. \n",
    "- Se podría pensar que la empresa ha estado atrayendo una gran cantidad de nuevos cleintes en los últimos meses."
   ]
  },
  {
   "cell_type": "markdown",
   "id": "54a0319c",
   "metadata": {
    "id": "54a0319c"
   },
   "source": [
    "### [B3] ¿Cuáles son los 20 productos más populares (muestra su ID y nombre)?"
   ]
  },
  {
   "cell_type": "code",
   "execution_count": 84,
   "id": "exterior-arizona",
   "metadata": {
    "id": "exterior-arizona",
    "scrolled": true
   },
   "outputs": [
    {
     "data": {
      "text/html": [
       "<div>\n",
       "<style scoped>\n",
       "    .dataframe tbody tr th:only-of-type {\n",
       "        vertical-align: middle;\n",
       "    }\n",
       "\n",
       "    .dataframe tbody tr th {\n",
       "        vertical-align: top;\n",
       "    }\n",
       "\n",
       "    .dataframe thead th {\n",
       "        text-align: right;\n",
       "    }\n",
       "</style>\n",
       "<table border=\"1\" class=\"dataframe\">\n",
       "  <thead>\n",
       "    <tr style=\"text-align: right;\">\n",
       "      <th></th>\n",
       "      <th>product_id</th>\n",
       "      <th>veces_comprado</th>\n",
       "    </tr>\n",
       "  </thead>\n",
       "  <tbody>\n",
       "    <tr>\n",
       "      <th>0</th>\n",
       "      <td>24852</td>\n",
       "      <td>66050</td>\n",
       "    </tr>\n",
       "    <tr>\n",
       "      <th>1</th>\n",
       "      <td>13176</td>\n",
       "      <td>53297</td>\n",
       "    </tr>\n",
       "    <tr>\n",
       "      <th>2</th>\n",
       "      <td>21137</td>\n",
       "      <td>37039</td>\n",
       "    </tr>\n",
       "    <tr>\n",
       "      <th>3</th>\n",
       "      <td>21903</td>\n",
       "      <td>33971</td>\n",
       "    </tr>\n",
       "    <tr>\n",
       "      <th>4</th>\n",
       "      <td>47209</td>\n",
       "      <td>29773</td>\n",
       "    </tr>\n",
       "    <tr>\n",
       "      <th>5</th>\n",
       "      <td>47766</td>\n",
       "      <td>24689</td>\n",
       "    </tr>\n",
       "    <tr>\n",
       "      <th>6</th>\n",
       "      <td>47626</td>\n",
       "      <td>21495</td>\n",
       "    </tr>\n",
       "    <tr>\n",
       "      <th>7</th>\n",
       "      <td>16797</td>\n",
       "      <td>20018</td>\n",
       "    </tr>\n",
       "    <tr>\n",
       "      <th>8</th>\n",
       "      <td>26209</td>\n",
       "      <td>19690</td>\n",
       "    </tr>\n",
       "    <tr>\n",
       "      <th>9</th>\n",
       "      <td>27845</td>\n",
       "      <td>19600</td>\n",
       "    </tr>\n",
       "    <tr>\n",
       "      <th>10</th>\n",
       "      <td>27966</td>\n",
       "      <td>19197</td>\n",
       "    </tr>\n",
       "    <tr>\n",
       "      <th>11</th>\n",
       "      <td>22935</td>\n",
       "      <td>15898</td>\n",
       "    </tr>\n",
       "    <tr>\n",
       "      <th>12</th>\n",
       "      <td>24964</td>\n",
       "      <td>15292</td>\n",
       "    </tr>\n",
       "    <tr>\n",
       "      <th>13</th>\n",
       "      <td>45007</td>\n",
       "      <td>14584</td>\n",
       "    </tr>\n",
       "    <tr>\n",
       "      <th>14</th>\n",
       "      <td>39275</td>\n",
       "      <td>13879</td>\n",
       "    </tr>\n",
       "    <tr>\n",
       "      <th>15</th>\n",
       "      <td>49683</td>\n",
       "      <td>13675</td>\n",
       "    </tr>\n",
       "    <tr>\n",
       "      <th>16</th>\n",
       "      <td>28204</td>\n",
       "      <td>12544</td>\n",
       "    </tr>\n",
       "    <tr>\n",
       "      <th>17</th>\n",
       "      <td>5876</td>\n",
       "      <td>12232</td>\n",
       "    </tr>\n",
       "    <tr>\n",
       "      <th>18</th>\n",
       "      <td>8277</td>\n",
       "      <td>11993</td>\n",
       "    </tr>\n",
       "    <tr>\n",
       "      <th>19</th>\n",
       "      <td>40706</td>\n",
       "      <td>11781</td>\n",
       "    </tr>\n",
       "  </tbody>\n",
       "</table>\n",
       "</div>"
      ],
      "text/plain": [
       "    product_id  veces_comprado\n",
       "0        24852           66050\n",
       "1        13176           53297\n",
       "2        21137           37039\n",
       "3        21903           33971\n",
       "4        47209           29773\n",
       "5        47766           24689\n",
       "6        47626           21495\n",
       "7        16797           20018\n",
       "8        26209           19690\n",
       "9        27845           19600\n",
       "10       27966           19197\n",
       "11       22935           15898\n",
       "12       24964           15292\n",
       "13       45007           14584\n",
       "14       39275           13879\n",
       "15       49683           13675\n",
       "16       28204           12544\n",
       "17        5876           12232\n",
       "18        8277           11993\n",
       "19       40706           11781"
      ]
     },
     "execution_count": 84,
     "metadata": {},
     "output_type": "execute_result"
    }
   ],
   "source": [
    "#contar cuantas veces se ha pedido un producto y mostrar los 20 mas populares, trasformar a Dataframe y dar nombre a las columnas\n",
    "pop = orders ['product_id'].value_counts().head(20)\n",
    "populares = pop.reset_index()\n",
    "populares.columns = ['product_id', 'veces_comprado']\n",
    "populares"
   ]
  },
  {
   "cell_type": "code",
   "execution_count": 85,
   "id": "universal-facial",
   "metadata": {
    "id": "universal-facial"
   },
   "outputs": [
    {
     "data": {
      "text/html": [
       "<div>\n",
       "<style scoped>\n",
       "    .dataframe tbody tr th:only-of-type {\n",
       "        vertical-align: middle;\n",
       "    }\n",
       "\n",
       "    .dataframe tbody tr th {\n",
       "        vertical-align: top;\n",
       "    }\n",
       "\n",
       "    .dataframe thead th {\n",
       "        text-align: right;\n",
       "    }\n",
       "</style>\n",
       "<table border=\"1\" class=\"dataframe\">\n",
       "  <thead>\n",
       "    <tr style=\"text-align: right;\">\n",
       "      <th></th>\n",
       "      <th>product_id</th>\n",
       "      <th>product_name_lower</th>\n",
       "    </tr>\n",
       "  </thead>\n",
       "  <tbody>\n",
       "    <tr>\n",
       "      <th>0</th>\n",
       "      <td>1</td>\n",
       "      <td>chocolate sandwich cookies</td>\n",
       "    </tr>\n",
       "    <tr>\n",
       "      <th>1</th>\n",
       "      <td>2</td>\n",
       "      <td>all-seasons salt</td>\n",
       "    </tr>\n",
       "    <tr>\n",
       "      <th>2</th>\n",
       "      <td>3</td>\n",
       "      <td>robust golden unsweetened oolong tea</td>\n",
       "    </tr>\n",
       "    <tr>\n",
       "      <th>3</th>\n",
       "      <td>4</td>\n",
       "      <td>smart ones classic favorites mini rigatoni wit...</td>\n",
       "    </tr>\n",
       "    <tr>\n",
       "      <th>4</th>\n",
       "      <td>5</td>\n",
       "      <td>green chile anytime sauce</td>\n",
       "    </tr>\n",
       "    <tr>\n",
       "      <th>...</th>\n",
       "      <td>...</td>\n",
       "      <td>...</td>\n",
       "    </tr>\n",
       "    <tr>\n",
       "      <th>49689</th>\n",
       "      <td>49690</td>\n",
       "      <td>high performance energy drink</td>\n",
       "    </tr>\n",
       "    <tr>\n",
       "      <th>49690</th>\n",
       "      <td>49691</td>\n",
       "      <td>original pancake &amp; waffle mix</td>\n",
       "    </tr>\n",
       "    <tr>\n",
       "      <th>49691</th>\n",
       "      <td>49692</td>\n",
       "      <td>organic instant oatmeal light maple brown sugar</td>\n",
       "    </tr>\n",
       "    <tr>\n",
       "      <th>49692</th>\n",
       "      <td>49693</td>\n",
       "      <td>spring water body wash</td>\n",
       "    </tr>\n",
       "    <tr>\n",
       "      <th>49693</th>\n",
       "      <td>49694</td>\n",
       "      <td>burrito- steak &amp; cheese</td>\n",
       "    </tr>\n",
       "  </tbody>\n",
       "</table>\n",
       "<p>49694 rows × 2 columns</p>\n",
       "</div>"
      ],
      "text/plain": [
       "       product_id                                 product_name_lower\n",
       "0               1                         chocolate sandwich cookies\n",
       "1               2                                   all-seasons salt\n",
       "2               3               robust golden unsweetened oolong tea\n",
       "3               4  smart ones classic favorites mini rigatoni wit...\n",
       "4               5                          green chile anytime sauce\n",
       "...           ...                                                ...\n",
       "49689       49690                      high performance energy drink\n",
       "49690       49691                      original pancake & waffle mix\n",
       "49691       49692    organic instant oatmeal light maple brown sugar\n",
       "49692       49693                             spring water body wash\n",
       "49693       49694                            burrito- steak & cheese\n",
       "\n",
       "[49694 rows x 2 columns]"
      ]
     },
     "execution_count": 85,
     "metadata": {},
     "output_type": "execute_result"
    }
   ],
   "source": [
    "#seleccionar solo las columnas necesarias de mi tabla products \n",
    "nombres = products [['product_id', 'product_name_lower']]\n",
    "nombres"
   ]
  },
  {
   "cell_type": "code",
   "execution_count": 86,
   "id": "bbcdd20b",
   "metadata": {
    "id": "bbcdd20b"
   },
   "outputs": [
    {
     "data": {
      "text/html": [
       "<div>\n",
       "<style scoped>\n",
       "    .dataframe tbody tr th:only-of-type {\n",
       "        vertical-align: middle;\n",
       "    }\n",
       "\n",
       "    .dataframe tbody tr th {\n",
       "        vertical-align: top;\n",
       "    }\n",
       "\n",
       "    .dataframe thead th {\n",
       "        text-align: right;\n",
       "    }\n",
       "</style>\n",
       "<table border=\"1\" class=\"dataframe\">\n",
       "  <thead>\n",
       "    <tr style=\"text-align: right;\">\n",
       "      <th></th>\n",
       "      <th>product_id</th>\n",
       "      <th>veces_comprado</th>\n",
       "      <th>product_name_lower</th>\n",
       "    </tr>\n",
       "  </thead>\n",
       "  <tbody>\n",
       "    <tr>\n",
       "      <th>0</th>\n",
       "      <td>24852</td>\n",
       "      <td>66050</td>\n",
       "      <td>banana</td>\n",
       "    </tr>\n",
       "    <tr>\n",
       "      <th>1</th>\n",
       "      <td>13176</td>\n",
       "      <td>53297</td>\n",
       "      <td>bag of organic bananas</td>\n",
       "    </tr>\n",
       "    <tr>\n",
       "      <th>2</th>\n",
       "      <td>21137</td>\n",
       "      <td>37039</td>\n",
       "      <td>organic strawberries</td>\n",
       "    </tr>\n",
       "    <tr>\n",
       "      <th>3</th>\n",
       "      <td>21903</td>\n",
       "      <td>33971</td>\n",
       "      <td>organic baby spinach</td>\n",
       "    </tr>\n",
       "    <tr>\n",
       "      <th>4</th>\n",
       "      <td>47209</td>\n",
       "      <td>29773</td>\n",
       "      <td>organic hass avocado</td>\n",
       "    </tr>\n",
       "    <tr>\n",
       "      <th>5</th>\n",
       "      <td>47766</td>\n",
       "      <td>24689</td>\n",
       "      <td>organic avocado</td>\n",
       "    </tr>\n",
       "    <tr>\n",
       "      <th>6</th>\n",
       "      <td>47626</td>\n",
       "      <td>21495</td>\n",
       "      <td>large lemon</td>\n",
       "    </tr>\n",
       "    <tr>\n",
       "      <th>7</th>\n",
       "      <td>16797</td>\n",
       "      <td>20018</td>\n",
       "      <td>strawberries</td>\n",
       "    </tr>\n",
       "    <tr>\n",
       "      <th>8</th>\n",
       "      <td>26209</td>\n",
       "      <td>19690</td>\n",
       "      <td>limes</td>\n",
       "    </tr>\n",
       "    <tr>\n",
       "      <th>9</th>\n",
       "      <td>27845</td>\n",
       "      <td>19600</td>\n",
       "      <td>organic whole milk</td>\n",
       "    </tr>\n",
       "    <tr>\n",
       "      <th>10</th>\n",
       "      <td>27966</td>\n",
       "      <td>19197</td>\n",
       "      <td>organic raspberries</td>\n",
       "    </tr>\n",
       "    <tr>\n",
       "      <th>11</th>\n",
       "      <td>22935</td>\n",
       "      <td>15898</td>\n",
       "      <td>organic yellow onion</td>\n",
       "    </tr>\n",
       "    <tr>\n",
       "      <th>12</th>\n",
       "      <td>24964</td>\n",
       "      <td>15292</td>\n",
       "      <td>organic garlic</td>\n",
       "    </tr>\n",
       "    <tr>\n",
       "      <th>13</th>\n",
       "      <td>45007</td>\n",
       "      <td>14584</td>\n",
       "      <td>organic zucchini</td>\n",
       "    </tr>\n",
       "    <tr>\n",
       "      <th>14</th>\n",
       "      <td>39275</td>\n",
       "      <td>13879</td>\n",
       "      <td>organic blueberries</td>\n",
       "    </tr>\n",
       "    <tr>\n",
       "      <th>15</th>\n",
       "      <td>49683</td>\n",
       "      <td>13675</td>\n",
       "      <td>cucumber kirby</td>\n",
       "    </tr>\n",
       "    <tr>\n",
       "      <th>16</th>\n",
       "      <td>28204</td>\n",
       "      <td>12544</td>\n",
       "      <td>organic fuji apple</td>\n",
       "    </tr>\n",
       "    <tr>\n",
       "      <th>17</th>\n",
       "      <td>5876</td>\n",
       "      <td>12232</td>\n",
       "      <td>organic lemon</td>\n",
       "    </tr>\n",
       "    <tr>\n",
       "      <th>18</th>\n",
       "      <td>8277</td>\n",
       "      <td>11993</td>\n",
       "      <td>apple honeycrisp organic</td>\n",
       "    </tr>\n",
       "    <tr>\n",
       "      <th>19</th>\n",
       "      <td>40706</td>\n",
       "      <td>11781</td>\n",
       "      <td>organic grape tomatoes</td>\n",
       "    </tr>\n",
       "  </tbody>\n",
       "</table>\n",
       "</div>"
      ],
      "text/plain": [
       "    product_id  veces_comprado        product_name_lower\n",
       "0        24852           66050                    banana\n",
       "1        13176           53297    bag of organic bananas\n",
       "2        21137           37039      organic strawberries\n",
       "3        21903           33971      organic baby spinach\n",
       "4        47209           29773      organic hass avocado\n",
       "5        47766           24689           organic avocado\n",
       "6        47626           21495               large lemon\n",
       "7        16797           20018              strawberries\n",
       "8        26209           19690                     limes\n",
       "9        27845           19600        organic whole milk\n",
       "10       27966           19197       organic raspberries\n",
       "11       22935           15898      organic yellow onion\n",
       "12       24964           15292            organic garlic\n",
       "13       45007           14584          organic zucchini\n",
       "14       39275           13879       organic blueberries\n",
       "15       49683           13675            cucumber kirby\n",
       "16       28204           12544        organic fuji apple\n",
       "17        5876           12232             organic lemon\n",
       "18        8277           11993  apple honeycrisp organic\n",
       "19       40706           11781    organic grape tomatoes"
      ]
     },
     "execution_count": 86,
     "metadata": {},
     "output_type": "execute_result"
    }
   ],
   "source": [
    "#se unen las 2 tablas creadas para poder mostrar el product_id con el Product_name\n",
    "_20populares = populares.merge(nombres, on = 'product_id')\n",
    "_20populares"
   ]
  },
  {
   "cell_type": "code",
   "execution_count": 87,
   "id": "d245174a",
   "metadata": {},
   "outputs": [
    {
     "name": "stdout",
     "output_type": "stream",
     "text": [
      "    product_id        product_name_lower\n",
      "0        24852                    banana\n",
      "1        13176    bag of organic bananas\n",
      "2        21137      organic strawberries\n",
      "3        21903      organic baby spinach\n",
      "4        47209      organic hass avocado\n",
      "5        47766           organic avocado\n",
      "6        47626               large lemon\n",
      "7        16797              strawberries\n",
      "8        26209                     limes\n",
      "9        27845        organic whole milk\n",
      "10       27966       organic raspberries\n",
      "11       22935      organic yellow onion\n",
      "12       24964            organic garlic\n",
      "13       45007          organic zucchini\n",
      "14       39275       organic blueberries\n",
      "15       49683            cucumber kirby\n",
      "16       28204        organic fuji apple\n",
      "17        5876             organic lemon\n",
      "18        8277  apple honeycrisp organic\n",
      "19       40706    organic grape tomatoes\n"
     ]
    }
   ],
   "source": [
    "#se elimina a columna veces comprado para que solo se vea lo soliictado \n",
    "print (_20populares.drop ('veces_comprado', axis = 'columns'))"
   ]
  },
  {
   "cell_type": "markdown",
   "id": "7df00f47",
   "metadata": {
    "id": "7df00f47"
   },
   "source": [
    "Escribe aquí tus conclusiones\n",
    "- Se obtienen los 20 productos mas comprados con sus nombres y id. \n",
    "- se puede ver que todos los productos son frutas, legumbres y leche."
   ]
  },
  {
   "cell_type": "markdown",
   "id": "gross-theme",
   "metadata": {
    "id": "gross-theme"
   },
   "source": [
    "# [C] Difícil (deben completarse todos para aprobar)\n",
    "\n",
    "1. ¿Cuántos artículos suelen comprar las personas en un pedido? ¿Cómo es la distribución?\n",
    "2. ¿Cuáles son los 20 principales artículos que vuelven a pedirse con mayor frecuencia (muestra sus nombres e IDs de los productos)?\n",
    "3. Para cada producto, ¿cuál es la tasa de repetición del pedido (número de repeticiones de pedido/total de pedidos?\n",
    "4. Para cada cliente, ¿qué proporción de los productos que pidió ya los había pedido? Calcula la tasa de repetición de pedido para cada usuario en lugar de para cada producto.\n",
    "5. ¿Cuáles son los 20 principales artículos que la gente pone primero en sus carritos (muestra las IDs de los productos, sus nombres, y el número de veces en que fueron el primer artículo en añadirse al carrito)?"
   ]
  },
  {
   "cell_type": "markdown",
   "id": "romantic-deposit",
   "metadata": {
    "id": "romantic-deposit"
   },
   "source": [
    "### [C1] ¿Cuántos artículos compran normalmente las personas en un pedido? ¿Cómo es la distribución?"
   ]
  },
  {
   "cell_type": "code",
   "execution_count": 88,
   "id": "virtual-punch",
   "metadata": {
    "id": "virtual-punch"
   },
   "outputs": [
    {
     "data": {
      "text/plain": [
       "order_id\n",
       "4     13\n",
       "9     15\n",
       "11     5\n",
       "19     3\n",
       "20     8\n",
       "31    10\n",
       "48     8\n",
       "56    10\n",
       "61    12\n",
       "68     9\n",
       "Name: product_id, dtype: int64"
      ]
     },
     "execution_count": 88,
     "metadata": {},
     "output_type": "execute_result"
    }
   ],
   "source": [
    "#se agrupa por order id y se cuentan la cantidad de productos dentro de cada orden \n",
    "articulos = orders.groupby ('order_id')['product_id'].count()\n",
    "articulos.head(10)"
   ]
  },
  {
   "cell_type": "code",
   "execution_count": 89,
   "id": "sensitive-breathing",
   "metadata": {
    "id": "sensitive-breathing",
    "scrolled": true
   },
   "outputs": [
    {
     "data": {
      "text/plain": [
       "count    450046.000000\n",
       "mean         10.098983\n",
       "std           7.540206\n",
       "min           1.000000\n",
       "25%           5.000000\n",
       "50%           8.000000\n",
       "75%          14.000000\n",
       "max         127.000000\n",
       "Name: product_id, dtype: float64"
      ]
     },
     "execution_count": 89,
     "metadata": {},
     "output_type": "execute_result"
    }
   ],
   "source": [
    "#se muestra la descripcion para ver la distribucion solicitada\n",
    "articulos.describe()"
   ]
  },
  {
   "cell_type": "markdown",
   "id": "designed-mortality",
   "metadata": {
    "id": "designed-mortality"
   },
   "source": [
    "Escribe aquí tus conclusiones\n",
    "- En promedio las personas compran 10 articulos por pedido, siendo 1 la menor cantidad de articulos comprados y 127 la mayor cantidad de articulos comprados. "
   ]
  },
  {
   "cell_type": "markdown",
   "id": "5e6b5537",
   "metadata": {
    "id": "5e6b5537"
   },
   "source": [
    "### [C2] ¿Cuáles son los 20 principales artículos que vuelven a pedirse con mayor frecuencia (muestra sus nombres e IDs de los productos)?"
   ]
  },
  {
   "cell_type": "code",
   "execution_count": 90,
   "id": "9374e55a",
   "metadata": {
    "id": "9374e55a"
   },
   "outputs": [
    {
     "data": {
      "text/html": [
       "<div>\n",
       "<style scoped>\n",
       "    .dataframe tbody tr th:only-of-type {\n",
       "        vertical-align: middle;\n",
       "    }\n",
       "\n",
       "    .dataframe tbody tr th {\n",
       "        vertical-align: top;\n",
       "    }\n",
       "\n",
       "    .dataframe thead th {\n",
       "        text-align: right;\n",
       "    }\n",
       "</style>\n",
       "<table border=\"1\" class=\"dataframe\">\n",
       "  <thead>\n",
       "    <tr style=\"text-align: right;\">\n",
       "      <th></th>\n",
       "      <th>order_id</th>\n",
       "      <th>product_id</th>\n",
       "      <th>add_to_cart_order</th>\n",
       "      <th>reordered</th>\n",
       "    </tr>\n",
       "  </thead>\n",
       "  <tbody>\n",
       "    <tr>\n",
       "      <th>1</th>\n",
       "      <td>567889</td>\n",
       "      <td>1560</td>\n",
       "      <td>1</td>\n",
       "      <td>1</td>\n",
       "    </tr>\n",
       "    <tr>\n",
       "      <th>2</th>\n",
       "      <td>2261212</td>\n",
       "      <td>26683</td>\n",
       "      <td>1</td>\n",
       "      <td>1</td>\n",
       "    </tr>\n",
       "    <tr>\n",
       "      <th>3</th>\n",
       "      <td>491251</td>\n",
       "      <td>8670</td>\n",
       "      <td>35</td>\n",
       "      <td>1</td>\n",
       "    </tr>\n",
       "    <tr>\n",
       "      <th>4</th>\n",
       "      <td>2571142</td>\n",
       "      <td>1940</td>\n",
       "      <td>5</td>\n",
       "      <td>1</td>\n",
       "    </tr>\n",
       "    <tr>\n",
       "      <th>5</th>\n",
       "      <td>2456893</td>\n",
       "      <td>21616</td>\n",
       "      <td>4</td>\n",
       "      <td>1</td>\n",
       "    </tr>\n",
       "    <tr>\n",
       "      <th>...</th>\n",
       "      <td>...</td>\n",
       "      <td>...</td>\n",
       "      <td>...</td>\n",
       "      <td>...</td>\n",
       "    </tr>\n",
       "    <tr>\n",
       "      <th>4544999</th>\n",
       "      <td>1622300</td>\n",
       "      <td>24852</td>\n",
       "      <td>1</td>\n",
       "      <td>1</td>\n",
       "    </tr>\n",
       "    <tr>\n",
       "      <th>4545000</th>\n",
       "      <td>1125324</td>\n",
       "      <td>40600</td>\n",
       "      <td>6</td>\n",
       "      <td>1</td>\n",
       "    </tr>\n",
       "    <tr>\n",
       "      <th>4545002</th>\n",
       "      <td>577211</td>\n",
       "      <td>15290</td>\n",
       "      <td>12</td>\n",
       "      <td>1</td>\n",
       "    </tr>\n",
       "    <tr>\n",
       "      <th>4545004</th>\n",
       "      <td>692640</td>\n",
       "      <td>47766</td>\n",
       "      <td>4</td>\n",
       "      <td>1</td>\n",
       "    </tr>\n",
       "    <tr>\n",
       "      <th>4545005</th>\n",
       "      <td>319435</td>\n",
       "      <td>691</td>\n",
       "      <td>8</td>\n",
       "      <td>1</td>\n",
       "    </tr>\n",
       "  </tbody>\n",
       "</table>\n",
       "<p>2683838 rows × 4 columns</p>\n",
       "</div>"
      ],
      "text/plain": [
       "         order_id  product_id  add_to_cart_order  reordered\n",
       "1          567889        1560                  1          1\n",
       "2         2261212       26683                  1          1\n",
       "3          491251        8670                 35          1\n",
       "4         2571142        1940                  5          1\n",
       "5         2456893       21616                  4          1\n",
       "...           ...         ...                ...        ...\n",
       "4544999   1622300       24852                  1          1\n",
       "4545000   1125324       40600                  6          1\n",
       "4545002    577211       15290                 12          1\n",
       "4545004    692640       47766                  4          1\n",
       "4545005    319435         691                  8          1\n",
       "\n",
       "[2683838 rows x 4 columns]"
      ]
     },
     "execution_count": 90,
     "metadata": {},
     "output_type": "execute_result"
    }
   ],
   "source": [
    "#filtro los productos que han sido recomprados \n",
    "recompra = orders [orders ['reordered'] == 1]\n",
    "recompra"
   ]
  },
  {
   "cell_type": "code",
   "execution_count": 91,
   "id": "possible-change",
   "metadata": {
    "id": "possible-change",
    "scrolled": true
   },
   "outputs": [
    {
     "data": {
      "text/html": [
       "<div>\n",
       "<style scoped>\n",
       "    .dataframe tbody tr th:only-of-type {\n",
       "        vertical-align: middle;\n",
       "    }\n",
       "\n",
       "    .dataframe tbody tr th {\n",
       "        vertical-align: top;\n",
       "    }\n",
       "\n",
       "    .dataframe thead th {\n",
       "        text-align: right;\n",
       "    }\n",
       "</style>\n",
       "<table border=\"1\" class=\"dataframe\">\n",
       "  <thead>\n",
       "    <tr style=\"text-align: right;\">\n",
       "      <th></th>\n",
       "      <th>product_id</th>\n",
       "      <th>total_recomprado</th>\n",
       "    </tr>\n",
       "  </thead>\n",
       "  <tbody>\n",
       "    <tr>\n",
       "      <th>0</th>\n",
       "      <td>24852</td>\n",
       "      <td>55763</td>\n",
       "    </tr>\n",
       "    <tr>\n",
       "      <th>1</th>\n",
       "      <td>13176</td>\n",
       "      <td>44450</td>\n",
       "    </tr>\n",
       "    <tr>\n",
       "      <th>2</th>\n",
       "      <td>21137</td>\n",
       "      <td>28639</td>\n",
       "    </tr>\n",
       "    <tr>\n",
       "      <th>3</th>\n",
       "      <td>21903</td>\n",
       "      <td>26233</td>\n",
       "    </tr>\n",
       "    <tr>\n",
       "      <th>4</th>\n",
       "      <td>47209</td>\n",
       "      <td>23629</td>\n",
       "    </tr>\n",
       "    <tr>\n",
       "      <th>5</th>\n",
       "      <td>47766</td>\n",
       "      <td>18743</td>\n",
       "    </tr>\n",
       "    <tr>\n",
       "      <th>6</th>\n",
       "      <td>27845</td>\n",
       "      <td>16251</td>\n",
       "    </tr>\n",
       "    <tr>\n",
       "      <th>7</th>\n",
       "      <td>47626</td>\n",
       "      <td>15044</td>\n",
       "    </tr>\n",
       "    <tr>\n",
       "      <th>8</th>\n",
       "      <td>27966</td>\n",
       "      <td>14748</td>\n",
       "    </tr>\n",
       "    <tr>\n",
       "      <th>9</th>\n",
       "      <td>16797</td>\n",
       "      <td>13945</td>\n",
       "    </tr>\n",
       "    <tr>\n",
       "      <th>10</th>\n",
       "      <td>26209</td>\n",
       "      <td>13327</td>\n",
       "    </tr>\n",
       "    <tr>\n",
       "      <th>11</th>\n",
       "      <td>22935</td>\n",
       "      <td>11145</td>\n",
       "    </tr>\n",
       "    <tr>\n",
       "      <th>12</th>\n",
       "      <td>24964</td>\n",
       "      <td>10411</td>\n",
       "    </tr>\n",
       "    <tr>\n",
       "      <th>13</th>\n",
       "      <td>45007</td>\n",
       "      <td>10076</td>\n",
       "    </tr>\n",
       "    <tr>\n",
       "      <th>14</th>\n",
       "      <td>49683</td>\n",
       "      <td>9538</td>\n",
       "    </tr>\n",
       "    <tr>\n",
       "      <th>15</th>\n",
       "      <td>28204</td>\n",
       "      <td>8989</td>\n",
       "    </tr>\n",
       "    <tr>\n",
       "      <th>16</th>\n",
       "      <td>8277</td>\n",
       "      <td>8836</td>\n",
       "    </tr>\n",
       "    <tr>\n",
       "      <th>17</th>\n",
       "      <td>39275</td>\n",
       "      <td>8799</td>\n",
       "    </tr>\n",
       "    <tr>\n",
       "      <th>18</th>\n",
       "      <td>5876</td>\n",
       "      <td>8412</td>\n",
       "    </tr>\n",
       "    <tr>\n",
       "      <th>19</th>\n",
       "      <td>49235</td>\n",
       "      <td>8389</td>\n",
       "    </tr>\n",
       "  </tbody>\n",
       "</table>\n",
       "</div>"
      ],
      "text/plain": [
       "    product_id  total_recomprado\n",
       "0        24852             55763\n",
       "1        13176             44450\n",
       "2        21137             28639\n",
       "3        21903             26233\n",
       "4        47209             23629\n",
       "5        47766             18743\n",
       "6        27845             16251\n",
       "7        47626             15044\n",
       "8        27966             14748\n",
       "9        16797             13945\n",
       "10       26209             13327\n",
       "11       22935             11145\n",
       "12       24964             10411\n",
       "13       45007             10076\n",
       "14       49683              9538\n",
       "15       28204              8989\n",
       "16        8277              8836\n",
       "17       39275              8799\n",
       "18        5876              8412\n",
       "19       49235              8389"
      ]
     },
     "execution_count": 91,
     "metadata": {},
     "output_type": "execute_result"
    }
   ],
   "source": [
    "#Creo un nuevo dataframe donde ya se encuentran los 20 prodcutos que mas se han recomprado\n",
    "compra = recompra.groupby ('product_id')['reordered'].count().sort_values(ascending = False).head(20)\n",
    "recompra2 = compra.reset_index()\n",
    "recompra2.columns = ['product_id', 'total_recomprado']\n",
    "recompra2"
   ]
  },
  {
   "cell_type": "code",
   "execution_count": 92,
   "id": "professional-surfing",
   "metadata": {
    "id": "professional-surfing",
    "scrolled": true
   },
   "outputs": [
    {
     "data": {
      "text/html": [
       "<div>\n",
       "<style scoped>\n",
       "    .dataframe tbody tr th:only-of-type {\n",
       "        vertical-align: middle;\n",
       "    }\n",
       "\n",
       "    .dataframe tbody tr th {\n",
       "        vertical-align: top;\n",
       "    }\n",
       "\n",
       "    .dataframe thead th {\n",
       "        text-align: right;\n",
       "    }\n",
       "</style>\n",
       "<table border=\"1\" class=\"dataframe\">\n",
       "  <thead>\n",
       "    <tr style=\"text-align: right;\">\n",
       "      <th></th>\n",
       "      <th>product_id</th>\n",
       "      <th>total_recomprado</th>\n",
       "      <th>product_name_lower</th>\n",
       "    </tr>\n",
       "  </thead>\n",
       "  <tbody>\n",
       "    <tr>\n",
       "      <th>0</th>\n",
       "      <td>24852</td>\n",
       "      <td>55763</td>\n",
       "      <td>banana</td>\n",
       "    </tr>\n",
       "    <tr>\n",
       "      <th>1</th>\n",
       "      <td>13176</td>\n",
       "      <td>44450</td>\n",
       "      <td>bag of organic bananas</td>\n",
       "    </tr>\n",
       "    <tr>\n",
       "      <th>2</th>\n",
       "      <td>21137</td>\n",
       "      <td>28639</td>\n",
       "      <td>organic strawberries</td>\n",
       "    </tr>\n",
       "    <tr>\n",
       "      <th>3</th>\n",
       "      <td>21903</td>\n",
       "      <td>26233</td>\n",
       "      <td>organic baby spinach</td>\n",
       "    </tr>\n",
       "    <tr>\n",
       "      <th>4</th>\n",
       "      <td>47209</td>\n",
       "      <td>23629</td>\n",
       "      <td>organic hass avocado</td>\n",
       "    </tr>\n",
       "    <tr>\n",
       "      <th>5</th>\n",
       "      <td>47766</td>\n",
       "      <td>18743</td>\n",
       "      <td>organic avocado</td>\n",
       "    </tr>\n",
       "    <tr>\n",
       "      <th>6</th>\n",
       "      <td>27845</td>\n",
       "      <td>16251</td>\n",
       "      <td>organic whole milk</td>\n",
       "    </tr>\n",
       "    <tr>\n",
       "      <th>7</th>\n",
       "      <td>47626</td>\n",
       "      <td>15044</td>\n",
       "      <td>large lemon</td>\n",
       "    </tr>\n",
       "    <tr>\n",
       "      <th>8</th>\n",
       "      <td>27966</td>\n",
       "      <td>14748</td>\n",
       "      <td>organic raspberries</td>\n",
       "    </tr>\n",
       "    <tr>\n",
       "      <th>9</th>\n",
       "      <td>16797</td>\n",
       "      <td>13945</td>\n",
       "      <td>strawberries</td>\n",
       "    </tr>\n",
       "    <tr>\n",
       "      <th>10</th>\n",
       "      <td>26209</td>\n",
       "      <td>13327</td>\n",
       "      <td>limes</td>\n",
       "    </tr>\n",
       "    <tr>\n",
       "      <th>11</th>\n",
       "      <td>22935</td>\n",
       "      <td>11145</td>\n",
       "      <td>organic yellow onion</td>\n",
       "    </tr>\n",
       "    <tr>\n",
       "      <th>12</th>\n",
       "      <td>24964</td>\n",
       "      <td>10411</td>\n",
       "      <td>organic garlic</td>\n",
       "    </tr>\n",
       "    <tr>\n",
       "      <th>13</th>\n",
       "      <td>45007</td>\n",
       "      <td>10076</td>\n",
       "      <td>organic zucchini</td>\n",
       "    </tr>\n",
       "    <tr>\n",
       "      <th>14</th>\n",
       "      <td>49683</td>\n",
       "      <td>9538</td>\n",
       "      <td>cucumber kirby</td>\n",
       "    </tr>\n",
       "    <tr>\n",
       "      <th>15</th>\n",
       "      <td>28204</td>\n",
       "      <td>8989</td>\n",
       "      <td>organic fuji apple</td>\n",
       "    </tr>\n",
       "    <tr>\n",
       "      <th>16</th>\n",
       "      <td>8277</td>\n",
       "      <td>8836</td>\n",
       "      <td>apple honeycrisp organic</td>\n",
       "    </tr>\n",
       "    <tr>\n",
       "      <th>17</th>\n",
       "      <td>39275</td>\n",
       "      <td>8799</td>\n",
       "      <td>organic blueberries</td>\n",
       "    </tr>\n",
       "    <tr>\n",
       "      <th>18</th>\n",
       "      <td>5876</td>\n",
       "      <td>8412</td>\n",
       "      <td>organic lemon</td>\n",
       "    </tr>\n",
       "    <tr>\n",
       "      <th>19</th>\n",
       "      <td>49235</td>\n",
       "      <td>8389</td>\n",
       "      <td>organic half &amp; half</td>\n",
       "    </tr>\n",
       "  </tbody>\n",
       "</table>\n",
       "</div>"
      ],
      "text/plain": [
       "    product_id  total_recomprado        product_name_lower\n",
       "0        24852             55763                    banana\n",
       "1        13176             44450    bag of organic bananas\n",
       "2        21137             28639      organic strawberries\n",
       "3        21903             26233      organic baby spinach\n",
       "4        47209             23629      organic hass avocado\n",
       "5        47766             18743           organic avocado\n",
       "6        27845             16251        organic whole milk\n",
       "7        47626             15044               large lemon\n",
       "8        27966             14748       organic raspberries\n",
       "9        16797             13945              strawberries\n",
       "10       26209             13327                     limes\n",
       "11       22935             11145      organic yellow onion\n",
       "12       24964             10411            organic garlic\n",
       "13       45007             10076          organic zucchini\n",
       "14       49683              9538            cucumber kirby\n",
       "15       28204              8989        organic fuji apple\n",
       "16        8277              8836  apple honeycrisp organic\n",
       "17       39275              8799       organic blueberries\n",
       "18        5876              8412             organic lemon\n",
       "19       49235              8389       organic half & half"
      ]
     },
     "execution_count": 92,
     "metadata": {},
     "output_type": "execute_result"
    }
   ],
   "source": [
    "#uno con mi tabla nombres creada anteriormente para mostar el nombre del producto con el id\n",
    "recompra3 = recompra2.merge(nombres, on = 'product_id')\n",
    "recompra3"
   ]
  },
  {
   "cell_type": "code",
   "execution_count": 93,
   "id": "48dd3658",
   "metadata": {
    "id": "48dd3658"
   },
   "outputs": [
    {
     "name": "stdout",
     "output_type": "stream",
     "text": [
      "    product_id        product_name_lower\n",
      "0        24852                    banana\n",
      "1        13176    bag of organic bananas\n",
      "2        21137      organic strawberries\n",
      "3        21903      organic baby spinach\n",
      "4        47209      organic hass avocado\n",
      "5        47766           organic avocado\n",
      "6        27845        organic whole milk\n",
      "7        47626               large lemon\n",
      "8        27966       organic raspberries\n",
      "9        16797              strawberries\n",
      "10       26209                     limes\n",
      "11       22935      organic yellow onion\n",
      "12       24964            organic garlic\n",
      "13       45007          organic zucchini\n",
      "14       49683            cucumber kirby\n",
      "15       28204        organic fuji apple\n",
      "16        8277  apple honeycrisp organic\n",
      "17       39275       organic blueberries\n",
      "18        5876             organic lemon\n",
      "19       49235       organic half & half\n"
     ]
    }
   ],
   "source": [
    "print (recompra3.drop('total_recomprado', axis = 'columns'))"
   ]
  },
  {
   "cell_type": "markdown",
   "id": "80e70c74",
   "metadata": {
    "id": "80e70c74"
   },
   "source": [
    "Escribe aquí tus conclusiones\n",
    "- se presentan los 20 productos que mas veces se piden. \n",
    "- al comprarar con los 20 producos mas populares, se puede ver que la mayoria son los mismos productos, esto tiene sentido ya que al ser los mas populares (los que mas se compran), tambien quiere decir que con los que mas se han recomprado. "
   ]
  },
  {
   "cell_type": "markdown",
   "id": "9d312b14",
   "metadata": {
    "id": "9d312b14"
   },
   "source": [
    "### [C3] Para cada producto, ¿cuál es la proporción de las veces que se pide y que se vuelve a pedir?"
   ]
  },
  {
   "cell_type": "code",
   "execution_count": 94,
   "id": "8ae9f4b1",
   "metadata": {
    "id": "8ae9f4b1"
   },
   "outputs": [],
   "source": [
    "#combino mis tablas orders y products \n",
    "df_merge = orders.merge(products, on ='product_id')"
   ]
  },
  {
   "cell_type": "code",
   "execution_count": 95,
   "id": "103e7fe1",
   "metadata": {
    "id": "103e7fe1"
   },
   "outputs": [
    {
     "data": {
      "text/plain": [
       "product_id  product_name_lower                                               \n",
       "1           chocolate sandwich cookies                                           0.564286\n",
       "2           all-seasons salt                                                     0.000000\n",
       "3           robust golden unsweetened oolong tea                                 0.738095\n",
       "4           smart ones classic favorites mini rigatoni with vodka cream sauce    0.510204\n",
       "7           pure coconut water with orange                                       0.500000\n",
       "                                                                                   ...   \n",
       "49690       high performance energy drink                                        0.800000\n",
       "49691       original pancake & waffle mix                                        0.430556\n",
       "49692       organic instant oatmeal light maple brown sugar                      0.416667\n",
       "49693       spring water body wash                                               0.440000\n",
       "49694       burrito- steak & cheese                                              0.333333\n",
       "Name: reordered, Length: 45573, dtype: float64"
      ]
     },
     "execution_count": 95,
     "metadata": {},
     "output_type": "execute_result"
    }
   ],
   "source": [
    "#agrupo por el id y nombre del producto y saco la proporcion del reorden y se calcula la media que en este caso da la proporcion\n",
    "tasa_reorder = df_merge.groupby (['product_id', 'product_name_lower'])['reordered'].mean()\n",
    "tasa_reorder"
   ]
  },
  {
   "cell_type": "code",
   "execution_count": 96,
   "id": "social-individual",
   "metadata": {
    "id": "social-individual"
   },
   "outputs": [],
   "source": [
    "#se convierte en  dataframe \n",
    "proporcion = tasa_reorder.reset_index()"
   ]
  },
  {
   "cell_type": "code",
   "execution_count": 97,
   "id": "679e5cb2",
   "metadata": {},
   "outputs": [
    {
     "data": {
      "text/html": [
       "<div>\n",
       "<style scoped>\n",
       "    .dataframe tbody tr th:only-of-type {\n",
       "        vertical-align: middle;\n",
       "    }\n",
       "\n",
       "    .dataframe tbody tr th {\n",
       "        vertical-align: top;\n",
       "    }\n",
       "\n",
       "    .dataframe thead th {\n",
       "        text-align: right;\n",
       "    }\n",
       "</style>\n",
       "<table border=\"1\" class=\"dataframe\">\n",
       "  <thead>\n",
       "    <tr style=\"text-align: right;\">\n",
       "      <th></th>\n",
       "      <th>product_id</th>\n",
       "      <th>product_name_lower</th>\n",
       "      <th>reordered</th>\n",
       "    </tr>\n",
       "  </thead>\n",
       "  <tbody>\n",
       "    <tr>\n",
       "      <th>0</th>\n",
       "      <td>1</td>\n",
       "      <td>chocolate sandwich cookies</td>\n",
       "      <td>0.564286</td>\n",
       "    </tr>\n",
       "    <tr>\n",
       "      <th>1</th>\n",
       "      <td>2</td>\n",
       "      <td>all-seasons salt</td>\n",
       "      <td>0.000000</td>\n",
       "    </tr>\n",
       "    <tr>\n",
       "      <th>2</th>\n",
       "      <td>3</td>\n",
       "      <td>robust golden unsweetened oolong tea</td>\n",
       "      <td>0.738095</td>\n",
       "    </tr>\n",
       "    <tr>\n",
       "      <th>3</th>\n",
       "      <td>4</td>\n",
       "      <td>smart ones classic favorites mini rigatoni wit...</td>\n",
       "      <td>0.510204</td>\n",
       "    </tr>\n",
       "    <tr>\n",
       "      <th>4</th>\n",
       "      <td>7</td>\n",
       "      <td>pure coconut water with orange</td>\n",
       "      <td>0.500000</td>\n",
       "    </tr>\n",
       "    <tr>\n",
       "      <th>...</th>\n",
       "      <td>...</td>\n",
       "      <td>...</td>\n",
       "      <td>...</td>\n",
       "    </tr>\n",
       "    <tr>\n",
       "      <th>45568</th>\n",
       "      <td>49690</td>\n",
       "      <td>high performance energy drink</td>\n",
       "      <td>0.800000</td>\n",
       "    </tr>\n",
       "    <tr>\n",
       "      <th>45569</th>\n",
       "      <td>49691</td>\n",
       "      <td>original pancake &amp; waffle mix</td>\n",
       "      <td>0.430556</td>\n",
       "    </tr>\n",
       "    <tr>\n",
       "      <th>45570</th>\n",
       "      <td>49692</td>\n",
       "      <td>organic instant oatmeal light maple brown sugar</td>\n",
       "      <td>0.416667</td>\n",
       "    </tr>\n",
       "    <tr>\n",
       "      <th>45571</th>\n",
       "      <td>49693</td>\n",
       "      <td>spring water body wash</td>\n",
       "      <td>0.440000</td>\n",
       "    </tr>\n",
       "    <tr>\n",
       "      <th>45572</th>\n",
       "      <td>49694</td>\n",
       "      <td>burrito- steak &amp; cheese</td>\n",
       "      <td>0.333333</td>\n",
       "    </tr>\n",
       "  </tbody>\n",
       "</table>\n",
       "<p>45573 rows × 3 columns</p>\n",
       "</div>"
      ],
      "text/plain": [
       "       product_id                                 product_name_lower  \\\n",
       "0               1                         chocolate sandwich cookies   \n",
       "1               2                                   all-seasons salt   \n",
       "2               3               robust golden unsweetened oolong tea   \n",
       "3               4  smart ones classic favorites mini rigatoni wit...   \n",
       "4               7                     pure coconut water with orange   \n",
       "...           ...                                                ...   \n",
       "45568       49690                      high performance energy drink   \n",
       "45569       49691                      original pancake & waffle mix   \n",
       "45570       49692    organic instant oatmeal light maple brown sugar   \n",
       "45571       49693                             spring water body wash   \n",
       "45572       49694                            burrito- steak & cheese   \n",
       "\n",
       "       reordered  \n",
       "0       0.564286  \n",
       "1       0.000000  \n",
       "2       0.738095  \n",
       "3       0.510204  \n",
       "4       0.500000  \n",
       "...          ...  \n",
       "45568   0.800000  \n",
       "45569   0.430556  \n",
       "45570   0.416667  \n",
       "45571   0.440000  \n",
       "45572   0.333333  \n",
       "\n",
       "[45573 rows x 3 columns]"
      ]
     },
     "execution_count": 97,
     "metadata": {},
     "output_type": "execute_result"
    }
   ],
   "source": [
    "#se ordena por product id \n",
    "proporcion.sort_values (by = 'product_id')"
   ]
  },
  {
   "cell_type": "markdown",
   "id": "I10dEIAyldcO",
   "metadata": {
    "id": "I10dEIAyldcO"
   },
   "source": [
    "Escribe aquí tus conclusiones\n",
    "- Se ha calculado la proporcion de reorden de los productos, la cual se puede ver en la tabla proporcion. \n",
    "- una proporcion de reorden alta (cerca a 1) quiere decir que los cliente estan satisfechos con ese producto por eso lo vuelven a pedir como el producto 'high performance energy drink\t' que se puede ver en la tabla que tienen 0.80 de reorden."
   ]
  },
  {
   "cell_type": "markdown",
   "id": "subject-boxing",
   "metadata": {
    "id": "subject-boxing"
   },
   "source": [
    "### [C4] Para cada cliente, ¿qué proporción de sus productos ya los había pedido?"
   ]
  },
  {
   "cell_type": "code",
   "execution_count": 98,
   "id": "medical-couple",
   "metadata": {
    "id": "medical-couple",
    "scrolled": true
   },
   "outputs": [],
   "source": [
    "#uno las tablas de instacart y orders \n",
    "merge = instacart.merge(orders, on='order_id')"
   ]
  },
  {
   "cell_type": "code",
   "execution_count": 99,
   "id": "8892e4b4",
   "metadata": {
    "id": "8892e4b4"
   },
   "outputs": [
    {
     "data": {
      "text/plain": [
       "user_id  product_id\n",
       "2        9681          0.0\n",
       "         12000         0.0\n",
       "         13176         0.0\n",
       "         16589         0.0\n",
       "         20574         0.0\n",
       "                      ... \n",
       "206209   39216         0.0\n",
       "         40992         0.0\n",
       "         41213         1.0\n",
       "         41665         0.0\n",
       "         43961         0.0\n",
       "Name: reordered, Length: 3381866, dtype: float64"
      ]
     },
     "execution_count": 99,
     "metadata": {},
     "output_type": "execute_result"
    }
   ],
   "source": [
    "#agrupo por el userid y id del producto y saco la proporcion del reorden y se calcula la media que en este caso da la proporcion de reorden para cada producto por cliente\n",
    "merge_fil = merge.groupby(['user_id', 'product_id'])['reordered'].mean()\n",
    "merge_fil"
   ]
  },
  {
   "cell_type": "code",
   "execution_count": 100,
   "id": "7929bd00",
   "metadata": {},
   "outputs": [],
   "source": [
    "#reseteo el index para transformar a dataframe\n",
    "merge_fil2 = merge_fil.reset_index()"
   ]
  },
  {
   "cell_type": "code",
   "execution_count": 101,
   "id": "a704479e",
   "metadata": {},
   "outputs": [],
   "source": [
    "#ordeno el dataframe por user_id y proporcion de reorden\n",
    "merge_fil2_sorted = merge_fil2.sort_values(by=['user_id'])"
   ]
  },
  {
   "cell_type": "code",
   "execution_count": 102,
   "id": "2e7da996",
   "metadata": {},
   "outputs": [
    {
     "data": {
      "text/html": [
       "<div>\n",
       "<style scoped>\n",
       "    .dataframe tbody tr th:only-of-type {\n",
       "        vertical-align: middle;\n",
       "    }\n",
       "\n",
       "    .dataframe tbody tr th {\n",
       "        vertical-align: top;\n",
       "    }\n",
       "\n",
       "    .dataframe thead th {\n",
       "        text-align: right;\n",
       "    }\n",
       "</style>\n",
       "<table border=\"1\" class=\"dataframe\">\n",
       "  <thead>\n",
       "    <tr style=\"text-align: right;\">\n",
       "      <th></th>\n",
       "      <th>user_id</th>\n",
       "      <th>product_id</th>\n",
       "      <th>reordered</th>\n",
       "    </tr>\n",
       "  </thead>\n",
       "  <tbody>\n",
       "    <tr>\n",
       "      <th>0</th>\n",
       "      <td>2</td>\n",
       "      <td>9681</td>\n",
       "      <td>0.0</td>\n",
       "    </tr>\n",
       "    <tr>\n",
       "      <th>24</th>\n",
       "      <td>2</td>\n",
       "      <td>49451</td>\n",
       "      <td>0.0</td>\n",
       "    </tr>\n",
       "    <tr>\n",
       "      <th>23</th>\n",
       "      <td>2</td>\n",
       "      <td>48110</td>\n",
       "      <td>0.0</td>\n",
       "    </tr>\n",
       "    <tr>\n",
       "      <th>22</th>\n",
       "      <td>2</td>\n",
       "      <td>47766</td>\n",
       "      <td>0.0</td>\n",
       "    </tr>\n",
       "    <tr>\n",
       "      <th>21</th>\n",
       "      <td>2</td>\n",
       "      <td>47209</td>\n",
       "      <td>0.0</td>\n",
       "    </tr>\n",
       "    <tr>\n",
       "      <th>...</th>\n",
       "      <td>...</td>\n",
       "      <td>...</td>\n",
       "      <td>...</td>\n",
       "    </tr>\n",
       "    <tr>\n",
       "      <th>3381843</th>\n",
       "      <td>206209</td>\n",
       "      <td>2295</td>\n",
       "      <td>0.0</td>\n",
       "    </tr>\n",
       "    <tr>\n",
       "      <th>3381842</th>\n",
       "      <td>206209</td>\n",
       "      <td>2280</td>\n",
       "      <td>0.0</td>\n",
       "    </tr>\n",
       "    <tr>\n",
       "      <th>3381841</th>\n",
       "      <td>206209</td>\n",
       "      <td>1979</td>\n",
       "      <td>0.0</td>\n",
       "    </tr>\n",
       "    <tr>\n",
       "      <th>3381852</th>\n",
       "      <td>206209</td>\n",
       "      <td>22713</td>\n",
       "      <td>0.0</td>\n",
       "    </tr>\n",
       "    <tr>\n",
       "      <th>3381865</th>\n",
       "      <td>206209</td>\n",
       "      <td>43961</td>\n",
       "      <td>0.0</td>\n",
       "    </tr>\n",
       "  </tbody>\n",
       "</table>\n",
       "<p>3381866 rows × 3 columns</p>\n",
       "</div>"
      ],
      "text/plain": [
       "         user_id  product_id  reordered\n",
       "0              2        9681        0.0\n",
       "24             2       49451        0.0\n",
       "23             2       48110        0.0\n",
       "22             2       47766        0.0\n",
       "21             2       47209        0.0\n",
       "...          ...         ...        ...\n",
       "3381843   206209        2295        0.0\n",
       "3381842   206209        2280        0.0\n",
       "3381841   206209        1979        0.0\n",
       "3381852   206209       22713        0.0\n",
       "3381865   206209       43961        0.0\n",
       "\n",
       "[3381866 rows x 3 columns]"
      ]
     },
     "execution_count": 102,
     "metadata": {},
     "output_type": "execute_result"
    }
   ],
   "source": [
    "merge_fil2_sorted"
   ]
  },
  {
   "cell_type": "code",
   "execution_count": 103,
   "id": "46ff814d",
   "metadata": {},
   "outputs": [
    {
     "data": {
      "text/plain": [
       "array([0.        , 0.5       , 1.        , 0.66666667, 0.75      ,\n",
       "       0.8       , 0.875     , 0.85714286, 0.9       , 0.83333333,\n",
       "       0.88888889, 0.90909091, 0.91666667, 0.92857143, 0.92307692,\n",
       "       0.93333333, 0.94444444, 0.94117647, 0.9375    , 0.95      ,\n",
       "       0.94736842])"
      ]
     },
     "execution_count": 103,
     "metadata": {},
     "output_type": "execute_result"
    }
   ],
   "source": [
    "merge_fil2_sorted['reordered'].unique()"
   ]
  },
  {
   "cell_type": "markdown",
   "id": "BgJSvXDsleXz",
   "metadata": {
    "id": "BgJSvXDsleXz"
   },
   "source": [
    "Escribe aquí tus conclusiones\n",
    "- Una proporcion de reorden alta quiere decir que el cliente le gusta el producto y  lo compra continuamente, una proporcion baja quiere decir que lo compro y no le gusto o que estaba probando diferentes productos. "
   ]
  },
  {
   "cell_type": "markdown",
   "id": "92d35137",
   "metadata": {
    "id": "92d35137"
   },
   "source": [
    "### [C5] ¿Cuáles son los 20 principales artículos que las personas ponen primero en sus carritos?"
   ]
  },
  {
   "cell_type": "code",
   "execution_count": 107,
   "id": "0ae57274",
   "metadata": {
    "id": "0ae57274",
    "scrolled": true
   },
   "outputs": [
    {
     "data": {
      "text/html": [
       "<div>\n",
       "<style scoped>\n",
       "    .dataframe tbody tr th:only-of-type {\n",
       "        vertical-align: middle;\n",
       "    }\n",
       "\n",
       "    .dataframe tbody tr th {\n",
       "        vertical-align: top;\n",
       "    }\n",
       "\n",
       "    .dataframe thead th {\n",
       "        text-align: right;\n",
       "    }\n",
       "</style>\n",
       "<table border=\"1\" class=\"dataframe\">\n",
       "  <thead>\n",
       "    <tr style=\"text-align: right;\">\n",
       "      <th></th>\n",
       "      <th>order_id</th>\n",
       "      <th>product_id</th>\n",
       "      <th>add_to_cart_order</th>\n",
       "      <th>reordered</th>\n",
       "    </tr>\n",
       "  </thead>\n",
       "  <tbody>\n",
       "    <tr>\n",
       "      <th>1</th>\n",
       "      <td>567889</td>\n",
       "      <td>1560</td>\n",
       "      <td>1</td>\n",
       "      <td>1</td>\n",
       "    </tr>\n",
       "    <tr>\n",
       "      <th>2</th>\n",
       "      <td>2261212</td>\n",
       "      <td>26683</td>\n",
       "      <td>1</td>\n",
       "      <td>1</td>\n",
       "    </tr>\n",
       "    <tr>\n",
       "      <th>14</th>\n",
       "      <td>1961225</td>\n",
       "      <td>37553</td>\n",
       "      <td>1</td>\n",
       "      <td>1</td>\n",
       "    </tr>\n",
       "    <tr>\n",
       "      <th>16</th>\n",
       "      <td>639939</td>\n",
       "      <td>10017</td>\n",
       "      <td>1</td>\n",
       "      <td>1</td>\n",
       "    </tr>\n",
       "    <tr>\n",
       "      <th>23</th>\n",
       "      <td>750040</td>\n",
       "      <td>8518</td>\n",
       "      <td>1</td>\n",
       "      <td>0</td>\n",
       "    </tr>\n",
       "    <tr>\n",
       "      <th>...</th>\n",
       "      <td>...</td>\n",
       "      <td>...</td>\n",
       "      <td>...</td>\n",
       "      <td>...</td>\n",
       "    </tr>\n",
       "    <tr>\n",
       "      <th>4544978</th>\n",
       "      <td>1759009</td>\n",
       "      <td>46175</td>\n",
       "      <td>1</td>\n",
       "      <td>0</td>\n",
       "    </tr>\n",
       "    <tr>\n",
       "      <th>4544989</th>\n",
       "      <td>115427</td>\n",
       "      <td>20842</td>\n",
       "      <td>1</td>\n",
       "      <td>1</td>\n",
       "    </tr>\n",
       "    <tr>\n",
       "      <th>4544990</th>\n",
       "      <td>2049780</td>\n",
       "      <td>28576</td>\n",
       "      <td>1</td>\n",
       "      <td>1</td>\n",
       "    </tr>\n",
       "    <tr>\n",
       "      <th>4544997</th>\n",
       "      <td>2300092</td>\n",
       "      <td>10017</td>\n",
       "      <td>1</td>\n",
       "      <td>0</td>\n",
       "    </tr>\n",
       "    <tr>\n",
       "      <th>4544999</th>\n",
       "      <td>1622300</td>\n",
       "      <td>24852</td>\n",
       "      <td>1</td>\n",
       "      <td>1</td>\n",
       "    </tr>\n",
       "  </tbody>\n",
       "</table>\n",
       "<p>450046 rows × 4 columns</p>\n",
       "</div>"
      ],
      "text/plain": [
       "         order_id  product_id  add_to_cart_order  reordered\n",
       "1          567889        1560                  1          1\n",
       "2         2261212       26683                  1          1\n",
       "14        1961225       37553                  1          1\n",
       "16         639939       10017                  1          1\n",
       "23         750040        8518                  1          0\n",
       "...           ...         ...                ...        ...\n",
       "4544978   1759009       46175                  1          0\n",
       "4544989    115427       20842                  1          1\n",
       "4544990   2049780       28576                  1          1\n",
       "4544997   2300092       10017                  1          0\n",
       "4544999   1622300       24852                  1          1\n",
       "\n",
       "[450046 rows x 4 columns]"
      ]
     },
     "execution_count": 107,
     "metadata": {},
     "output_type": "execute_result"
    }
   ],
   "source": [
    "#filtro por los productos que han sido agregagos en posicion 1\n",
    "principales = orders.query('add_to_cart_order == 1')\n",
    "principales"
   ]
  },
  {
   "cell_type": "code",
   "execution_count": 125,
   "id": "forty-netherlands",
   "metadata": {
    "id": "forty-netherlands",
    "scrolled": true
   },
   "outputs": [],
   "source": [
    "#agrupo por product id y cuento cuantas veces han sido agregados primero \n",
    "prin_ord = principales.groupby('product_id')['add_to_cart_order'].count().sort_values(ascending = False).head(20)"
   ]
  },
  {
   "cell_type": "code",
   "execution_count": 126,
   "id": "ac449ffd",
   "metadata": {},
   "outputs": [
    {
     "data": {
      "text/html": [
       "<div>\n",
       "<style scoped>\n",
       "    .dataframe tbody tr th:only-of-type {\n",
       "        vertical-align: middle;\n",
       "    }\n",
       "\n",
       "    .dataframe tbody tr th {\n",
       "        vertical-align: top;\n",
       "    }\n",
       "\n",
       "    .dataframe thead th {\n",
       "        text-align: right;\n",
       "    }\n",
       "</style>\n",
       "<table border=\"1\" class=\"dataframe\">\n",
       "  <thead>\n",
       "    <tr style=\"text-align: right;\">\n",
       "      <th></th>\n",
       "      <th>product_id</th>\n",
       "      <th>Cantidad_veces_ingresado_1</th>\n",
       "    </tr>\n",
       "  </thead>\n",
       "  <tbody>\n",
       "    <tr>\n",
       "      <th>0</th>\n",
       "      <td>24852</td>\n",
       "      <td>15562</td>\n",
       "    </tr>\n",
       "    <tr>\n",
       "      <th>1</th>\n",
       "      <td>13176</td>\n",
       "      <td>11026</td>\n",
       "    </tr>\n",
       "    <tr>\n",
       "      <th>2</th>\n",
       "      <td>27845</td>\n",
       "      <td>4363</td>\n",
       "    </tr>\n",
       "    <tr>\n",
       "      <th>3</th>\n",
       "      <td>21137</td>\n",
       "      <td>3946</td>\n",
       "    </tr>\n",
       "    <tr>\n",
       "      <th>4</th>\n",
       "      <td>47209</td>\n",
       "      <td>3390</td>\n",
       "    </tr>\n",
       "    <tr>\n",
       "      <th>5</th>\n",
       "      <td>21903</td>\n",
       "      <td>3336</td>\n",
       "    </tr>\n",
       "    <tr>\n",
       "      <th>6</th>\n",
       "      <td>47766</td>\n",
       "      <td>3044</td>\n",
       "    </tr>\n",
       "    <tr>\n",
       "      <th>7</th>\n",
       "      <td>19660</td>\n",
       "      <td>2336</td>\n",
       "    </tr>\n",
       "    <tr>\n",
       "      <th>8</th>\n",
       "      <td>16797</td>\n",
       "      <td>2308</td>\n",
       "    </tr>\n",
       "    <tr>\n",
       "      <th>9</th>\n",
       "      <td>27966</td>\n",
       "      <td>2024</td>\n",
       "    </tr>\n",
       "    <tr>\n",
       "      <th>10</th>\n",
       "      <td>44632</td>\n",
       "      <td>1914</td>\n",
       "    </tr>\n",
       "    <tr>\n",
       "      <th>11</th>\n",
       "      <td>49235</td>\n",
       "      <td>1797</td>\n",
       "    </tr>\n",
       "    <tr>\n",
       "      <th>12</th>\n",
       "      <td>47626</td>\n",
       "      <td>1737</td>\n",
       "    </tr>\n",
       "    <tr>\n",
       "      <th>13</th>\n",
       "      <td>196</td>\n",
       "      <td>1733</td>\n",
       "    </tr>\n",
       "    <tr>\n",
       "      <th>14</th>\n",
       "      <td>38689</td>\n",
       "      <td>1397</td>\n",
       "    </tr>\n",
       "    <tr>\n",
       "      <th>15</th>\n",
       "      <td>26209</td>\n",
       "      <td>1370</td>\n",
       "    </tr>\n",
       "    <tr>\n",
       "      <th>16</th>\n",
       "      <td>12341</td>\n",
       "      <td>1340</td>\n",
       "    </tr>\n",
       "    <tr>\n",
       "      <th>17</th>\n",
       "      <td>5785</td>\n",
       "      <td>1310</td>\n",
       "    </tr>\n",
       "    <tr>\n",
       "      <th>18</th>\n",
       "      <td>27086</td>\n",
       "      <td>1309</td>\n",
       "    </tr>\n",
       "    <tr>\n",
       "      <th>19</th>\n",
       "      <td>43352</td>\n",
       "      <td>1246</td>\n",
       "    </tr>\n",
       "  </tbody>\n",
       "</table>\n",
       "</div>"
      ],
      "text/plain": [
       "    product_id  Cantidad_veces_ingresado_1\n",
       "0        24852                       15562\n",
       "1        13176                       11026\n",
       "2        27845                        4363\n",
       "3        21137                        3946\n",
       "4        47209                        3390\n",
       "5        21903                        3336\n",
       "6        47766                        3044\n",
       "7        19660                        2336\n",
       "8        16797                        2308\n",
       "9        27966                        2024\n",
       "10       44632                        1914\n",
       "11       49235                        1797\n",
       "12       47626                        1737\n",
       "13         196                        1733\n",
       "14       38689                        1397\n",
       "15       26209                        1370\n",
       "16       12341                        1340\n",
       "17        5785                        1310\n",
       "18       27086                        1309\n",
       "19       43352                        1246"
      ]
     },
     "execution_count": 126,
     "metadata": {},
     "output_type": "execute_result"
    }
   ],
   "source": [
    "#creo un dataframe y cambio nombres columnas, muestro los 20 principales\n",
    "orden_agregado = prin_ord.reset_index()\n",
    "orden_agregado.columns = ['product_id', 'Cantidad_veces_ingresado_1']\n",
    "orden_agregado"
   ]
  },
  {
   "cell_type": "code",
   "execution_count": 127,
   "id": "08e41ec2",
   "metadata": {
    "id": "08e41ec2"
   },
   "outputs": [
    {
     "data": {
      "text/html": [
       "<div>\n",
       "<style scoped>\n",
       "    .dataframe tbody tr th:only-of-type {\n",
       "        vertical-align: middle;\n",
       "    }\n",
       "\n",
       "    .dataframe tbody tr th {\n",
       "        vertical-align: top;\n",
       "    }\n",
       "\n",
       "    .dataframe thead th {\n",
       "        text-align: right;\n",
       "    }\n",
       "</style>\n",
       "<table border=\"1\" class=\"dataframe\">\n",
       "  <thead>\n",
       "    <tr style=\"text-align: right;\">\n",
       "      <th></th>\n",
       "      <th>product_id</th>\n",
       "      <th>Cantidad_veces_ingresado_1</th>\n",
       "      <th>product_name_lower</th>\n",
       "    </tr>\n",
       "  </thead>\n",
       "  <tbody>\n",
       "    <tr>\n",
       "      <th>0</th>\n",
       "      <td>24852</td>\n",
       "      <td>15562</td>\n",
       "      <td>banana</td>\n",
       "    </tr>\n",
       "    <tr>\n",
       "      <th>1</th>\n",
       "      <td>13176</td>\n",
       "      <td>11026</td>\n",
       "      <td>bag of organic bananas</td>\n",
       "    </tr>\n",
       "    <tr>\n",
       "      <th>2</th>\n",
       "      <td>27845</td>\n",
       "      <td>4363</td>\n",
       "      <td>organic whole milk</td>\n",
       "    </tr>\n",
       "    <tr>\n",
       "      <th>3</th>\n",
       "      <td>21137</td>\n",
       "      <td>3946</td>\n",
       "      <td>organic strawberries</td>\n",
       "    </tr>\n",
       "    <tr>\n",
       "      <th>4</th>\n",
       "      <td>47209</td>\n",
       "      <td>3390</td>\n",
       "      <td>organic hass avocado</td>\n",
       "    </tr>\n",
       "    <tr>\n",
       "      <th>5</th>\n",
       "      <td>21903</td>\n",
       "      <td>3336</td>\n",
       "      <td>organic baby spinach</td>\n",
       "    </tr>\n",
       "    <tr>\n",
       "      <th>6</th>\n",
       "      <td>47766</td>\n",
       "      <td>3044</td>\n",
       "      <td>organic avocado</td>\n",
       "    </tr>\n",
       "    <tr>\n",
       "      <th>7</th>\n",
       "      <td>19660</td>\n",
       "      <td>2336</td>\n",
       "      <td>spring water</td>\n",
       "    </tr>\n",
       "    <tr>\n",
       "      <th>8</th>\n",
       "      <td>16797</td>\n",
       "      <td>2308</td>\n",
       "      <td>strawberries</td>\n",
       "    </tr>\n",
       "    <tr>\n",
       "      <th>9</th>\n",
       "      <td>27966</td>\n",
       "      <td>2024</td>\n",
       "      <td>organic raspberries</td>\n",
       "    </tr>\n",
       "    <tr>\n",
       "      <th>10</th>\n",
       "      <td>44632</td>\n",
       "      <td>1914</td>\n",
       "      <td>sparkling water grapefruit</td>\n",
       "    </tr>\n",
       "    <tr>\n",
       "      <th>11</th>\n",
       "      <td>49235</td>\n",
       "      <td>1797</td>\n",
       "      <td>organic half &amp; half</td>\n",
       "    </tr>\n",
       "    <tr>\n",
       "      <th>12</th>\n",
       "      <td>47626</td>\n",
       "      <td>1737</td>\n",
       "      <td>large lemon</td>\n",
       "    </tr>\n",
       "    <tr>\n",
       "      <th>13</th>\n",
       "      <td>196</td>\n",
       "      <td>1733</td>\n",
       "      <td>soda</td>\n",
       "    </tr>\n",
       "    <tr>\n",
       "      <th>14</th>\n",
       "      <td>38689</td>\n",
       "      <td>1397</td>\n",
       "      <td>organic reduced fat milk</td>\n",
       "    </tr>\n",
       "    <tr>\n",
       "      <th>15</th>\n",
       "      <td>26209</td>\n",
       "      <td>1370</td>\n",
       "      <td>limes</td>\n",
       "    </tr>\n",
       "    <tr>\n",
       "      <th>16</th>\n",
       "      <td>12341</td>\n",
       "      <td>1340</td>\n",
       "      <td>hass avocados</td>\n",
       "    </tr>\n",
       "    <tr>\n",
       "      <th>17</th>\n",
       "      <td>5785</td>\n",
       "      <td>1310</td>\n",
       "      <td>organic reduced fat 2% milk</td>\n",
       "    </tr>\n",
       "    <tr>\n",
       "      <th>18</th>\n",
       "      <td>27086</td>\n",
       "      <td>1309</td>\n",
       "      <td>half &amp; half</td>\n",
       "    </tr>\n",
       "    <tr>\n",
       "      <th>19</th>\n",
       "      <td>43352</td>\n",
       "      <td>1246</td>\n",
       "      <td>raspberries</td>\n",
       "    </tr>\n",
       "  </tbody>\n",
       "</table>\n",
       "</div>"
      ],
      "text/plain": [
       "    product_id  Cantidad_veces_ingresado_1           product_name_lower\n",
       "0        24852                       15562                       banana\n",
       "1        13176                       11026       bag of organic bananas\n",
       "2        27845                        4363           organic whole milk\n",
       "3        21137                        3946         organic strawberries\n",
       "4        47209                        3390         organic hass avocado\n",
       "5        21903                        3336         organic baby spinach\n",
       "6        47766                        3044              organic avocado\n",
       "7        19660                        2336                 spring water\n",
       "8        16797                        2308                 strawberries\n",
       "9        27966                        2024          organic raspberries\n",
       "10       44632                        1914   sparkling water grapefruit\n",
       "11       49235                        1797          organic half & half\n",
       "12       47626                        1737                  large lemon\n",
       "13         196                        1733                         soda\n",
       "14       38689                        1397     organic reduced fat milk\n",
       "15       26209                        1370                        limes\n",
       "16       12341                        1340                hass avocados\n",
       "17        5785                        1310  organic reduced fat 2% milk\n",
       "18       27086                        1309                  half & half\n",
       "19       43352                        1246                  raspberries"
      ]
     },
     "execution_count": 127,
     "metadata": {},
     "output_type": "execute_result"
    }
   ],
   "source": [
    "#se une con la tabla nombres creada anteriormente para presentar el nombre del producto tambien \n",
    "orden_final = orden_agregado.merge (nombres, on = 'product_id')\n",
    "orden_final"
   ]
  },
  {
   "cell_type": "markdown",
   "id": "28ce9872",
   "metadata": {
    "id": "28ce9872"
   },
   "source": [
    "Escribe aquí tus conclusiones\n",
    "- se pueden ver los 20 principales productos que se agregan primero a los carritos. Se podria decir que son productos de uso diario especilmente pasa desayunos y frutas que por lo general tienen una corta duracion, razon por la cual se los compra mas veces. "
   ]
  },
  {
   "cell_type": "markdown",
   "id": "uITbFCEoDosC",
   "metadata": {
    "id": "uITbFCEoDosC"
   },
   "source": [
    "### Conclusion general del proyecto:"
   ]
  },
  {
   "cell_type": "markdown",
   "id": "132faff3",
   "metadata": {
    "id": "Nk-4GS7mDwqY"
   },
   "source": [
    "- Es sumamente importante limpiar los datos correctamente antes de empezar a analizarlos para evitar respuestas erronesas.\n",
    "- se puede concluir que la gente tiende a comprar mas durante las 10 a 5pm, tanto entre semanan como los fines de semana, pero sus tendencias son diferentes por lo que no se puede generalizar que siempre va a pasar eso. Se deberia analizar tambien dias festivos para ver los comportamiento de compra vs los normales.\n",
    "- lo que mas compra la gente son productos de uso diario para desayunos ya que por lo general tinen corta duracion. \n",
    "- el promedio de articulo comprados en una orden es de 10 productos. \n",
    "- la cantidad de dias que mas espera la gente para volver a comprar son 30 dias, lo que nos da a entender que hace compras para abstecer 1 mes entero.\n",
    "- el producto que mas se compra son las bananas. "
   ]
  }
 ],
 "metadata": {
  "ExecuteTimeLog": [
   {
    "duration": 4600,
    "start_time": "2024-07-31T15:02:21.360Z"
   },
   {
    "duration": 4,
    "start_time": "2024-07-31T15:11:00.372Z"
   },
   {
    "duration": 2821,
    "start_time": "2024-07-31T15:11:01.453Z"
   },
   {
    "duration": 3,
    "start_time": "2024-07-31T15:14:34.097Z"
   },
   {
    "duration": 1626,
    "start_time": "2024-07-31T15:14:35.424Z"
   },
   {
    "duration": 1465,
    "start_time": "2024-07-31T15:15:59.838Z"
   },
   {
    "duration": 313,
    "start_time": "2024-07-31T15:48:01.594Z"
   },
   {
    "duration": 4267,
    "start_time": "2024-07-31T15:48:08.714Z"
   },
   {
    "duration": 1711,
    "start_time": "2024-07-31T15:48:12.984Z"
   },
   {
    "duration": 15,
    "start_time": "2024-07-31T15:48:14.698Z"
   },
   {
    "duration": 68,
    "start_time": "2024-07-31T15:48:44.782Z"
   },
   {
    "duration": 144,
    "start_time": "2024-07-31T15:48:51.204Z"
   },
   {
    "duration": 137,
    "start_time": "2024-07-31T15:48:56.898Z"
   },
   {
    "duration": 12,
    "start_time": "2024-07-31T15:49:07.641Z"
   },
   {
    "duration": 11,
    "start_time": "2024-07-31T15:49:50.945Z"
   },
   {
    "duration": 132,
    "start_time": "2024-07-31T15:50:07.185Z"
   },
   {
    "duration": 16,
    "start_time": "2024-07-31T15:50:27.997Z"
   },
   {
    "duration": 10,
    "start_time": "2024-07-31T16:10:51.820Z"
   },
   {
    "duration": 10,
    "start_time": "2024-07-31T16:11:33.555Z"
   },
   {
    "duration": 21,
    "start_time": "2024-07-31T16:11:46.724Z"
   },
   {
    "duration": 25,
    "start_time": "2024-07-31T16:11:56.643Z"
   },
   {
    "duration": 10,
    "start_time": "2024-07-31T16:13:03.054Z"
   },
   {
    "duration": 26,
    "start_time": "2024-07-31T16:13:11.444Z"
   },
   {
    "duration": 3,
    "start_time": "2024-07-31T16:13:16.220Z"
   },
   {
    "duration": 6,
    "start_time": "2024-07-31T16:13:17.388Z"
   },
   {
    "duration": 15,
    "start_time": "2024-07-31T16:13:26.555Z"
   },
   {
    "duration": 9,
    "start_time": "2024-07-31T16:14:40.951Z"
   },
   {
    "duration": 788,
    "start_time": "2024-07-31T16:15:19.152Z"
   },
   {
    "duration": 6,
    "start_time": "2024-07-31T16:16:39.011Z"
   },
   {
    "duration": 7,
    "start_time": "2024-07-31T16:16:54.539Z"
   },
   {
    "duration": 765,
    "start_time": "2024-07-31T16:17:02.558Z"
   },
   {
    "duration": 8,
    "start_time": "2024-07-31T16:17:58.172Z"
   },
   {
    "duration": 37,
    "start_time": "2024-07-31T16:18:53.795Z"
   },
   {
    "duration": 9,
    "start_time": "2024-07-31T16:19:39.190Z"
   },
   {
    "duration": 22,
    "start_time": "2024-07-31T16:19:50.757Z"
   },
   {
    "duration": 10,
    "start_time": "2024-07-31T16:19:56.633Z"
   },
   {
    "duration": 13,
    "start_time": "2024-07-31T16:20:19.222Z"
   },
   {
    "duration": 14,
    "start_time": "2024-07-31T16:20:35.346Z"
   },
   {
    "duration": 9,
    "start_time": "2024-07-31T16:21:01.816Z"
   },
   {
    "duration": 9,
    "start_time": "2024-07-31T16:21:11.511Z"
   },
   {
    "duration": 9,
    "start_time": "2024-07-31T16:21:22.091Z"
   },
   {
    "duration": 13,
    "start_time": "2024-07-31T16:21:33.638Z"
   },
   {
    "duration": 10,
    "start_time": "2024-07-31T16:32:44.483Z"
   },
   {
    "duration": 6,
    "start_time": "2024-07-31T16:32:49.631Z"
   },
   {
    "duration": 10,
    "start_time": "2024-07-31T16:32:54.150Z"
   },
   {
    "duration": 773,
    "start_time": "2024-07-31T16:33:01.935Z"
   },
   {
    "duration": 25,
    "start_time": "2024-07-31T16:34:17.125Z"
   },
   {
    "duration": 20,
    "start_time": "2024-07-31T16:34:25.095Z"
   },
   {
    "duration": 4,
    "start_time": "2024-07-31T16:35:41.309Z"
   },
   {
    "duration": 3,
    "start_time": "2024-07-31T16:35:59.143Z"
   },
   {
    "duration": 8,
    "start_time": "2024-07-31T16:37:10.275Z"
   },
   {
    "duration": 5,
    "start_time": "2024-08-01T15:35:07.476Z"
   },
   {
    "duration": 358,
    "start_time": "2024-08-01T15:35:49.050Z"
   },
   {
    "duration": 5077,
    "start_time": "2024-08-01T15:36:00.402Z"
   },
   {
    "duration": 2001,
    "start_time": "2024-08-01T15:36:05.484Z"
   },
   {
    "duration": 22,
    "start_time": "2024-08-01T15:36:07.488Z"
   },
   {
    "duration": 15,
    "start_time": "2024-08-01T15:36:07.514Z"
   },
   {
    "duration": 215,
    "start_time": "2024-08-01T15:36:07.531Z"
   },
   {
    "duration": 21,
    "start_time": "2024-08-01T15:36:07.749Z"
   },
   {
    "duration": 10,
    "start_time": "2024-08-01T15:36:07.773Z"
   },
   {
    "duration": 13,
    "start_time": "2024-08-01T15:36:07.810Z"
   },
   {
    "duration": 36,
    "start_time": "2024-08-01T15:36:07.826Z"
   },
   {
    "duration": 55,
    "start_time": "2024-08-01T15:36:07.868Z"
   },
   {
    "duration": 19,
    "start_time": "2024-08-01T15:36:07.928Z"
   },
   {
    "duration": 14,
    "start_time": "2024-08-01T15:36:07.951Z"
   },
   {
    "duration": 1007,
    "start_time": "2024-08-01T15:36:07.969Z"
   },
   {
    "duration": 43,
    "start_time": "2024-08-01T15:36:08.980Z"
   },
   {
    "duration": 10,
    "start_time": "2024-08-01T15:36:09.026Z"
   },
   {
    "duration": 9,
    "start_time": "2024-08-01T15:36:09.039Z"
   },
   {
    "duration": 16,
    "start_time": "2024-08-01T15:36:09.051Z"
   },
   {
    "duration": 43,
    "start_time": "2024-08-01T15:36:09.070Z"
   },
   {
    "duration": 14,
    "start_time": "2024-08-01T15:36:09.117Z"
   },
   {
    "duration": 19,
    "start_time": "2024-08-01T15:36:09.134Z"
   },
   {
    "duration": 216,
    "start_time": "2024-08-01T15:36:09.157Z"
   },
   {
    "duration": 3,
    "start_time": "2024-08-01T15:36:09.376Z"
   },
   {
    "duration": 4,
    "start_time": "2024-08-01T15:36:09.381Z"
   },
   {
    "duration": 4,
    "start_time": "2024-08-01T15:36:09.389Z"
   },
   {
    "duration": 4,
    "start_time": "2024-08-01T15:36:09.408Z"
   },
   {
    "duration": 4,
    "start_time": "2024-08-01T15:36:09.415Z"
   },
   {
    "duration": 4,
    "start_time": "2024-08-01T15:36:09.423Z"
   },
   {
    "duration": 4,
    "start_time": "2024-08-01T15:36:09.439Z"
   },
   {
    "duration": 4,
    "start_time": "2024-08-01T15:36:09.446Z"
   },
   {
    "duration": 3,
    "start_time": "2024-08-01T15:36:09.454Z"
   },
   {
    "duration": 47,
    "start_time": "2024-08-01T15:36:09.461Z"
   },
   {
    "duration": 3,
    "start_time": "2024-08-01T15:36:09.512Z"
   },
   {
    "duration": 3,
    "start_time": "2024-08-01T15:36:09.519Z"
   },
   {
    "duration": 4,
    "start_time": "2024-08-01T15:36:09.525Z"
   },
   {
    "duration": 3,
    "start_time": "2024-08-01T15:36:09.532Z"
   },
   {
    "duration": 4,
    "start_time": "2024-08-01T15:36:09.539Z"
   },
   {
    "duration": 6,
    "start_time": "2024-08-01T15:36:09.547Z"
   },
   {
    "duration": 4,
    "start_time": "2024-08-01T15:36:09.556Z"
   },
   {
    "duration": 46,
    "start_time": "2024-08-01T15:36:09.563Z"
   },
   {
    "duration": 4,
    "start_time": "2024-08-01T15:36:09.612Z"
   },
   {
    "duration": 3,
    "start_time": "2024-08-01T15:36:09.619Z"
   },
   {
    "duration": 4,
    "start_time": "2024-08-01T15:36:09.625Z"
   },
   {
    "duration": 4,
    "start_time": "2024-08-01T15:36:09.633Z"
   },
   {
    "duration": 3,
    "start_time": "2024-08-01T15:36:09.641Z"
   },
   {
    "duration": 4,
    "start_time": "2024-08-01T15:36:09.648Z"
   },
   {
    "duration": 4,
    "start_time": "2024-08-01T15:36:09.656Z"
   },
   {
    "duration": 45,
    "start_time": "2024-08-01T15:36:09.664Z"
   },
   {
    "duration": 205,
    "start_time": "2024-08-01T15:36:20.185Z"
   },
   {
    "duration": 218,
    "start_time": "2024-08-01T15:38:40.563Z"
   },
   {
    "duration": 191,
    "start_time": "2024-08-01T15:42:40.502Z"
   },
   {
    "duration": 20,
    "start_time": "2024-08-01T15:43:07.978Z"
   },
   {
    "duration": 18,
    "start_time": "2024-08-01T15:43:30.576Z"
   },
   {
    "duration": 36,
    "start_time": "2024-08-01T15:45:17.210Z"
   },
   {
    "duration": 18,
    "start_time": "2024-08-01T15:48:26.573Z"
   },
   {
    "duration": 19,
    "start_time": "2024-08-01T15:48:31.356Z"
   },
   {
    "duration": 205,
    "start_time": "2024-08-01T15:49:06.701Z"
   },
   {
    "duration": 207,
    "start_time": "2024-08-01T15:50:18.229Z"
   },
   {
    "duration": 19,
    "start_time": "2024-08-01T15:51:09.385Z"
   },
   {
    "duration": 270,
    "start_time": "2024-08-01T15:51:16.190Z"
   },
   {
    "duration": 4,
    "start_time": "2024-08-01T15:51:23.138Z"
   },
   {
    "duration": 16,
    "start_time": "2024-08-01T15:51:37.796Z"
   },
   {
    "duration": 61,
    "start_time": "2024-08-01T15:52:50.399Z"
   },
   {
    "duration": 1012,
    "start_time": "2024-08-01T15:53:15.024Z"
   },
   {
    "duration": 53,
    "start_time": "2024-08-01T15:53:34.124Z"
   },
   {
    "duration": 3,
    "start_time": "2024-08-01T15:55:17.654Z"
   },
   {
    "duration": 4,
    "start_time": "2024-08-01T15:56:00.788Z"
   },
   {
    "duration": 31,
    "start_time": "2024-08-01T15:57:29.626Z"
   },
   {
    "duration": 26,
    "start_time": "2024-08-01T15:57:34.892Z"
   },
   {
    "duration": 3,
    "start_time": "2024-08-01T15:57:38.265Z"
   },
   {
    "duration": 22,
    "start_time": "2024-08-01T15:58:38.257Z"
   },
   {
    "duration": 27,
    "start_time": "2024-08-01T15:58:47.419Z"
   },
   {
    "duration": 23,
    "start_time": "2024-08-01T15:59:20.666Z"
   },
   {
    "duration": 738,
    "start_time": "2024-08-01T15:59:42.857Z"
   },
   {
    "duration": 1750,
    "start_time": "2024-08-01T15:59:43.598Z"
   },
   {
    "duration": 17,
    "start_time": "2024-08-01T15:59:45.351Z"
   },
   {
    "duration": 12,
    "start_time": "2024-08-01T15:59:45.373Z"
   },
   {
    "duration": 179,
    "start_time": "2024-08-01T15:59:45.389Z"
   },
   {
    "duration": 17,
    "start_time": "2024-08-01T15:59:45.572Z"
   },
   {
    "duration": 19,
    "start_time": "2024-08-01T15:59:45.591Z"
   },
   {
    "duration": 16,
    "start_time": "2024-08-01T15:59:45.613Z"
   },
   {
    "duration": 27,
    "start_time": "2024-08-01T15:59:45.633Z"
   },
   {
    "duration": 42,
    "start_time": "2024-08-01T15:59:45.668Z"
   },
   {
    "duration": 17,
    "start_time": "2024-08-01T15:59:45.712Z"
   },
   {
    "duration": 14,
    "start_time": "2024-08-01T15:59:45.731Z"
   },
   {
    "duration": 927,
    "start_time": "2024-08-01T15:59:45.748Z"
   },
   {
    "duration": 56,
    "start_time": "2024-08-01T15:59:46.678Z"
   },
   {
    "duration": 12,
    "start_time": "2024-08-01T15:59:46.738Z"
   },
   {
    "duration": 9,
    "start_time": "2024-08-01T15:59:46.753Z"
   },
   {
    "duration": 45,
    "start_time": "2024-08-01T15:59:46.765Z"
   },
   {
    "duration": 10,
    "start_time": "2024-08-01T15:59:46.812Z"
   },
   {
    "duration": 11,
    "start_time": "2024-08-01T15:59:46.825Z"
   },
   {
    "duration": 15,
    "start_time": "2024-08-01T15:59:46.839Z"
   },
   {
    "duration": 217,
    "start_time": "2024-08-01T15:59:46.857Z"
   },
   {
    "duration": 213,
    "start_time": "2024-08-01T15:59:47.078Z"
   },
   {
    "duration": 41,
    "start_time": "2024-08-01T15:59:47.294Z"
   },
   {
    "duration": 222,
    "start_time": "2024-08-01T15:59:47.338Z"
   },
   {
    "duration": 203,
    "start_time": "2024-08-01T15:59:47.563Z"
   },
   {
    "duration": 4,
    "start_time": "2024-08-01T15:59:47.769Z"
   },
   {
    "duration": 18,
    "start_time": "2024-08-01T15:59:47.776Z"
   },
   {
    "duration": 63,
    "start_time": "2024-08-01T15:59:47.812Z"
   },
   {
    "duration": 32,
    "start_time": "2024-08-01T15:59:47.878Z"
   },
   {
    "duration": 433,
    "start_time": "2024-08-01T15:59:47.913Z"
   },
   {
    "duration": 0,
    "start_time": "2024-08-01T15:59:48.349Z"
   },
   {
    "duration": 0,
    "start_time": "2024-08-01T15:59:48.351Z"
   },
   {
    "duration": 0,
    "start_time": "2024-08-01T15:59:48.354Z"
   },
   {
    "duration": 0,
    "start_time": "2024-08-01T15:59:48.356Z"
   },
   {
    "duration": 1,
    "start_time": "2024-08-01T15:59:48.358Z"
   },
   {
    "duration": 0,
    "start_time": "2024-08-01T15:59:48.362Z"
   },
   {
    "duration": 0,
    "start_time": "2024-08-01T15:59:48.365Z"
   },
   {
    "duration": 0,
    "start_time": "2024-08-01T15:59:48.367Z"
   },
   {
    "duration": 0,
    "start_time": "2024-08-01T15:59:48.370Z"
   },
   {
    "duration": 0,
    "start_time": "2024-08-01T15:59:48.372Z"
   },
   {
    "duration": 0,
    "start_time": "2024-08-01T15:59:48.375Z"
   },
   {
    "duration": 0,
    "start_time": "2024-08-01T15:59:48.377Z"
   },
   {
    "duration": 0,
    "start_time": "2024-08-01T15:59:48.410Z"
   },
   {
    "duration": 0,
    "start_time": "2024-08-01T15:59:48.412Z"
   },
   {
    "duration": 0,
    "start_time": "2024-08-01T15:59:48.414Z"
   },
   {
    "duration": 0,
    "start_time": "2024-08-01T15:59:48.416Z"
   },
   {
    "duration": 0,
    "start_time": "2024-08-01T15:59:48.419Z"
   },
   {
    "duration": 0,
    "start_time": "2024-08-01T15:59:48.421Z"
   },
   {
    "duration": 0,
    "start_time": "2024-08-01T15:59:48.426Z"
   },
   {
    "duration": 0,
    "start_time": "2024-08-01T15:59:48.429Z"
   },
   {
    "duration": 11,
    "start_time": "2024-08-01T16:00:03.015Z"
   },
   {
    "duration": 49,
    "start_time": "2024-08-01T16:01:10.470Z"
   },
   {
    "duration": 23,
    "start_time": "2024-08-01T16:01:30.368Z"
   },
   {
    "duration": 3,
    "start_time": "2024-08-01T16:02:15.196Z"
   },
   {
    "duration": 18,
    "start_time": "2024-08-01T16:02:45.079Z"
   },
   {
    "duration": 19,
    "start_time": "2024-08-01T16:03:02.154Z"
   },
   {
    "duration": 924,
    "start_time": "2024-08-01T16:03:25.692Z"
   },
   {
    "duration": 312,
    "start_time": "2024-08-01T16:03:44.847Z"
   },
   {
    "duration": 21,
    "start_time": "2024-08-01T16:05:21.589Z"
   },
   {
    "duration": 28,
    "start_time": "2024-08-01T16:05:28.654Z"
   },
   {
    "duration": 8,
    "start_time": "2024-08-01T16:09:38.675Z"
   },
   {
    "duration": 8,
    "start_time": "2024-08-01T16:09:42.376Z"
   },
   {
    "duration": 7,
    "start_time": "2024-08-01T16:09:46.565Z"
   },
   {
    "duration": 6,
    "start_time": "2024-08-01T16:09:49.760Z"
   },
   {
    "duration": 54,
    "start_time": "2024-08-01T16:10:27.821Z"
   },
   {
    "duration": 12,
    "start_time": "2024-08-01T16:11:29.319Z"
   },
   {
    "duration": 20,
    "start_time": "2024-08-01T16:13:39.599Z"
   },
   {
    "duration": 24,
    "start_time": "2024-08-01T16:18:02.072Z"
   },
   {
    "duration": 24,
    "start_time": "2024-08-01T16:18:08.082Z"
   },
   {
    "duration": 7,
    "start_time": "2024-08-01T16:22:01.456Z"
   },
   {
    "duration": 3,
    "start_time": "2024-08-01T16:22:04.965Z"
   },
   {
    "duration": 29,
    "start_time": "2024-08-01T16:22:24.578Z"
   },
   {
    "duration": 26,
    "start_time": "2024-08-01T16:22:29.605Z"
   },
   {
    "duration": 7,
    "start_time": "2024-08-01T16:23:10.431Z"
   },
   {
    "duration": 7,
    "start_time": "2024-08-01T16:24:43.081Z"
   },
   {
    "duration": 3,
    "start_time": "2024-08-01T16:24:46.839Z"
   },
   {
    "duration": 7,
    "start_time": "2024-08-01T16:25:32.372Z"
   },
   {
    "duration": 1412,
    "start_time": "2024-08-01T16:31:58.097Z"
   },
   {
    "duration": 6,
    "start_time": "2024-08-01T16:34:40.529Z"
   },
   {
    "duration": 6,
    "start_time": "2024-08-01T16:34:51.039Z"
   },
   {
    "duration": 1212,
    "start_time": "2024-08-01T16:34:56.177Z"
   },
   {
    "duration": 21,
    "start_time": "2024-08-01T16:40:08.307Z"
   },
   {
    "duration": 13,
    "start_time": "2024-08-01T16:40:14.076Z"
   },
   {
    "duration": 20,
    "start_time": "2024-08-01T16:41:58.745Z"
   },
   {
    "duration": 25,
    "start_time": "2024-08-01T16:44:51.037Z"
   },
   {
    "duration": 20,
    "start_time": "2024-08-01T16:45:26.317Z"
   },
   {
    "duration": 90,
    "start_time": "2024-08-01T16:45:37.340Z"
   },
   {
    "duration": 25,
    "start_time": "2024-08-01T16:45:43.677Z"
   },
   {
    "duration": 8,
    "start_time": "2024-08-01T16:47:22.144Z"
   },
   {
    "duration": 5,
    "start_time": "2024-08-01T16:47:27.990Z"
   },
   {
    "duration": 12,
    "start_time": "2024-08-01T16:47:41.059Z"
   },
   {
    "duration": 11,
    "start_time": "2024-08-01T16:47:48.442Z"
   },
   {
    "duration": 9,
    "start_time": "2024-08-01T16:48:15.596Z"
   },
   {
    "duration": 23,
    "start_time": "2024-08-01T16:52:49.164Z"
   },
   {
    "duration": 7,
    "start_time": "2024-08-01T16:55:18.462Z"
   },
   {
    "duration": 6,
    "start_time": "2024-08-01T16:58:26.756Z"
   },
   {
    "duration": 77,
    "start_time": "2024-08-01T16:58:43.636Z"
   },
   {
    "duration": 405,
    "start_time": "2024-08-01T16:58:51.283Z"
   },
   {
    "duration": 3,
    "start_time": "2024-08-01T16:59:14.283Z"
   },
   {
    "duration": 185,
    "start_time": "2024-08-01T17:00:25.521Z"
   },
   {
    "duration": 56,
    "start_time": "2024-08-01T17:01:24.259Z"
   },
   {
    "duration": 7,
    "start_time": "2024-08-01T17:01:43.124Z"
   },
   {
    "duration": 6,
    "start_time": "2024-08-01T17:02:07.655Z"
   },
   {
    "duration": 59,
    "start_time": "2024-08-01T17:02:18.415Z"
   },
   {
    "duration": 9,
    "start_time": "2024-08-01T17:02:42.872Z"
   },
   {
    "duration": 10,
    "start_time": "2024-08-01T17:04:22.811Z"
   },
   {
    "duration": 10,
    "start_time": "2024-08-01T17:05:18.180Z"
   },
   {
    "duration": 7,
    "start_time": "2024-08-01T17:12:27.076Z"
   },
   {
    "duration": 77,
    "start_time": "2024-08-01T17:13:06.320Z"
   },
   {
    "duration": 9,
    "start_time": "2024-08-01T17:13:15.018Z"
   },
   {
    "duration": 12,
    "start_time": "2024-08-01T17:13:48.709Z"
   },
   {
    "duration": 8,
    "start_time": "2024-08-01T17:18:40.127Z"
   },
   {
    "duration": 21,
    "start_time": "2024-08-01T17:18:54.537Z"
   },
   {
    "duration": 76,
    "start_time": "2024-08-01T17:19:33.984Z"
   },
   {
    "duration": 9,
    "start_time": "2024-08-01T17:19:42.481Z"
   },
   {
    "duration": 20,
    "start_time": "2024-08-01T17:19:44.842Z"
   },
   {
    "duration": 3,
    "start_time": "2024-08-01T17:20:01.781Z"
   },
   {
    "duration": 16,
    "start_time": "2024-08-01T17:20:27.847Z"
   },
   {
    "duration": 12,
    "start_time": "2024-08-01T17:20:35.514Z"
   },
   {
    "duration": 19,
    "start_time": "2024-08-01T17:21:44.623Z"
   },
   {
    "duration": 11,
    "start_time": "2024-08-01T17:23:27.736Z"
   },
   {
    "duration": 5,
    "start_time": "2024-08-01T17:27:14.993Z"
   },
   {
    "duration": 18,
    "start_time": "2024-08-01T17:27:27.897Z"
   },
   {
    "duration": 12,
    "start_time": "2024-08-01T17:27:34.740Z"
   },
   {
    "duration": 8,
    "start_time": "2024-08-01T17:27:57.674Z"
   },
   {
    "duration": 8,
    "start_time": "2024-08-01T17:28:05.291Z"
   },
   {
    "duration": 5,
    "start_time": "2024-08-01T17:28:07.377Z"
   },
   {
    "duration": 11,
    "start_time": "2024-08-01T17:28:09.468Z"
   },
   {
    "duration": 29,
    "start_time": "2024-08-01T17:34:38.662Z"
   },
   {
    "duration": 31,
    "start_time": "2024-08-01T17:35:09.720Z"
   },
   {
    "duration": 28,
    "start_time": "2024-08-01T17:35:38.408Z"
   },
   {
    "duration": 31,
    "start_time": "2024-08-01T17:36:17.509Z"
   },
   {
    "duration": 82,
    "start_time": "2024-08-01T18:07:55.119Z"
   },
   {
    "duration": 27,
    "start_time": "2024-08-01T18:07:59.499Z"
   },
   {
    "duration": 22,
    "start_time": "2024-08-01T18:08:33.496Z"
   },
   {
    "duration": 27,
    "start_time": "2024-08-01T18:08:46.304Z"
   },
   {
    "duration": 27,
    "start_time": "2024-08-01T18:09:19.201Z"
   },
   {
    "duration": 23,
    "start_time": "2024-08-01T18:09:51.116Z"
   },
   {
    "duration": 27,
    "start_time": "2024-08-01T18:09:58.901Z"
   },
   {
    "duration": 26,
    "start_time": "2024-08-01T18:10:09.861Z"
   },
   {
    "duration": 10,
    "start_time": "2024-08-01T18:13:38.716Z"
   },
   {
    "duration": 5,
    "start_time": "2024-08-01T18:13:49.730Z"
   },
   {
    "duration": 10,
    "start_time": "2024-08-01T18:15:02.822Z"
   },
   {
    "duration": 4,
    "start_time": "2024-08-01T18:15:12.023Z"
   },
   {
    "duration": 111,
    "start_time": "2024-08-01T18:22:50.284Z"
   },
   {
    "duration": 114,
    "start_time": "2024-08-01T18:23:17.829Z"
   },
   {
    "duration": 117,
    "start_time": "2024-08-01T18:25:48.540Z"
   },
   {
    "duration": 11,
    "start_time": "2024-08-01T18:29:31.590Z"
   },
   {
    "duration": 11,
    "start_time": "2024-08-01T18:29:37.468Z"
   },
   {
    "duration": 33,
    "start_time": "2024-08-01T18:29:53.910Z"
   },
   {
    "duration": 48,
    "start_time": "2024-08-01T18:29:59.601Z"
   },
   {
    "duration": 6,
    "start_time": "2024-08-01T18:38:01.174Z"
   },
   {
    "duration": 7,
    "start_time": "2024-08-01T18:38:11.222Z"
   },
   {
    "duration": 13,
    "start_time": "2024-08-01T18:38:31.799Z"
   },
   {
    "duration": 6,
    "start_time": "2024-08-01T18:39:03.244Z"
   },
   {
    "duration": 7,
    "start_time": "2024-08-01T18:48:01.675Z"
   },
   {
    "duration": 31,
    "start_time": "2024-08-01T18:48:54.497Z"
   },
   {
    "duration": 7,
    "start_time": "2024-08-01T18:49:09.233Z"
   },
   {
    "duration": 9,
    "start_time": "2024-08-01T18:58:01.290Z"
   },
   {
    "duration": 436,
    "start_time": "2024-08-01T19:04:15.258Z"
   },
   {
    "duration": 9,
    "start_time": "2024-08-01T19:04:49.375Z"
   },
   {
    "duration": 361,
    "start_time": "2024-08-01T19:04:51.629Z"
   },
   {
    "duration": 178,
    "start_time": "2024-08-01T19:06:39.763Z"
   },
   {
    "duration": 10,
    "start_time": "2024-08-01T20:00:36.034Z"
   },
   {
    "duration": 362,
    "start_time": "2024-08-01T20:00:47.951Z"
   },
   {
    "duration": 21,
    "start_time": "2024-08-01T20:01:17.463Z"
   },
   {
    "duration": 4334,
    "start_time": "2024-08-01T20:01:27.471Z"
   },
   {
    "duration": 1631,
    "start_time": "2024-08-01T20:01:31.809Z"
   },
   {
    "duration": 22,
    "start_time": "2024-08-01T20:01:33.443Z"
   },
   {
    "duration": 13,
    "start_time": "2024-08-01T20:01:33.469Z"
   },
   {
    "duration": 157,
    "start_time": "2024-08-01T20:01:33.485Z"
   },
   {
    "duration": 18,
    "start_time": "2024-08-01T20:01:33.645Z"
   },
   {
    "duration": 10,
    "start_time": "2024-08-01T20:01:33.666Z"
   },
   {
    "duration": 44,
    "start_time": "2024-08-01T20:01:33.680Z"
   },
   {
    "duration": 27,
    "start_time": "2024-08-01T20:01:33.726Z"
   },
   {
    "duration": 17,
    "start_time": "2024-08-01T20:01:33.759Z"
   },
   {
    "duration": 48,
    "start_time": "2024-08-01T20:01:33.779Z"
   },
   {
    "duration": 12,
    "start_time": "2024-08-01T20:01:33.831Z"
   },
   {
    "duration": 788,
    "start_time": "2024-08-01T20:01:33.847Z"
   },
   {
    "duration": 39,
    "start_time": "2024-08-01T20:01:34.638Z"
   },
   {
    "duration": 9,
    "start_time": "2024-08-01T20:01:34.680Z"
   },
   {
    "duration": 9,
    "start_time": "2024-08-01T20:01:34.723Z"
   },
   {
    "duration": 13,
    "start_time": "2024-08-01T20:01:34.736Z"
   },
   {
    "duration": 10,
    "start_time": "2024-08-01T20:01:34.752Z"
   },
   {
    "duration": 9,
    "start_time": "2024-08-01T20:01:34.766Z"
   },
   {
    "duration": 14,
    "start_time": "2024-08-01T20:01:34.822Z"
   },
   {
    "duration": 163,
    "start_time": "2024-08-01T20:01:34.838Z"
   },
   {
    "duration": 180,
    "start_time": "2024-08-01T20:01:35.004Z"
   },
   {
    "duration": 36,
    "start_time": "2024-08-01T20:01:35.187Z"
   },
   {
    "duration": 203,
    "start_time": "2024-08-01T20:01:35.225Z"
   },
   {
    "duration": 177,
    "start_time": "2024-08-01T20:01:35.431Z"
   },
   {
    "duration": 13,
    "start_time": "2024-08-01T20:01:35.610Z"
   },
   {
    "duration": 16,
    "start_time": "2024-08-01T20:01:35.625Z"
   },
   {
    "duration": 72,
    "start_time": "2024-08-01T20:01:35.652Z"
   },
   {
    "duration": 24,
    "start_time": "2024-08-01T20:01:35.729Z"
   },
   {
    "duration": 7,
    "start_time": "2024-08-01T20:01:35.755Z"
   },
   {
    "duration": 25,
    "start_time": "2024-08-01T20:01:35.765Z"
   },
   {
    "duration": 14,
    "start_time": "2024-08-01T20:01:35.824Z"
   },
   {
    "duration": 21,
    "start_time": "2024-08-01T20:01:35.841Z"
   },
   {
    "duration": 61,
    "start_time": "2024-08-01T20:01:35.865Z"
   },
   {
    "duration": 7,
    "start_time": "2024-08-01T20:01:35.929Z"
   },
   {
    "duration": 7,
    "start_time": "2024-08-01T20:01:35.939Z"
   },
   {
    "duration": 8,
    "start_time": "2024-08-01T20:01:35.949Z"
   },
   {
    "duration": 8,
    "start_time": "2024-08-01T20:01:35.959Z"
   },
   {
    "duration": 1346,
    "start_time": "2024-08-01T20:01:35.970Z"
   },
   {
    "duration": 1157,
    "start_time": "2024-08-01T20:01:37.322Z"
   },
   {
    "duration": 13,
    "start_time": "2024-08-01T20:01:38.482Z"
   },
   {
    "duration": 40,
    "start_time": "2024-08-01T20:01:38.498Z"
   },
   {
    "duration": 12,
    "start_time": "2024-08-01T20:01:38.541Z"
   },
   {
    "duration": 12,
    "start_time": "2024-08-01T20:01:38.556Z"
   },
   {
    "duration": 11,
    "start_time": "2024-08-01T20:01:38.570Z"
   },
   {
    "duration": 10,
    "start_time": "2024-08-01T20:01:38.623Z"
   },
   {
    "duration": 18,
    "start_time": "2024-08-01T20:01:38.636Z"
   },
   {
    "duration": 9,
    "start_time": "2024-08-01T20:01:38.657Z"
   },
   {
    "duration": 9,
    "start_time": "2024-08-01T20:01:38.669Z"
   },
   {
    "duration": 20,
    "start_time": "2024-08-01T20:01:38.723Z"
   },
   {
    "duration": 13,
    "start_time": "2024-08-01T20:01:38.747Z"
   },
   {
    "duration": 24,
    "start_time": "2024-08-01T20:01:38.762Z"
   },
   {
    "duration": 43,
    "start_time": "2024-08-01T20:01:38.788Z"
   },
   {
    "duration": 5,
    "start_time": "2024-08-01T20:01:38.834Z"
   },
   {
    "duration": 11,
    "start_time": "2024-08-01T20:01:38.842Z"
   },
   {
    "duration": 72,
    "start_time": "2024-08-01T20:01:38.856Z"
   },
   {
    "duration": 30,
    "start_time": "2024-08-01T20:01:38.931Z"
   },
   {
    "duration": 27,
    "start_time": "2024-08-01T20:01:38.964Z"
   },
   {
    "duration": 28,
    "start_time": "2024-08-01T20:01:39.022Z"
   },
   {
    "duration": 25,
    "start_time": "2024-08-01T20:01:39.052Z"
   },
   {
    "duration": 43,
    "start_time": "2024-08-01T20:01:39.080Z"
   },
   {
    "duration": 5,
    "start_time": "2024-08-01T20:01:39.126Z"
   },
   {
    "duration": 116,
    "start_time": "2024-08-01T20:01:39.134Z"
   },
   {
    "duration": 12,
    "start_time": "2024-08-01T20:01:39.253Z"
   },
   {
    "duration": 55,
    "start_time": "2024-08-01T20:01:39.267Z"
   },
   {
    "duration": 7,
    "start_time": "2024-08-01T20:01:39.325Z"
   },
   {
    "duration": 24,
    "start_time": "2024-08-01T20:01:39.335Z"
   },
   {
    "duration": 8,
    "start_time": "2024-08-01T20:01:39.361Z"
   },
   {
    "duration": 6,
    "start_time": "2024-08-01T20:01:39.372Z"
   },
   {
    "duration": 46,
    "start_time": "2024-08-01T20:01:39.381Z"
   },
   {
    "duration": 1114,
    "start_time": "2024-08-01T20:01:39.431Z"
   },
   {
    "duration": 0,
    "start_time": "2024-08-01T20:01:40.548Z"
   },
   {
    "duration": 164,
    "start_time": "2024-08-01T20:02:40.848Z"
   },
   {
    "duration": 23,
    "start_time": "2024-08-01T20:02:45.316Z"
   },
   {
    "duration": 14,
    "start_time": "2024-08-01T20:33:18.878Z"
   },
   {
    "duration": 414,
    "start_time": "2024-08-01T20:33:24.408Z"
   },
   {
    "duration": 26,
    "start_time": "2024-08-01T20:46:13.270Z"
   },
   {
    "duration": 22,
    "start_time": "2024-08-01T20:46:19.162Z"
   },
   {
    "duration": 65,
    "start_time": "2024-08-01T20:46:49.544Z"
   },
   {
    "duration": 9,
    "start_time": "2024-08-01T20:47:06.740Z"
   },
   {
    "duration": 209,
    "start_time": "2024-08-01T20:54:42.483Z"
   },
   {
    "duration": 14,
    "start_time": "2024-08-01T20:58:23.254Z"
   },
   {
    "duration": 13,
    "start_time": "2024-08-01T20:58:35.373Z"
   },
   {
    "duration": 373,
    "start_time": "2024-08-01T21:00:50.154Z"
   },
   {
    "duration": 13,
    "start_time": "2024-08-01T21:01:17.678Z"
   },
   {
    "duration": 372,
    "start_time": "2024-08-01T21:01:20.122Z"
   },
   {
    "duration": 368,
    "start_time": "2024-08-01T21:03:15.458Z"
   },
   {
    "duration": 382,
    "start_time": "2024-08-01T21:05:36.965Z"
   },
   {
    "duration": 208,
    "start_time": "2024-08-01T21:25:41.158Z"
   },
   {
    "duration": 195,
    "start_time": "2024-08-01T21:27:06.141Z"
   },
   {
    "duration": 246,
    "start_time": "2024-08-01T21:27:44.255Z"
   },
   {
    "duration": 227,
    "start_time": "2024-08-01T21:30:42.128Z"
   },
   {
    "duration": 316,
    "start_time": "2024-08-01T21:32:24.907Z"
   },
   {
    "duration": 4,
    "start_time": "2024-08-01T21:32:44.492Z"
   },
   {
    "duration": 4,
    "start_time": "2024-08-01T21:32:51.014Z"
   },
   {
    "duration": 278,
    "start_time": "2024-08-01T21:33:25.287Z"
   },
   {
    "duration": 282,
    "start_time": "2024-08-01T21:33:37.284Z"
   },
   {
    "duration": 284,
    "start_time": "2024-08-01T21:34:02.478Z"
   },
   {
    "duration": 293,
    "start_time": "2024-08-01T21:34:22.568Z"
   },
   {
    "duration": 11,
    "start_time": "2024-08-01T21:39:59.193Z"
   },
   {
    "duration": 13,
    "start_time": "2024-08-01T21:40:13.667Z"
   },
   {
    "duration": 5,
    "start_time": "2024-08-01T21:42:05.887Z"
   },
   {
    "duration": 10,
    "start_time": "2024-08-01T21:42:14.666Z"
   },
   {
    "duration": 4,
    "start_time": "2024-08-01T21:43:41.255Z"
   },
   {
    "duration": 23,
    "start_time": "2024-08-01T21:43:50.848Z"
   },
   {
    "duration": 10,
    "start_time": "2024-08-01T21:44:00.329Z"
   },
   {
    "duration": 422,
    "start_time": "2024-08-01T21:45:53.614Z"
   },
   {
    "duration": 15,
    "start_time": "2024-08-01T22:03:14.077Z"
   },
   {
    "duration": 8,
    "start_time": "2024-08-01T22:04:04.091Z"
   },
   {
    "duration": 10,
    "start_time": "2024-08-01T22:04:08.786Z"
   },
   {
    "duration": 14,
    "start_time": "2024-08-01T22:04:17.288Z"
   },
   {
    "duration": 24,
    "start_time": "2024-08-01T22:07:34.838Z"
   },
   {
    "duration": 18,
    "start_time": "2024-08-01T22:07:43.811Z"
   },
   {
    "duration": 182,
    "start_time": "2024-08-01T22:09:47.417Z"
   },
   {
    "duration": 1557,
    "start_time": "2024-08-01T22:10:04.847Z"
   },
   {
    "duration": 298,
    "start_time": "2024-08-01T22:10:24.866Z"
   },
   {
    "duration": 83,
    "start_time": "2024-08-01T22:11:12.838Z"
   },
   {
    "duration": 229,
    "start_time": "2024-08-01T22:14:59.194Z"
   },
   {
    "duration": 1615,
    "start_time": "2024-08-01T22:15:26.337Z"
   },
   {
    "duration": 1645,
    "start_time": "2024-08-01T22:16:48.712Z"
   },
   {
    "duration": 209,
    "start_time": "2024-08-01T22:17:51.034Z"
   },
   {
    "duration": 201,
    "start_time": "2024-08-01T22:18:34.146Z"
   },
   {
    "duration": 222,
    "start_time": "2024-08-01T22:22:50.761Z"
   },
   {
    "duration": 1719,
    "start_time": "2024-08-01T22:23:34.188Z"
   },
   {
    "duration": 1642,
    "start_time": "2024-08-01T22:24:42.993Z"
   },
   {
    "duration": 1650,
    "start_time": "2024-08-01T22:24:59.991Z"
   },
   {
    "duration": 1700,
    "start_time": "2024-08-01T22:25:11.757Z"
   },
   {
    "duration": 1859,
    "start_time": "2024-08-01T22:29:46.316Z"
   },
   {
    "duration": 296,
    "start_time": "2024-08-01T22:30:13.952Z"
   },
   {
    "duration": 1775,
    "start_time": "2024-08-01T22:30:33.203Z"
   },
   {
    "duration": 181,
    "start_time": "2024-08-01T22:41:13.821Z"
   },
   {
    "duration": 182,
    "start_time": "2024-08-01T22:41:32.253Z"
   },
   {
    "duration": 168,
    "start_time": "2024-08-01T22:41:53.552Z"
   },
   {
    "duration": 167,
    "start_time": "2024-08-01T22:43:12.181Z"
   },
   {
    "duration": 166,
    "start_time": "2024-08-01T22:44:21.418Z"
   },
   {
    "duration": 463,
    "start_time": "2024-08-01T22:48:07.904Z"
   },
   {
    "duration": 156,
    "start_time": "2024-08-01T22:50:08.054Z"
   },
   {
    "duration": 157,
    "start_time": "2024-08-01T22:50:12.097Z"
   },
   {
    "duration": 159,
    "start_time": "2024-08-01T22:50:17.099Z"
   },
   {
    "duration": 180,
    "start_time": "2024-08-01T22:50:20.658Z"
   },
   {
    "duration": 166,
    "start_time": "2024-08-01T22:51:01.739Z"
   },
   {
    "duration": 7,
    "start_time": "2024-08-01T22:54:19.293Z"
   },
   {
    "duration": 497,
    "start_time": "2024-08-01T22:54:23.900Z"
   },
   {
    "duration": 184,
    "start_time": "2024-08-01T22:54:49.790Z"
   },
   {
    "duration": 159,
    "start_time": "2024-08-01T22:54:52.383Z"
   },
   {
    "duration": 162,
    "start_time": "2024-08-01T22:54:59.103Z"
   },
   {
    "duration": 166,
    "start_time": "2024-08-01T22:59:51.133Z"
   },
   {
    "duration": 7,
    "start_time": "2024-08-01T23:00:08.383Z"
   },
   {
    "duration": 183,
    "start_time": "2024-08-01T23:00:12.167Z"
   },
   {
    "duration": 172,
    "start_time": "2024-08-01T23:02:23.048Z"
   },
   {
    "duration": 176,
    "start_time": "2024-08-01T23:02:31.866Z"
   },
   {
    "duration": 171,
    "start_time": "2024-08-01T23:02:41.159Z"
   },
   {
    "duration": 235,
    "start_time": "2024-08-01T23:03:33.839Z"
   },
   {
    "duration": 164,
    "start_time": "2024-08-01T23:03:53.949Z"
   },
   {
    "duration": 163,
    "start_time": "2024-08-01T23:04:25.061Z"
   },
   {
    "duration": 385,
    "start_time": "2024-08-01T23:06:27.250Z"
   },
   {
    "duration": 18,
    "start_time": "2024-08-01T23:06:36.983Z"
   },
   {
    "duration": 16,
    "start_time": "2024-08-01T23:09:05.955Z"
   },
   {
    "duration": 18,
    "start_time": "2024-08-01T23:09:59.475Z"
   },
   {
    "duration": 15,
    "start_time": "2024-08-01T23:13:27.454Z"
   },
   {
    "duration": 14,
    "start_time": "2024-08-01T23:13:30.835Z"
   },
   {
    "duration": 21,
    "start_time": "2024-08-01T23:13:37.859Z"
   },
   {
    "duration": 14,
    "start_time": "2024-08-01T23:17:56.573Z"
   },
   {
    "duration": 26,
    "start_time": "2024-08-01T23:18:11.571Z"
   },
   {
    "duration": 13,
    "start_time": "2024-08-01T23:18:23.456Z"
   },
   {
    "duration": 671,
    "start_time": "2024-08-01T23:20:16.509Z"
   },
   {
    "duration": 28,
    "start_time": "2024-08-01T23:20:38.945Z"
   },
   {
    "duration": 13,
    "start_time": "2024-08-01T23:21:15.510Z"
   },
   {
    "duration": 14,
    "start_time": "2024-08-01T23:22:24.943Z"
   },
   {
    "duration": 7,
    "start_time": "2024-08-01T23:23:58.397Z"
   },
   {
    "duration": 8,
    "start_time": "2024-08-01T23:24:05.354Z"
   },
   {
    "duration": 23,
    "start_time": "2024-08-02T00:07:25.628Z"
   },
   {
    "duration": 643,
    "start_time": "2024-08-02T00:07:54.468Z"
   },
   {
    "duration": 22,
    "start_time": "2024-08-02T00:23:07.628Z"
   },
   {
    "duration": 395,
    "start_time": "2024-08-02T00:23:09.556Z"
   },
   {
    "duration": 80,
    "start_time": "2024-08-02T00:23:14.537Z"
   },
   {
    "duration": 7,
    "start_time": "2024-08-02T00:23:37.854Z"
   },
   {
    "duration": 34,
    "start_time": "2024-08-02T00:24:52.938Z"
   },
   {
    "duration": 8,
    "start_time": "2024-08-02T00:26:00.064Z"
   },
   {
    "duration": 1436,
    "start_time": "2024-08-02T00:26:22.252Z"
   },
   {
    "duration": 13,
    "start_time": "2024-08-02T00:26:33.287Z"
   },
   {
    "duration": 11,
    "start_time": "2024-08-02T00:26:37.237Z"
   },
   {
    "duration": 778,
    "start_time": "2024-08-02T00:26:40.030Z"
   },
   {
    "duration": 36,
    "start_time": "2024-08-02T00:26:48.300Z"
   },
   {
    "duration": 33,
    "start_time": "2024-08-02T00:27:19.707Z"
   },
   {
    "duration": 28,
    "start_time": "2024-08-02T00:27:21.959Z"
   },
   {
    "duration": 35,
    "start_time": "2024-08-02T00:27:39.201Z"
   },
   {
    "duration": 9,
    "start_time": "2024-08-02T00:27:50.123Z"
   },
   {
    "duration": 106,
    "start_time": "2024-08-02T00:28:00.157Z"
   },
   {
    "duration": 16,
    "start_time": "2024-08-02T00:28:13.379Z"
   },
   {
    "duration": 7,
    "start_time": "2024-08-02T00:28:46.677Z"
   },
   {
    "duration": 162,
    "start_time": "2024-08-02T00:29:13.175Z"
   },
   {
    "duration": 480,
    "start_time": "2024-08-02T00:29:32.435Z"
   },
   {
    "duration": 462,
    "start_time": "2024-08-02T00:35:39.585Z"
   },
   {
    "duration": 497,
    "start_time": "2024-08-02T00:35:46.792Z"
   },
   {
    "duration": 223,
    "start_time": "2024-08-02T00:36:01.621Z"
   },
   {
    "duration": 23,
    "start_time": "2024-08-02T00:36:21.439Z"
   },
   {
    "duration": 480,
    "start_time": "2024-08-02T00:45:38.724Z"
   },
   {
    "duration": 73,
    "start_time": "2024-08-02T01:15:11.375Z"
   },
   {
    "duration": 133,
    "start_time": "2024-08-02T01:15:32.527Z"
   },
   {
    "duration": 99,
    "start_time": "2024-08-02T01:17:16.573Z"
   },
   {
    "duration": 156,
    "start_time": "2024-08-02T01:19:12.690Z"
   },
   {
    "duration": 156,
    "start_time": "2024-08-02T01:19:23.366Z"
   },
   {
    "duration": 175,
    "start_time": "2024-08-02T01:19:50.513Z"
   },
   {
    "duration": 168,
    "start_time": "2024-08-02T01:20:01.955Z"
   },
   {
    "duration": 161,
    "start_time": "2024-08-02T01:20:48.320Z"
   },
   {
    "duration": 59,
    "start_time": "2024-08-02T01:20:56.795Z"
   },
   {
    "duration": 64,
    "start_time": "2024-08-02T01:21:13.611Z"
   },
   {
    "duration": 696,
    "start_time": "2024-08-02T01:21:22.072Z"
   },
   {
    "duration": 1558,
    "start_time": "2024-08-02T01:21:22.771Z"
   },
   {
    "duration": 18,
    "start_time": "2024-08-02T01:21:24.334Z"
   },
   {
    "duration": 12,
    "start_time": "2024-08-02T01:21:24.357Z"
   },
   {
    "duration": 165,
    "start_time": "2024-08-02T01:21:24.372Z"
   },
   {
    "duration": 17,
    "start_time": "2024-08-02T01:21:24.542Z"
   },
   {
    "duration": 11,
    "start_time": "2024-08-02T01:21:24.561Z"
   },
   {
    "duration": 10,
    "start_time": "2024-08-02T01:21:24.576Z"
   },
   {
    "duration": 25,
    "start_time": "2024-08-02T01:21:24.624Z"
   },
   {
    "duration": 20,
    "start_time": "2024-08-02T01:21:24.654Z"
   },
   {
    "duration": 10,
    "start_time": "2024-08-02T01:21:24.677Z"
   },
   {
    "duration": 11,
    "start_time": "2024-08-02T01:21:24.723Z"
   },
   {
    "duration": 785,
    "start_time": "2024-08-02T01:21:24.737Z"
   },
   {
    "duration": 40,
    "start_time": "2024-08-02T01:21:25.525Z"
   },
   {
    "duration": 10,
    "start_time": "2024-08-02T01:21:25.568Z"
   },
   {
    "duration": 9,
    "start_time": "2024-08-02T01:21:25.581Z"
   },
   {
    "duration": 15,
    "start_time": "2024-08-02T01:21:25.624Z"
   },
   {
    "duration": 9,
    "start_time": "2024-08-02T01:21:25.642Z"
   },
   {
    "duration": 10,
    "start_time": "2024-08-02T01:21:25.654Z"
   },
   {
    "duration": 59,
    "start_time": "2024-08-02T01:21:25.667Z"
   },
   {
    "duration": 155,
    "start_time": "2024-08-02T01:21:25.730Z"
   },
   {
    "duration": 176,
    "start_time": "2024-08-02T01:21:25.888Z"
   },
   {
    "duration": 19,
    "start_time": "2024-08-02T01:21:26.067Z"
   },
   {
    "duration": 191,
    "start_time": "2024-08-02T01:21:26.089Z"
   },
   {
    "duration": 192,
    "start_time": "2024-08-02T01:21:26.283Z"
   },
   {
    "duration": 4,
    "start_time": "2024-08-02T01:21:26.479Z"
   },
   {
    "duration": 38,
    "start_time": "2024-08-02T01:21:26.486Z"
   },
   {
    "duration": 43,
    "start_time": "2024-08-02T01:21:26.534Z"
   },
   {
    "duration": 46,
    "start_time": "2024-08-02T01:21:26.580Z"
   },
   {
    "duration": 7,
    "start_time": "2024-08-02T01:21:26.629Z"
   },
   {
    "duration": 24,
    "start_time": "2024-08-02T01:21:26.639Z"
   },
   {
    "duration": 14,
    "start_time": "2024-08-02T01:21:26.666Z"
   },
   {
    "duration": 55,
    "start_time": "2024-08-02T01:21:26.683Z"
   },
   {
    "duration": 29,
    "start_time": "2024-08-02T01:21:26.741Z"
   },
   {
    "duration": 10,
    "start_time": "2024-08-02T01:21:26.773Z"
   },
   {
    "duration": 40,
    "start_time": "2024-08-02T01:21:26.785Z"
   },
   {
    "duration": 8,
    "start_time": "2024-08-02T01:21:26.829Z"
   },
   {
    "duration": 7,
    "start_time": "2024-08-02T01:21:26.840Z"
   },
   {
    "duration": 1346,
    "start_time": "2024-08-02T01:21:26.851Z"
   },
   {
    "duration": 1146,
    "start_time": "2024-08-02T01:21:28.200Z"
   },
   {
    "duration": 14,
    "start_time": "2024-08-02T01:21:29.348Z"
   },
   {
    "duration": 22,
    "start_time": "2024-08-02T01:21:29.366Z"
   },
   {
    "duration": 10,
    "start_time": "2024-08-02T01:21:29.423Z"
   },
   {
    "duration": 11,
    "start_time": "2024-08-02T01:21:29.437Z"
   },
   {
    "duration": 11,
    "start_time": "2024-08-02T01:21:29.452Z"
   },
   {
    "duration": 10,
    "start_time": "2024-08-02T01:21:29.466Z"
   },
   {
    "duration": 20,
    "start_time": "2024-08-02T01:21:29.523Z"
   },
   {
    "duration": 9,
    "start_time": "2024-08-02T01:21:29.546Z"
   },
   {
    "duration": 9,
    "start_time": "2024-08-02T01:21:29.558Z"
   },
   {
    "duration": 60,
    "start_time": "2024-08-02T01:21:29.570Z"
   },
   {
    "duration": 13,
    "start_time": "2024-08-02T01:21:29.635Z"
   },
   {
    "duration": 23,
    "start_time": "2024-08-02T01:21:29.651Z"
   },
   {
    "duration": 46,
    "start_time": "2024-08-02T01:21:29.678Z"
   },
   {
    "duration": 6,
    "start_time": "2024-08-02T01:21:29.727Z"
   },
   {
    "duration": 15,
    "start_time": "2024-08-02T01:21:29.736Z"
   },
   {
    "duration": 28,
    "start_time": "2024-08-02T01:21:29.754Z"
   },
   {
    "duration": 30,
    "start_time": "2024-08-02T01:21:29.823Z"
   },
   {
    "duration": 29,
    "start_time": "2024-08-02T01:21:29.856Z"
   },
   {
    "duration": 52,
    "start_time": "2024-08-02T01:21:29.887Z"
   },
   {
    "duration": 26,
    "start_time": "2024-08-02T01:21:29.942Z"
   },
   {
    "duration": 9,
    "start_time": "2024-08-02T01:21:29.971Z"
   },
   {
    "duration": 43,
    "start_time": "2024-08-02T01:21:29.982Z"
   },
   {
    "duration": 118,
    "start_time": "2024-08-02T01:21:30.030Z"
   },
   {
    "duration": 12,
    "start_time": "2024-08-02T01:21:30.150Z"
   },
   {
    "duration": 59,
    "start_time": "2024-08-02T01:21:30.165Z"
   },
   {
    "duration": 8,
    "start_time": "2024-08-02T01:21:30.227Z"
   },
   {
    "duration": 25,
    "start_time": "2024-08-02T01:21:30.239Z"
   },
   {
    "duration": 7,
    "start_time": "2024-08-02T01:21:30.267Z"
   },
   {
    "duration": 46,
    "start_time": "2024-08-02T01:21:30.277Z"
   },
   {
    "duration": 6,
    "start_time": "2024-08-02T01:21:30.326Z"
   },
   {
    "duration": 13,
    "start_time": "2024-08-02T01:21:30.335Z"
   },
   {
    "duration": 382,
    "start_time": "2024-08-02T01:21:30.350Z"
   },
   {
    "duration": 13,
    "start_time": "2024-08-02T01:21:30.736Z"
   },
   {
    "duration": 234,
    "start_time": "2024-08-02T01:21:30.754Z"
   },
   {
    "duration": 13,
    "start_time": "2024-08-02T01:21:30.991Z"
   },
   {
    "duration": 400,
    "start_time": "2024-08-02T01:21:31.007Z"
   },
   {
    "duration": 20,
    "start_time": "2024-08-02T01:21:31.410Z"
   },
   {
    "duration": 13,
    "start_time": "2024-08-02T01:21:31.434Z"
   },
   {
    "duration": 6,
    "start_time": "2024-08-02T01:21:31.450Z"
   },
   {
    "duration": 11,
    "start_time": "2024-08-02T01:21:31.459Z"
   },
   {
    "duration": 457,
    "start_time": "2024-08-02T01:21:31.473Z"
   },
   {
    "duration": 13,
    "start_time": "2024-08-02T01:21:31.945Z"
   },
   {
    "duration": 1724,
    "start_time": "2024-08-02T01:21:31.961Z"
   },
   {
    "duration": 204,
    "start_time": "2024-08-02T01:21:33.687Z"
   },
   {
    "duration": 15,
    "start_time": "2024-08-02T01:21:33.893Z"
   },
   {
    "duration": 22,
    "start_time": "2024-08-02T01:21:33.924Z"
   },
   {
    "duration": 10,
    "start_time": "2024-08-02T01:21:33.949Z"
   },
   {
    "duration": 535,
    "start_time": "2024-08-02T01:21:33.963Z"
   },
   {
    "duration": 31,
    "start_time": "2024-08-02T01:21:34.501Z"
   },
   {
    "duration": 193,
    "start_time": "2024-08-02T01:21:34.536Z"
   },
   {
    "duration": 185,
    "start_time": "2024-08-02T01:21:34.732Z"
   },
   {
    "duration": 113,
    "start_time": "2024-08-02T01:22:42.610Z"
   },
   {
    "duration": 112,
    "start_time": "2024-08-02T01:23:33.493Z"
   },
   {
    "duration": 124,
    "start_time": "2024-08-02T01:23:45.187Z"
   },
   {
    "duration": 115,
    "start_time": "2024-08-02T01:24:13.990Z"
   },
   {
    "duration": 458,
    "start_time": "2024-08-02T01:25:15.989Z"
   },
   {
    "duration": 128,
    "start_time": "2024-08-02T01:25:29.766Z"
   },
   {
    "duration": 116,
    "start_time": "2024-08-02T01:26:44.518Z"
   },
   {
    "duration": 113,
    "start_time": "2024-08-02T01:26:53.139Z"
   },
   {
    "duration": 109,
    "start_time": "2024-08-02T01:28:44.130Z"
   },
   {
    "duration": 130,
    "start_time": "2024-08-02T01:28:54.004Z"
   },
   {
    "duration": 82,
    "start_time": "2024-08-02T01:29:07.989Z"
   },
   {
    "duration": 39,
    "start_time": "2024-08-02T01:29:27.355Z"
   },
   {
    "duration": 119,
    "start_time": "2024-08-02T01:29:36.643Z"
   },
   {
    "duration": 92,
    "start_time": "2024-08-02T01:29:42.252Z"
   },
   {
    "duration": 71,
    "start_time": "2024-08-02T01:30:51.873Z"
   },
   {
    "duration": 81,
    "start_time": "2024-08-02T01:31:59.444Z"
   },
   {
    "duration": 13,
    "start_time": "2024-08-02T01:34:09.923Z"
   },
   {
    "duration": 78,
    "start_time": "2024-08-02T01:44:05.835Z"
   },
   {
    "duration": 20,
    "start_time": "2024-08-02T01:46:04.813Z"
   },
   {
    "duration": 8,
    "start_time": "2024-08-02T01:47:32.484Z"
   },
   {
    "duration": 1023,
    "start_time": "2024-08-02T02:02:54.143Z"
   },
   {
    "duration": 1098,
    "start_time": "2024-08-02T02:03:33.986Z"
   },
   {
    "duration": 1033,
    "start_time": "2024-08-02T02:03:56.136Z"
   },
   {
    "duration": 754,
    "start_time": "2024-08-02T02:05:43.167Z"
   },
   {
    "duration": 749,
    "start_time": "2024-08-02T02:05:47.646Z"
   },
   {
    "duration": 753,
    "start_time": "2024-08-02T02:05:56.076Z"
   },
   {
    "duration": 15,
    "start_time": "2024-08-02T02:11:01.535Z"
   },
   {
    "duration": 34,
    "start_time": "2024-08-02T02:12:54.773Z"
   },
   {
    "duration": 25,
    "start_time": "2024-08-02T02:13:12.760Z"
   },
   {
    "duration": 33,
    "start_time": "2024-08-02T02:13:33.032Z"
   },
   {
    "duration": 21,
    "start_time": "2024-08-02T02:13:52.551Z"
   },
   {
    "duration": 15,
    "start_time": "2024-08-02T02:13:56.730Z"
   },
   {
    "duration": 10,
    "start_time": "2024-08-02T02:14:53.186Z"
   },
   {
    "duration": 15,
    "start_time": "2024-08-02T02:14:58.624Z"
   },
   {
    "duration": 27,
    "start_time": "2024-08-02T02:15:16.057Z"
   },
   {
    "duration": 15,
    "start_time": "2024-08-02T02:15:28.398Z"
   },
   {
    "duration": 10,
    "start_time": "2024-08-02T02:17:20.054Z"
   },
   {
    "duration": 15,
    "start_time": "2024-08-02T02:17:25.371Z"
   },
   {
    "duration": 15,
    "start_time": "2024-08-02T02:17:58.049Z"
   },
   {
    "duration": 25,
    "start_time": "2024-08-02T02:18:03.341Z"
   },
   {
    "duration": 18,
    "start_time": "2024-08-02T02:18:09.724Z"
   },
   {
    "duration": 22,
    "start_time": "2024-08-02T02:18:21.776Z"
   },
   {
    "duration": 22,
    "start_time": "2024-08-02T02:18:53.102Z"
   },
   {
    "duration": 15,
    "start_time": "2024-08-02T02:19:16.852Z"
   },
   {
    "duration": 10,
    "start_time": "2024-08-02T02:19:27.552Z"
   },
   {
    "duration": 20,
    "start_time": "2024-08-02T02:19:32.443Z"
   },
   {
    "duration": 12,
    "start_time": "2024-08-02T02:22:37.917Z"
   },
   {
    "duration": 11,
    "start_time": "2024-08-02T02:22:43.226Z"
   },
   {
    "duration": 1252,
    "start_time": "2024-08-02T02:23:39.363Z"
   },
   {
    "duration": 1091,
    "start_time": "2024-08-02T02:23:51.747Z"
   },
   {
    "duration": 305,
    "start_time": "2024-08-02T03:44:16.271Z"
   },
   {
    "duration": 4438,
    "start_time": "2024-08-02T03:44:36.443Z"
   },
   {
    "duration": 1661,
    "start_time": "2024-08-02T03:44:40.885Z"
   },
   {
    "duration": 15,
    "start_time": "2024-08-02T03:44:42.549Z"
   },
   {
    "duration": 12,
    "start_time": "2024-08-02T03:44:42.568Z"
   },
   {
    "duration": 166,
    "start_time": "2024-08-02T03:44:42.583Z"
   },
   {
    "duration": 17,
    "start_time": "2024-08-02T03:44:42.751Z"
   },
   {
    "duration": 11,
    "start_time": "2024-08-02T03:44:42.771Z"
   },
   {
    "duration": 40,
    "start_time": "2024-08-02T03:44:42.786Z"
   },
   {
    "duration": 25,
    "start_time": "2024-08-02T03:44:42.830Z"
   },
   {
    "duration": 16,
    "start_time": "2024-08-02T03:44:42.861Z"
   },
   {
    "duration": 46,
    "start_time": "2024-08-02T03:44:42.880Z"
   },
   {
    "duration": 11,
    "start_time": "2024-08-02T03:44:42.929Z"
   },
   {
    "duration": 796,
    "start_time": "2024-08-02T03:44:42.943Z"
   },
   {
    "duration": 38,
    "start_time": "2024-08-02T03:44:43.741Z"
   },
   {
    "duration": 10,
    "start_time": "2024-08-02T03:44:43.782Z"
   },
   {
    "duration": 39,
    "start_time": "2024-08-02T03:44:43.795Z"
   },
   {
    "duration": 14,
    "start_time": "2024-08-02T03:44:43.837Z"
   },
   {
    "duration": 10,
    "start_time": "2024-08-02T03:44:43.853Z"
   },
   {
    "duration": 12,
    "start_time": "2024-08-02T03:44:43.865Z"
   },
   {
    "duration": 57,
    "start_time": "2024-08-02T03:44:43.880Z"
   },
   {
    "duration": 164,
    "start_time": "2024-08-02T03:44:43.941Z"
   },
   {
    "duration": 195,
    "start_time": "2024-08-02T03:44:44.108Z"
   },
   {
    "duration": 23,
    "start_time": "2024-08-02T03:44:44.305Z"
   },
   {
    "duration": 196,
    "start_time": "2024-08-02T03:44:44.332Z"
   },
   {
    "duration": 176,
    "start_time": "2024-08-02T03:44:44.530Z"
   },
   {
    "duration": 4,
    "start_time": "2024-08-02T03:44:44.710Z"
   },
   {
    "duration": 17,
    "start_time": "2024-08-02T03:44:44.727Z"
   },
   {
    "duration": 43,
    "start_time": "2024-08-02T03:44:44.754Z"
   },
   {
    "duration": 48,
    "start_time": "2024-08-02T03:44:44.800Z"
   },
   {
    "duration": 7,
    "start_time": "2024-08-02T03:44:44.851Z"
   },
   {
    "duration": 24,
    "start_time": "2024-08-02T03:44:44.861Z"
   },
   {
    "duration": 47,
    "start_time": "2024-08-02T03:44:44.887Z"
   },
   {
    "duration": 20,
    "start_time": "2024-08-02T03:44:44.937Z"
   },
   {
    "duration": 70,
    "start_time": "2024-08-02T03:44:44.960Z"
   },
   {
    "duration": 8,
    "start_time": "2024-08-02T03:44:45.033Z"
   },
   {
    "duration": 7,
    "start_time": "2024-08-02T03:44:45.044Z"
   },
   {
    "duration": 8,
    "start_time": "2024-08-02T03:44:45.053Z"
   },
   {
    "duration": 7,
    "start_time": "2024-08-02T03:44:45.064Z"
   },
   {
    "duration": 1381,
    "start_time": "2024-08-02T03:44:45.074Z"
   },
   {
    "duration": 1146,
    "start_time": "2024-08-02T03:44:46.458Z"
   },
   {
    "duration": 23,
    "start_time": "2024-08-02T03:44:47.607Z"
   },
   {
    "duration": 24,
    "start_time": "2024-08-02T03:44:47.633Z"
   },
   {
    "duration": 10,
    "start_time": "2024-08-02T03:44:47.663Z"
   },
   {
    "duration": 12,
    "start_time": "2024-08-02T03:44:47.675Z"
   },
   {
    "duration": 12,
    "start_time": "2024-08-02T03:44:47.727Z"
   },
   {
    "duration": 9,
    "start_time": "2024-08-02T03:44:47.743Z"
   },
   {
    "duration": 18,
    "start_time": "2024-08-02T03:44:47.755Z"
   },
   {
    "duration": 51,
    "start_time": "2024-08-02T03:44:47.776Z"
   },
   {
    "duration": 11,
    "start_time": "2024-08-02T03:44:47.832Z"
   },
   {
    "duration": 19,
    "start_time": "2024-08-02T03:44:47.847Z"
   },
   {
    "duration": 11,
    "start_time": "2024-08-02T03:44:47.869Z"
   },
   {
    "duration": 58,
    "start_time": "2024-08-02T03:44:47.883Z"
   },
   {
    "duration": 12,
    "start_time": "2024-08-02T03:44:47.943Z"
   },
   {
    "duration": 7,
    "start_time": "2024-08-02T03:44:47.958Z"
   },
   {
    "duration": 11,
    "start_time": "2024-08-02T03:44:47.967Z"
   },
   {
    "duration": 68,
    "start_time": "2024-08-02T03:44:47.981Z"
   },
   {
    "duration": 30,
    "start_time": "2024-08-02T03:44:48.053Z"
   },
   {
    "duration": 58,
    "start_time": "2024-08-02T03:44:48.086Z"
   },
   {
    "duration": 28,
    "start_time": "2024-08-02T03:44:48.147Z"
   },
   {
    "duration": 60,
    "start_time": "2024-08-02T03:44:48.178Z"
   },
   {
    "duration": 10,
    "start_time": "2024-08-02T03:44:48.240Z"
   },
   {
    "duration": 5,
    "start_time": "2024-08-02T03:44:48.252Z"
   },
   {
    "duration": 133,
    "start_time": "2024-08-02T03:44:48.259Z"
   },
   {
    "duration": 13,
    "start_time": "2024-08-02T03:44:48.395Z"
   },
   {
    "duration": 30,
    "start_time": "2024-08-02T03:44:48.427Z"
   },
   {
    "duration": 7,
    "start_time": "2024-08-02T03:44:48.460Z"
   },
   {
    "duration": 57,
    "start_time": "2024-08-02T03:44:48.470Z"
   },
   {
    "duration": 7,
    "start_time": "2024-08-02T03:44:48.531Z"
   },
   {
    "duration": 8,
    "start_time": "2024-08-02T03:44:48.542Z"
   },
   {
    "duration": 6,
    "start_time": "2024-08-02T03:44:48.553Z"
   },
   {
    "duration": 12,
    "start_time": "2024-08-02T03:44:48.562Z"
   },
   {
    "duration": 450,
    "start_time": "2024-08-02T03:44:48.576Z"
   },
   {
    "duration": 9,
    "start_time": "2024-08-02T03:44:49.029Z"
   },
   {
    "duration": 236,
    "start_time": "2024-08-02T03:44:49.041Z"
   },
   {
    "duration": 13,
    "start_time": "2024-08-02T03:44:49.280Z"
   },
   {
    "duration": 417,
    "start_time": "2024-08-02T03:44:49.296Z"
   },
   {
    "duration": 19,
    "start_time": "2024-08-02T03:44:49.716Z"
   },
   {
    "duration": 12,
    "start_time": "2024-08-02T03:44:49.738Z"
   },
   {
    "duration": 5,
    "start_time": "2024-08-02T03:44:49.752Z"
   },
   {
    "duration": 11,
    "start_time": "2024-08-02T03:44:49.761Z"
   },
   {
    "duration": 456,
    "start_time": "2024-08-02T03:44:49.775Z"
   },
   {
    "duration": 13,
    "start_time": "2024-08-02T03:44:50.243Z"
   },
   {
    "duration": 1704,
    "start_time": "2024-08-02T03:44:50.259Z"
   },
   {
    "duration": 175,
    "start_time": "2024-08-02T03:44:51.968Z"
   },
   {
    "duration": 16,
    "start_time": "2024-08-02T03:44:52.146Z"
   },
   {
    "duration": 23,
    "start_time": "2024-08-02T03:44:52.165Z"
   },
   {
    "duration": 41,
    "start_time": "2024-08-02T03:44:52.191Z"
   },
   {
    "duration": 529,
    "start_time": "2024-08-02T03:44:52.235Z"
   },
   {
    "duration": 23,
    "start_time": "2024-08-02T03:44:52.769Z"
   },
   {
    "duration": 197,
    "start_time": "2024-08-02T03:44:52.795Z"
   },
   {
    "duration": 122,
    "start_time": "2024-08-02T03:44:52.996Z"
   },
   {
    "duration": 21,
    "start_time": "2024-08-02T03:44:53.125Z"
   },
   {
    "duration": 7,
    "start_time": "2024-08-02T03:44:53.149Z"
   },
   {
    "duration": 1147,
    "start_time": "2024-08-02T03:44:53.160Z"
   },
   {
    "duration": 774,
    "start_time": "2024-08-02T03:44:54.310Z"
   },
   {
    "duration": 10,
    "start_time": "2024-08-02T03:44:55.087Z"
   },
   {
    "duration": 37,
    "start_time": "2024-08-02T03:44:55.100Z"
   },
   {
    "duration": 1386,
    "start_time": "2024-08-02T03:44:55.140Z"
   },
   {
    "duration": 1061,
    "start_time": "2024-08-02T03:47:21.251Z"
   },
   {
    "duration": 1408,
    "start_time": "2024-08-02T03:47:39.986Z"
   },
   {
    "duration": 775,
    "start_time": "2024-08-02T03:48:55.914Z"
   },
   {
    "duration": 1793,
    "start_time": "2024-08-02T03:48:56.692Z"
   },
   {
    "duration": 16,
    "start_time": "2024-08-02T03:48:58.488Z"
   },
   {
    "duration": 13,
    "start_time": "2024-08-02T03:48:58.525Z"
   },
   {
    "duration": 155,
    "start_time": "2024-08-02T03:48:58.541Z"
   },
   {
    "duration": 29,
    "start_time": "2024-08-02T03:48:58.699Z"
   },
   {
    "duration": 10,
    "start_time": "2024-08-02T03:48:58.731Z"
   },
   {
    "duration": 10,
    "start_time": "2024-08-02T03:48:58.745Z"
   },
   {
    "duration": 27,
    "start_time": "2024-08-02T03:48:58.758Z"
   },
   {
    "duration": 15,
    "start_time": "2024-08-02T03:48:58.827Z"
   },
   {
    "duration": 11,
    "start_time": "2024-08-02T03:48:58.845Z"
   },
   {
    "duration": 10,
    "start_time": "2024-08-02T03:48:58.859Z"
   },
   {
    "duration": 810,
    "start_time": "2024-08-02T03:48:58.872Z"
   },
   {
    "duration": 54,
    "start_time": "2024-08-02T03:48:59.685Z"
   },
   {
    "duration": 10,
    "start_time": "2024-08-02T03:48:59.742Z"
   },
   {
    "duration": 10,
    "start_time": "2024-08-02T03:48:59.755Z"
   },
   {
    "duration": 14,
    "start_time": "2024-08-02T03:48:59.769Z"
   },
   {
    "duration": 46,
    "start_time": "2024-08-02T03:48:59.786Z"
   },
   {
    "duration": 12,
    "start_time": "2024-08-02T03:48:59.836Z"
   },
   {
    "duration": 26,
    "start_time": "2024-08-02T03:48:59.851Z"
   },
   {
    "duration": 188,
    "start_time": "2024-08-02T03:48:59.880Z"
   },
   {
    "duration": 242,
    "start_time": "2024-08-02T03:49:00.071Z"
   },
   {
    "duration": 31,
    "start_time": "2024-08-02T03:49:00.319Z"
   },
   {
    "duration": 201,
    "start_time": "2024-08-02T03:49:00.353Z"
   },
   {
    "duration": 170,
    "start_time": "2024-08-02T03:49:00.557Z"
   },
   {
    "duration": 4,
    "start_time": "2024-08-02T03:49:00.730Z"
   },
   {
    "duration": 16,
    "start_time": "2024-08-02T03:49:00.738Z"
   },
   {
    "duration": 77,
    "start_time": "2024-08-02T03:49:00.764Z"
   },
   {
    "duration": 22,
    "start_time": "2024-08-02T03:49:00.844Z"
   },
   {
    "duration": 7,
    "start_time": "2024-08-02T03:49:00.870Z"
   },
   {
    "duration": 53,
    "start_time": "2024-08-02T03:49:00.879Z"
   },
   {
    "duration": 14,
    "start_time": "2024-08-02T03:49:00.935Z"
   },
   {
    "duration": 21,
    "start_time": "2024-08-02T03:49:00.952Z"
   },
   {
    "duration": 68,
    "start_time": "2024-08-02T03:49:00.975Z"
   },
   {
    "duration": 7,
    "start_time": "2024-08-02T03:49:01.046Z"
   },
   {
    "duration": 6,
    "start_time": "2024-08-02T03:49:01.056Z"
   },
   {
    "duration": 7,
    "start_time": "2024-08-02T03:49:01.065Z"
   },
   {
    "duration": 51,
    "start_time": "2024-08-02T03:49:01.075Z"
   },
   {
    "duration": 1339,
    "start_time": "2024-08-02T03:49:01.129Z"
   },
   {
    "duration": 1140,
    "start_time": "2024-08-02T03:49:02.470Z"
   },
   {
    "duration": 20,
    "start_time": "2024-08-02T03:49:03.612Z"
   },
   {
    "duration": 20,
    "start_time": "2024-08-02T03:49:03.634Z"
   },
   {
    "duration": 10,
    "start_time": "2024-08-02T03:49:03.657Z"
   },
   {
    "duration": 10,
    "start_time": "2024-08-02T03:49:03.670Z"
   },
   {
    "duration": 50,
    "start_time": "2024-08-02T03:49:03.683Z"
   },
   {
    "duration": 10,
    "start_time": "2024-08-02T03:49:03.736Z"
   },
   {
    "duration": 19,
    "start_time": "2024-08-02T03:49:03.748Z"
   },
   {
    "duration": 8,
    "start_time": "2024-08-02T03:49:03.770Z"
   },
   {
    "duration": 53,
    "start_time": "2024-08-02T03:49:03.781Z"
   },
   {
    "duration": 18,
    "start_time": "2024-08-02T03:49:03.837Z"
   },
   {
    "duration": 11,
    "start_time": "2024-08-02T03:49:03.858Z"
   },
   {
    "duration": 55,
    "start_time": "2024-08-02T03:49:03.872Z"
   },
   {
    "duration": 12,
    "start_time": "2024-08-02T03:49:03.930Z"
   },
   {
    "duration": 5,
    "start_time": "2024-08-02T03:49:03.945Z"
   },
   {
    "duration": 11,
    "start_time": "2024-08-02T03:49:03.953Z"
   },
   {
    "duration": 72,
    "start_time": "2024-08-02T03:49:03.967Z"
   },
   {
    "duration": 28,
    "start_time": "2024-08-02T03:49:04.042Z"
   },
   {
    "duration": 28,
    "start_time": "2024-08-02T03:49:04.072Z"
   },
   {
    "duration": 28,
    "start_time": "2024-08-02T03:49:04.128Z"
   },
   {
    "duration": 26,
    "start_time": "2024-08-02T03:49:04.159Z"
   },
   {
    "duration": 42,
    "start_time": "2024-08-02T03:49:04.188Z"
   },
   {
    "duration": 4,
    "start_time": "2024-08-02T03:49:04.232Z"
   },
   {
    "duration": 128,
    "start_time": "2024-08-02T03:49:04.240Z"
   },
   {
    "duration": 11,
    "start_time": "2024-08-02T03:49:04.371Z"
   },
   {
    "duration": 53,
    "start_time": "2024-08-02T03:49:04.385Z"
   },
   {
    "duration": 7,
    "start_time": "2024-08-02T03:49:04.441Z"
   },
   {
    "duration": 24,
    "start_time": "2024-08-02T03:49:04.451Z"
   },
   {
    "duration": 8,
    "start_time": "2024-08-02T03:49:04.477Z"
   },
   {
    "duration": 41,
    "start_time": "2024-08-02T03:49:04.488Z"
   },
   {
    "duration": 6,
    "start_time": "2024-08-02T03:49:04.532Z"
   },
   {
    "duration": 14,
    "start_time": "2024-08-02T03:49:04.541Z"
   },
   {
    "duration": 404,
    "start_time": "2024-08-02T03:49:04.557Z"
   },
   {
    "duration": 9,
    "start_time": "2024-08-02T03:49:04.964Z"
   },
   {
    "duration": 234,
    "start_time": "2024-08-02T03:49:04.976Z"
   },
   {
    "duration": 18,
    "start_time": "2024-08-02T03:49:05.212Z"
   },
   {
    "duration": 386,
    "start_time": "2024-08-02T03:49:05.233Z"
   },
   {
    "duration": 12,
    "start_time": "2024-08-02T03:49:05.626Z"
   },
   {
    "duration": 11,
    "start_time": "2024-08-02T03:49:05.641Z"
   },
   {
    "duration": 5,
    "start_time": "2024-08-02T03:49:05.655Z"
   },
   {
    "duration": 10,
    "start_time": "2024-08-02T03:49:05.664Z"
   },
   {
    "duration": 443,
    "start_time": "2024-08-02T03:49:05.678Z"
   },
   {
    "duration": 14,
    "start_time": "2024-08-02T03:49:06.136Z"
   },
   {
    "duration": 1724,
    "start_time": "2024-08-02T03:49:06.153Z"
   },
   {
    "duration": 177,
    "start_time": "2024-08-02T03:49:07.880Z"
   },
   {
    "duration": 15,
    "start_time": "2024-08-02T03:49:08.061Z"
   },
   {
    "duration": 49,
    "start_time": "2024-08-02T03:49:08.078Z"
   },
   {
    "duration": 14,
    "start_time": "2024-08-02T03:49:08.130Z"
   },
   {
    "duration": 528,
    "start_time": "2024-08-02T03:49:08.147Z"
   },
   {
    "duration": 26,
    "start_time": "2024-08-02T03:49:08.678Z"
   },
   {
    "duration": 181,
    "start_time": "2024-08-02T03:49:08.726Z"
   },
   {
    "duration": 190,
    "start_time": "2024-08-02T03:49:08.910Z"
   },
   {
    "duration": 33,
    "start_time": "2024-08-02T03:49:09.102Z"
   },
   {
    "duration": 9,
    "start_time": "2024-08-02T03:49:09.139Z"
   },
   {
    "duration": 1138,
    "start_time": "2024-08-02T03:49:09.151Z"
   },
   {
    "duration": 781,
    "start_time": "2024-08-02T03:49:10.292Z"
   },
   {
    "duration": 9,
    "start_time": "2024-08-02T03:49:11.076Z"
   },
   {
    "duration": 39,
    "start_time": "2024-08-02T03:49:11.088Z"
   },
   {
    "duration": 1381,
    "start_time": "2024-08-02T03:49:11.130Z"
   },
   {
    "duration": 1056,
    "start_time": "2024-08-02T03:49:12.514Z"
   },
   {
    "duration": 720,
    "start_time": "2024-08-02T03:49:27.978Z"
   },
   {
    "duration": 198,
    "start_time": "2024-08-02T03:54:21.154Z"
   },
   {
    "duration": 700,
    "start_time": "2024-08-02T03:55:00.453Z"
   },
   {
    "duration": 192,
    "start_time": "2024-08-02T03:55:25.261Z"
   },
   {
    "duration": 686,
    "start_time": "2024-08-02T03:58:55.277Z"
   },
   {
    "duration": 19,
    "start_time": "2024-08-02T04:00:09.214Z"
   },
   {
    "duration": 40,
    "start_time": "2024-08-02T04:01:05.943Z"
   },
   {
    "duration": 2093,
    "start_time": "2024-08-02T04:04:00.639Z"
   },
   {
    "duration": 83,
    "start_time": "2024-08-02T04:04:15.383Z"
   },
   {
    "duration": 246,
    "start_time": "2024-08-02T04:04:18.792Z"
   },
   {
    "duration": 311,
    "start_time": "2024-08-02T04:05:08.633Z"
   },
   {
    "duration": 21,
    "start_time": "2024-08-02T04:05:18.689Z"
   },
   {
    "duration": 780,
    "start_time": "2024-08-02T04:05:26.415Z"
   },
   {
    "duration": 1728,
    "start_time": "2024-08-02T04:05:27.198Z"
   },
   {
    "duration": 17,
    "start_time": "2024-08-02T04:05:28.929Z"
   },
   {
    "duration": 12,
    "start_time": "2024-08-02T04:05:28.951Z"
   },
   {
    "duration": 174,
    "start_time": "2024-08-02T04:05:28.967Z"
   },
   {
    "duration": 17,
    "start_time": "2024-08-02T04:05:29.144Z"
   },
   {
    "duration": 10,
    "start_time": "2024-08-02T04:05:29.165Z"
   },
   {
    "duration": 48,
    "start_time": "2024-08-02T04:05:29.178Z"
   },
   {
    "duration": 25,
    "start_time": "2024-08-02T04:05:29.228Z"
   },
   {
    "duration": 15,
    "start_time": "2024-08-02T04:05:29.259Z"
   },
   {
    "duration": 48,
    "start_time": "2024-08-02T04:05:29.277Z"
   },
   {
    "duration": 10,
    "start_time": "2024-08-02T04:05:29.328Z"
   },
   {
    "duration": 801,
    "start_time": "2024-08-02T04:05:29.341Z"
   },
   {
    "duration": 39,
    "start_time": "2024-08-02T04:05:30.145Z"
   },
   {
    "duration": 34,
    "start_time": "2024-08-02T04:05:30.192Z"
   },
   {
    "duration": 9,
    "start_time": "2024-08-02T04:05:30.229Z"
   },
   {
    "duration": 12,
    "start_time": "2024-08-02T04:05:30.242Z"
   },
   {
    "duration": 10,
    "start_time": "2024-08-02T04:05:30.257Z"
   },
   {
    "duration": 8,
    "start_time": "2024-08-02T04:05:30.270Z"
   },
   {
    "duration": 13,
    "start_time": "2024-08-02T04:05:30.326Z"
   },
   {
    "duration": 164,
    "start_time": "2024-08-02T04:05:30.342Z"
   },
   {
    "duration": 179,
    "start_time": "2024-08-02T04:05:30.509Z"
   },
   {
    "duration": 19,
    "start_time": "2024-08-02T04:05:30.690Z"
   },
   {
    "duration": 188,
    "start_time": "2024-08-02T04:05:30.727Z"
   },
   {
    "duration": 175,
    "start_time": "2024-08-02T04:05:30.918Z"
   },
   {
    "duration": 4,
    "start_time": "2024-08-02T04:05:31.096Z"
   },
   {
    "duration": 32,
    "start_time": "2024-08-02T04:05:31.103Z"
   },
   {
    "duration": 45,
    "start_time": "2024-08-02T04:05:31.144Z"
   },
   {
    "duration": 47,
    "start_time": "2024-08-02T04:05:31.192Z"
   },
   {
    "duration": 7,
    "start_time": "2024-08-02T04:05:31.241Z"
   },
   {
    "duration": 23,
    "start_time": "2024-08-02T04:05:31.252Z"
   },
   {
    "duration": 14,
    "start_time": "2024-08-02T04:05:31.278Z"
   },
   {
    "duration": 21,
    "start_time": "2024-08-02T04:05:31.328Z"
   },
   {
    "duration": 29,
    "start_time": "2024-08-02T04:05:31.352Z"
   },
   {
    "duration": 45,
    "start_time": "2024-08-02T04:05:31.384Z"
   },
   {
    "duration": 7,
    "start_time": "2024-08-02T04:05:31.432Z"
   },
   {
    "duration": 12,
    "start_time": "2024-08-02T04:05:31.442Z"
   },
   {
    "duration": 8,
    "start_time": "2024-08-02T04:05:31.457Z"
   },
   {
    "duration": 1359,
    "start_time": "2024-08-02T04:05:31.468Z"
   },
   {
    "duration": 1152,
    "start_time": "2024-08-02T04:05:32.830Z"
   },
   {
    "duration": 12,
    "start_time": "2024-08-02T04:05:33.986Z"
   },
   {
    "duration": 40,
    "start_time": "2024-08-02T04:05:34.001Z"
   },
   {
    "duration": 9,
    "start_time": "2024-08-02T04:05:34.045Z"
   },
   {
    "duration": 10,
    "start_time": "2024-08-02T04:05:34.057Z"
   },
   {
    "duration": 9,
    "start_time": "2024-08-02T04:05:34.070Z"
   },
   {
    "duration": 50,
    "start_time": "2024-08-02T04:05:34.082Z"
   },
   {
    "duration": 20,
    "start_time": "2024-08-02T04:05:34.136Z"
   },
   {
    "duration": 10,
    "start_time": "2024-08-02T04:05:34.158Z"
   },
   {
    "duration": 8,
    "start_time": "2024-08-02T04:05:34.171Z"
   },
   {
    "duration": 58,
    "start_time": "2024-08-02T04:05:34.182Z"
   },
   {
    "duration": 11,
    "start_time": "2024-08-02T04:05:34.243Z"
   },
   {
    "duration": 20,
    "start_time": "2024-08-02T04:05:34.257Z"
   },
   {
    "duration": 50,
    "start_time": "2024-08-02T04:05:34.281Z"
   },
   {
    "duration": 6,
    "start_time": "2024-08-02T04:05:34.334Z"
   },
   {
    "duration": 12,
    "start_time": "2024-08-02T04:05:34.343Z"
   },
   {
    "duration": 28,
    "start_time": "2024-08-02T04:05:34.358Z"
   },
   {
    "duration": 29,
    "start_time": "2024-08-02T04:05:34.427Z"
   },
   {
    "duration": 27,
    "start_time": "2024-08-02T04:05:34.459Z"
   },
   {
    "duration": 56,
    "start_time": "2024-08-02T04:05:34.489Z"
   },
   {
    "duration": 25,
    "start_time": "2024-08-02T04:05:34.548Z"
   },
   {
    "duration": 9,
    "start_time": "2024-08-02T04:05:34.575Z"
   },
   {
    "duration": 40,
    "start_time": "2024-08-02T04:05:34.587Z"
   },
   {
    "duration": 124,
    "start_time": "2024-08-02T04:05:34.630Z"
   },
   {
    "duration": 13,
    "start_time": "2024-08-02T04:05:34.757Z"
   },
   {
    "duration": 29,
    "start_time": "2024-08-02T04:05:34.773Z"
   },
   {
    "duration": 31,
    "start_time": "2024-08-02T04:05:34.804Z"
   },
   {
    "duration": 25,
    "start_time": "2024-08-02T04:05:34.838Z"
   },
   {
    "duration": 7,
    "start_time": "2024-08-02T04:05:34.866Z"
   },
   {
    "duration": 7,
    "start_time": "2024-08-02T04:05:34.876Z"
   },
   {
    "duration": 7,
    "start_time": "2024-08-02T04:05:34.927Z"
   },
   {
    "duration": 13,
    "start_time": "2024-08-02T04:05:34.937Z"
   },
   {
    "duration": 377,
    "start_time": "2024-08-02T04:05:34.954Z"
   },
   {
    "duration": 13,
    "start_time": "2024-08-02T04:05:35.336Z"
   },
   {
    "duration": 226,
    "start_time": "2024-08-02T04:05:35.352Z"
   },
   {
    "duration": 13,
    "start_time": "2024-08-02T04:05:35.582Z"
   },
   {
    "duration": 387,
    "start_time": "2024-08-02T04:05:35.598Z"
   },
   {
    "duration": 12,
    "start_time": "2024-08-02T04:05:35.988Z"
   },
   {
    "duration": 34,
    "start_time": "2024-08-02T04:05:36.003Z"
   },
   {
    "duration": 6,
    "start_time": "2024-08-02T04:05:36.040Z"
   },
   {
    "duration": 10,
    "start_time": "2024-08-02T04:05:36.050Z"
   },
   {
    "duration": 445,
    "start_time": "2024-08-02T04:05:36.063Z"
   },
   {
    "duration": 13,
    "start_time": "2024-08-02T04:05:36.530Z"
   },
   {
    "duration": 1727,
    "start_time": "2024-08-02T04:05:36.546Z"
   },
   {
    "duration": 183,
    "start_time": "2024-08-02T04:05:38.276Z"
   },
   {
    "duration": 15,
    "start_time": "2024-08-02T04:05:38.462Z"
   },
   {
    "duration": 50,
    "start_time": "2024-08-02T04:05:38.481Z"
   },
   {
    "duration": 7,
    "start_time": "2024-08-02T04:05:38.536Z"
   },
   {
    "duration": 520,
    "start_time": "2024-08-02T04:05:38.546Z"
   },
   {
    "duration": 22,
    "start_time": "2024-08-02T04:05:39.069Z"
   },
   {
    "duration": 203,
    "start_time": "2024-08-02T04:05:39.094Z"
   },
   {
    "duration": 206,
    "start_time": "2024-08-02T04:05:39.300Z"
   },
   {
    "duration": 29,
    "start_time": "2024-08-02T04:05:39.509Z"
   },
   {
    "duration": 7,
    "start_time": "2024-08-02T04:05:39.542Z"
   },
   {
    "duration": 1114,
    "start_time": "2024-08-02T04:05:39.552Z"
   },
   {
    "duration": 792,
    "start_time": "2024-08-02T04:05:40.669Z"
   },
   {
    "duration": 10,
    "start_time": "2024-08-02T04:05:41.465Z"
   },
   {
    "duration": 17,
    "start_time": "2024-08-02T04:05:41.477Z"
   },
   {
    "duration": 1399,
    "start_time": "2024-08-02T04:05:41.497Z"
   },
   {
    "duration": 2133,
    "start_time": "2024-08-02T04:05:42.899Z"
   },
   {
    "duration": 98,
    "start_time": "2024-08-02T04:05:45.035Z"
   },
   {
    "duration": 257,
    "start_time": "2024-08-02T04:05:45.135Z"
   },
   {
    "duration": 364,
    "start_time": "2024-08-02T04:09:09.504Z"
   },
   {
    "duration": 4,
    "start_time": "2024-08-02T04:10:01.024Z"
   },
   {
    "duration": 4,
    "start_time": "2024-08-02T04:10:02.840Z"
   },
   {
    "duration": 740,
    "start_time": "2024-08-02T04:10:52.701Z"
   },
   {
    "duration": 1767,
    "start_time": "2024-08-02T04:10:53.445Z"
   },
   {
    "duration": 21,
    "start_time": "2024-08-02T04:10:55.215Z"
   },
   {
    "duration": 12,
    "start_time": "2024-08-02T04:10:55.239Z"
   },
   {
    "duration": 166,
    "start_time": "2024-08-02T04:10:55.254Z"
   },
   {
    "duration": 20,
    "start_time": "2024-08-02T04:10:55.426Z"
   },
   {
    "duration": 11,
    "start_time": "2024-08-02T04:10:55.449Z"
   },
   {
    "duration": 11,
    "start_time": "2024-08-02T04:10:55.465Z"
   },
   {
    "duration": 62,
    "start_time": "2024-08-02T04:10:55.478Z"
   },
   {
    "duration": 15,
    "start_time": "2024-08-02T04:10:55.545Z"
   },
   {
    "duration": 12,
    "start_time": "2024-08-02T04:10:55.563Z"
   },
   {
    "duration": 11,
    "start_time": "2024-08-02T04:10:55.578Z"
   },
   {
    "duration": 771,
    "start_time": "2024-08-02T04:10:55.627Z"
   },
   {
    "duration": 52,
    "start_time": "2024-08-02T04:10:56.400Z"
   },
   {
    "duration": 10,
    "start_time": "2024-08-02T04:10:56.455Z"
   },
   {
    "duration": 10,
    "start_time": "2024-08-02T04:10:56.468Z"
   },
   {
    "duration": 48,
    "start_time": "2024-08-02T04:10:56.481Z"
   },
   {
    "duration": 10,
    "start_time": "2024-08-02T04:10:56.532Z"
   },
   {
    "duration": 9,
    "start_time": "2024-08-02T04:10:56.545Z"
   },
   {
    "duration": 14,
    "start_time": "2024-08-02T04:10:56.558Z"
   },
   {
    "duration": 197,
    "start_time": "2024-08-02T04:10:56.576Z"
   },
   {
    "duration": 171,
    "start_time": "2024-08-02T04:10:56.776Z"
   },
   {
    "duration": 19,
    "start_time": "2024-08-02T04:10:56.949Z"
   },
   {
    "duration": 201,
    "start_time": "2024-08-02T04:10:56.971Z"
   },
   {
    "duration": 212,
    "start_time": "2024-08-02T04:10:57.175Z"
   },
   {
    "duration": 37,
    "start_time": "2024-08-02T04:10:57.389Z"
   },
   {
    "duration": 16,
    "start_time": "2024-08-02T04:10:57.429Z"
   },
   {
    "duration": 99,
    "start_time": "2024-08-02T04:10:57.455Z"
   },
   {
    "duration": 23,
    "start_time": "2024-08-02T04:10:57.557Z"
   },
   {
    "duration": 50,
    "start_time": "2024-08-02T04:10:57.583Z"
   },
   {
    "duration": 29,
    "start_time": "2024-08-02T04:10:57.637Z"
   },
   {
    "duration": 14,
    "start_time": "2024-08-02T04:10:57.668Z"
   },
   {
    "duration": 58,
    "start_time": "2024-08-02T04:10:57.686Z"
   },
   {
    "duration": 30,
    "start_time": "2024-08-02T04:10:57.747Z"
   },
   {
    "duration": 8,
    "start_time": "2024-08-02T04:10:57.780Z"
   },
   {
    "duration": 41,
    "start_time": "2024-08-02T04:10:57.791Z"
   },
   {
    "duration": 8,
    "start_time": "2024-08-02T04:10:57.836Z"
   },
   {
    "duration": 7,
    "start_time": "2024-08-02T04:10:57.848Z"
   },
   {
    "duration": 1373,
    "start_time": "2024-08-02T04:10:57.858Z"
   },
   {
    "duration": 1175,
    "start_time": "2024-08-02T04:10:59.234Z"
   },
   {
    "duration": 20,
    "start_time": "2024-08-02T04:11:00.412Z"
   },
   {
    "duration": 21,
    "start_time": "2024-08-02T04:11:00.435Z"
   },
   {
    "duration": 10,
    "start_time": "2024-08-02T04:11:00.459Z"
   },
   {
    "duration": 52,
    "start_time": "2024-08-02T04:11:00.473Z"
   },
   {
    "duration": 9,
    "start_time": "2024-08-02T04:11:00.528Z"
   },
   {
    "duration": 11,
    "start_time": "2024-08-02T04:11:00.541Z"
   },
   {
    "duration": 22,
    "start_time": "2024-08-02T04:11:00.555Z"
   },
   {
    "duration": 46,
    "start_time": "2024-08-02T04:11:00.580Z"
   },
   {
    "duration": 8,
    "start_time": "2024-08-02T04:11:00.629Z"
   },
   {
    "duration": 18,
    "start_time": "2024-08-02T04:11:00.641Z"
   },
   {
    "duration": 12,
    "start_time": "2024-08-02T04:11:00.662Z"
   },
   {
    "duration": 65,
    "start_time": "2024-08-02T04:11:00.676Z"
   },
   {
    "duration": 11,
    "start_time": "2024-08-02T04:11:00.744Z"
   },
   {
    "duration": 6,
    "start_time": "2024-08-02T04:11:00.758Z"
   },
   {
    "duration": 12,
    "start_time": "2024-08-02T04:11:00.766Z"
   },
   {
    "duration": 69,
    "start_time": "2024-08-02T04:11:00.780Z"
   },
   {
    "duration": 29,
    "start_time": "2024-08-02T04:11:00.852Z"
   },
   {
    "duration": 56,
    "start_time": "2024-08-02T04:11:00.884Z"
   },
   {
    "duration": 28,
    "start_time": "2024-08-02T04:11:00.943Z"
   },
   {
    "duration": 53,
    "start_time": "2024-08-02T04:11:00.973Z"
   },
   {
    "duration": 9,
    "start_time": "2024-08-02T04:11:01.029Z"
   },
   {
    "duration": 4,
    "start_time": "2024-08-02T04:11:01.041Z"
   },
   {
    "duration": 141,
    "start_time": "2024-08-02T04:11:01.048Z"
   },
   {
    "duration": 11,
    "start_time": "2024-08-02T04:11:01.192Z"
   },
   {
    "duration": 44,
    "start_time": "2024-08-02T04:11:01.206Z"
   },
   {
    "duration": 12,
    "start_time": "2024-08-02T04:11:01.252Z"
   },
   {
    "duration": 27,
    "start_time": "2024-08-02T04:11:01.267Z"
   },
   {
    "duration": 32,
    "start_time": "2024-08-02T04:11:01.297Z"
   },
   {
    "duration": 6,
    "start_time": "2024-08-02T04:11:01.333Z"
   },
   {
    "duration": 6,
    "start_time": "2024-08-02T04:11:01.342Z"
   },
   {
    "duration": 13,
    "start_time": "2024-08-02T04:11:01.351Z"
   },
   {
    "duration": 400,
    "start_time": "2024-08-02T04:11:01.366Z"
   },
   {
    "duration": 9,
    "start_time": "2024-08-02T04:11:01.768Z"
   },
   {
    "duration": 234,
    "start_time": "2024-08-02T04:11:01.780Z"
   },
   {
    "duration": 17,
    "start_time": "2024-08-02T04:11:02.017Z"
   },
   {
    "duration": 381,
    "start_time": "2024-08-02T04:11:02.037Z"
   },
   {
    "duration": 12,
    "start_time": "2024-08-02T04:11:02.425Z"
   },
   {
    "duration": 12,
    "start_time": "2024-08-02T04:11:02.439Z"
   },
   {
    "duration": 6,
    "start_time": "2024-08-02T04:11:02.454Z"
   },
   {
    "duration": 11,
    "start_time": "2024-08-02T04:11:02.463Z"
   },
   {
    "duration": 455,
    "start_time": "2024-08-02T04:11:02.476Z"
   },
   {
    "duration": 13,
    "start_time": "2024-08-02T04:11:02.945Z"
   },
   {
    "duration": 1714,
    "start_time": "2024-08-02T04:11:02.960Z"
   },
   {
    "duration": 185,
    "start_time": "2024-08-02T04:11:04.677Z"
   },
   {
    "duration": 19,
    "start_time": "2024-08-02T04:11:04.865Z"
   },
   {
    "duration": 42,
    "start_time": "2024-08-02T04:11:04.886Z"
   },
   {
    "duration": 8,
    "start_time": "2024-08-02T04:11:04.931Z"
   },
   {
    "duration": 530,
    "start_time": "2024-08-02T04:11:04.942Z"
   },
   {
    "duration": 25,
    "start_time": "2024-08-02T04:11:05.475Z"
   },
   {
    "duration": 203,
    "start_time": "2024-08-02T04:11:05.503Z"
   },
   {
    "duration": 194,
    "start_time": "2024-08-02T04:11:05.709Z"
   },
   {
    "duration": 34,
    "start_time": "2024-08-02T04:11:05.906Z"
   },
   {
    "duration": 8,
    "start_time": "2024-08-02T04:11:05.942Z"
   },
   {
    "duration": 1095,
    "start_time": "2024-08-02T04:11:05.954Z"
   },
   {
    "duration": 795,
    "start_time": "2024-08-02T04:11:07.052Z"
   },
   {
    "duration": 11,
    "start_time": "2024-08-02T04:11:07.850Z"
   },
   {
    "duration": 19,
    "start_time": "2024-08-02T04:11:07.864Z"
   },
   {
    "duration": 1403,
    "start_time": "2024-08-02T04:11:07.886Z"
   },
   {
    "duration": 7,
    "start_time": "2024-08-02T04:11:09.291Z"
   },
   {
    "duration": 2118,
    "start_time": "2024-08-02T04:11:28.148Z"
   },
   {
    "duration": 1982,
    "start_time": "2024-08-02T04:11:33.279Z"
   },
   {
    "duration": 89,
    "start_time": "2024-08-02T04:11:54.159Z"
   },
   {
    "duration": 399,
    "start_time": "2024-08-02T04:12:11.596Z"
   },
   {
    "duration": 8,
    "start_time": "2024-08-02T04:12:26.517Z"
   },
   {
    "duration": 41,
    "start_time": "2024-08-02T04:13:24.885Z"
   },
   {
    "duration": 92,
    "start_time": "2024-08-02T04:13:44.138Z"
   },
   {
    "duration": 6,
    "start_time": "2024-08-02T04:15:04.212Z"
   },
   {
    "duration": 6,
    "start_time": "2024-08-02T04:15:07.592Z"
   },
   {
    "duration": 10,
    "start_time": "2024-08-02T04:15:17.934Z"
   },
   {
    "duration": 156,
    "start_time": "2024-08-02T04:15:29.813Z"
   },
   {
    "duration": 8,
    "start_time": "2024-08-02T04:15:33.278Z"
   },
   {
    "duration": 13,
    "start_time": "2024-08-02T04:16:13.155Z"
   },
   {
    "duration": 230,
    "start_time": "2024-08-02T04:17:24.485Z"
   },
   {
    "duration": 14,
    "start_time": "2024-08-02T04:17:27.852Z"
   },
   {
    "duration": 771,
    "start_time": "2024-08-02T04:21:43.861Z"
   },
   {
    "duration": 1770,
    "start_time": "2024-08-02T04:21:44.635Z"
   },
   {
    "duration": 19,
    "start_time": "2024-08-02T04:21:46.408Z"
   },
   {
    "duration": 11,
    "start_time": "2024-08-02T04:21:46.431Z"
   },
   {
    "duration": 162,
    "start_time": "2024-08-02T04:21:46.445Z"
   },
   {
    "duration": 25,
    "start_time": "2024-08-02T04:21:46.610Z"
   },
   {
    "duration": 10,
    "start_time": "2024-08-02T04:21:46.638Z"
   },
   {
    "duration": 10,
    "start_time": "2024-08-02T04:21:46.651Z"
   },
   {
    "duration": 62,
    "start_time": "2024-08-02T04:21:46.665Z"
   },
   {
    "duration": 16,
    "start_time": "2024-08-02T04:21:46.732Z"
   },
   {
    "duration": 10,
    "start_time": "2024-08-02T04:21:46.751Z"
   },
   {
    "duration": 11,
    "start_time": "2024-08-02T04:21:46.764Z"
   },
   {
    "duration": 815,
    "start_time": "2024-08-02T04:21:46.778Z"
   },
   {
    "duration": 61,
    "start_time": "2024-08-02T04:21:47.596Z"
   },
   {
    "duration": 10,
    "start_time": "2024-08-02T04:21:47.659Z"
   },
   {
    "duration": 12,
    "start_time": "2024-08-02T04:21:47.671Z"
   },
   {
    "duration": 41,
    "start_time": "2024-08-02T04:21:47.685Z"
   },
   {
    "duration": 10,
    "start_time": "2024-08-02T04:21:47.729Z"
   },
   {
    "duration": 9,
    "start_time": "2024-08-02T04:21:47.742Z"
   },
   {
    "duration": 13,
    "start_time": "2024-08-02T04:21:47.754Z"
   },
   {
    "duration": 194,
    "start_time": "2024-08-02T04:21:47.770Z"
   },
   {
    "duration": 182,
    "start_time": "2024-08-02T04:21:47.967Z"
   },
   {
    "duration": 21,
    "start_time": "2024-08-02T04:21:48.152Z"
   },
   {
    "duration": 203,
    "start_time": "2024-08-02T04:21:48.176Z"
   },
   {
    "duration": 173,
    "start_time": "2024-08-02T04:21:48.382Z"
   },
   {
    "duration": 3,
    "start_time": "2024-08-02T04:21:48.559Z"
   },
   {
    "duration": 15,
    "start_time": "2024-08-02T04:21:48.566Z"
   },
   {
    "duration": 71,
    "start_time": "2024-08-02T04:21:48.591Z"
   },
   {
    "duration": 23,
    "start_time": "2024-08-02T04:21:48.665Z"
   },
   {
    "duration": 6,
    "start_time": "2024-08-02T04:21:48.691Z"
   },
   {
    "duration": 28,
    "start_time": "2024-08-02T04:21:48.727Z"
   },
   {
    "duration": 14,
    "start_time": "2024-08-02T04:21:48.759Z"
   },
   {
    "duration": 55,
    "start_time": "2024-08-02T04:21:48.776Z"
   },
   {
    "duration": 28,
    "start_time": "2024-08-02T04:21:48.833Z"
   },
   {
    "duration": 7,
    "start_time": "2024-08-02T04:21:48.863Z"
   },
   {
    "duration": 6,
    "start_time": "2024-08-02T04:21:48.874Z"
   },
   {
    "duration": 46,
    "start_time": "2024-08-02T04:21:48.883Z"
   },
   {
    "duration": 7,
    "start_time": "2024-08-02T04:21:48.932Z"
   },
   {
    "duration": 1356,
    "start_time": "2024-08-02T04:21:48.942Z"
   },
   {
    "duration": 1191,
    "start_time": "2024-08-02T04:21:50.301Z"
   },
   {
    "duration": 32,
    "start_time": "2024-08-02T04:21:51.496Z"
   },
   {
    "duration": 23,
    "start_time": "2024-08-02T04:21:51.531Z"
   },
   {
    "duration": 11,
    "start_time": "2024-08-02T04:21:51.557Z"
   },
   {
    "duration": 11,
    "start_time": "2024-08-02T04:21:51.571Z"
   },
   {
    "duration": 14,
    "start_time": "2024-08-02T04:21:51.626Z"
   },
   {
    "duration": 15,
    "start_time": "2024-08-02T04:21:51.643Z"
   },
   {
    "duration": 29,
    "start_time": "2024-08-02T04:21:51.662Z"
   },
   {
    "duration": 10,
    "start_time": "2024-08-02T04:21:51.727Z"
   },
   {
    "duration": 13,
    "start_time": "2024-08-02T04:21:51.741Z"
   },
   {
    "duration": 20,
    "start_time": "2024-08-02T04:21:51.757Z"
   },
   {
    "duration": 49,
    "start_time": "2024-08-02T04:21:51.781Z"
   },
   {
    "duration": 21,
    "start_time": "2024-08-02T04:21:51.834Z"
   },
   {
    "duration": 14,
    "start_time": "2024-08-02T04:21:51.858Z"
   },
   {
    "duration": 6,
    "start_time": "2024-08-02T04:21:51.875Z"
   },
   {
    "duration": 14,
    "start_time": "2024-08-02T04:21:51.927Z"
   },
   {
    "duration": 30,
    "start_time": "2024-08-02T04:21:51.944Z"
   },
   {
    "duration": 78,
    "start_time": "2024-08-02T04:21:51.978Z"
   },
   {
    "duration": 32,
    "start_time": "2024-08-02T04:21:52.061Z"
   },
   {
    "duration": 38,
    "start_time": "2024-08-02T04:21:52.127Z"
   },
   {
    "duration": 73,
    "start_time": "2024-08-02T04:21:52.169Z"
   },
   {
    "duration": 18,
    "start_time": "2024-08-02T04:21:52.246Z"
   },
   {
    "duration": 10,
    "start_time": "2024-08-02T04:21:52.270Z"
   },
   {
    "duration": 156,
    "start_time": "2024-08-02T04:21:52.283Z"
   },
   {
    "duration": 13,
    "start_time": "2024-08-02T04:21:52.442Z"
   },
   {
    "duration": 31,
    "start_time": "2024-08-02T04:21:52.458Z"
   },
   {
    "duration": 38,
    "start_time": "2024-08-02T04:21:52.492Z"
   },
   {
    "duration": 31,
    "start_time": "2024-08-02T04:21:52.534Z"
   },
   {
    "duration": 8,
    "start_time": "2024-08-02T04:21:52.568Z"
   },
   {
    "duration": 50,
    "start_time": "2024-08-02T04:21:52.579Z"
   },
   {
    "duration": 8,
    "start_time": "2024-08-02T04:21:52.633Z"
   },
   {
    "duration": 15,
    "start_time": "2024-08-02T04:21:52.645Z"
   },
   {
    "duration": 415,
    "start_time": "2024-08-02T04:21:52.664Z"
   },
   {
    "duration": 10,
    "start_time": "2024-08-02T04:21:53.083Z"
   },
   {
    "duration": 259,
    "start_time": "2024-08-02T04:21:53.096Z"
   },
   {
    "duration": 12,
    "start_time": "2024-08-02T04:21:53.358Z"
   },
   {
    "duration": 385,
    "start_time": "2024-08-02T04:21:53.373Z"
   },
   {
    "duration": 12,
    "start_time": "2024-08-02T04:21:53.761Z"
   },
   {
    "duration": 12,
    "start_time": "2024-08-02T04:21:53.776Z"
   },
   {
    "duration": 36,
    "start_time": "2024-08-02T04:21:53.790Z"
   },
   {
    "duration": 11,
    "start_time": "2024-08-02T04:21:53.828Z"
   },
   {
    "duration": 450,
    "start_time": "2024-08-02T04:21:53.842Z"
   },
   {
    "duration": 26,
    "start_time": "2024-08-02T04:21:54.304Z"
   },
   {
    "duration": 1679,
    "start_time": "2024-08-02T04:21:54.333Z"
   },
   {
    "duration": 186,
    "start_time": "2024-08-02T04:21:56.016Z"
   },
   {
    "duration": 26,
    "start_time": "2024-08-02T04:21:56.206Z"
   },
   {
    "duration": 21,
    "start_time": "2024-08-02T04:21:56.235Z"
   },
   {
    "duration": 9,
    "start_time": "2024-08-02T04:21:56.260Z"
   },
   {
    "duration": 560,
    "start_time": "2024-08-02T04:21:56.272Z"
   },
   {
    "duration": 24,
    "start_time": "2024-08-02T04:21:56.835Z"
   },
   {
    "duration": 195,
    "start_time": "2024-08-02T04:21:56.862Z"
   },
   {
    "duration": 193,
    "start_time": "2024-08-02T04:21:57.060Z"
   },
   {
    "duration": 22,
    "start_time": "2024-08-02T04:21:57.256Z"
   },
   {
    "duration": 9,
    "start_time": "2024-08-02T04:21:57.281Z"
   },
   {
    "duration": 1160,
    "start_time": "2024-08-02T04:21:57.293Z"
   },
   {
    "duration": 785,
    "start_time": "2024-08-02T04:21:58.456Z"
   },
   {
    "duration": 9,
    "start_time": "2024-08-02T04:21:59.244Z"
   },
   {
    "duration": 19,
    "start_time": "2024-08-02T04:21:59.256Z"
   },
   {
    "duration": 1436,
    "start_time": "2024-08-02T04:21:59.278Z"
   },
   {
    "duration": 2097,
    "start_time": "2024-08-02T04:22:00.716Z"
   },
   {
    "duration": 89,
    "start_time": "2024-08-02T04:22:02.816Z"
   },
   {
    "duration": 264,
    "start_time": "2024-08-02T04:22:02.907Z"
   },
   {
    "duration": 16,
    "start_time": "2024-08-02T04:22:03.173Z"
   },
   {
    "duration": 68,
    "start_time": "2024-08-02T04:22:03.192Z"
   },
   {
    "duration": 739,
    "start_time": "2024-08-02T04:23:02.670Z"
   },
   {
    "duration": 1739,
    "start_time": "2024-08-02T04:23:03.412Z"
   },
   {
    "duration": 16,
    "start_time": "2024-08-02T04:23:05.154Z"
   },
   {
    "duration": 11,
    "start_time": "2024-08-02T04:23:05.174Z"
   },
   {
    "duration": 166,
    "start_time": "2024-08-02T04:23:05.189Z"
   },
   {
    "duration": 17,
    "start_time": "2024-08-02T04:23:05.358Z"
   },
   {
    "duration": 10,
    "start_time": "2024-08-02T04:23:05.378Z"
   },
   {
    "duration": 38,
    "start_time": "2024-08-02T04:23:05.391Z"
   },
   {
    "duration": 25,
    "start_time": "2024-08-02T04:23:05.432Z"
   },
   {
    "duration": 15,
    "start_time": "2024-08-02T04:23:05.463Z"
   },
   {
    "duration": 45,
    "start_time": "2024-08-02T04:23:05.481Z"
   },
   {
    "duration": 12,
    "start_time": "2024-08-02T04:23:05.530Z"
   },
   {
    "duration": 790,
    "start_time": "2024-08-02T04:23:05.545Z"
   },
   {
    "duration": 39,
    "start_time": "2024-08-02T04:23:06.338Z"
   },
   {
    "duration": 11,
    "start_time": "2024-08-02T04:23:06.379Z"
   },
   {
    "duration": 9,
    "start_time": "2024-08-02T04:23:06.425Z"
   },
   {
    "duration": 14,
    "start_time": "2024-08-02T04:23:06.437Z"
   },
   {
    "duration": 9,
    "start_time": "2024-08-02T04:23:06.455Z"
   },
   {
    "duration": 10,
    "start_time": "2024-08-02T04:23:06.467Z"
   },
   {
    "duration": 58,
    "start_time": "2024-08-02T04:23:06.479Z"
   },
   {
    "duration": 166,
    "start_time": "2024-08-02T04:23:06.541Z"
   },
   {
    "duration": 177,
    "start_time": "2024-08-02T04:23:06.710Z"
   },
   {
    "duration": 19,
    "start_time": "2024-08-02T04:23:06.890Z"
   },
   {
    "duration": 176,
    "start_time": "2024-08-02T04:23:06.927Z"
   },
   {
    "duration": 166,
    "start_time": "2024-08-02T04:23:07.106Z"
   },
   {
    "duration": 4,
    "start_time": "2024-08-02T04:23:07.275Z"
   },
   {
    "duration": 15,
    "start_time": "2024-08-02T04:23:07.283Z"
   },
   {
    "duration": 43,
    "start_time": "2024-08-02T04:23:07.335Z"
   },
   {
    "duration": 50,
    "start_time": "2024-08-02T04:23:07.380Z"
   },
   {
    "duration": 7,
    "start_time": "2024-08-02T04:23:07.434Z"
   },
   {
    "duration": 25,
    "start_time": "2024-08-02T04:23:07.444Z"
   },
   {
    "duration": 14,
    "start_time": "2024-08-02T04:23:07.472Z"
   },
   {
    "duration": 56,
    "start_time": "2024-08-02T04:23:07.489Z"
   },
   {
    "duration": 28,
    "start_time": "2024-08-02T04:23:07.547Z"
   },
   {
    "duration": 7,
    "start_time": "2024-08-02T04:23:07.578Z"
   },
   {
    "duration": 8,
    "start_time": "2024-08-02T04:23:07.626Z"
   },
   {
    "duration": 7,
    "start_time": "2024-08-02T04:23:07.637Z"
   },
   {
    "duration": 7,
    "start_time": "2024-08-02T04:23:07.647Z"
   },
   {
    "duration": 1364,
    "start_time": "2024-08-02T04:23:07.658Z"
   },
   {
    "duration": 1203,
    "start_time": "2024-08-02T04:23:09.027Z"
   },
   {
    "duration": 14,
    "start_time": "2024-08-02T04:23:10.234Z"
   },
   {
    "duration": 21,
    "start_time": "2024-08-02T04:23:10.251Z"
   },
   {
    "duration": 11,
    "start_time": "2024-08-02T04:23:10.275Z"
   },
   {
    "duration": 13,
    "start_time": "2024-08-02T04:23:10.327Z"
   },
   {
    "duration": 10,
    "start_time": "2024-08-02T04:23:10.343Z"
   },
   {
    "duration": 10,
    "start_time": "2024-08-02T04:23:10.356Z"
   },
   {
    "duration": 59,
    "start_time": "2024-08-02T04:23:10.370Z"
   },
   {
    "duration": 9,
    "start_time": "2024-08-02T04:23:10.432Z"
   },
   {
    "duration": 10,
    "start_time": "2024-08-02T04:23:10.445Z"
   },
   {
    "duration": 20,
    "start_time": "2024-08-02T04:23:10.458Z"
   },
   {
    "duration": 12,
    "start_time": "2024-08-02T04:23:10.525Z"
   },
   {
    "duration": 19,
    "start_time": "2024-08-02T04:23:10.540Z"
   },
   {
    "duration": 11,
    "start_time": "2024-08-02T04:23:10.562Z"
   },
   {
    "duration": 5,
    "start_time": "2024-08-02T04:23:10.576Z"
   },
   {
    "duration": 52,
    "start_time": "2024-08-02T04:23:10.584Z"
   },
   {
    "duration": 28,
    "start_time": "2024-08-02T04:23:10.640Z"
   },
   {
    "duration": 65,
    "start_time": "2024-08-02T04:23:10.672Z"
   },
   {
    "duration": 27,
    "start_time": "2024-08-02T04:23:10.740Z"
   },
   {
    "duration": 57,
    "start_time": "2024-08-02T04:23:10.770Z"
   },
   {
    "duration": 24,
    "start_time": "2024-08-02T04:23:10.830Z"
   },
   {
    "duration": 10,
    "start_time": "2024-08-02T04:23:10.857Z"
   },
   {
    "duration": 4,
    "start_time": "2024-08-02T04:23:10.869Z"
   },
   {
    "duration": 150,
    "start_time": "2024-08-02T04:23:10.876Z"
   },
   {
    "duration": 12,
    "start_time": "2024-08-02T04:23:11.031Z"
   },
   {
    "duration": 29,
    "start_time": "2024-08-02T04:23:11.045Z"
   },
   {
    "duration": 7,
    "start_time": "2024-08-02T04:23:11.076Z"
   },
   {
    "duration": 52,
    "start_time": "2024-08-02T04:23:11.086Z"
   },
   {
    "duration": 7,
    "start_time": "2024-08-02T04:23:11.141Z"
   },
   {
    "duration": 6,
    "start_time": "2024-08-02T04:23:11.152Z"
   },
   {
    "duration": 5,
    "start_time": "2024-08-02T04:23:11.161Z"
   },
   {
    "duration": 57,
    "start_time": "2024-08-02T04:23:11.169Z"
   },
   {
    "duration": 363,
    "start_time": "2024-08-02T04:23:11.230Z"
   },
   {
    "duration": 9,
    "start_time": "2024-08-02T04:23:11.595Z"
   },
   {
    "duration": 240,
    "start_time": "2024-08-02T04:23:11.607Z"
   },
   {
    "duration": 13,
    "start_time": "2024-08-02T04:23:11.854Z"
   },
   {
    "duration": 387,
    "start_time": "2024-08-02T04:23:11.869Z"
   },
   {
    "duration": 12,
    "start_time": "2024-08-02T04:23:12.259Z"
   },
   {
    "duration": 12,
    "start_time": "2024-08-02T04:23:12.274Z"
   },
   {
    "duration": 5,
    "start_time": "2024-08-02T04:23:12.289Z"
   },
   {
    "duration": 39,
    "start_time": "2024-08-02T04:23:12.297Z"
   },
   {
    "duration": 438,
    "start_time": "2024-08-02T04:23:12.339Z"
   },
   {
    "duration": 13,
    "start_time": "2024-08-02T04:23:12.792Z"
   },
   {
    "duration": 1677,
    "start_time": "2024-08-02T04:23:12.827Z"
   },
   {
    "duration": 183,
    "start_time": "2024-08-02T04:23:14.508Z"
   },
   {
    "duration": 33,
    "start_time": "2024-08-02T04:23:14.694Z"
   },
   {
    "duration": 21,
    "start_time": "2024-08-02T04:23:14.730Z"
   },
   {
    "duration": 8,
    "start_time": "2024-08-02T04:23:14.754Z"
   },
   {
    "duration": 540,
    "start_time": "2024-08-02T04:23:14.766Z"
   },
   {
    "duration": 37,
    "start_time": "2024-08-02T04:23:15.309Z"
   },
   {
    "duration": 177,
    "start_time": "2024-08-02T04:23:15.349Z"
   },
   {
    "duration": 193,
    "start_time": "2024-08-02T04:23:15.529Z"
   },
   {
    "duration": 22,
    "start_time": "2024-08-02T04:23:15.727Z"
   },
   {
    "duration": 9,
    "start_time": "2024-08-02T04:23:15.752Z"
   },
   {
    "duration": 1131,
    "start_time": "2024-08-02T04:23:15.764Z"
   },
   {
    "duration": 787,
    "start_time": "2024-08-02T04:23:16.897Z"
   },
   {
    "duration": 10,
    "start_time": "2024-08-02T04:23:17.686Z"
   },
   {
    "duration": 37,
    "start_time": "2024-08-02T04:23:17.698Z"
   },
   {
    "duration": 1372,
    "start_time": "2024-08-02T04:23:17.741Z"
   },
   {
    "duration": 2131,
    "start_time": "2024-08-02T04:23:19.116Z"
   },
   {
    "duration": 98,
    "start_time": "2024-08-02T04:23:21.251Z"
   },
   {
    "duration": 249,
    "start_time": "2024-08-02T04:23:21.351Z"
   },
   {
    "duration": 23,
    "start_time": "2024-08-02T04:23:21.603Z"
   },
   {
    "duration": 53,
    "start_time": "2024-08-02T04:23:21.628Z"
   },
   {
    "duration": 69,
    "start_time": "2024-08-02T04:28:22.209Z"
   },
   {
    "duration": 145,
    "start_time": "2024-08-02T04:29:36.858Z"
   },
   {
    "duration": 29,
    "start_time": "2024-08-02T04:29:46.485Z"
   },
   {
    "duration": 25,
    "start_time": "2024-08-02T04:31:14.123Z"
   },
   {
    "duration": 9,
    "start_time": "2024-08-02T04:33:22.782Z"
   },
   {
    "duration": 10,
    "start_time": "2024-08-02T04:33:31.859Z"
   },
   {
    "duration": 727,
    "start_time": "2024-08-02T04:34:40.981Z"
   },
   {
    "duration": 1659,
    "start_time": "2024-08-02T04:34:41.711Z"
   },
   {
    "duration": 16,
    "start_time": "2024-08-02T04:34:43.372Z"
   },
   {
    "duration": 12,
    "start_time": "2024-08-02T04:34:43.392Z"
   },
   {
    "duration": 163,
    "start_time": "2024-08-02T04:34:43.407Z"
   },
   {
    "duration": 17,
    "start_time": "2024-08-02T04:34:43.573Z"
   },
   {
    "duration": 10,
    "start_time": "2024-08-02T04:34:43.594Z"
   },
   {
    "duration": 28,
    "start_time": "2024-08-02T04:34:43.606Z"
   },
   {
    "duration": 25,
    "start_time": "2024-08-02T04:34:43.637Z"
   },
   {
    "duration": 58,
    "start_time": "2024-08-02T04:34:43.670Z"
   },
   {
    "duration": 11,
    "start_time": "2024-08-02T04:34:43.730Z"
   },
   {
    "duration": 12,
    "start_time": "2024-08-02T04:34:43.744Z"
   },
   {
    "duration": 801,
    "start_time": "2024-08-02T04:34:43.758Z"
   },
   {
    "duration": 39,
    "start_time": "2024-08-02T04:34:44.562Z"
   },
   {
    "duration": 10,
    "start_time": "2024-08-02T04:34:44.626Z"
   },
   {
    "duration": 10,
    "start_time": "2024-08-02T04:34:44.639Z"
   },
   {
    "duration": 14,
    "start_time": "2024-08-02T04:34:44.652Z"
   },
   {
    "duration": 10,
    "start_time": "2024-08-02T04:34:44.669Z"
   },
   {
    "duration": 54,
    "start_time": "2024-08-02T04:34:44.681Z"
   },
   {
    "duration": 13,
    "start_time": "2024-08-02T04:34:44.737Z"
   },
   {
    "duration": 174,
    "start_time": "2024-08-02T04:34:44.753Z"
   },
   {
    "duration": 174,
    "start_time": "2024-08-02T04:34:44.930Z"
   },
   {
    "duration": 31,
    "start_time": "2024-08-02T04:34:45.107Z"
   },
   {
    "duration": 189,
    "start_time": "2024-08-02T04:34:45.141Z"
   },
   {
    "duration": 172,
    "start_time": "2024-08-02T04:34:45.332Z"
   },
   {
    "duration": 4,
    "start_time": "2024-08-02T04:34:45.507Z"
   },
   {
    "duration": 16,
    "start_time": "2024-08-02T04:34:45.527Z"
   },
   {
    "duration": 44,
    "start_time": "2024-08-02T04:34:45.553Z"
   },
   {
    "duration": 44,
    "start_time": "2024-08-02T04:34:45.601Z"
   },
   {
    "duration": 7,
    "start_time": "2024-08-02T04:34:45.648Z"
   },
   {
    "duration": 26,
    "start_time": "2024-08-02T04:34:45.658Z"
   },
   {
    "duration": 48,
    "start_time": "2024-08-02T04:34:45.687Z"
   },
   {
    "duration": 19,
    "start_time": "2024-08-02T04:34:45.739Z"
   },
   {
    "duration": 66,
    "start_time": "2024-08-02T04:34:45.761Z"
   },
   {
    "duration": 7,
    "start_time": "2024-08-02T04:34:45.830Z"
   },
   {
    "duration": 7,
    "start_time": "2024-08-02T04:34:45.840Z"
   },
   {
    "duration": 7,
    "start_time": "2024-08-02T04:34:45.850Z"
   },
   {
    "duration": 7,
    "start_time": "2024-08-02T04:34:45.860Z"
   },
   {
    "duration": 1368,
    "start_time": "2024-08-02T04:34:45.871Z"
   },
   {
    "duration": 1170,
    "start_time": "2024-08-02T04:34:47.241Z"
   },
   {
    "duration": 24,
    "start_time": "2024-08-02T04:34:48.414Z"
   },
   {
    "duration": 22,
    "start_time": "2024-08-02T04:34:48.441Z"
   },
   {
    "duration": 11,
    "start_time": "2024-08-02T04:34:48.466Z"
   },
   {
    "duration": 48,
    "start_time": "2024-08-02T04:34:48.480Z"
   },
   {
    "duration": 12,
    "start_time": "2024-08-02T04:34:48.531Z"
   },
   {
    "duration": 12,
    "start_time": "2024-08-02T04:34:48.546Z"
   },
   {
    "duration": 18,
    "start_time": "2024-08-02T04:34:48.561Z"
   },
   {
    "duration": 47,
    "start_time": "2024-08-02T04:34:48.582Z"
   },
   {
    "duration": 8,
    "start_time": "2024-08-02T04:34:48.632Z"
   },
   {
    "duration": 18,
    "start_time": "2024-08-02T04:34:48.644Z"
   },
   {
    "duration": 11,
    "start_time": "2024-08-02T04:34:48.664Z"
   },
   {
    "duration": 63,
    "start_time": "2024-08-02T04:34:48.678Z"
   },
   {
    "duration": 14,
    "start_time": "2024-08-02T04:34:48.744Z"
   },
   {
    "duration": 5,
    "start_time": "2024-08-02T04:34:48.761Z"
   },
   {
    "duration": 13,
    "start_time": "2024-08-02T04:34:48.769Z"
   },
   {
    "duration": 28,
    "start_time": "2024-08-02T04:34:48.825Z"
   },
   {
    "duration": 29,
    "start_time": "2024-08-02T04:34:48.856Z"
   },
   {
    "duration": 56,
    "start_time": "2024-08-02T04:34:48.888Z"
   },
   {
    "duration": 28,
    "start_time": "2024-08-02T04:34:48.946Z"
   },
   {
    "duration": 58,
    "start_time": "2024-08-02T04:34:48.976Z"
   },
   {
    "duration": 9,
    "start_time": "2024-08-02T04:34:49.037Z"
   },
   {
    "duration": 7,
    "start_time": "2024-08-02T04:34:49.048Z"
   },
   {
    "duration": 128,
    "start_time": "2024-08-02T04:34:49.059Z"
   },
   {
    "duration": 12,
    "start_time": "2024-08-02T04:34:49.190Z"
   },
   {
    "duration": 49,
    "start_time": "2024-08-02T04:34:49.204Z"
   },
   {
    "duration": 8,
    "start_time": "2024-08-02T04:34:49.255Z"
   },
   {
    "duration": 24,
    "start_time": "2024-08-02T04:34:49.266Z"
   },
   {
    "duration": 6,
    "start_time": "2024-08-02T04:34:49.325Z"
   },
   {
    "duration": 7,
    "start_time": "2024-08-02T04:34:49.334Z"
   },
   {
    "duration": 6,
    "start_time": "2024-08-02T04:34:49.344Z"
   },
   {
    "duration": 11,
    "start_time": "2024-08-02T04:34:49.353Z"
   },
   {
    "duration": 390,
    "start_time": "2024-08-02T04:34:49.367Z"
   },
   {
    "duration": 9,
    "start_time": "2024-08-02T04:34:49.760Z"
   },
   {
    "duration": 255,
    "start_time": "2024-08-02T04:34:49.771Z"
   },
   {
    "duration": 13,
    "start_time": "2024-08-02T04:34:50.030Z"
   },
   {
    "duration": 391,
    "start_time": "2024-08-02T04:34:50.045Z"
   },
   {
    "duration": 11,
    "start_time": "2024-08-02T04:34:50.438Z"
   },
   {
    "duration": 11,
    "start_time": "2024-08-02T04:34:50.454Z"
   },
   {
    "duration": 5,
    "start_time": "2024-08-02T04:34:50.468Z"
   },
   {
    "duration": 10,
    "start_time": "2024-08-02T04:34:50.477Z"
   },
   {
    "duration": 445,
    "start_time": "2024-08-02T04:34:50.490Z"
   },
   {
    "duration": 13,
    "start_time": "2024-08-02T04:34:50.947Z"
   },
   {
    "duration": 1690,
    "start_time": "2024-08-02T04:34:50.963Z"
   },
   {
    "duration": 179,
    "start_time": "2024-08-02T04:34:52.656Z"
   },
   {
    "duration": 15,
    "start_time": "2024-08-02T04:34:52.839Z"
   },
   {
    "duration": 21,
    "start_time": "2024-08-02T04:34:52.857Z"
   },
   {
    "duration": 46,
    "start_time": "2024-08-02T04:34:52.882Z"
   },
   {
    "duration": 527,
    "start_time": "2024-08-02T04:34:52.931Z"
   },
   {
    "duration": 24,
    "start_time": "2024-08-02T04:34:53.461Z"
   },
   {
    "duration": 197,
    "start_time": "2024-08-02T04:34:53.488Z"
   },
   {
    "duration": 194,
    "start_time": "2024-08-02T04:34:53.688Z"
   },
   {
    "duration": 21,
    "start_time": "2024-08-02T04:34:53.885Z"
   },
   {
    "duration": 25,
    "start_time": "2024-08-02T04:34:53.909Z"
   },
   {
    "duration": 1117,
    "start_time": "2024-08-02T04:34:53.938Z"
   },
   {
    "duration": 779,
    "start_time": "2024-08-02T04:34:55.058Z"
   },
   {
    "duration": 10,
    "start_time": "2024-08-02T04:34:55.840Z"
   },
   {
    "duration": 18,
    "start_time": "2024-08-02T04:34:55.852Z"
   },
   {
    "duration": 1554,
    "start_time": "2024-08-02T04:34:55.873Z"
   },
   {
    "duration": 2149,
    "start_time": "2024-08-02T04:34:57.430Z"
   },
   {
    "duration": 99,
    "start_time": "2024-08-02T04:34:59.582Z"
   },
   {
    "duration": 256,
    "start_time": "2024-08-02T04:34:59.684Z"
   },
   {
    "duration": 14,
    "start_time": "2024-08-02T04:34:59.943Z"
   },
   {
    "duration": 72,
    "start_time": "2024-08-02T04:34:59.960Z"
   },
   {
    "duration": 751,
    "start_time": "2024-08-02T04:35:20.989Z"
   },
   {
    "duration": 1698,
    "start_time": "2024-08-02T04:35:21.743Z"
   },
   {
    "duration": 18,
    "start_time": "2024-08-02T04:35:23.444Z"
   },
   {
    "duration": 11,
    "start_time": "2024-08-02T04:35:23.466Z"
   },
   {
    "duration": 174,
    "start_time": "2024-08-02T04:35:23.481Z"
   },
   {
    "duration": 16,
    "start_time": "2024-08-02T04:35:23.658Z"
   },
   {
    "duration": 11,
    "start_time": "2024-08-02T04:35:23.677Z"
   },
   {
    "duration": 39,
    "start_time": "2024-08-02T04:35:23.692Z"
   },
   {
    "duration": 24,
    "start_time": "2024-08-02T04:35:23.735Z"
   },
   {
    "duration": 15,
    "start_time": "2024-08-02T04:35:23.765Z"
   },
   {
    "duration": 51,
    "start_time": "2024-08-02T04:35:23.783Z"
   },
   {
    "duration": 10,
    "start_time": "2024-08-02T04:35:23.837Z"
   },
   {
    "duration": 788,
    "start_time": "2024-08-02T04:35:23.851Z"
   },
   {
    "duration": 38,
    "start_time": "2024-08-02T04:35:24.642Z"
   },
   {
    "duration": 9,
    "start_time": "2024-08-02T04:35:24.685Z"
   },
   {
    "duration": 10,
    "start_time": "2024-08-02T04:35:24.725Z"
   },
   {
    "duration": 15,
    "start_time": "2024-08-02T04:35:24.738Z"
   },
   {
    "duration": 10,
    "start_time": "2024-08-02T04:35:24.757Z"
   },
   {
    "duration": 10,
    "start_time": "2024-08-02T04:35:24.770Z"
   },
   {
    "duration": 55,
    "start_time": "2024-08-02T04:35:24.782Z"
   },
   {
    "duration": 164,
    "start_time": "2024-08-02T04:35:24.840Z"
   },
   {
    "duration": 180,
    "start_time": "2024-08-02T04:35:25.007Z"
   },
   {
    "duration": 36,
    "start_time": "2024-08-02T04:35:25.190Z"
   },
   {
    "duration": 202,
    "start_time": "2024-08-02T04:35:25.229Z"
   },
   {
    "duration": 169,
    "start_time": "2024-08-02T04:35:25.434Z"
   },
   {
    "duration": 4,
    "start_time": "2024-08-02T04:35:25.606Z"
   },
   {
    "duration": 16,
    "start_time": "2024-08-02T04:35:25.626Z"
   },
   {
    "duration": 44,
    "start_time": "2024-08-02T04:35:25.652Z"
   },
   {
    "duration": 47,
    "start_time": "2024-08-02T04:35:25.700Z"
   },
   {
    "duration": 7,
    "start_time": "2024-08-02T04:35:25.750Z"
   },
   {
    "duration": 25,
    "start_time": "2024-08-02T04:35:25.760Z"
   },
   {
    "duration": 47,
    "start_time": "2024-08-02T04:35:25.788Z"
   },
   {
    "duration": 19,
    "start_time": "2024-08-02T04:35:25.839Z"
   },
   {
    "duration": 29,
    "start_time": "2024-08-02T04:35:25.862Z"
   },
   {
    "duration": 7,
    "start_time": "2024-08-02T04:35:25.928Z"
   },
   {
    "duration": 7,
    "start_time": "2024-08-02T04:35:25.938Z"
   },
   {
    "duration": 7,
    "start_time": "2024-08-02T04:35:25.948Z"
   },
   {
    "duration": 7,
    "start_time": "2024-08-02T04:35:25.958Z"
   },
   {
    "duration": 1365,
    "start_time": "2024-08-02T04:35:25.969Z"
   },
   {
    "duration": 1198,
    "start_time": "2024-08-02T04:35:27.336Z"
   },
   {
    "duration": 12,
    "start_time": "2024-08-02T04:35:28.537Z"
   },
   {
    "duration": 21,
    "start_time": "2024-08-02T04:35:28.552Z"
   },
   {
    "duration": 11,
    "start_time": "2024-08-02T04:35:28.576Z"
   },
   {
    "duration": 45,
    "start_time": "2024-08-02T04:35:28.589Z"
   },
   {
    "duration": 10,
    "start_time": "2024-08-02T04:35:28.636Z"
   },
   {
    "duration": 10,
    "start_time": "2024-08-02T04:35:28.649Z"
   },
   {
    "duration": 65,
    "start_time": "2024-08-02T04:35:28.662Z"
   },
   {
    "duration": 10,
    "start_time": "2024-08-02T04:35:28.730Z"
   },
   {
    "duration": 9,
    "start_time": "2024-08-02T04:35:28.743Z"
   },
   {
    "duration": 18,
    "start_time": "2024-08-02T04:35:28.755Z"
   },
   {
    "duration": 54,
    "start_time": "2024-08-02T04:35:28.776Z"
   },
   {
    "duration": 20,
    "start_time": "2024-08-02T04:35:28.834Z"
   },
   {
    "duration": 11,
    "start_time": "2024-08-02T04:35:28.857Z"
   },
   {
    "duration": 6,
    "start_time": "2024-08-02T04:35:28.870Z"
   },
   {
    "duration": 48,
    "start_time": "2024-08-02T04:35:28.879Z"
   },
   {
    "duration": 28,
    "start_time": "2024-08-02T04:35:28.930Z"
   },
   {
    "duration": 29,
    "start_time": "2024-08-02T04:35:28.961Z"
   },
   {
    "duration": 60,
    "start_time": "2024-08-02T04:35:28.992Z"
   },
   {
    "duration": 27,
    "start_time": "2024-08-02T04:35:29.054Z"
   },
   {
    "duration": 60,
    "start_time": "2024-08-02T04:35:29.085Z"
   },
   {
    "duration": 10,
    "start_time": "2024-08-02T04:35:29.147Z"
   },
   {
    "duration": 5,
    "start_time": "2024-08-02T04:35:29.159Z"
   },
   {
    "duration": 135,
    "start_time": "2024-08-02T04:35:29.166Z"
   },
   {
    "duration": 24,
    "start_time": "2024-08-02T04:35:29.304Z"
   },
   {
    "duration": 29,
    "start_time": "2024-08-02T04:35:29.330Z"
   },
   {
    "duration": 8,
    "start_time": "2024-08-02T04:35:29.361Z"
   },
   {
    "duration": 56,
    "start_time": "2024-08-02T04:35:29.372Z"
   },
   {
    "duration": 7,
    "start_time": "2024-08-02T04:35:29.431Z"
   },
   {
    "duration": 7,
    "start_time": "2024-08-02T04:35:29.441Z"
   },
   {
    "duration": 7,
    "start_time": "2024-08-02T04:35:29.451Z"
   },
   {
    "duration": 12,
    "start_time": "2024-08-02T04:35:29.461Z"
   },
   {
    "duration": 396,
    "start_time": "2024-08-02T04:35:29.475Z"
   },
   {
    "duration": 11,
    "start_time": "2024-08-02T04:35:29.874Z"
   },
   {
    "duration": 233,
    "start_time": "2024-08-02T04:35:29.889Z"
   },
   {
    "duration": 13,
    "start_time": "2024-08-02T04:35:30.127Z"
   },
   {
    "duration": 385,
    "start_time": "2024-08-02T04:35:30.143Z"
   },
   {
    "duration": 14,
    "start_time": "2024-08-02T04:35:30.531Z"
   },
   {
    "duration": 13,
    "start_time": "2024-08-02T04:35:30.548Z"
   },
   {
    "duration": 6,
    "start_time": "2024-08-02T04:35:30.564Z"
   },
   {
    "duration": 54,
    "start_time": "2024-08-02T04:35:30.573Z"
   },
   {
    "duration": 418,
    "start_time": "2024-08-02T04:35:30.630Z"
   },
   {
    "duration": 14,
    "start_time": "2024-08-02T04:35:31.062Z"
   },
   {
    "duration": 1708,
    "start_time": "2024-08-02T04:35:31.078Z"
   },
   {
    "duration": 177,
    "start_time": "2024-08-02T04:35:32.789Z"
   },
   {
    "duration": 16,
    "start_time": "2024-08-02T04:35:32.968Z"
   },
   {
    "duration": 46,
    "start_time": "2024-08-02T04:35:32.987Z"
   },
   {
    "duration": 8,
    "start_time": "2024-08-02T04:35:33.036Z"
   },
   {
    "duration": 528,
    "start_time": "2024-08-02T04:35:33.048Z"
   },
   {
    "duration": 24,
    "start_time": "2024-08-02T04:35:33.579Z"
   },
   {
    "duration": 206,
    "start_time": "2024-08-02T04:35:33.606Z"
   },
   {
    "duration": 187,
    "start_time": "2024-08-02T04:35:33.816Z"
   },
   {
    "duration": 29,
    "start_time": "2024-08-02T04:35:34.006Z"
   },
   {
    "duration": 8,
    "start_time": "2024-08-02T04:35:34.039Z"
   },
   {
    "duration": 1118,
    "start_time": "2024-08-02T04:35:34.050Z"
   },
   {
    "duration": 782,
    "start_time": "2024-08-02T04:35:35.171Z"
   },
   {
    "duration": 11,
    "start_time": "2024-08-02T04:35:35.955Z"
   },
   {
    "duration": 18,
    "start_time": "2024-08-02T04:35:35.968Z"
   },
   {
    "duration": 1302,
    "start_time": "2024-08-02T04:35:35.989Z"
   },
   {
    "duration": 2154,
    "start_time": "2024-08-02T04:35:37.294Z"
   },
   {
    "duration": 98,
    "start_time": "2024-08-02T04:35:39.450Z"
   },
   {
    "duration": 250,
    "start_time": "2024-08-02T04:35:39.551Z"
   },
   {
    "duration": 25,
    "start_time": "2024-08-02T04:35:39.803Z"
   },
   {
    "duration": 56,
    "start_time": "2024-08-02T04:35:39.832Z"
   },
   {
    "duration": 698,
    "start_time": "2024-08-02T04:37:14.800Z"
   },
   {
    "duration": 1749,
    "start_time": "2024-08-02T04:37:15.501Z"
   },
   {
    "duration": 16,
    "start_time": "2024-08-02T04:37:17.252Z"
   },
   {
    "duration": 12,
    "start_time": "2024-08-02T04:37:17.273Z"
   },
   {
    "duration": 170,
    "start_time": "2024-08-02T04:37:17.288Z"
   },
   {
    "duration": 20,
    "start_time": "2024-08-02T04:37:17.460Z"
   },
   {
    "duration": 15,
    "start_time": "2024-08-02T04:37:17.482Z"
   },
   {
    "duration": 40,
    "start_time": "2024-08-02T04:37:17.500Z"
   },
   {
    "duration": 25,
    "start_time": "2024-08-02T04:37:17.543Z"
   },
   {
    "duration": 16,
    "start_time": "2024-08-02T04:37:17.574Z"
   },
   {
    "duration": 15,
    "start_time": "2024-08-02T04:37:17.626Z"
   },
   {
    "duration": 11,
    "start_time": "2024-08-02T04:37:17.643Z"
   },
   {
    "duration": 803,
    "start_time": "2024-08-02T04:37:17.657Z"
   },
   {
    "duration": 38,
    "start_time": "2024-08-02T04:37:18.464Z"
   },
   {
    "duration": 12,
    "start_time": "2024-08-02T04:37:18.525Z"
   },
   {
    "duration": 13,
    "start_time": "2024-08-02T04:37:18.540Z"
   },
   {
    "duration": 23,
    "start_time": "2024-08-02T04:37:18.557Z"
   },
   {
    "duration": 41,
    "start_time": "2024-08-02T04:37:18.584Z"
   },
   {
    "duration": 9,
    "start_time": "2024-08-02T04:37:18.629Z"
   },
   {
    "duration": 17,
    "start_time": "2024-08-02T04:37:18.641Z"
   },
   {
    "duration": 197,
    "start_time": "2024-08-02T04:37:18.660Z"
   },
   {
    "duration": 181,
    "start_time": "2024-08-02T04:37:18.860Z"
   },
   {
    "duration": 19,
    "start_time": "2024-08-02T04:37:19.044Z"
   },
   {
    "duration": 200,
    "start_time": "2024-08-02T04:37:19.066Z"
   },
   {
    "duration": 173,
    "start_time": "2024-08-02T04:37:19.268Z"
   },
   {
    "duration": 7,
    "start_time": "2024-08-02T04:37:19.444Z"
   },
   {
    "duration": 17,
    "start_time": "2024-08-02T04:37:19.454Z"
   },
   {
    "duration": 72,
    "start_time": "2024-08-02T04:37:19.482Z"
   },
   {
    "duration": 24,
    "start_time": "2024-08-02T04:37:19.557Z"
   },
   {
    "duration": 9,
    "start_time": "2024-08-02T04:37:19.584Z"
   },
   {
    "duration": 50,
    "start_time": "2024-08-02T04:37:19.596Z"
   },
   {
    "duration": 13,
    "start_time": "2024-08-02T04:37:19.649Z"
   },
   {
    "duration": 20,
    "start_time": "2024-08-02T04:37:19.666Z"
   },
   {
    "duration": 62,
    "start_time": "2024-08-02T04:37:19.688Z"
   },
   {
    "duration": 6,
    "start_time": "2024-08-02T04:37:19.753Z"
   },
   {
    "duration": 7,
    "start_time": "2024-08-02T04:37:19.762Z"
   },
   {
    "duration": 8,
    "start_time": "2024-08-02T04:37:19.771Z"
   },
   {
    "duration": 7,
    "start_time": "2024-08-02T04:37:19.826Z"
   },
   {
    "duration": 1343,
    "start_time": "2024-08-02T04:37:19.837Z"
   },
   {
    "duration": 1160,
    "start_time": "2024-08-02T04:37:21.184Z"
   },
   {
    "duration": 14,
    "start_time": "2024-08-02T04:37:22.347Z"
   },
   {
    "duration": 21,
    "start_time": "2024-08-02T04:37:22.364Z"
   },
   {
    "duration": 43,
    "start_time": "2024-08-02T04:37:22.388Z"
   },
   {
    "duration": 12,
    "start_time": "2024-08-02T04:37:22.433Z"
   },
   {
    "duration": 12,
    "start_time": "2024-08-02T04:37:22.447Z"
   },
   {
    "duration": 10,
    "start_time": "2024-08-02T04:37:22.464Z"
   },
   {
    "duration": 58,
    "start_time": "2024-08-02T04:37:22.477Z"
   },
   {
    "duration": 8,
    "start_time": "2024-08-02T04:37:22.538Z"
   },
   {
    "duration": 9,
    "start_time": "2024-08-02T04:37:22.549Z"
   },
   {
    "duration": 19,
    "start_time": "2024-08-02T04:37:22.561Z"
   },
   {
    "duration": 49,
    "start_time": "2024-08-02T04:37:22.583Z"
   },
   {
    "duration": 20,
    "start_time": "2024-08-02T04:37:22.635Z"
   },
   {
    "duration": 11,
    "start_time": "2024-08-02T04:37:22.657Z"
   },
   {
    "duration": 5,
    "start_time": "2024-08-02T04:37:22.671Z"
   },
   {
    "duration": 54,
    "start_time": "2024-08-02T04:37:22.680Z"
   },
   {
    "duration": 28,
    "start_time": "2024-08-02T04:37:22.737Z"
   },
   {
    "duration": 62,
    "start_time": "2024-08-02T04:37:22.768Z"
   },
   {
    "duration": 28,
    "start_time": "2024-08-02T04:37:22.833Z"
   },
   {
    "duration": 28,
    "start_time": "2024-08-02T04:37:22.864Z"
   },
   {
    "duration": 24,
    "start_time": "2024-08-02T04:37:22.925Z"
   },
   {
    "duration": 9,
    "start_time": "2024-08-02T04:37:22.952Z"
   },
   {
    "duration": 4,
    "start_time": "2024-08-02T04:37:22.964Z"
   },
   {
    "duration": 145,
    "start_time": "2024-08-02T04:37:22.972Z"
   },
   {
    "duration": 17,
    "start_time": "2024-08-02T04:37:23.120Z"
   },
   {
    "duration": 28,
    "start_time": "2024-08-02T04:37:23.139Z"
   },
   {
    "duration": 9,
    "start_time": "2024-08-02T04:37:23.170Z"
   },
   {
    "duration": 56,
    "start_time": "2024-08-02T04:37:23.182Z"
   },
   {
    "duration": 7,
    "start_time": "2024-08-02T04:37:23.241Z"
   },
   {
    "duration": 7,
    "start_time": "2024-08-02T04:37:23.251Z"
   },
   {
    "duration": 6,
    "start_time": "2024-08-02T04:37:23.261Z"
   },
   {
    "duration": 57,
    "start_time": "2024-08-02T04:37:23.270Z"
   },
   {
    "duration": 354,
    "start_time": "2024-08-02T04:37:23.330Z"
   },
   {
    "duration": 10,
    "start_time": "2024-08-02T04:37:23.687Z"
   },
   {
    "duration": 237,
    "start_time": "2024-08-02T04:37:23.699Z"
   },
   {
    "duration": 13,
    "start_time": "2024-08-02T04:37:23.939Z"
   },
   {
    "duration": 384,
    "start_time": "2024-08-02T04:37:23.955Z"
   },
   {
    "duration": 12,
    "start_time": "2024-08-02T04:37:24.342Z"
   },
   {
    "duration": 11,
    "start_time": "2024-08-02T04:37:24.356Z"
   },
   {
    "duration": 5,
    "start_time": "2024-08-02T04:37:24.370Z"
   },
   {
    "duration": 47,
    "start_time": "2024-08-02T04:37:24.379Z"
   },
   {
    "duration": 417,
    "start_time": "2024-08-02T04:37:24.429Z"
   },
   {
    "duration": 13,
    "start_time": "2024-08-02T04:37:24.861Z"
   },
   {
    "duration": 1725,
    "start_time": "2024-08-02T04:37:24.876Z"
   },
   {
    "duration": 174,
    "start_time": "2024-08-02T04:37:26.604Z"
   },
   {
    "duration": 17,
    "start_time": "2024-08-02T04:37:26.781Z"
   },
   {
    "duration": 45,
    "start_time": "2024-08-02T04:37:26.801Z"
   },
   {
    "duration": 8,
    "start_time": "2024-08-02T04:37:26.849Z"
   },
   {
    "duration": 542,
    "start_time": "2024-08-02T04:37:26.860Z"
   },
   {
    "duration": 37,
    "start_time": "2024-08-02T04:37:27.405Z"
   },
   {
    "duration": 198,
    "start_time": "2024-08-02T04:37:27.446Z"
   },
   {
    "duration": 199,
    "start_time": "2024-08-02T04:37:27.647Z"
   },
   {
    "duration": 21,
    "start_time": "2024-08-02T04:37:27.849Z"
   },
   {
    "duration": 9,
    "start_time": "2024-08-02T04:37:27.872Z"
   },
   {
    "duration": 1135,
    "start_time": "2024-08-02T04:37:27.884Z"
   },
   {
    "duration": 768,
    "start_time": "2024-08-02T04:37:29.025Z"
   },
   {
    "duration": 10,
    "start_time": "2024-08-02T04:37:29.795Z"
   },
   {
    "duration": 34,
    "start_time": "2024-08-02T04:37:29.807Z"
   },
   {
    "duration": 1374,
    "start_time": "2024-08-02T04:37:29.844Z"
   },
   {
    "duration": 2147,
    "start_time": "2024-08-02T04:37:31.225Z"
   },
   {
    "duration": 99,
    "start_time": "2024-08-02T04:37:33.375Z"
   },
   {
    "duration": 258,
    "start_time": "2024-08-02T04:37:33.477Z"
   },
   {
    "duration": 15,
    "start_time": "2024-08-02T04:37:33.737Z"
   },
   {
    "duration": 73,
    "start_time": "2024-08-02T04:37:33.755Z"
   },
   {
    "duration": 769,
    "start_time": "2024-08-02T04:38:04.498Z"
   },
   {
    "duration": 1687,
    "start_time": "2024-08-02T04:38:05.271Z"
   },
   {
    "duration": 16,
    "start_time": "2024-08-02T04:38:06.961Z"
   },
   {
    "duration": 13,
    "start_time": "2024-08-02T04:38:06.980Z"
   },
   {
    "duration": 165,
    "start_time": "2024-08-02T04:38:06.996Z"
   },
   {
    "duration": 16,
    "start_time": "2024-08-02T04:38:07.164Z"
   },
   {
    "duration": 11,
    "start_time": "2024-08-02T04:38:07.184Z"
   },
   {
    "duration": 10,
    "start_time": "2024-08-02T04:38:07.225Z"
   },
   {
    "duration": 24,
    "start_time": "2024-08-02T04:38:07.239Z"
   },
   {
    "duration": 16,
    "start_time": "2024-08-02T04:38:07.271Z"
   },
   {
    "duration": 11,
    "start_time": "2024-08-02T04:38:07.327Z"
   },
   {
    "duration": 11,
    "start_time": "2024-08-02T04:38:07.341Z"
   },
   {
    "duration": 810,
    "start_time": "2024-08-02T04:38:07.355Z"
   },
   {
    "duration": 39,
    "start_time": "2024-08-02T04:38:08.168Z"
   },
   {
    "duration": 10,
    "start_time": "2024-08-02T04:38:08.226Z"
   },
   {
    "duration": 9,
    "start_time": "2024-08-02T04:38:08.239Z"
   },
   {
    "duration": 14,
    "start_time": "2024-08-02T04:38:08.251Z"
   },
   {
    "duration": 9,
    "start_time": "2024-08-02T04:38:08.268Z"
   },
   {
    "duration": 52,
    "start_time": "2024-08-02T04:38:08.280Z"
   },
   {
    "duration": 15,
    "start_time": "2024-08-02T04:38:08.338Z"
   },
   {
    "duration": 181,
    "start_time": "2024-08-02T04:38:08.356Z"
   },
   {
    "duration": 180,
    "start_time": "2024-08-02T04:38:08.539Z"
   },
   {
    "duration": 18,
    "start_time": "2024-08-02T04:38:08.726Z"
   },
   {
    "duration": 209,
    "start_time": "2024-08-02T04:38:08.747Z"
   },
   {
    "duration": 173,
    "start_time": "2024-08-02T04:38:08.959Z"
   },
   {
    "duration": 4,
    "start_time": "2024-08-02T04:38:09.134Z"
   },
   {
    "duration": 17,
    "start_time": "2024-08-02T04:38:09.141Z"
   },
   {
    "duration": 74,
    "start_time": "2024-08-02T04:38:09.167Z"
   },
   {
    "duration": 23,
    "start_time": "2024-08-02T04:38:09.243Z"
   },
   {
    "duration": 8,
    "start_time": "2024-08-02T04:38:09.268Z"
   },
   {
    "duration": 57,
    "start_time": "2024-08-02T04:38:09.278Z"
   },
   {
    "duration": 18,
    "start_time": "2024-08-02T04:38:09.341Z"
   },
   {
    "duration": 27,
    "start_time": "2024-08-02T04:38:09.362Z"
   },
   {
    "duration": 50,
    "start_time": "2024-08-02T04:38:09.396Z"
   },
   {
    "duration": 8,
    "start_time": "2024-08-02T04:38:09.450Z"
   },
   {
    "duration": 6,
    "start_time": "2024-08-02T04:38:09.462Z"
   },
   {
    "duration": 7,
    "start_time": "2024-08-02T04:38:09.472Z"
   },
   {
    "duration": 7,
    "start_time": "2024-08-02T04:38:09.526Z"
   },
   {
    "duration": 1345,
    "start_time": "2024-08-02T04:38:09.536Z"
   },
   {
    "duration": 1161,
    "start_time": "2024-08-02T04:38:10.884Z"
   },
   {
    "duration": 15,
    "start_time": "2024-08-02T04:38:12.048Z"
   },
   {
    "duration": 22,
    "start_time": "2024-08-02T04:38:12.068Z"
   },
   {
    "duration": 38,
    "start_time": "2024-08-02T04:38:12.093Z"
   },
   {
    "duration": 10,
    "start_time": "2024-08-02T04:38:12.134Z"
   },
   {
    "duration": 10,
    "start_time": "2024-08-02T04:38:12.147Z"
   },
   {
    "duration": 10,
    "start_time": "2024-08-02T04:38:12.160Z"
   },
   {
    "duration": 63,
    "start_time": "2024-08-02T04:38:12.173Z"
   },
   {
    "duration": 9,
    "start_time": "2024-08-02T04:38:12.238Z"
   },
   {
    "duration": 8,
    "start_time": "2024-08-02T04:38:12.250Z"
   },
   {
    "duration": 19,
    "start_time": "2024-08-02T04:38:12.261Z"
   },
   {
    "duration": 51,
    "start_time": "2024-08-02T04:38:12.283Z"
   },
   {
    "duration": 19,
    "start_time": "2024-08-02T04:38:12.337Z"
   },
   {
    "duration": 12,
    "start_time": "2024-08-02T04:38:12.359Z"
   },
   {
    "duration": 53,
    "start_time": "2024-08-02T04:38:12.373Z"
   },
   {
    "duration": 12,
    "start_time": "2024-08-02T04:38:12.429Z"
   },
   {
    "duration": 28,
    "start_time": "2024-08-02T04:38:12.444Z"
   },
   {
    "duration": 61,
    "start_time": "2024-08-02T04:38:12.475Z"
   },
   {
    "duration": 28,
    "start_time": "2024-08-02T04:38:12.538Z"
   },
   {
    "duration": 57,
    "start_time": "2024-08-02T04:38:12.569Z"
   },
   {
    "duration": 24,
    "start_time": "2024-08-02T04:38:12.628Z"
   },
   {
    "duration": 9,
    "start_time": "2024-08-02T04:38:12.655Z"
   },
   {
    "duration": 4,
    "start_time": "2024-08-02T04:38:12.667Z"
   },
   {
    "duration": 143,
    "start_time": "2024-08-02T04:38:12.674Z"
   },
   {
    "duration": 16,
    "start_time": "2024-08-02T04:38:12.820Z"
   },
   {
    "duration": 29,
    "start_time": "2024-08-02T04:38:12.838Z"
   },
   {
    "duration": 10,
    "start_time": "2024-08-02T04:38:12.869Z"
   },
   {
    "duration": 60,
    "start_time": "2024-08-02T04:38:12.882Z"
   },
   {
    "duration": 8,
    "start_time": "2024-08-02T04:38:12.944Z"
   },
   {
    "duration": 7,
    "start_time": "2024-08-02T04:38:12.955Z"
   },
   {
    "duration": 6,
    "start_time": "2024-08-02T04:38:12.966Z"
   },
   {
    "duration": 58,
    "start_time": "2024-08-02T04:38:12.975Z"
   },
   {
    "duration": 350,
    "start_time": "2024-08-02T04:38:13.035Z"
   },
   {
    "duration": 9,
    "start_time": "2024-08-02T04:38:13.388Z"
   },
   {
    "duration": 228,
    "start_time": "2024-08-02T04:38:13.400Z"
   },
   {
    "duration": 13,
    "start_time": "2024-08-02T04:38:13.631Z"
   },
   {
    "duration": 382,
    "start_time": "2024-08-02T04:38:13.647Z"
   },
   {
    "duration": 12,
    "start_time": "2024-08-02T04:38:14.032Z"
   },
   {
    "duration": 11,
    "start_time": "2024-08-02T04:38:14.046Z"
   },
   {
    "duration": 5,
    "start_time": "2024-08-02T04:38:14.060Z"
   },
   {
    "duration": 11,
    "start_time": "2024-08-02T04:38:14.068Z"
   },
   {
    "duration": 446,
    "start_time": "2024-08-02T04:38:14.082Z"
   },
   {
    "duration": 13,
    "start_time": "2024-08-02T04:38:14.541Z"
   },
   {
    "duration": 1693,
    "start_time": "2024-08-02T04:38:14.556Z"
   },
   {
    "duration": 179,
    "start_time": "2024-08-02T04:38:16.253Z"
   },
   {
    "duration": 16,
    "start_time": "2024-08-02T04:38:16.435Z"
   },
   {
    "duration": 22,
    "start_time": "2024-08-02T04:38:16.453Z"
   },
   {
    "duration": 49,
    "start_time": "2024-08-02T04:38:16.477Z"
   },
   {
    "duration": 514,
    "start_time": "2024-08-02T04:38:16.530Z"
   },
   {
    "duration": 25,
    "start_time": "2024-08-02T04:38:17.047Z"
   },
   {
    "duration": 204,
    "start_time": "2024-08-02T04:38:17.074Z"
   },
   {
    "duration": 200,
    "start_time": "2024-08-02T04:38:17.281Z"
   },
   {
    "duration": 42,
    "start_time": "2024-08-02T04:38:17.484Z"
   },
   {
    "duration": 9,
    "start_time": "2024-08-02T04:38:17.529Z"
   },
   {
    "duration": 1111,
    "start_time": "2024-08-02T04:38:17.541Z"
   },
   {
    "duration": 788,
    "start_time": "2024-08-02T04:38:18.654Z"
   },
   {
    "duration": 23,
    "start_time": "2024-08-02T04:38:19.444Z"
   },
   {
    "duration": 17,
    "start_time": "2024-08-02T04:38:19.471Z"
   },
   {
    "duration": 1394,
    "start_time": "2024-08-02T04:38:19.491Z"
   },
   {
    "duration": 2118,
    "start_time": "2024-08-02T04:38:20.888Z"
   },
   {
    "duration": 95,
    "start_time": "2024-08-02T04:38:23.009Z"
   },
   {
    "duration": 253,
    "start_time": "2024-08-02T04:38:23.107Z"
   },
   {
    "duration": 15,
    "start_time": "2024-08-02T04:38:23.362Z"
   },
   {
    "duration": 74,
    "start_time": "2024-08-02T04:38:23.380Z"
   },
   {
    "duration": 369,
    "start_time": "2024-08-02T04:38:23.457Z"
   },
   {
    "duration": 0,
    "start_time": "2024-08-02T04:38:23.828Z"
   },
   {
    "duration": 0,
    "start_time": "2024-08-02T04:38:23.830Z"
   },
   {
    "duration": 746,
    "start_time": "2024-08-02T04:38:44.769Z"
   },
   {
    "duration": 1544,
    "start_time": "2024-08-02T04:38:45.518Z"
   },
   {
    "duration": 16,
    "start_time": "2024-08-02T04:38:47.066Z"
   },
   {
    "duration": 13,
    "start_time": "2024-08-02T04:38:47.086Z"
   },
   {
    "duration": 169,
    "start_time": "2024-08-02T04:38:47.102Z"
   },
   {
    "duration": 17,
    "start_time": "2024-08-02T04:38:47.275Z"
   },
   {
    "duration": 11,
    "start_time": "2024-08-02T04:38:47.294Z"
   },
   {
    "duration": 12,
    "start_time": "2024-08-02T04:38:47.327Z"
   },
   {
    "duration": 25,
    "start_time": "2024-08-02T04:38:47.342Z"
   },
   {
    "duration": 54,
    "start_time": "2024-08-02T04:38:47.375Z"
   },
   {
    "duration": 14,
    "start_time": "2024-08-02T04:38:47.433Z"
   },
   {
    "duration": 11,
    "start_time": "2024-08-02T04:38:47.450Z"
   },
   {
    "duration": 816,
    "start_time": "2024-08-02T04:38:47.464Z"
   },
   {
    "duration": 51,
    "start_time": "2024-08-02T04:38:48.283Z"
   },
   {
    "duration": 9,
    "start_time": "2024-08-02T04:38:48.339Z"
   },
   {
    "duration": 9,
    "start_time": "2024-08-02T04:38:48.352Z"
   },
   {
    "duration": 13,
    "start_time": "2024-08-02T04:38:48.365Z"
   },
   {
    "duration": 48,
    "start_time": "2024-08-02T04:38:48.381Z"
   },
   {
    "duration": 13,
    "start_time": "2024-08-02T04:38:48.432Z"
   },
   {
    "duration": 14,
    "start_time": "2024-08-02T04:38:48.448Z"
   },
   {
    "duration": 191,
    "start_time": "2024-08-02T04:38:48.465Z"
   },
   {
    "duration": 180,
    "start_time": "2024-08-02T04:38:48.660Z"
   },
   {
    "duration": 23,
    "start_time": "2024-08-02T04:38:48.843Z"
   },
   {
    "duration": 208,
    "start_time": "2024-08-02T04:38:48.869Z"
   },
   {
    "duration": 166,
    "start_time": "2024-08-02T04:38:49.080Z"
   },
   {
    "duration": 4,
    "start_time": "2024-08-02T04:38:49.249Z"
   },
   {
    "duration": 16,
    "start_time": "2024-08-02T04:38:49.255Z"
   },
   {
    "duration": 75,
    "start_time": "2024-08-02T04:38:49.281Z"
   },
   {
    "duration": 22,
    "start_time": "2024-08-02T04:38:49.359Z"
   },
   {
    "duration": 8,
    "start_time": "2024-08-02T04:38:49.384Z"
   },
   {
    "duration": 48,
    "start_time": "2024-08-02T04:38:49.394Z"
   },
   {
    "duration": 14,
    "start_time": "2024-08-02T04:38:49.445Z"
   },
   {
    "duration": 19,
    "start_time": "2024-08-02T04:38:49.463Z"
   },
   {
    "duration": 65,
    "start_time": "2024-08-02T04:38:49.486Z"
   },
   {
    "duration": 7,
    "start_time": "2024-08-02T04:38:49.554Z"
   },
   {
    "duration": 7,
    "start_time": "2024-08-02T04:38:49.564Z"
   },
   {
    "duration": 7,
    "start_time": "2024-08-02T04:38:49.574Z"
   },
   {
    "duration": 43,
    "start_time": "2024-08-02T04:38:49.585Z"
   },
   {
    "duration": 1342,
    "start_time": "2024-08-02T04:38:49.632Z"
   },
   {
    "duration": 1156,
    "start_time": "2024-08-02T04:38:50.977Z"
   },
   {
    "duration": 13,
    "start_time": "2024-08-02T04:38:52.137Z"
   },
   {
    "duration": 21,
    "start_time": "2024-08-02T04:38:52.154Z"
   },
   {
    "duration": 50,
    "start_time": "2024-08-02T04:38:52.177Z"
   },
   {
    "duration": 9,
    "start_time": "2024-08-02T04:38:52.230Z"
   },
   {
    "duration": 10,
    "start_time": "2024-08-02T04:38:52.242Z"
   },
   {
    "duration": 12,
    "start_time": "2024-08-02T04:38:52.255Z"
   },
   {
    "duration": 65,
    "start_time": "2024-08-02T04:38:52.269Z"
   },
   {
    "duration": 9,
    "start_time": "2024-08-02T04:38:52.336Z"
   },
   {
    "duration": 10,
    "start_time": "2024-08-02T04:38:52.348Z"
   },
   {
    "duration": 21,
    "start_time": "2024-08-02T04:38:52.361Z"
   },
   {
    "duration": 47,
    "start_time": "2024-08-02T04:38:52.386Z"
   },
   {
    "duration": 21,
    "start_time": "2024-08-02T04:38:52.437Z"
   },
   {
    "duration": 11,
    "start_time": "2024-08-02T04:38:52.461Z"
   },
   {
    "duration": 5,
    "start_time": "2024-08-02T04:38:52.475Z"
   },
   {
    "duration": 51,
    "start_time": "2024-08-02T04:38:52.483Z"
   },
   {
    "duration": 28,
    "start_time": "2024-08-02T04:38:52.537Z"
   },
   {
    "duration": 66,
    "start_time": "2024-08-02T04:38:52.568Z"
   },
   {
    "duration": 27,
    "start_time": "2024-08-02T04:38:52.637Z"
   },
   {
    "duration": 28,
    "start_time": "2024-08-02T04:38:52.667Z"
   },
   {
    "duration": 25,
    "start_time": "2024-08-02T04:38:52.726Z"
   },
   {
    "duration": 10,
    "start_time": "2024-08-02T04:38:52.754Z"
   },
   {
    "duration": 5,
    "start_time": "2024-08-02T04:38:52.767Z"
   },
   {
    "duration": 146,
    "start_time": "2024-08-02T04:38:52.775Z"
   },
   {
    "duration": 12,
    "start_time": "2024-08-02T04:38:52.927Z"
   },
   {
    "duration": 28,
    "start_time": "2024-08-02T04:38:52.941Z"
   },
   {
    "duration": 8,
    "start_time": "2024-08-02T04:38:52.972Z"
   },
   {
    "duration": 59,
    "start_time": "2024-08-02T04:38:52.987Z"
   },
   {
    "duration": 7,
    "start_time": "2024-08-02T04:38:53.049Z"
   },
   {
    "duration": 6,
    "start_time": "2024-08-02T04:38:53.060Z"
   },
   {
    "duration": 6,
    "start_time": "2024-08-02T04:38:53.069Z"
   },
   {
    "duration": 53,
    "start_time": "2024-08-02T04:38:53.078Z"
   },
   {
    "duration": 360,
    "start_time": "2024-08-02T04:38:53.134Z"
   },
   {
    "duration": 10,
    "start_time": "2024-08-02T04:38:53.497Z"
   },
   {
    "duration": 234,
    "start_time": "2024-08-02T04:38:53.509Z"
   },
   {
    "duration": 14,
    "start_time": "2024-08-02T04:38:53.746Z"
   },
   {
    "duration": 397,
    "start_time": "2024-08-02T04:38:53.763Z"
   },
   {
    "duration": 11,
    "start_time": "2024-08-02T04:38:54.162Z"
   },
   {
    "duration": 12,
    "start_time": "2024-08-02T04:38:54.176Z"
   },
   {
    "duration": 5,
    "start_time": "2024-08-02T04:38:54.190Z"
   },
   {
    "duration": 11,
    "start_time": "2024-08-02T04:38:54.227Z"
   },
   {
    "duration": 419,
    "start_time": "2024-08-02T04:38:54.241Z"
   },
   {
    "duration": 13,
    "start_time": "2024-08-02T04:38:54.674Z"
   },
   {
    "duration": 1726,
    "start_time": "2024-08-02T04:38:54.690Z"
   },
   {
    "duration": 177,
    "start_time": "2024-08-02T04:38:56.419Z"
   },
   {
    "duration": 28,
    "start_time": "2024-08-02T04:38:56.599Z"
   },
   {
    "duration": 21,
    "start_time": "2024-08-02T04:38:56.630Z"
   },
   {
    "duration": 9,
    "start_time": "2024-08-02T04:38:56.655Z"
   },
   {
    "duration": 702,
    "start_time": "2024-08-02T04:38:56.667Z"
   },
   {
    "duration": 24,
    "start_time": "2024-08-02T04:38:57.372Z"
   },
   {
    "duration": 204,
    "start_time": "2024-08-02T04:38:57.398Z"
   },
   {
    "duration": 197,
    "start_time": "2024-08-02T04:38:57.605Z"
   },
   {
    "duration": 36,
    "start_time": "2024-08-02T04:38:57.805Z"
   },
   {
    "duration": 9,
    "start_time": "2024-08-02T04:38:57.843Z"
   },
   {
    "duration": 1121,
    "start_time": "2024-08-02T04:38:57.857Z"
   },
   {
    "duration": 788,
    "start_time": "2024-08-02T04:38:58.981Z"
   },
   {
    "duration": 9,
    "start_time": "2024-08-02T04:38:59.772Z"
   },
   {
    "duration": 42,
    "start_time": "2024-08-02T04:38:59.785Z"
   },
   {
    "duration": 1377,
    "start_time": "2024-08-02T04:38:59.830Z"
   },
   {
    "duration": 2140,
    "start_time": "2024-08-02T04:39:01.210Z"
   },
   {
    "duration": 101,
    "start_time": "2024-08-02T04:39:03.353Z"
   },
   {
    "duration": 246,
    "start_time": "2024-08-02T04:39:03.457Z"
   },
   {
    "duration": 21,
    "start_time": "2024-08-02T04:39:03.706Z"
   },
   {
    "duration": 52,
    "start_time": "2024-08-02T04:39:03.730Z"
   },
   {
    "duration": 3,
    "start_time": "2024-08-02T04:39:03.786Z"
   },
   {
    "duration": 34,
    "start_time": "2024-08-02T04:39:03.792Z"
   },
   {
    "duration": 3,
    "start_time": "2024-08-02T04:39:03.829Z"
   },
   {
    "duration": 310,
    "start_time": "2024-08-02T04:40:22.831Z"
   },
   {
    "duration": 736,
    "start_time": "2024-08-02T04:40:29.778Z"
   },
   {
    "duration": 1700,
    "start_time": "2024-08-02T04:40:30.525Z"
   },
   {
    "duration": 16,
    "start_time": "2024-08-02T04:40:32.227Z"
   },
   {
    "duration": 11,
    "start_time": "2024-08-02T04:40:32.248Z"
   },
   {
    "duration": 169,
    "start_time": "2024-08-02T04:40:32.263Z"
   },
   {
    "duration": 17,
    "start_time": "2024-08-02T04:40:32.436Z"
   },
   {
    "duration": 12,
    "start_time": "2024-08-02T04:40:32.456Z"
   },
   {
    "duration": 12,
    "start_time": "2024-08-02T04:40:32.471Z"
   },
   {
    "duration": 63,
    "start_time": "2024-08-02T04:40:32.485Z"
   },
   {
    "duration": 14,
    "start_time": "2024-08-02T04:40:32.554Z"
   },
   {
    "duration": 11,
    "start_time": "2024-08-02T04:40:32.571Z"
   },
   {
    "duration": 43,
    "start_time": "2024-08-02T04:40:32.585Z"
   },
   {
    "duration": 779,
    "start_time": "2024-08-02T04:40:32.632Z"
   },
   {
    "duration": 39,
    "start_time": "2024-08-02T04:40:33.425Z"
   },
   {
    "duration": 10,
    "start_time": "2024-08-02T04:40:33.467Z"
   },
   {
    "duration": 10,
    "start_time": "2024-08-02T04:40:33.480Z"
   },
   {
    "duration": 41,
    "start_time": "2024-08-02T04:40:33.493Z"
   },
   {
    "duration": 10,
    "start_time": "2024-08-02T04:40:33.538Z"
   },
   {
    "duration": 9,
    "start_time": "2024-08-02T04:40:33.551Z"
   },
   {
    "duration": 13,
    "start_time": "2024-08-02T04:40:33.563Z"
   },
   {
    "duration": 198,
    "start_time": "2024-08-02T04:40:33.579Z"
   },
   {
    "duration": 183,
    "start_time": "2024-08-02T04:40:33.780Z"
   },
   {
    "duration": 18,
    "start_time": "2024-08-02T04:40:33.966Z"
   },
   {
    "duration": 198,
    "start_time": "2024-08-02T04:40:33.987Z"
   },
   {
    "duration": 175,
    "start_time": "2024-08-02T04:40:34.188Z"
   },
   {
    "duration": 4,
    "start_time": "2024-08-02T04:40:34.366Z"
   },
   {
    "duration": 18,
    "start_time": "2024-08-02T04:40:34.374Z"
   },
   {
    "duration": 43,
    "start_time": "2024-08-02T04:40:34.431Z"
   },
   {
    "duration": 22,
    "start_time": "2024-08-02T04:40:34.477Z"
   },
   {
    "duration": 29,
    "start_time": "2024-08-02T04:40:34.502Z"
   },
   {
    "duration": 24,
    "start_time": "2024-08-02T04:40:34.533Z"
   },
   {
    "duration": 15,
    "start_time": "2024-08-02T04:40:34.559Z"
   },
   {
    "duration": 57,
    "start_time": "2024-08-02T04:40:34.576Z"
   },
   {
    "duration": 28,
    "start_time": "2024-08-02T04:40:34.638Z"
   },
   {
    "duration": 7,
    "start_time": "2024-08-02T04:40:34.669Z"
   },
   {
    "duration": 46,
    "start_time": "2024-08-02T04:40:34.679Z"
   },
   {
    "duration": 7,
    "start_time": "2024-08-02T04:40:34.728Z"
   },
   {
    "duration": 8,
    "start_time": "2024-08-02T04:40:34.738Z"
   },
   {
    "duration": 1351,
    "start_time": "2024-08-02T04:40:34.748Z"
   },
   {
    "duration": 1144,
    "start_time": "2024-08-02T04:40:36.102Z"
   },
   {
    "duration": 13,
    "start_time": "2024-08-02T04:40:37.248Z"
   },
   {
    "duration": 21,
    "start_time": "2024-08-02T04:40:37.264Z"
   },
   {
    "duration": 39,
    "start_time": "2024-08-02T04:40:37.288Z"
   },
   {
    "duration": 11,
    "start_time": "2024-08-02T04:40:37.331Z"
   },
   {
    "duration": 10,
    "start_time": "2024-08-02T04:40:37.345Z"
   },
   {
    "duration": 10,
    "start_time": "2024-08-02T04:40:37.358Z"
   },
   {
    "duration": 66,
    "start_time": "2024-08-02T04:40:37.371Z"
   },
   {
    "duration": 8,
    "start_time": "2024-08-02T04:40:37.440Z"
   },
   {
    "duration": 11,
    "start_time": "2024-08-02T04:40:37.451Z"
   },
   {
    "duration": 21,
    "start_time": "2024-08-02T04:40:37.464Z"
   },
   {
    "duration": 49,
    "start_time": "2024-08-02T04:40:37.487Z"
   },
   {
    "duration": 21,
    "start_time": "2024-08-02T04:40:37.539Z"
   },
   {
    "duration": 11,
    "start_time": "2024-08-02T04:40:37.563Z"
   },
   {
    "duration": 6,
    "start_time": "2024-08-02T04:40:37.576Z"
   },
   {
    "duration": 18,
    "start_time": "2024-08-02T04:40:37.629Z"
   },
   {
    "duration": 28,
    "start_time": "2024-08-02T04:40:37.650Z"
   },
   {
    "duration": 71,
    "start_time": "2024-08-02T04:40:37.681Z"
   },
   {
    "duration": 28,
    "start_time": "2024-08-02T04:40:37.755Z"
   },
   {
    "duration": 57,
    "start_time": "2024-08-02T04:40:37.786Z"
   },
   {
    "duration": 25,
    "start_time": "2024-08-02T04:40:37.845Z"
   },
   {
    "duration": 9,
    "start_time": "2024-08-02T04:40:37.873Z"
   },
   {
    "duration": 4,
    "start_time": "2024-08-02T04:40:37.887Z"
   },
   {
    "duration": 151,
    "start_time": "2024-08-02T04:40:37.894Z"
   },
   {
    "duration": 11,
    "start_time": "2024-08-02T04:40:38.048Z"
   },
   {
    "duration": 29,
    "start_time": "2024-08-02T04:40:38.062Z"
   },
   {
    "duration": 36,
    "start_time": "2024-08-02T04:40:38.093Z"
   },
   {
    "duration": 25,
    "start_time": "2024-08-02T04:40:38.133Z"
   },
   {
    "duration": 7,
    "start_time": "2024-08-02T04:40:38.161Z"
   },
   {
    "duration": 6,
    "start_time": "2024-08-02T04:40:38.173Z"
   },
   {
    "duration": 48,
    "start_time": "2024-08-02T04:40:38.182Z"
   },
   {
    "duration": 12,
    "start_time": "2024-08-02T04:40:38.236Z"
   },
   {
    "duration": 369,
    "start_time": "2024-08-02T04:40:38.251Z"
   },
   {
    "duration": 9,
    "start_time": "2024-08-02T04:40:38.630Z"
   },
   {
    "duration": 232,
    "start_time": "2024-08-02T04:40:38.641Z"
   },
   {
    "duration": 13,
    "start_time": "2024-08-02T04:40:38.876Z"
   },
   {
    "duration": 394,
    "start_time": "2024-08-02T04:40:38.892Z"
   },
   {
    "duration": 12,
    "start_time": "2024-08-02T04:40:39.289Z"
   },
   {
    "duration": 32,
    "start_time": "2024-08-02T04:40:39.303Z"
   },
   {
    "duration": 6,
    "start_time": "2024-08-02T04:40:39.340Z"
   },
   {
    "duration": 16,
    "start_time": "2024-08-02T04:40:39.350Z"
   },
   {
    "duration": 442,
    "start_time": "2024-08-02T04:40:39.370Z"
   },
   {
    "duration": 13,
    "start_time": "2024-08-02T04:40:39.833Z"
   },
   {
    "duration": 1705,
    "start_time": "2024-08-02T04:40:39.849Z"
   },
   {
    "duration": 188,
    "start_time": "2024-08-02T04:40:41.557Z"
   },
   {
    "duration": 16,
    "start_time": "2024-08-02T04:40:41.749Z"
   },
   {
    "duration": 22,
    "start_time": "2024-08-02T04:40:41.768Z"
   },
   {
    "duration": 36,
    "start_time": "2024-08-02T04:40:41.794Z"
   },
   {
    "duration": 525,
    "start_time": "2024-08-02T04:40:41.833Z"
   },
   {
    "duration": 24,
    "start_time": "2024-08-02T04:40:42.361Z"
   },
   {
    "duration": 195,
    "start_time": "2024-08-02T04:40:42.388Z"
   },
   {
    "duration": 199,
    "start_time": "2024-08-02T04:40:42.586Z"
   },
   {
    "duration": 19,
    "start_time": "2024-08-02T04:40:42.789Z"
   },
   {
    "duration": 9,
    "start_time": "2024-08-02T04:40:42.827Z"
   },
   {
    "duration": 1129,
    "start_time": "2024-08-02T04:40:42.841Z"
   },
   {
    "duration": 820,
    "start_time": "2024-08-02T04:40:43.973Z"
   },
   {
    "duration": 10,
    "start_time": "2024-08-02T04:40:44.795Z"
   },
   {
    "duration": 32,
    "start_time": "2024-08-02T04:40:44.808Z"
   },
   {
    "duration": 1393,
    "start_time": "2024-08-02T04:40:44.845Z"
   },
   {
    "duration": 2150,
    "start_time": "2024-08-02T04:40:46.240Z"
   },
   {
    "duration": 101,
    "start_time": "2024-08-02T04:40:48.393Z"
   },
   {
    "duration": 248,
    "start_time": "2024-08-02T04:40:48.497Z"
   },
   {
    "duration": 14,
    "start_time": "2024-08-02T04:40:48.748Z"
   },
   {
    "duration": 72,
    "start_time": "2024-08-02T04:40:48.765Z"
   },
   {
    "duration": 64,
    "start_time": "2024-08-02T04:40:48.840Z"
   },
   {
    "duration": 20,
    "start_time": "2024-08-02T04:40:48.907Z"
   },
   {
    "duration": 4,
    "start_time": "2024-08-02T04:40:48.930Z"
   },
   {
    "duration": 66,
    "start_time": "2024-08-02T04:41:04.378Z"
   },
   {
    "duration": 25,
    "start_time": "2024-08-02T04:41:16.862Z"
   },
   {
    "duration": 9,
    "start_time": "2024-08-02T04:41:29.560Z"
   },
   {
    "duration": 29,
    "start_time": "2024-08-02T04:41:54.135Z"
   },
   {
    "duration": 32,
    "start_time": "2024-08-02T04:42:03.966Z"
   },
   {
    "duration": 30,
    "start_time": "2024-08-02T04:42:47.260Z"
   },
   {
    "duration": 23,
    "start_time": "2024-08-02T04:43:43.579Z"
   },
   {
    "duration": 27,
    "start_time": "2024-08-02T04:43:51.395Z"
   },
   {
    "duration": 26,
    "start_time": "2024-08-02T04:44:29.286Z"
   },
   {
    "duration": 25,
    "start_time": "2024-08-02T04:45:30.202Z"
   },
   {
    "duration": 24,
    "start_time": "2024-08-02T04:45:35.527Z"
   },
   {
    "duration": 30,
    "start_time": "2024-08-02T04:45:56.825Z"
   },
   {
    "duration": 347,
    "start_time": "2024-08-02T04:46:19.973Z"
   },
   {
    "duration": 31,
    "start_time": "2024-08-02T04:47:26.324Z"
   },
   {
    "duration": 32,
    "start_time": "2024-08-02T04:48:22.752Z"
   },
   {
    "duration": 10,
    "start_time": "2024-08-02T04:49:05.142Z"
   },
   {
    "duration": 4,
    "start_time": "2024-08-02T04:50:43.138Z"
   },
   {
    "duration": 31,
    "start_time": "2024-08-02T04:50:56.876Z"
   },
   {
    "duration": 23,
    "start_time": "2024-08-02T04:51:32.727Z"
   },
   {
    "duration": 11,
    "start_time": "2024-08-02T04:51:37.412Z"
   },
   {
    "duration": 21,
    "start_time": "2024-08-02T04:53:29.641Z"
   },
   {
    "duration": 7,
    "start_time": "2024-08-02T04:59:06.333Z"
   }
  ],
  "colab": {
   "provenance": []
  },
  "kernelspec": {
   "display_name": "Python 3 (ipykernel)",
   "language": "python",
   "name": "python3"
  },
  "language_info": {
   "codemirror_mode": {
    "name": "ipython",
    "version": 3
   },
   "file_extension": ".py",
   "mimetype": "text/x-python",
   "name": "python",
   "nbconvert_exporter": "python",
   "pygments_lexer": "ipython3",
   "version": "3.9.19"
  },
  "toc": {
   "base_numbering": 1,
   "nav_menu": {},
   "number_sections": true,
   "sideBar": true,
   "skip_h1_title": true,
   "title_cell": "Table of Contents",
   "title_sidebar": "Contents",
   "toc_cell": false,
   "toc_position": {},
   "toc_section_display": true,
   "toc_window_display": false
  },
  "vscode": {
   "interpreter": {
    "hash": "01a7be9ec63e704a62cefc5fe7a4756944464ee731be31632bdf42a4cb4688cf"
   }
  }
 },
 "nbformat": 4,
 "nbformat_minor": 5
}
